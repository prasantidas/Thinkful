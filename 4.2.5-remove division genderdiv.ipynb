{
 "cells": [
  {
   "cell_type": "markdown",
   "metadata": {},
   "source": [
    "This is a list of the finishers of the Boston Marathon of 2013. It contains the name, age, gender, country, city and state (where available), times at different stages of the race, expected time, finish time and pace, overall place, gender place and division place."
   ]
  },
  {
   "cell_type": "code",
   "execution_count": 1,
   "metadata": {
    "collapsed": true
   },
   "outputs": [],
   "source": [
    "import numpy as np\n",
    "import pandas as pd\n",
    "import scipy\n",
    "import matplotlib.pyplot as plt\n",
    "import seaborn as sns\n",
    "\n",
    "from sklearn.preprocessing import normalize\n",
    "from sklearn.decomposition import PCA\n",
    "\n",
    "from sklearn.model_selection import train_test_split\n",
    "from sklearn.cluster import KMeans, MeanShift, estimate_bandwidth, SpectralClustering, AffinityPropagation\n",
    "\n",
    "from sklearn.metrics import silhouette_score\n",
    "%matplotlib inline"
   ]
  },
  {
   "cell_type": "code",
   "execution_count": 2,
   "metadata": {
    "collapsed": true
   },
   "outputs": [],
   "source": [
    "df = pd.read_csv('boston_marathon_2013.csv', encoding = 'ISO-8859-1')"
   ]
  },
  {
   "cell_type": "code",
   "execution_count": 3,
   "metadata": {},
   "outputs": [
    {
     "data": {
      "text/html": [
       "<div>\n",
       "<style>\n",
       "    .dataframe thead tr:only-child th {\n",
       "        text-align: right;\n",
       "    }\n",
       "\n",
       "    .dataframe thead th {\n",
       "        text-align: left;\n",
       "    }\n",
       "\n",
       "    .dataframe tbody tr th {\n",
       "        vertical-align: top;\n",
       "    }\n",
       "</style>\n",
       "<table border=\"1\" class=\"dataframe\">\n",
       "  <thead>\n",
       "    <tr style=\"text-align: right;\">\n",
       "      <th></th>\n",
       "      <th>25k</th>\n",
       "      <th>age</th>\n",
       "      <th>name</th>\n",
       "      <th>division</th>\n",
       "      <th>10k</th>\n",
       "      <th>gender</th>\n",
       "      <th>half</th>\n",
       "      <th>official</th>\n",
       "      <th>bib</th>\n",
       "      <th>ctz</th>\n",
       "      <th>...</th>\n",
       "      <th>overall</th>\n",
       "      <th>pace</th>\n",
       "      <th>state</th>\n",
       "      <th>30k</th>\n",
       "      <th>5k</th>\n",
       "      <th>genderdiv</th>\n",
       "      <th>20k</th>\n",
       "      <th>35k</th>\n",
       "      <th>city</th>\n",
       "      <th>40k</th>\n",
       "    </tr>\n",
       "  </thead>\n",
       "  <tbody>\n",
       "    <tr>\n",
       "      <th>0</th>\n",
       "      <td>49.87</td>\n",
       "      <td>28</td>\n",
       "      <td>Cassidy, Josh R.</td>\n",
       "      <td>9</td>\n",
       "      <td>18.18</td>\n",
       "      <td>M</td>\n",
       "      <td>40.93</td>\n",
       "      <td>90.90</td>\n",
       "      <td>W1</td>\n",
       "      <td>NaN</td>\n",
       "      <td>...</td>\n",
       "      <td>9</td>\n",
       "      <td>3.47</td>\n",
       "      <td>ON</td>\n",
       "      <td>62.07</td>\n",
       "      <td>8.9</td>\n",
       "      <td>9</td>\n",
       "      <td>38.8</td>\n",
       "      <td>74.73</td>\n",
       "      <td>Toronto</td>\n",
       "      <td>85.55</td>\n",
       "    </tr>\n",
       "    <tr>\n",
       "      <th>1</th>\n",
       "      <td>77.27</td>\n",
       "      <td>30</td>\n",
       "      <td>Korir, Wesley</td>\n",
       "      <td>5</td>\n",
       "      <td>30.9</td>\n",
       "      <td>M</td>\n",
       "      <td>64.9</td>\n",
       "      <td>132.50</td>\n",
       "      <td>1</td>\n",
       "      <td>NaN</td>\n",
       "      <td>...</td>\n",
       "      <td>5</td>\n",
       "      <td>5.07</td>\n",
       "      <td>NaN</td>\n",
       "      <td>92.97</td>\n",
       "      <td>15.9</td>\n",
       "      <td>5</td>\n",
       "      <td>61.52</td>\n",
       "      <td>108.78</td>\n",
       "      <td>Kenya</td>\n",
       "      <td>124.77</td>\n",
       "    </tr>\n",
       "    <tr>\n",
       "      <th>2</th>\n",
       "      <td>77.23</td>\n",
       "      <td>23</td>\n",
       "      <td>Desisa, Lelisa</td>\n",
       "      <td>1</td>\n",
       "      <td>30.9</td>\n",
       "      <td>M</td>\n",
       "      <td>64.92</td>\n",
       "      <td>130.37</td>\n",
       "      <td>2</td>\n",
       "      <td>NaN</td>\n",
       "      <td>...</td>\n",
       "      <td>1</td>\n",
       "      <td>4.98</td>\n",
       "      <td>NaN</td>\n",
       "      <td>92.72</td>\n",
       "      <td>15.93</td>\n",
       "      <td>1</td>\n",
       "      <td>61.53</td>\n",
       "      <td>108.68</td>\n",
       "      <td>Ambo</td>\n",
       "      <td>123.78</td>\n",
       "    </tr>\n",
       "    <tr>\n",
       "      <th>3</th>\n",
       "      <td>50.5</td>\n",
       "      <td>32</td>\n",
       "      <td>Fearnley, Kurt H.</td>\n",
       "      <td>5</td>\n",
       "      <td>18.73</td>\n",
       "      <td>M</td>\n",
       "      <td>42</td>\n",
       "      <td>88.43</td>\n",
       "      <td>W2</td>\n",
       "      <td>NaN</td>\n",
       "      <td>...</td>\n",
       "      <td>5</td>\n",
       "      <td>3.38</td>\n",
       "      <td>NaN</td>\n",
       "      <td>61.35</td>\n",
       "      <td>8.98</td>\n",
       "      <td>5</td>\n",
       "      <td>39.88</td>\n",
       "      <td>73</td>\n",
       "      <td>Hamilton</td>\n",
       "      <td>83.43</td>\n",
       "    </tr>\n",
       "    <tr>\n",
       "      <th>4</th>\n",
       "      <td>48.75</td>\n",
       "      <td>39</td>\n",
       "      <td>Hokinoue, Kota</td>\n",
       "      <td>3</td>\n",
       "      <td>18.18</td>\n",
       "      <td>M</td>\n",
       "      <td>40.57</td>\n",
       "      <td>87.22</td>\n",
       "      <td>W3</td>\n",
       "      <td>NaN</td>\n",
       "      <td>...</td>\n",
       "      <td>3</td>\n",
       "      <td>3.33</td>\n",
       "      <td>NaN</td>\n",
       "      <td>59.92</td>\n",
       "      <td>8.92</td>\n",
       "      <td>3</td>\n",
       "      <td>38.55</td>\n",
       "      <td>71.68</td>\n",
       "      <td>Iizuka</td>\n",
       "      <td>81.88</td>\n",
       "    </tr>\n",
       "  </tbody>\n",
       "</table>\n",
       "<p>5 rows × 21 columns</p>\n",
       "</div>"
      ],
      "text/plain": [
       "     25k  age               name  division    10k gender   half  official bib  \\\n",
       "0  49.87   28   Cassidy, Josh R.         9  18.18      M  40.93     90.90  W1   \n",
       "1  77.27   30      Korir, Wesley         5   30.9      M   64.9    132.50   1   \n",
       "2  77.23   23     Desisa, Lelisa         1   30.9      M  64.92    130.37   2   \n",
       "3   50.5   32  Fearnley, Kurt H.         5  18.73      M     42     88.43  W2   \n",
       "4  48.75   39     Hokinoue, Kota         3  18.18      M  40.57     87.22  W3   \n",
       "\n",
       "   ctz   ...   overall  pace  state    30k     5k genderdiv    20k     35k  \\\n",
       "0  NaN   ...         9  3.47     ON  62.07    8.9         9   38.8   74.73   \n",
       "1  NaN   ...         5  5.07    NaN  92.97   15.9         5  61.52  108.78   \n",
       "2  NaN   ...         1  4.98    NaN  92.72  15.93         1  61.53  108.68   \n",
       "3  NaN   ...         5  3.38    NaN  61.35   8.98         5  39.88      73   \n",
       "4  NaN   ...         3  3.33    NaN  59.92   8.92         3  38.55   71.68   \n",
       "\n",
       "       city     40k  \n",
       "0   Toronto   85.55  \n",
       "1     Kenya  124.77  \n",
       "2      Ambo  123.78  \n",
       "3  Hamilton   83.43  \n",
       "4    Iizuka   81.88  \n",
       "\n",
       "[5 rows x 21 columns]"
      ]
     },
     "execution_count": 3,
     "metadata": {},
     "output_type": "execute_result"
    }
   ],
   "source": [
    "df.head()"
   ]
  },
  {
   "cell_type": "code",
   "execution_count": 4,
   "metadata": {},
   "outputs": [
    {
     "data": {
      "text/plain": [
       "(16164, 21)"
      ]
     },
     "execution_count": 4,
     "metadata": {},
     "output_type": "execute_result"
    }
   ],
   "source": [
    "df.shape"
   ]
  },
  {
   "cell_type": "code",
   "execution_count": 5,
   "metadata": {},
   "outputs": [
    {
     "name": "stdout",
     "output_type": "stream",
     "text": [
      "<class 'pandas.core.frame.DataFrame'>\n",
      "RangeIndex: 16164 entries, 0 to 16163\n",
      "Data columns (total 21 columns):\n",
      "25k          16164 non-null object\n",
      "age          16164 non-null int64\n",
      "name         16164 non-null object\n",
      "division     16164 non-null int64\n",
      "10k          16164 non-null object\n",
      "gender       16164 non-null object\n",
      "half         16164 non-null object\n",
      "official     16164 non-null float64\n",
      "bib          16164 non-null object\n",
      "ctz          757 non-null object\n",
      "country      16164 non-null object\n",
      "overall      16164 non-null int64\n",
      "pace         16164 non-null float64\n",
      "state        14701 non-null object\n",
      "30k          16164 non-null object\n",
      "5k           16164 non-null object\n",
      "genderdiv    16164 non-null int64\n",
      "20k          16164 non-null object\n",
      "35k          16164 non-null object\n",
      "city         16163 non-null object\n",
      "40k          16164 non-null object\n",
      "dtypes: float64(2), int64(4), object(15)\n",
      "memory usage: 2.6+ MB\n"
     ]
    }
   ],
   "source": [
    "df.info()"
   ]
  },
  {
   "cell_type": "code",
   "execution_count": 6,
   "metadata": {
    "collapsed": true
   },
   "outputs": [],
   "source": [
    "df.drop('ctz', axis=1, inplace = True)"
   ]
  },
  {
   "cell_type": "code",
   "execution_count": 7,
   "metadata": {
    "collapsed": true
   },
   "outputs": [],
   "source": [
    "#0 is for Females, 1 for Males\n",
    "df['gender'] = df['gender'].map({'F':0,'M':1})"
   ]
  },
  {
   "cell_type": "code",
   "execution_count": 8,
   "metadata": {},
   "outputs": [
    {
     "data": {
      "text/plain": [
       "1    9680\n",
       "0    6484\n",
       "Name: gender, dtype: int64"
      ]
     },
     "execution_count": 8,
     "metadata": {},
     "output_type": "execute_result"
    }
   ],
   "source": [
    "df.gender.value_counts()"
   ]
  },
  {
   "cell_type": "markdown",
   "metadata": {},
   "source": [
    "The columns '5k', '10k', 'half', '20k', '25k', '30k', '35k', '40k' are times at different stages of race. these should be floats."
   ]
  },
  {
   "cell_type": "code",
   "execution_count": 9,
   "metadata": {
    "collapsed": true
   },
   "outputs": [],
   "source": [
    "race_stages = ['5k', '10k', 'half', '20k', '25k', '30k', '35k', '40k']\n",
    "\n",
    "for race_stage in race_stages:\n",
    "    df[race_stage] = pd.to_numeric(df[race_stage], errors='coerce')\n",
    "   "
   ]
  },
  {
   "cell_type": "code",
   "execution_count": 10,
   "metadata": {},
   "outputs": [
    {
     "data": {
      "text/plain": [
       "25k            23\n",
       "age             0\n",
       "name            0\n",
       "division        0\n",
       "10k            26\n",
       "gender          0\n",
       "half           16\n",
       "official        0\n",
       "bib             0\n",
       "country         0\n",
       "overall         0\n",
       "pace            0\n",
       "state        1463\n",
       "30k            17\n",
       "5k             66\n",
       "genderdiv       0\n",
       "20k            17\n",
       "35k            21\n",
       "city            1\n",
       "40k            17\n",
       "dtype: int64"
      ]
     },
     "execution_count": 10,
     "metadata": {},
     "output_type": "execute_result"
    }
   ],
   "source": [
    "df.isnull().sum()"
   ]
  },
  {
   "cell_type": "markdown",
   "metadata": {},
   "source": [
    "replace the NAN values for these columns"
   ]
  },
  {
   "cell_type": "code",
   "execution_count": 11,
   "metadata": {
    "collapsed": true
   },
   "outputs": [],
   "source": [
    "race_stages = ['5k', '10k', 'half', '20k', '25k', '30k', '35k', '40k']\n",
    "\n",
    "for race_stage in race_stages:\n",
    "    df[race_stage] = df[race_stage].fillna(np.mean(df[race_stage]))\n"
   ]
  },
  {
   "cell_type": "code",
   "execution_count": 12,
   "metadata": {
    "collapsed": true
   },
   "outputs": [],
   "source": [
    "df.drop(['country', 'city', 'state'], axis=1, inplace = True)"
   ]
  },
  {
   "cell_type": "code",
   "execution_count": 13,
   "metadata": {
    "collapsed": true
   },
   "outputs": [],
   "source": [
    "df.drop(['name', 'bib'], axis=1, inplace = True)"
   ]
  },
  {
   "cell_type": "code",
   "execution_count": 15,
   "metadata": {
    "collapsed": true
   },
   "outputs": [],
   "source": [
    "df.drop(['division', 'genderdiv'], axis=1, inplace = True)"
   ]
  },
  {
   "cell_type": "code",
   "execution_count": 16,
   "metadata": {},
   "outputs": [
    {
     "data": {
      "text/plain": [
       "25k         0\n",
       "age         0\n",
       "10k         0\n",
       "gender      0\n",
       "half        0\n",
       "official    0\n",
       "overall     0\n",
       "pace        0\n",
       "30k         0\n",
       "5k          0\n",
       "20k         0\n",
       "35k         0\n",
       "40k         0\n",
       "dtype: int64"
      ]
     },
     "execution_count": 16,
     "metadata": {},
     "output_type": "execute_result"
    }
   ],
   "source": [
    "df.isnull().sum()"
   ]
  },
  {
   "cell_type": "code",
   "execution_count": 17,
   "metadata": {
    "collapsed": true
   },
   "outputs": [],
   "source": [
    "X = df"
   ]
  },
  {
   "cell_type": "markdown",
   "metadata": {},
   "source": [
    "now let's normalize the data and create a 2-feature PCA for graphing purposes."
   ]
  },
  {
   "cell_type": "code",
   "execution_count": 18,
   "metadata": {},
   "outputs": [
    {
     "name": "stdout",
     "output_type": "stream",
     "text": [
      "16164\n"
     ]
    }
   ],
   "source": [
    "Xn = normalize(X)\n",
    "print(len(Xn))\n",
    "pca = PCA(n_components=2)\n",
    "X_pca = pca.fit_transform(Xn)"
   ]
  },
  {
   "cell_type": "markdown",
   "metadata": {},
   "source": [
    "Now, lets separate the data into four equal sets for cross validation."
   ]
  },
  {
   "cell_type": "code",
   "execution_count": 19,
   "metadata": {},
   "outputs": [
    {
     "name": "stdout",
     "output_type": "stream",
     "text": [
      "4041 4041\n",
      "4041 4041\n",
      "4041 4041\n",
      "4041 4041\n"
     ]
    }
   ],
   "source": [
    "# Split the data into four equally-sized samples. First we break it in half:\n",
    "X_half1, X_half2, X_pcahalf1, X_pcahalf2 = train_test_split(\n",
    "    Xn,\n",
    "    X_pca,\n",
    "    test_size=0.5,\n",
    "    random_state=42)\n",
    "\n",
    "# Then we halve the halves.\n",
    "X1, X2, X_pca1, X_pca2 = train_test_split(\n",
    "    X_half1,\n",
    "    X_pcahalf1,\n",
    "    test_size=0.5,\n",
    "    random_state=42)\n",
    "X3, X4, X_pca3, X_pca4 = train_test_split(\n",
    "    X_half2,\n",
    "    X_pcahalf2,\n",
    "    test_size=0.5,\n",
    "    random_state=42)\n",
    "# Check the length of each set\n",
    "print(len(X1), len(X_pca1))\n",
    "print(len(X2), len(X_pca2))\n",
    "print(len(X3), len(X_pca3))\n",
    "print(len(X4), len(X_pca4))"
   ]
  },
  {
   "cell_type": "markdown",
   "metadata": {},
   "source": [
    "# K Means Modeling\n",
    "Now, let's create two data frames, one for storing the y predictions from the kmeans model, and the second for the silhouette scores for the different clusters, and then model for 2-5 clusters, storing silhouette scores for each."
   ]
  },
  {
   "cell_type": "code",
   "execution_count": 20,
   "metadata": {
    "collapsed": true
   },
   "outputs": [],
   "source": [
    "# Initialize data frames\n",
    "ypred_df = pd.DataFrame()\n",
    "scores_df = pd.DataFrame(columns=['cluster_pred','sil_score'])\n",
    "\n",
    "for counter, data in enumerate([\n",
    "    (X1, X_pca1),\n",
    "    (X2, X_pca2),\n",
    "    (X3, X_pca3),\n",
    "    (X4, X_pca4)]):\n",
    "    \n",
    "    # Put the features into ypred.\n",
    "    ypred_df['pca_f1' + '_sample' + str(counter)] = data[1][:, 0]\n",
    "    ypred_df['pca_f2' + '_sample' + str(counter)] = data[1][:, 1]\n",
    "\n",
    "    \n",
    "    # Creating a list of possible number of clusters to test in kmeans.\n",
    "    for n_cluster in range(2, 6): \n",
    "        # Instantiating and fit_predicting model to then add to data frame\n",
    "        kmeans = KMeans(n_clusters=n_cluster, random_state=42)\n",
    "        pred = kmeans.fit_predict(data[0])\n",
    "        ypred_df['cluster ' + str(n_cluster) + '_sample ' + str(counter)] = pred\n",
    "        # Calculating silhouette scores for the data and adding that to the shilouette score\n",
    "        labels = kmeans.labels_\n",
    "        sscore = silhouette_score(data[0], labels, metric='euclidean')\n",
    "        scores_df = scores_df.append({'cluster_pred':'cluster ' + str(n_cluster) + '_sample ' + str(counter), \n",
    "                              'sil_score':sscore}, ignore_index=True)    "
   ]
  },
  {
   "cell_type": "code",
   "execution_count": 21,
   "metadata": {},
   "outputs": [
    {
     "data": {
      "text/html": [
       "<div>\n",
       "<style>\n",
       "    .dataframe thead tr:only-child th {\n",
       "        text-align: right;\n",
       "    }\n",
       "\n",
       "    .dataframe thead th {\n",
       "        text-align: left;\n",
       "    }\n",
       "\n",
       "    .dataframe tbody tr th {\n",
       "        vertical-align: top;\n",
       "    }\n",
       "</style>\n",
       "<table border=\"1\" class=\"dataframe\">\n",
       "  <thead>\n",
       "    <tr style=\"text-align: right;\">\n",
       "      <th></th>\n",
       "      <th>cluster_pred</th>\n",
       "      <th>sil_score</th>\n",
       "    </tr>\n",
       "  </thead>\n",
       "  <tbody>\n",
       "    <tr>\n",
       "      <th>15</th>\n",
       "      <td>cluster 5_sample 3</td>\n",
       "      <td>0.712964</td>\n",
       "    </tr>\n",
       "    <tr>\n",
       "      <th>11</th>\n",
       "      <td>cluster 5_sample 2</td>\n",
       "      <td>0.744789</td>\n",
       "    </tr>\n",
       "    <tr>\n",
       "      <th>7</th>\n",
       "      <td>cluster 5_sample 1</td>\n",
       "      <td>0.711292</td>\n",
       "    </tr>\n",
       "    <tr>\n",
       "      <th>3</th>\n",
       "      <td>cluster 5_sample 0</td>\n",
       "      <td>0.725017</td>\n",
       "    </tr>\n",
       "    <tr>\n",
       "      <th>14</th>\n",
       "      <td>cluster 4_sample 3</td>\n",
       "      <td>0.775725</td>\n",
       "    </tr>\n",
       "    <tr>\n",
       "      <th>10</th>\n",
       "      <td>cluster 4_sample 2</td>\n",
       "      <td>0.774414</td>\n",
       "    </tr>\n",
       "    <tr>\n",
       "      <th>6</th>\n",
       "      <td>cluster 4_sample 1</td>\n",
       "      <td>0.762174</td>\n",
       "    </tr>\n",
       "    <tr>\n",
       "      <th>2</th>\n",
       "      <td>cluster 4_sample 0</td>\n",
       "      <td>0.789756</td>\n",
       "    </tr>\n",
       "    <tr>\n",
       "      <th>13</th>\n",
       "      <td>cluster 3_sample 3</td>\n",
       "      <td>0.832892</td>\n",
       "    </tr>\n",
       "    <tr>\n",
       "      <th>9</th>\n",
       "      <td>cluster 3_sample 2</td>\n",
       "      <td>0.838355</td>\n",
       "    </tr>\n",
       "    <tr>\n",
       "      <th>5</th>\n",
       "      <td>cluster 3_sample 1</td>\n",
       "      <td>0.824630</td>\n",
       "    </tr>\n",
       "    <tr>\n",
       "      <th>1</th>\n",
       "      <td>cluster 3_sample 0</td>\n",
       "      <td>0.820118</td>\n",
       "    </tr>\n",
       "    <tr>\n",
       "      <th>12</th>\n",
       "      <td>cluster 2_sample 3</td>\n",
       "      <td>0.886325</td>\n",
       "    </tr>\n",
       "    <tr>\n",
       "      <th>8</th>\n",
       "      <td>cluster 2_sample 2</td>\n",
       "      <td>0.900681</td>\n",
       "    </tr>\n",
       "    <tr>\n",
       "      <th>4</th>\n",
       "      <td>cluster 2_sample 1</td>\n",
       "      <td>0.896221</td>\n",
       "    </tr>\n",
       "    <tr>\n",
       "      <th>0</th>\n",
       "      <td>cluster 2_sample 0</td>\n",
       "      <td>0.900352</td>\n",
       "    </tr>\n",
       "  </tbody>\n",
       "</table>\n",
       "</div>"
      ],
      "text/plain": [
       "          cluster_pred  sil_score\n",
       "15  cluster 5_sample 3   0.712964\n",
       "11  cluster 5_sample 2   0.744789\n",
       "7   cluster 5_sample 1   0.711292\n",
       "3   cluster 5_sample 0   0.725017\n",
       "14  cluster 4_sample 3   0.775725\n",
       "10  cluster 4_sample 2   0.774414\n",
       "6   cluster 4_sample 1   0.762174\n",
       "2   cluster 4_sample 0   0.789756\n",
       "13  cluster 3_sample 3   0.832892\n",
       "9   cluster 3_sample 2   0.838355\n",
       "5   cluster 3_sample 1   0.824630\n",
       "1   cluster 3_sample 0   0.820118\n",
       "12  cluster 2_sample 3   0.886325\n",
       "8   cluster 2_sample 2   0.900681\n",
       "4   cluster 2_sample 1   0.896221\n",
       "0   cluster 2_sample 0   0.900352"
      ]
     },
     "execution_count": 21,
     "metadata": {},
     "output_type": "execute_result"
    }
   ],
   "source": [
    "scores_df.sort_values(by='cluster_pred', ascending=False)"
   ]
  },
  {
   "cell_type": "markdown",
   "metadata": {},
   "source": [
    "Cluster 2, 3 and 4 have consistent scores across the 4 sets, with cluster 2 being the highest scorer."
   ]
  },
  {
   "cell_type": "code",
   "execution_count": 22,
   "metadata": {
    "collapsed": true
   },
   "outputs": [],
   "source": [
    "mean_score = scores_df.loc[scores_df['cluster_pred'].str.contains('cluster 2'),'sil_score'].mean()"
   ]
  },
  {
   "cell_type": "code",
   "execution_count": 23,
   "metadata": {
    "collapsed": true
   },
   "outputs": [],
   "source": [
    "model_comp_df = pd.DataFrame(columns=['Model','score'])\n",
    "model_comp_df = model_comp_df.append({'Model' : 'KMeans' , 'score' : mean_score}, ignore_index=True)\n"
   ]
  },
  {
   "cell_type": "markdown",
   "metadata": {},
   "source": [
    "# Mean-shift clustering"
   ]
  },
  {
   "cell_type": "markdown",
   "metadata": {},
   "source": [
    "use a range of quantiles to create the bandwidths, from 0.1 to 0.4, store silhouette scores for each."
   ]
  },
  {
   "cell_type": "code",
   "execution_count": 24,
   "metadata": {
    "collapsed": true
   },
   "outputs": [],
   "source": [
    "ypred_ms_df = pd.DataFrame()\n",
    "score_ms_df = pd.DataFrame(columns=['cluster_pred','sil_score', 'quantile'])\n",
    "\n",
    "# Keep track of counts of the models and use data from the different folds\n",
    "for counter, data in enumerate([X1, X2, X3, X4]):\n",
    "    # Creating a list of possible quantiles to test in mean shift.\n",
    "    for n in [0.1, 0.2, 0.3, 0.4]:\n",
    "        # Estimating number of clusters for data\n",
    "        bandwidth = estimate_bandwidth(data, quantile=n, n_samples=500)\n",
    "        \n",
    "        # Instantiating and fit_predicting model to then add to data frame\n",
    "        ms = MeanShift(bandwidth=bandwidth, bin_seeding=True)\n",
    "        pred = ms.fit_predict(data)\n",
    "        labels = ms.labels_\n",
    "        cntrs = len(np.unique(labels))\n",
    "        ypred_ms_df['cluster ' + str(cntrs) + '_sample ' + str(counter)] = pred\n",
    "        # Calculating silhouette scores for the data and adding that to the shilouette score\n",
    "        sscore = silhouette_score(data, labels, metric='euclidean')\n",
    "        score_ms_df = score_ms_df.append({'cluster_pred':'cluster ' + str(cntrs) + '_sample ' + str(counter), \n",
    "                              'sil_score':sscore, 'quantile':n}, ignore_index=True)"
   ]
  },
  {
   "cell_type": "code",
   "execution_count": 25,
   "metadata": {},
   "outputs": [
    {
     "data": {
      "text/html": [
       "<div>\n",
       "<style>\n",
       "    .dataframe thead tr:only-child th {\n",
       "        text-align: right;\n",
       "    }\n",
       "\n",
       "    .dataframe thead th {\n",
       "        text-align: left;\n",
       "    }\n",
       "\n",
       "    .dataframe tbody tr th {\n",
       "        vertical-align: top;\n",
       "    }\n",
       "</style>\n",
       "<table border=\"1\" class=\"dataframe\">\n",
       "  <thead>\n",
       "    <tr style=\"text-align: right;\">\n",
       "      <th></th>\n",
       "      <th>cluster_pred</th>\n",
       "      <th>sil_score</th>\n",
       "      <th>quantile</th>\n",
       "    </tr>\n",
       "  </thead>\n",
       "  <tbody>\n",
       "    <tr>\n",
       "      <th>7</th>\n",
       "      <td>cluster 6_sample 1</td>\n",
       "      <td>0.833883</td>\n",
       "      <td>0.4</td>\n",
       "    </tr>\n",
       "    <tr>\n",
       "      <th>5</th>\n",
       "      <td>cluster 6_sample 1</td>\n",
       "      <td>0.831428</td>\n",
       "      <td>0.2</td>\n",
       "    </tr>\n",
       "    <tr>\n",
       "      <th>11</th>\n",
       "      <td>cluster 7_sample 2</td>\n",
       "      <td>0.830613</td>\n",
       "      <td>0.4</td>\n",
       "    </tr>\n",
       "    <tr>\n",
       "      <th>10</th>\n",
       "      <td>cluster 9_sample 2</td>\n",
       "      <td>0.827886</td>\n",
       "      <td>0.3</td>\n",
       "    </tr>\n",
       "    <tr>\n",
       "      <th>3</th>\n",
       "      <td>cluster 5_sample 0</td>\n",
       "      <td>0.827875</td>\n",
       "      <td>0.4</td>\n",
       "    </tr>\n",
       "    <tr>\n",
       "      <th>1</th>\n",
       "      <td>cluster 7_sample 0</td>\n",
       "      <td>0.826847</td>\n",
       "      <td>0.2</td>\n",
       "    </tr>\n",
       "    <tr>\n",
       "      <th>2</th>\n",
       "      <td>cluster 7_sample 0</td>\n",
       "      <td>0.825593</td>\n",
       "      <td>0.3</td>\n",
       "    </tr>\n",
       "    <tr>\n",
       "      <th>0</th>\n",
       "      <td>cluster 12_sample 0</td>\n",
       "      <td>0.823610</td>\n",
       "      <td>0.1</td>\n",
       "    </tr>\n",
       "    <tr>\n",
       "      <th>6</th>\n",
       "      <td>cluster 7_sample 1</td>\n",
       "      <td>0.821891</td>\n",
       "      <td>0.3</td>\n",
       "    </tr>\n",
       "    <tr>\n",
       "      <th>14</th>\n",
       "      <td>cluster 7_sample 3</td>\n",
       "      <td>0.816110</td>\n",
       "      <td>0.3</td>\n",
       "    </tr>\n",
       "    <tr>\n",
       "      <th>13</th>\n",
       "      <td>cluster 8_sample 3</td>\n",
       "      <td>0.815746</td>\n",
       "      <td>0.2</td>\n",
       "    </tr>\n",
       "    <tr>\n",
       "      <th>15</th>\n",
       "      <td>cluster 7_sample 3</td>\n",
       "      <td>0.813784</td>\n",
       "      <td>0.4</td>\n",
       "    </tr>\n",
       "    <tr>\n",
       "      <th>9</th>\n",
       "      <td>cluster 11_sample 2</td>\n",
       "      <td>0.802360</td>\n",
       "      <td>0.2</td>\n",
       "    </tr>\n",
       "    <tr>\n",
       "      <th>12</th>\n",
       "      <td>cluster 13_sample 3</td>\n",
       "      <td>0.788583</td>\n",
       "      <td>0.1</td>\n",
       "    </tr>\n",
       "    <tr>\n",
       "      <th>4</th>\n",
       "      <td>cluster 12_sample 1</td>\n",
       "      <td>0.778729</td>\n",
       "      <td>0.1</td>\n",
       "    </tr>\n",
       "    <tr>\n",
       "      <th>8</th>\n",
       "      <td>cluster 16_sample 2</td>\n",
       "      <td>0.767922</td>\n",
       "      <td>0.1</td>\n",
       "    </tr>\n",
       "  </tbody>\n",
       "</table>\n",
       "</div>"
      ],
      "text/plain": [
       "           cluster_pred  sil_score  quantile\n",
       "7    cluster 6_sample 1   0.833883       0.4\n",
       "5    cluster 6_sample 1   0.831428       0.2\n",
       "11   cluster 7_sample 2   0.830613       0.4\n",
       "10   cluster 9_sample 2   0.827886       0.3\n",
       "3    cluster 5_sample 0   0.827875       0.4\n",
       "1    cluster 7_sample 0   0.826847       0.2\n",
       "2    cluster 7_sample 0   0.825593       0.3\n",
       "0   cluster 12_sample 0   0.823610       0.1\n",
       "6    cluster 7_sample 1   0.821891       0.3\n",
       "14   cluster 7_sample 3   0.816110       0.3\n",
       "13   cluster 8_sample 3   0.815746       0.2\n",
       "15   cluster 7_sample 3   0.813784       0.4\n",
       "9   cluster 11_sample 2   0.802360       0.2\n",
       "12  cluster 13_sample 3   0.788583       0.1\n",
       "4   cluster 12_sample 1   0.778729       0.1\n",
       "8   cluster 16_sample 2   0.767922       0.1"
      ]
     },
     "execution_count": 25,
     "metadata": {},
     "output_type": "execute_result"
    }
   ],
   "source": [
    "score_ms_df.sort_values(by='sil_score', ascending=False)"
   ]
  },
  {
   "cell_type": "markdown",
   "metadata": {},
   "source": [
    "The quantile of 0.4 had a high silhouette score for sample 1 which created 6 clusters."
   ]
  },
  {
   "cell_type": "markdown",
   "metadata": {},
   "source": [
    "# Spectral Clustering\n",
    "Now, let's analyse spectral clustering model, using a range of clusters from 2-5, and checking silhouette scores for each."
   ]
  },
  {
   "cell_type": "code",
   "execution_count": 27,
   "metadata": {
    "collapsed": true
   },
   "outputs": [],
   "source": [
    "ypred_spc_df = pd.DataFrame()\n",
    "score_spc_df = pd.DataFrame(columns=['cluster_pred','sil_score'])\n",
    "\n",
    "for counter, data in enumerate([\n",
    "    (X1, X_pca1),\n",
    "    (X2, X_pca2),\n",
    "    (X3, X_pca3),\n",
    "    (X4, X_pca4)]):\n",
    "    \n",
    "    # Put the features into ypred.\n",
    "    ypred_spc_df['pca_f1' + '_sample' + str(counter)] = data[1][:, 0]\n",
    "    ypred_spc_df['pca_f2' + '_sample' + str(counter)] = data[1][:, 1]\n",
    "    \n",
    "    # Creating a list of possible number of clusters to test in kmeans.\n",
    "    for nclust in range(2, 6):\n",
    "        # Instantiating and fit_predicting model to then add to data frame\n",
    "        sc = SpectralClustering(n_clusters=nclust)\n",
    "        pred = sc.fit_predict(data[0])\n",
    "        ypred_spc_df['cluster ' + str(nclust) + '_sample ' + str(counter)] = pred\n",
    "        # Calculating silhouette scores for the data and adding that to the shilouette score\n",
    "        labels = sc.labels_\n",
    "        sscore_sc = silhouette_score(data[0], labels, metric='euclidean')\n",
    "        score_spc_df = score_spc_df.append({'cluster_pred':'cluster ' + str(nclust) + '_sample ' + str(counter), \n",
    "                              'sil_score':sscore_sc}, ignore_index=True)"
   ]
  },
  {
   "cell_type": "code",
   "execution_count": 29,
   "metadata": {},
   "outputs": [
    {
     "data": {
      "text/html": [
       "<div>\n",
       "<style>\n",
       "    .dataframe thead tr:only-child th {\n",
       "        text-align: right;\n",
       "    }\n",
       "\n",
       "    .dataframe thead th {\n",
       "        text-align: left;\n",
       "    }\n",
       "\n",
       "    .dataframe tbody tr th {\n",
       "        vertical-align: top;\n",
       "    }\n",
       "</style>\n",
       "<table border=\"1\" class=\"dataframe\">\n",
       "  <thead>\n",
       "    <tr style=\"text-align: right;\">\n",
       "      <th></th>\n",
       "      <th>cluster_pred</th>\n",
       "      <th>sil_score</th>\n",
       "    </tr>\n",
       "  </thead>\n",
       "  <tbody>\n",
       "    <tr>\n",
       "      <th>8</th>\n",
       "      <td>cluster 2_sample 2</td>\n",
       "      <td>0.895151</td>\n",
       "    </tr>\n",
       "    <tr>\n",
       "      <th>0</th>\n",
       "      <td>cluster 2_sample 0</td>\n",
       "      <td>0.889954</td>\n",
       "    </tr>\n",
       "    <tr>\n",
       "      <th>4</th>\n",
       "      <td>cluster 2_sample 1</td>\n",
       "      <td>0.889283</td>\n",
       "    </tr>\n",
       "    <tr>\n",
       "      <th>12</th>\n",
       "      <td>cluster 2_sample 3</td>\n",
       "      <td>0.881327</td>\n",
       "    </tr>\n",
       "    <tr>\n",
       "      <th>9</th>\n",
       "      <td>cluster 3_sample 2</td>\n",
       "      <td>0.828859</td>\n",
       "    </tr>\n",
       "    <tr>\n",
       "      <th>1</th>\n",
       "      <td>cluster 3_sample 0</td>\n",
       "      <td>0.822004</td>\n",
       "    </tr>\n",
       "    <tr>\n",
       "      <th>13</th>\n",
       "      <td>cluster 3_sample 3</td>\n",
       "      <td>0.818738</td>\n",
       "    </tr>\n",
       "    <tr>\n",
       "      <th>5</th>\n",
       "      <td>cluster 3_sample 1</td>\n",
       "      <td>0.817314</td>\n",
       "    </tr>\n",
       "    <tr>\n",
       "      <th>2</th>\n",
       "      <td>cluster 4_sample 0</td>\n",
       "      <td>0.750860</td>\n",
       "    </tr>\n",
       "    <tr>\n",
       "      <th>10</th>\n",
       "      <td>cluster 4_sample 2</td>\n",
       "      <td>0.749771</td>\n",
       "    </tr>\n",
       "    <tr>\n",
       "      <th>14</th>\n",
       "      <td>cluster 4_sample 3</td>\n",
       "      <td>0.744479</td>\n",
       "    </tr>\n",
       "    <tr>\n",
       "      <th>6</th>\n",
       "      <td>cluster 4_sample 1</td>\n",
       "      <td>0.741605</td>\n",
       "    </tr>\n",
       "    <tr>\n",
       "      <th>3</th>\n",
       "      <td>cluster 5_sample 0</td>\n",
       "      <td>0.632885</td>\n",
       "    </tr>\n",
       "    <tr>\n",
       "      <th>15</th>\n",
       "      <td>cluster 5_sample 3</td>\n",
       "      <td>0.630741</td>\n",
       "    </tr>\n",
       "    <tr>\n",
       "      <th>11</th>\n",
       "      <td>cluster 5_sample 2</td>\n",
       "      <td>0.626693</td>\n",
       "    </tr>\n",
       "    <tr>\n",
       "      <th>7</th>\n",
       "      <td>cluster 5_sample 1</td>\n",
       "      <td>0.621544</td>\n",
       "    </tr>\n",
       "  </tbody>\n",
       "</table>\n",
       "</div>"
      ],
      "text/plain": [
       "          cluster_pred  sil_score\n",
       "8   cluster 2_sample 2   0.895151\n",
       "0   cluster 2_sample 0   0.889954\n",
       "4   cluster 2_sample 1   0.889283\n",
       "12  cluster 2_sample 3   0.881327\n",
       "9   cluster 3_sample 2   0.828859\n",
       "1   cluster 3_sample 0   0.822004\n",
       "13  cluster 3_sample 3   0.818738\n",
       "5   cluster 3_sample 1   0.817314\n",
       "2   cluster 4_sample 0   0.750860\n",
       "10  cluster 4_sample 2   0.749771\n",
       "14  cluster 4_sample 3   0.744479\n",
       "6   cluster 4_sample 1   0.741605\n",
       "3   cluster 5_sample 0   0.632885\n",
       "15  cluster 5_sample 3   0.630741\n",
       "11  cluster 5_sample 2   0.626693\n",
       "7   cluster 5_sample 1   0.621544"
      ]
     },
     "execution_count": 29,
     "metadata": {},
     "output_type": "execute_result"
    }
   ],
   "source": [
    "score_spc_df.sort_values(by='sil_score', ascending=False)"
   ]
  },
  {
   "cell_type": "markdown",
   "metadata": {},
   "source": [
    "Cluster 2,3 and 4 have consistent scores across the 4 sets, with cluster 2 being the highest scorer."
   ]
  },
  {
   "cell_type": "code",
   "execution_count": 30,
   "metadata": {
    "collapsed": true
   },
   "outputs": [],
   "source": [
    "mean_score = score_spc_df.loc[score_spc_df['cluster_pred'].str.contains('cluster 2'),'sil_score'].mean()\n",
    "model_comp_df = model_comp_df.append({'Model' : 'Spectral' , 'score' : mean_score}, ignore_index=True)"
   ]
  },
  {
   "cell_type": "code",
   "execution_count": 31,
   "metadata": {},
   "outputs": [
    {
     "data": {
      "text/html": [
       "<div>\n",
       "<style>\n",
       "    .dataframe thead tr:only-child th {\n",
       "        text-align: right;\n",
       "    }\n",
       "\n",
       "    .dataframe thead th {\n",
       "        text-align: left;\n",
       "    }\n",
       "\n",
       "    .dataframe tbody tr th {\n",
       "        vertical-align: top;\n",
       "    }\n",
       "</style>\n",
       "<table border=\"1\" class=\"dataframe\">\n",
       "  <thead>\n",
       "    <tr style=\"text-align: right;\">\n",
       "      <th></th>\n",
       "      <th>Model</th>\n",
       "      <th>score</th>\n",
       "    </tr>\n",
       "  </thead>\n",
       "  <tbody>\n",
       "    <tr>\n",
       "      <th>0</th>\n",
       "      <td>KMeans</td>\n",
       "      <td>0.895895</td>\n",
       "    </tr>\n",
       "    <tr>\n",
       "      <th>1</th>\n",
       "      <td>Spectral</td>\n",
       "      <td>0.888929</td>\n",
       "    </tr>\n",
       "  </tbody>\n",
       "</table>\n",
       "</div>"
      ],
      "text/plain": [
       "      Model     score\n",
       "0    KMeans  0.895895\n",
       "1  Spectral  0.888929"
      ]
     },
     "execution_count": 31,
     "metadata": {},
     "output_type": "execute_result"
    }
   ],
   "source": [
    "model_comp_df"
   ]
  },
  {
   "cell_type": "markdown",
   "metadata": {},
   "source": [
    "# Affinity Propagation"
   ]
  },
  {
   "cell_type": "code",
   "execution_count": 32,
   "metadata": {
    "collapsed": true
   },
   "outputs": [],
   "source": [
    "# Initialize data frame\n",
    "score_ap_df = pd.DataFrame(columns=['cluster_pred','sil_score'])\n",
    "\n",
    "# Keep track of counts of the models and use data from the different folds\n",
    "for counter, data in enumerate([X1, X2, X3, X4]):\n",
    "    \n",
    "    # Instantiating and fit_predicting model to then add to data frame\n",
    "    af = AffinityPropagation().fit(data)\n",
    "    cluster_centers_indices = af.cluster_centers_indices_\n",
    "    n_clusters_ = len(cluster_centers_indices)\n",
    "    \n",
    "    labels = af.labels_\n",
    "    sscore_af = silhouette_score(data, labels, metric='euclidean')\n",
    "    score_ap_df = score_ap_df.append({'cluster_pred':'cluster ' + str(n_clusters_) + '_sample ' + str(counter), \n",
    "                              'sil_score':sscore_af}, ignore_index=True)"
   ]
  },
  {
   "cell_type": "code",
   "execution_count": 33,
   "metadata": {},
   "outputs": [
    {
     "data": {
      "text/html": [
       "<div>\n",
       "<style>\n",
       "    .dataframe thead tr:only-child th {\n",
       "        text-align: right;\n",
       "    }\n",
       "\n",
       "    .dataframe thead th {\n",
       "        text-align: left;\n",
       "    }\n",
       "\n",
       "    .dataframe tbody tr th {\n",
       "        vertical-align: top;\n",
       "    }\n",
       "</style>\n",
       "<table border=\"1\" class=\"dataframe\">\n",
       "  <thead>\n",
       "    <tr style=\"text-align: right;\">\n",
       "      <th></th>\n",
       "      <th>cluster_pred</th>\n",
       "      <th>sil_score</th>\n",
       "    </tr>\n",
       "  </thead>\n",
       "  <tbody>\n",
       "    <tr>\n",
       "      <th>1</th>\n",
       "      <td>cluster 1398_sample 1</td>\n",
       "      <td>0.164835</td>\n",
       "    </tr>\n",
       "    <tr>\n",
       "      <th>3</th>\n",
       "      <td>cluster 2441_sample 3</td>\n",
       "      <td>0.110285</td>\n",
       "    </tr>\n",
       "    <tr>\n",
       "      <th>2</th>\n",
       "      <td>cluster 2498_sample 2</td>\n",
       "      <td>0.109969</td>\n",
       "    </tr>\n",
       "    <tr>\n",
       "      <th>0</th>\n",
       "      <td>cluster 2867_sample 0</td>\n",
       "      <td>0.095729</td>\n",
       "    </tr>\n",
       "  </tbody>\n",
       "</table>\n",
       "</div>"
      ],
      "text/plain": [
       "            cluster_pred  sil_score\n",
       "1  cluster 1398_sample 1   0.164835\n",
       "3  cluster 2441_sample 3   0.110285\n",
       "2  cluster 2498_sample 2   0.109969\n",
       "0  cluster 2867_sample 0   0.095729"
      ]
     },
     "execution_count": 33,
     "metadata": {},
     "output_type": "execute_result"
    }
   ],
   "source": [
    "score_ap_df.sort_values(by ='sil_score', ascending = False )"
   ]
  },
  {
   "cell_type": "markdown",
   "metadata": {},
   "source": [
    "This model predicted absurd number of clusters, and had a very less silhouette score."
   ]
  },
  {
   "cell_type": "code",
   "execution_count": 34,
   "metadata": {},
   "outputs": [
    {
     "data": {
      "text/html": [
       "<div>\n",
       "<style>\n",
       "    .dataframe thead tr:only-child th {\n",
       "        text-align: right;\n",
       "    }\n",
       "\n",
       "    .dataframe thead th {\n",
       "        text-align: left;\n",
       "    }\n",
       "\n",
       "    .dataframe tbody tr th {\n",
       "        vertical-align: top;\n",
       "    }\n",
       "</style>\n",
       "<table border=\"1\" class=\"dataframe\">\n",
       "  <thead>\n",
       "    <tr style=\"text-align: right;\">\n",
       "      <th></th>\n",
       "      <th>Model</th>\n",
       "      <th>score</th>\n",
       "    </tr>\n",
       "  </thead>\n",
       "  <tbody>\n",
       "    <tr>\n",
       "      <th>0</th>\n",
       "      <td>KMeans</td>\n",
       "      <td>0.895895</td>\n",
       "    </tr>\n",
       "    <tr>\n",
       "      <th>1</th>\n",
       "      <td>Spectral</td>\n",
       "      <td>0.888929</td>\n",
       "    </tr>\n",
       "  </tbody>\n",
       "</table>\n",
       "</div>"
      ],
      "text/plain": [
       "      Model     score\n",
       "0    KMeans  0.895895\n",
       "1  Spectral  0.888929"
      ]
     },
     "execution_count": 34,
     "metadata": {},
     "output_type": "execute_result"
    }
   ],
   "source": [
    "model_comp_df"
   ]
  },
  {
   "cell_type": "markdown",
   "metadata": {},
   "source": [
    "# Summary of Models\n",
    "Overall, the 2 cluster solution have the highest silhouette scores, and the silhouette scores for the two-cluster solutions were highest for the k-means models, with a silhouette score of 0.89. This means that there are two main groups of runners in the Boston Marathon."
   ]
  },
  {
   "cell_type": "code",
   "execution_count": 35,
   "metadata": {},
   "outputs": [
    {
     "data": {
      "text/html": [
       "<div>\n",
       "<style>\n",
       "    .dataframe thead tr:only-child th {\n",
       "        text-align: right;\n",
       "    }\n",
       "\n",
       "    .dataframe thead th {\n",
       "        text-align: left;\n",
       "    }\n",
       "\n",
       "    .dataframe tbody tr th {\n",
       "        vertical-align: top;\n",
       "    }\n",
       "</style>\n",
       "<table border=\"1\" class=\"dataframe\">\n",
       "  <thead>\n",
       "    <tr style=\"text-align: right;\">\n",
       "      <th></th>\n",
       "      <th>25k</th>\n",
       "      <th>age</th>\n",
       "      <th>10k</th>\n",
       "      <th>gender</th>\n",
       "      <th>half</th>\n",
       "      <th>official</th>\n",
       "      <th>overall</th>\n",
       "      <th>pace</th>\n",
       "      <th>30k</th>\n",
       "      <th>5k</th>\n",
       "      <th>20k</th>\n",
       "      <th>35k</th>\n",
       "      <th>40k</th>\n",
       "    </tr>\n",
       "  </thead>\n",
       "  <tbody>\n",
       "    <tr>\n",
       "      <th>0</th>\n",
       "      <td>49.87</td>\n",
       "      <td>28</td>\n",
       "      <td>18.18</td>\n",
       "      <td>1</td>\n",
       "      <td>40.93</td>\n",
       "      <td>90.90</td>\n",
       "      <td>9</td>\n",
       "      <td>3.47</td>\n",
       "      <td>62.07</td>\n",
       "      <td>8.90</td>\n",
       "      <td>38.80</td>\n",
       "      <td>74.73</td>\n",
       "      <td>85.55</td>\n",
       "    </tr>\n",
       "    <tr>\n",
       "      <th>1</th>\n",
       "      <td>77.27</td>\n",
       "      <td>30</td>\n",
       "      <td>30.90</td>\n",
       "      <td>1</td>\n",
       "      <td>64.90</td>\n",
       "      <td>132.50</td>\n",
       "      <td>5</td>\n",
       "      <td>5.07</td>\n",
       "      <td>92.97</td>\n",
       "      <td>15.90</td>\n",
       "      <td>61.52</td>\n",
       "      <td>108.78</td>\n",
       "      <td>124.77</td>\n",
       "    </tr>\n",
       "    <tr>\n",
       "      <th>2</th>\n",
       "      <td>77.23</td>\n",
       "      <td>23</td>\n",
       "      <td>30.90</td>\n",
       "      <td>1</td>\n",
       "      <td>64.92</td>\n",
       "      <td>130.37</td>\n",
       "      <td>1</td>\n",
       "      <td>4.98</td>\n",
       "      <td>92.72</td>\n",
       "      <td>15.93</td>\n",
       "      <td>61.53</td>\n",
       "      <td>108.68</td>\n",
       "      <td>123.78</td>\n",
       "    </tr>\n",
       "    <tr>\n",
       "      <th>3</th>\n",
       "      <td>50.50</td>\n",
       "      <td>32</td>\n",
       "      <td>18.73</td>\n",
       "      <td>1</td>\n",
       "      <td>42.00</td>\n",
       "      <td>88.43</td>\n",
       "      <td>5</td>\n",
       "      <td>3.38</td>\n",
       "      <td>61.35</td>\n",
       "      <td>8.98</td>\n",
       "      <td>39.88</td>\n",
       "      <td>73.00</td>\n",
       "      <td>83.43</td>\n",
       "    </tr>\n",
       "    <tr>\n",
       "      <th>4</th>\n",
       "      <td>48.75</td>\n",
       "      <td>39</td>\n",
       "      <td>18.18</td>\n",
       "      <td>1</td>\n",
       "      <td>40.57</td>\n",
       "      <td>87.22</td>\n",
       "      <td>3</td>\n",
       "      <td>3.33</td>\n",
       "      <td>59.92</td>\n",
       "      <td>8.92</td>\n",
       "      <td>38.55</td>\n",
       "      <td>71.68</td>\n",
       "      <td>81.88</td>\n",
       "    </tr>\n",
       "  </tbody>\n",
       "</table>\n",
       "</div>"
      ],
      "text/plain": [
       "     25k  age    10k  gender   half  official  overall  pace    30k     5k  \\\n",
       "0  49.87   28  18.18       1  40.93     90.90        9  3.47  62.07   8.90   \n",
       "1  77.27   30  30.90       1  64.90    132.50        5  5.07  92.97  15.90   \n",
       "2  77.23   23  30.90       1  64.92    130.37        1  4.98  92.72  15.93   \n",
       "3  50.50   32  18.73       1  42.00     88.43        5  3.38  61.35   8.98   \n",
       "4  48.75   39  18.18       1  40.57     87.22        3  3.33  59.92   8.92   \n",
       "\n",
       "     20k     35k     40k  \n",
       "0  38.80   74.73   85.55  \n",
       "1  61.52  108.78  124.77  \n",
       "2  61.53  108.68  123.78  \n",
       "3  39.88   73.00   83.43  \n",
       "4  38.55   71.68   81.88  "
      ]
     },
     "execution_count": 35,
     "metadata": {},
     "output_type": "execute_result"
    }
   ],
   "source": [
    "X.head()"
   ]
  },
  {
   "cell_type": "code",
   "execution_count": 37,
   "metadata": {},
   "outputs": [
    {
     "data": {
      "image/png": "[encoded data removed]",
      "text/plain": [
       "<matplotlib.figure.Figure at 0x159fc270828>"
      ]
     },
     "metadata": {},
     "output_type": "display_data"
    }
   ],
   "source": [
    "X_norm = normalize(X)\n",
    "\n",
    "# Reduce it to two components.\n",
    "X_pca = PCA(2).fit_transform(X_norm)\n",
    "\n",
    "# Calculate predicted values.\n",
    "km = KMeans(n_clusters=2, random_state=42).fit(X_pca)\n",
    "labels = km.labels_\n",
    "X['cluster'] = labels\n",
    "# Plot the solution.\n",
    "plt.scatter(X_pca[:, 0], X_pca[:, 1], c=X['cluster'])\n",
    "plt.show()\n",
    "\n"
   ]
  },
  {
   "cell_type": "code",
   "execution_count": 38,
   "metadata": {},
   "outputs": [
    {
     "data": {
      "text/html": [
       "<div>\n",
       "<style>\n",
       "    .dataframe thead tr:only-child th {\n",
       "        text-align: right;\n",
       "    }\n",
       "\n",
       "    .dataframe thead th {\n",
       "        text-align: left;\n",
       "    }\n",
       "\n",
       "    .dataframe tbody tr th {\n",
       "        vertical-align: top;\n",
       "    }\n",
       "</style>\n",
       "<table border=\"1\" class=\"dataframe\">\n",
       "  <thead>\n",
       "    <tr style=\"text-align: right;\">\n",
       "      <th></th>\n",
       "      <th>25k</th>\n",
       "      <th>age</th>\n",
       "      <th>10k</th>\n",
       "      <th>gender</th>\n",
       "      <th>half</th>\n",
       "      <th>official</th>\n",
       "      <th>overall</th>\n",
       "      <th>pace</th>\n",
       "      <th>30k</th>\n",
       "      <th>5k</th>\n",
       "      <th>20k</th>\n",
       "      <th>35k</th>\n",
       "      <th>40k</th>\n",
       "      <th>cluster</th>\n",
       "    </tr>\n",
       "  </thead>\n",
       "  <tbody>\n",
       "    <tr>\n",
       "      <th>0</th>\n",
       "      <td>49.87</td>\n",
       "      <td>28</td>\n",
       "      <td>18.18</td>\n",
       "      <td>1</td>\n",
       "      <td>40.93</td>\n",
       "      <td>90.90</td>\n",
       "      <td>9</td>\n",
       "      <td>3.47</td>\n",
       "      <td>62.07</td>\n",
       "      <td>8.90</td>\n",
       "      <td>38.80</td>\n",
       "      <td>74.73</td>\n",
       "      <td>85.55</td>\n",
       "      <td>0</td>\n",
       "    </tr>\n",
       "    <tr>\n",
       "      <th>1</th>\n",
       "      <td>77.27</td>\n",
       "      <td>30</td>\n",
       "      <td>30.90</td>\n",
       "      <td>1</td>\n",
       "      <td>64.90</td>\n",
       "      <td>132.50</td>\n",
       "      <td>5</td>\n",
       "      <td>5.07</td>\n",
       "      <td>92.97</td>\n",
       "      <td>15.90</td>\n",
       "      <td>61.52</td>\n",
       "      <td>108.78</td>\n",
       "      <td>124.77</td>\n",
       "      <td>0</td>\n",
       "    </tr>\n",
       "    <tr>\n",
       "      <th>2</th>\n",
       "      <td>77.23</td>\n",
       "      <td>23</td>\n",
       "      <td>30.90</td>\n",
       "      <td>1</td>\n",
       "      <td>64.92</td>\n",
       "      <td>130.37</td>\n",
       "      <td>1</td>\n",
       "      <td>4.98</td>\n",
       "      <td>92.72</td>\n",
       "      <td>15.93</td>\n",
       "      <td>61.53</td>\n",
       "      <td>108.68</td>\n",
       "      <td>123.78</td>\n",
       "      <td>0</td>\n",
       "    </tr>\n",
       "    <tr>\n",
       "      <th>3</th>\n",
       "      <td>50.50</td>\n",
       "      <td>32</td>\n",
       "      <td>18.73</td>\n",
       "      <td>1</td>\n",
       "      <td>42.00</td>\n",
       "      <td>88.43</td>\n",
       "      <td>5</td>\n",
       "      <td>3.38</td>\n",
       "      <td>61.35</td>\n",
       "      <td>8.98</td>\n",
       "      <td>39.88</td>\n",
       "      <td>73.00</td>\n",
       "      <td>83.43</td>\n",
       "      <td>0</td>\n",
       "    </tr>\n",
       "    <tr>\n",
       "      <th>4</th>\n",
       "      <td>48.75</td>\n",
       "      <td>39</td>\n",
       "      <td>18.18</td>\n",
       "      <td>1</td>\n",
       "      <td>40.57</td>\n",
       "      <td>87.22</td>\n",
       "      <td>3</td>\n",
       "      <td>3.33</td>\n",
       "      <td>59.92</td>\n",
       "      <td>8.92</td>\n",
       "      <td>38.55</td>\n",
       "      <td>71.68</td>\n",
       "      <td>81.88</td>\n",
       "      <td>0</td>\n",
       "    </tr>\n",
       "  </tbody>\n",
       "</table>\n",
       "</div>"
      ],
      "text/plain": [
       "     25k  age    10k  gender   half  official  overall  pace    30k     5k  \\\n",
       "0  49.87   28  18.18       1  40.93     90.90        9  3.47  62.07   8.90   \n",
       "1  77.27   30  30.90       1  64.90    132.50        5  5.07  92.97  15.90   \n",
       "2  77.23   23  30.90       1  64.92    130.37        1  4.98  92.72  15.93   \n",
       "3  50.50   32  18.73       1  42.00     88.43        5  3.38  61.35   8.98   \n",
       "4  48.75   39  18.18       1  40.57     87.22        3  3.33  59.92   8.92   \n",
       "\n",
       "     20k     35k     40k  cluster  \n",
       "0  38.80   74.73   85.55        0  \n",
       "1  61.52  108.78  124.77        0  \n",
       "2  61.53  108.68  123.78        0  \n",
       "3  39.88   73.00   83.43        0  \n",
       "4  38.55   71.68   81.88        0  "
      ]
     },
     "execution_count": 38,
     "metadata": {},
     "output_type": "execute_result"
    }
   ],
   "source": [
    "X.head()"
   ]
  },
  {
   "cell_type": "code",
   "execution_count": 39,
   "metadata": {},
   "outputs": [
    {
     "data": {
      "image/png": "[encoded data removed]",
      "text/plain": [
       "<matplotlib.figure.Figure at 0x159f815e3c8>"
      ]
     },
     "metadata": {},
     "output_type": "display_data"
    }
   ],
   "source": [
    "sns.boxplot(x='cluster', y='age', data=X)\n",
    "plt.title('Age by Cluster')\n",
    "plt.show()"
   ]
  },
  {
   "cell_type": "code",
   "execution_count": 40,
   "metadata": {},
   "outputs": [
    {
     "data": {
      "image/png": "[encoded data removed]",
      "text/plain": [
       "<matplotlib.figure.Figure at 0x1598000bcc0>"
      ]
     },
     "metadata": {},
     "output_type": "display_data"
    }
   ],
   "source": [
    "sns.countplot(x = 'cluster', hue='gender', data=X)\n",
    "plt.title('Gender distribution by Cluster')\n",
    "plt.show()"
   ]
  },
  {
   "cell_type": "code",
   "execution_count": 50,
   "metadata": {},
   "outputs": [],
   "source": [
    "df_gender = X.groupby(['cluster','gender'])['gender'].count().rename('head_count').reset_index()"
   ]
  },
  {
   "cell_type": "code",
   "execution_count": 52,
   "metadata": {},
   "outputs": [],
   "source": [
    "df_gender['percentage'] = df_gender.head_count / df_gender.head_count.sum()"
   ]
  },
  {
   "cell_type": "code",
   "execution_count": 53,
   "metadata": {},
   "outputs": [
    {
     "data": {
      "text/html": [
       "<div>\n",
       "<style>\n",
       "    .dataframe thead tr:only-child th {\n",
       "        text-align: right;\n",
       "    }\n",
       "\n",
       "    .dataframe thead th {\n",
       "        text-align: left;\n",
       "    }\n",
       "\n",
       "    .dataframe tbody tr th {\n",
       "        vertical-align: top;\n",
       "    }\n",
       "</style>\n",
       "<table border=\"1\" class=\"dataframe\">\n",
       "  <thead>\n",
       "    <tr style=\"text-align: right;\">\n",
       "      <th></th>\n",
       "      <th>cluster</th>\n",
       "      <th>gender</th>\n",
       "      <th>head_count</th>\n",
       "      <th>percentage</th>\n",
       "    </tr>\n",
       "  </thead>\n",
       "  <tbody>\n",
       "    <tr>\n",
       "      <th>0</th>\n",
       "      <td>0</td>\n",
       "      <td>0</td>\n",
       "      <td>13</td>\n",
       "      <td>0.000804</td>\n",
       "    </tr>\n",
       "    <tr>\n",
       "      <th>1</th>\n",
       "      <td>0</td>\n",
       "      <td>1</td>\n",
       "      <td>628</td>\n",
       "      <td>0.038852</td>\n",
       "    </tr>\n",
       "    <tr>\n",
       "      <th>2</th>\n",
       "      <td>1</td>\n",
       "      <td>0</td>\n",
       "      <td>6471</td>\n",
       "      <td>0.400334</td>\n",
       "    </tr>\n",
       "    <tr>\n",
       "      <th>3</th>\n",
       "      <td>1</td>\n",
       "      <td>1</td>\n",
       "      <td>9052</td>\n",
       "      <td>0.560010</td>\n",
       "    </tr>\n",
       "  </tbody>\n",
       "</table>\n",
       "</div>"
      ],
      "text/plain": [
       "   cluster  gender  head_count  percentage\n",
       "0        0       0          13    0.000804\n",
       "1        0       1         628    0.038852\n",
       "2        1       0        6471    0.400334\n",
       "3        1       1        9052    0.560010"
      ]
     },
     "execution_count": 53,
     "metadata": {},
     "output_type": "execute_result"
    }
   ],
   "source": [
    "df_gender"
   ]
  },
  {
   "cell_type": "code",
   "execution_count": 54,
   "metadata": {},
   "outputs": [
    {
     "data": {
      "image/png": "[encoded data removed]",
      "text/plain": [
       "<matplotlib.figure.Figure at 0x1598813f5f8>"
      ]
     },
     "metadata": {},
     "output_type": "display_data"
    }
   ],
   "source": [
    "sns.barplot(x = 'cluster',y='percentage',  hue='gender', data=df_gender)\n",
    "plt.title('Gender distribution by Cluster')\n",
    "plt.show()"
   ]
  },
  {
   "cell_type": "code",
   "execution_count": 41,
   "metadata": {},
   "outputs": [
    {
     "data": {
      "image/png": "[encoded data removed]",
      "text/plain": [
       "<matplotlib.figure.Figure at 0x159800100b8>"
      ]
     },
     "metadata": {},
     "output_type": "display_data"
    }
   ],
   "source": [
    "sns.boxplot(x='cluster', y='overall', data=X)\n",
    "plt.title('overall by Cluster')\n",
    "plt.show()"
   ]
  },
  {
   "cell_type": "code",
   "execution_count": 42,
   "metadata": {},
   "outputs": [
    {
     "data": {
      "image/png": "[encoded data removed]",
      "text/plain": [
       "<matplotlib.figure.Figure at 0x15987f4be48>"
      ]
     },
     "metadata": {},
     "output_type": "display_data"
    }
   ],
   "source": [
    "sns.boxplot(x='cluster', y='official', data=X)\n",
    "plt.title('official by Cluster')\n",
    "plt.show()"
   ]
  },
  {
   "cell_type": "code",
   "execution_count": null,
   "metadata": {
    "collapsed": true
   },
   "outputs": [],
   "source": []
  }
 ],
 "metadata": {
  "kernelspec": {
   "display_name": "Python 3",
   "language": "python",
   "name": "python3"
  },
  "language_info": {
   "codemirror_mode": {
    "name": "ipython",
    "version": 3
   },
   "file_extension": ".py",
   "mimetype": "text/x-python",
   "name": "python",
   "nbconvert_exporter": "python",
   "pygments_lexer": "ipython3",
   "version": "3.6.3"
  }
 },
 "nbformat": 4,
 "nbformat_minor": 2
}
