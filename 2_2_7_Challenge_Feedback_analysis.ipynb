{
 "cells": [
  {
   "cell_type": "code",
   "execution_count": 146,
   "metadata": {
    "collapsed": true
   },
   "outputs": [],
   "source": [
    "import numpy as np\n",
    "import pandas as pd\n",
    "import matplotlib.pyplot as plt\n",
    "import seaborn as sns\n",
    "import scipy\n",
    "import sklearn\n",
    "from sklearn.naive_bayes import BernoulliNB\n",
    "from collections import Counter\n",
    "%matplotlib inline"
   ]
  },
  {
   "cell_type": "markdown",
   "metadata": {},
   "source": [
    "# Let's analyze the IMDB Review"
   ]
  },
  {
   "cell_type": "code",
   "execution_count": 147,
   "metadata": {
    "collapsed": true
   },
   "outputs": [],
   "source": [
    "imdb = pd.read_csv('sentiment labelled sentences\\imdb_labelled.txt', delimiter = '\\t', header = None)\n",
    "imdb.columns = ['sentence', 'score']\n",
    "#Score is either 1 (for positive) or 0 (for negative)"
   ]
  },
  {
   "cell_type": "code",
   "execution_count": 148,
   "metadata": {},
   "outputs": [
    {
     "data": {
      "text/html": [
       "<div>\n",
       "<style>\n",
       "    .dataframe thead tr:only-child th {\n",
       "        text-align: right;\n",
       "    }\n",
       "\n",
       "    .dataframe thead th {\n",
       "        text-align: left;\n",
       "    }\n",
       "\n",
       "    .dataframe tbody tr th {\n",
       "        vertical-align: top;\n",
       "    }\n",
       "</style>\n",
       "<table border=\"1\" class=\"dataframe\">\n",
       "  <thead>\n",
       "    <tr style=\"text-align: right;\">\n",
       "      <th></th>\n",
       "      <th>sentence</th>\n",
       "      <th>score</th>\n",
       "    </tr>\n",
       "  </thead>\n",
       "  <tbody>\n",
       "    <tr>\n",
       "      <th>0</th>\n",
       "      <td>A very, very, very slow-moving, aimless movie ...</td>\n",
       "      <td>0</td>\n",
       "    </tr>\n",
       "    <tr>\n",
       "      <th>1</th>\n",
       "      <td>Not sure who was more lost - the flat characte...</td>\n",
       "      <td>0</td>\n",
       "    </tr>\n",
       "    <tr>\n",
       "      <th>2</th>\n",
       "      <td>Attempting artiness with black &amp; white and cle...</td>\n",
       "      <td>0</td>\n",
       "    </tr>\n",
       "    <tr>\n",
       "      <th>3</th>\n",
       "      <td>Very little music or anything to speak of.</td>\n",
       "      <td>0</td>\n",
       "    </tr>\n",
       "    <tr>\n",
       "      <th>4</th>\n",
       "      <td>The best scene in the movie was when Gerardo i...</td>\n",
       "      <td>1</td>\n",
       "    </tr>\n",
       "  </tbody>\n",
       "</table>\n",
       "</div>"
      ],
      "text/plain": [
       "                                            sentence  score\n",
       "0  A very, very, very slow-moving, aimless movie ...      0\n",
       "1  Not sure who was more lost - the flat characte...      0\n",
       "2  Attempting artiness with black & white and cle...      0\n",
       "3       Very little music or anything to speak of.        0\n",
       "4  The best scene in the movie was when Gerardo i...      1"
      ]
     },
     "execution_count": 148,
     "metadata": {},
     "output_type": "execute_result"
    }
   ],
   "source": [
    "imdb.head()"
   ]
  },
  {
   "cell_type": "code",
   "execution_count": 149,
   "metadata": {},
   "outputs": [
    {
     "name": "stdout",
     "output_type": "stream",
     "text": [
      "\n"
     ]
    }
   ],
   "source": [
    "# To analyze the frequently used negative words\n",
    "all_sent = ''.join(imdb.sentence.values)\n",
    "all_sent_list = all_sent.replace(',','').split(' ')\n",
    "d= Counter(all_sent_list)\n",
    "print()\n",
    "count_df = pd.DataFrame.from_dict(d,orient='index').reset_index().rename(columns={'index':'event', 0:'count'})\n",
    "count_df.sort_values(by='count', ascending=False).to_csv('word_list_imdb.csv')"
   ]
  },
  {
   "cell_type": "code",
   "execution_count": 150,
   "metadata": {},
   "outputs": [
    {
     "data": {
      "text/plain": [
       "<matplotlib.axes._subplots.AxesSubplot at 0x213e007fe48>"
      ]
     },
     "execution_count": 150,
     "metadata": {},
     "output_type": "execute_result"
    },
    {
     "data": {
      "image/png": "[encoded data removed]",
      "text/plain": [
       "<matplotlib.figure.Figure at 0x213dfc24828>"
      ]
     },
     "metadata": {},
     "output_type": "display_data"
    }
   ],
   "source": [
    "keywords_imdb= ['avoid','annoying','awful','bad','bored','boring','cheap',\n",
    "           'disappoint','dislike','embarrassing','fail',\n",
    "           'hate','insult',\n",
    "           'lost','lousy', 'lack','mess','miserable','negative','nonsense',\n",
    "           'pathetic','pitiful','painful',\n",
    "           'pitiful','poor','ridiculous','ruthless',\n",
    "           'slow','spoil','stupid','suffer','torture','terrible','unfortunate','waste','worse','worst']\n",
    "\n",
    "# create columns for every keyword\n",
    "data=pd.DataFrame()\n",
    "for key in keywords_imdb:    \n",
    "    data[str(key)] = imdb.sentence.str.contains(str(key)  ,case=False    )\n",
    "\n",
    "data['allcaps']=imdb.sentence.str.isupper()\n",
    "target = imdb['score']\n",
    "plt.title('Negative Words Correlation Matrix for IMDB')\n",
    "sns.heatmap(data.corr())\n"
   ]
  },
  {
   "cell_type": "code",
   "execution_count": 151,
   "metadata": {},
   "outputs": [
    {
     "name": "stdout",
     "output_type": "stream",
     "text": [
      "Number of mislabeled points out of a total 748 points : 201\n"
     ]
    }
   ],
   "source": [
    "bnb = BernoulliNB()\n",
    "# Fit our model to the data.\n",
    "bnb.fit(data, target)\n",
    "# Classify, storing the result in a new variable.\n",
    "y_pred = bnb.predict(data)\n",
    "# Display our results.\n",
    "print(\"Number of mislabeled points out of a total {} points : {}\".format(\n",
    "    data.shape[0],\n",
    "    (target != y_pred).sum()\n",
    "))"
   ]
  },
  {
   "cell_type": "code",
   "execution_count": 152,
   "metadata": {},
   "outputs": [
    {
     "name": "stdout",
     "output_type": "stream",
     "text": [
      "success rate = 0.73128342246\n"
     ]
    }
   ],
   "source": [
    "print('success rate = %s' % ((data.shape[0] - (target != y_pred).sum())/data.shape[0]))"
   ]
  },
  {
   "cell_type": "markdown",
   "metadata": {},
   "source": [
    "# Analyze the amazon reviews"
   ]
  },
  {
   "cell_type": "code",
   "execution_count": 153,
   "metadata": {},
   "outputs": [],
   "source": [
    "amazon = pd.read_csv(\"amazon_cells_labelled.txt\", delimiter = '\\t', header = None)\n",
    "amazon.columns = ['sentence', 'score']"
   ]
  },
  {
   "cell_type": "code",
   "execution_count": 98,
   "metadata": {},
   "outputs": [
    {
     "name": "stdout",
     "output_type": "stream",
     "text": [
      "\n"
     ]
    }
   ],
   "source": [
    "# To analyze the frequently used negative words\n",
    "all_sent = ''.join(amazon.sentence.values)\n",
    "all_sent_list = all_sent.replace(',','').split(' ')\n",
    "d= Counter(all_sent_list)\n",
    "print()\n",
    "count_df = pd.DataFrame.from_dict(d,orient='index').reset_index().rename(columns={'index':'event', 0:'count'})\n",
    "count_df.sort_values(by='count', ascending=False).to_csv('word_list_amazon.csv')"
   ]
  },
  {
   "cell_type": "code",
   "execution_count": 154,
   "metadata": {},
   "outputs": [
    {
     "data": {
      "text/plain": [
       "<matplotlib.axes._subplots.AxesSubplot at 0x213dfd18a90>"
      ]
     },
     "execution_count": 154,
     "metadata": {},
     "output_type": "execute_result"
    },
    {
     "data": {
      "image/png": "[encoded data removed]",
      "text/plain": [
       "<matplotlib.figure.Figure at 0x213ddd7fb00>"
      ]
     },
     "metadata": {},
     "output_type": "display_data"
    }
   ],
   "source": [
    "keywords_amazon= ['worst','cheap','problem','disappoint','hate','mistake','useless','horrible','terrible','trouble',\n",
    "           'awful','waste','lack','uncomfortable','unreliable','embarrassing','flimsy','poor','unhappy','crap',\n",
    "          'frustrat','distract','suck','flaw','pain','avoid','nightmare','worthless','warning','hurt']\n",
    "\n",
    "# create columns for every keyword\n",
    "data_amazon = pd.DataFrame()\n",
    "for key in keywords_amazon:\n",
    "    \n",
    "    data_amazon[str(key)] = amazon.sentence.str.contains(str(key)  ,case=False    )\n",
    "\n",
    "data_amazon['allcaps']=amazon.sentence.str.isupper()\n",
    "target_amazon = amazon['score']\n",
    "plt.title('Negative Words Correlation Matrix for Amazon')\n",
    "sns.heatmap(data_amazon.corr())\n"
   ]
  },
  {
   "cell_type": "code",
   "execution_count": 155,
   "metadata": {},
   "outputs": [
    {
     "name": "stdout",
     "output_type": "stream",
     "text": [
      "Number of mislabeled points out of a total 1000 points : 369\n"
     ]
    }
   ],
   "source": [
    "bnb = BernoulliNB()\n",
    "\n",
    "# Fit our model to the data.\n",
    "bnb.fit(data_amazon, target_amazon)\n",
    "\n",
    "# Classify, storing the result in a new variable.\n",
    "y_pred = bnb.predict(data_amazon)\n",
    "\n",
    "# Display our results.\n",
    "print(\"Number of mislabeled points out of a total {} points : {}\".format(\n",
    "    data_amazon.shape[0],\n",
    "    (target_amazon != y_pred).sum()\n",
    "))"
   ]
  },
  {
   "cell_type": "code",
   "execution_count": 156,
   "metadata": {},
   "outputs": [
    {
     "name": "stdout",
     "output_type": "stream",
     "text": [
      "success rate = 0.631\n"
     ]
    }
   ],
   "source": [
    "print('success rate = %s' % ((data_amazon.shape[0] - (target_amazon != y_pred).sum())/data_amazon.shape[0]))"
   ]
  },
  {
   "cell_type": "markdown",
   "metadata": {},
   "source": [
    "# Let's analyze the yelp reviews."
   ]
  },
  {
   "cell_type": "code",
   "execution_count": 157,
   "metadata": {
    "collapsed": true
   },
   "outputs": [],
   "source": [
    "yelp = pd.read_csv('sentiment labelled sentences\\yelp_labelled.txt', delimiter = '\\t', header = None)\n",
    "yelp.columns = ['sentence', 'score']"
   ]
  },
  {
   "cell_type": "code",
   "execution_count": 159,
   "metadata": {},
   "outputs": [
    {
     "name": "stdout",
     "output_type": "stream",
     "text": [
      "\n"
     ]
    }
   ],
   "source": [
    "all_sent = ''.join(yelp.sentence.values)\n",
    "all_sent_list = all_sent.replace(',','').split(' ')\n",
    "d= Counter(all_sent_list)\n",
    "print()\n",
    "count_df = pd.DataFrame.from_dict(d,orient='index').reset_index().rename(columns={'index':'event', 0:'count'})\n",
    "count_df.sort_values(by='count', ascending=False).to_csv('word_list_yelp.csv')"
   ]
  },
  {
   "cell_type": "code",
   "execution_count": 161,
   "metadata": {},
   "outputs": [
    {
     "data": {
      "text/plain": [
       "<matplotlib.axes._subplots.AxesSubplot at 0x213e25be8d0>"
      ]
     },
     "execution_count": 161,
     "metadata": {},
     "output_type": "execute_result"
    },
    {
     "data": {
      "image/png": "[encoded data removed]",
      "text/plain": [
       "<matplotlib.figure.Figure at 0x213e22e6c50>"
      ]
     },
     "metadata": {},
     "output_type": "display_data"
    }
   ],
   "source": [
    "keyword_yelp=['worst','disappoint','poor','mediocre','rude','waste','terrible','horrible','never','avoid','dirty','wrong',\n",
    "              'lack','hate','suck','sick','sad','insult','stop','mistake','problem','disgust',\n",
    "             'fail','weak','ridiculous','waste','weird','tasteless'\n",
    "             ]\n",
    "\n",
    "# create columns for every keyword\n",
    "data_yelp = pd.DataFrame()\n",
    "for key in keyword_yelp:\n",
    "    \n",
    "    data_yelp[str(key)] = yelp.sentence.str.contains(str(key)  ,case=False    )\n",
    "\n",
    "data_yelp['allcaps']=yelp.sentence.str.isupper()\n",
    "target_yelp = yelp['score']\n",
    "plt.title('Negative Words Correlation Matrix for Yelp')\n",
    "sns.heatmap(data_yelp.corr())\n"
   ]
  },
  {
   "cell_type": "code",
   "execution_count": 162,
   "metadata": {},
   "outputs": [
    {
     "name": "stdout",
     "output_type": "stream",
     "text": [
      "Number of mislabeled points out of a total 1000 points : 363\n"
     ]
    }
   ],
   "source": [
    "bnb = BernoulliNB()\n",
    "\n",
    "# Fit our model to the data.\n",
    "bnb.fit(data_yelp, target_yelp)\n",
    "\n",
    "# Classify, storing the result in a new variable.\n",
    "y_pred = bnb.predict(data_yelp)\n",
    "\n",
    "# Display our results.\n",
    "print(\"Number of mislabeled points out of a total {} points : {}\".format(\n",
    "    data_yelp.shape[0],\n",
    "    (target_yelp != y_pred).sum()\n",
    "))"
   ]
  },
  {
   "cell_type": "code",
   "execution_count": 163,
   "metadata": {},
   "outputs": [
    {
     "name": "stdout",
     "output_type": "stream",
     "text": [
      "success rate = 0.637\n"
     ]
    }
   ],
   "source": [
    "print('success rate = %s' % ((data_yelp.shape[0] - (target_yelp != y_pred).sum())/data_yelp.shape[0]))"
   ]
  },
  {
   "cell_type": "markdown",
   "metadata": {},
   "source": [
    "Interestingly, the model seems to have performed fairly well on all 3 datasets, with accuracies >= 60% on all 3. The feature set was based mainly on my findings after collecting all words into a spreadsheet and finding the most frequently used words. Then I included many of the key 'negative' words that I saw in those reviews. \n",
    "\n",
    "I also was able to improve the model accuracy quite a bit by removing the required spaces before and after keywords - I found that many of the reviews actually began with one of my negative keywords and ended with either a '.' or ',' and the model was not detecting them before.\n"
   ]
  },
  {
   "cell_type": "code",
   "execution_count": null,
   "metadata": {
    "collapsed": true
   },
   "outputs": [],
   "source": []
  }
 ],
 "metadata": {
  "kernelspec": {
   "display_name": "Python 3",
   "language": "python",
   "name": "python3"
  },
  "language_info": {
   "codemirror_mode": {
    "name": "ipython",
    "version": 3
   },
   "file_extension": ".py",
   "mimetype": "text/x-python",
   "name": "python",
   "nbconvert_exporter": "python",
   "pygments_lexer": "ipython3",
   "version": "3.6.3"
  }
 },
 "nbformat": 4,
 "nbformat_minor": 2
}
