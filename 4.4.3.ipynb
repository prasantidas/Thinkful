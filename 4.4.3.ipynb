{
 "cells": [
  {
   "cell_type": "code",
   "execution_count": 45,
   "metadata": {},
   "outputs": [
    {
     "name": "stdout",
     "output_type": "stream",
     "text": [
      "[nltk_data] Downloading package gutenberg to\n",
      "[nltk_data]     C:\\Users\\gyans\\AppData\\Roaming\\nltk_data...\n",
      "[nltk_data]   Package gutenberg is already up-to-date!\n"
     ]
    }
   ],
   "source": [
    "import numpy as np\n",
    "import pandas as pd\n",
    "import scipy\n",
    "import matplotlib.pyplot as plt\n",
    "import seaborn as sns\n",
    "\n",
    "import nltk\n",
    "from nltk.corpus import gutenberg\n",
    "nltk.download('gutenberg')\n",
    "import re\n",
    "from sklearn.model_selection import train_test_split\n",
    "\n",
    "\n",
    "%matplotlib inline"
   ]
  },
  {
   "cell_type": "code",
   "execution_count": 94,
   "metadata": {},
   "outputs": [
    {
     "name": "stdout",
     "output_type": "stream",
     "text": [
      "['[ Emma by Jane Austen 1816 ]', 'VOLUME I', 'CHAPTER I', 'Emma Woodhouse , handsome , clever , and rich , with a comfortable home and happy disposition , seemed to unite some of the best blessings of existence ; and had lived nearly twenty - one years in the world with very little to distress or vex her .']\n"
     ]
    }
   ],
   "source": [
    "#reading in the data, this time in the form of paragraphs\n",
    "emma=gutenberg.paras('austen-emma.txt')\n",
    "#processing\n",
    "emma_paras=[]\n",
    "for paragraph in emma:\n",
    "    para=paragraph[0]\n",
    "    #removing the double-dash from all words\n",
    "    para=[re.sub(r'--','',word) for word in para]\n",
    "    #Forming each paragraph into a string and adding it to the list of strings.\n",
    "    emma_paras.append(' '.join(para))\n",
    "\n",
    "print(emma_paras[0:4])"
   ]
  },
  {
   "cell_type": "code",
   "execution_count": 95,
   "metadata": {},
   "outputs": [
    {
     "name": "stdout",
     "output_type": "stream",
     "text": [
      "Number of features: 1948\n",
      "Original sentence: A very few minutes more , however , completed the present trial .\n",
      "Tf_idf vector: {'minutes': 0.71274503103825837, 'present': 0.70142321085794701}\n"
     ]
    }
   ],
   "source": [
    "from sklearn.feature_extraction.text import TfidfVectorizer\n",
    "\n",
    "X_train, X_test = train_test_split(emma_paras, test_size=0.4, random_state=0)\n",
    "\n",
    "vectorizer = TfidfVectorizer(max_df=0.5, # drop words that occur in more than half the paragraphs\n",
    "min_df=2, # only use words that appear at least twice\n",
    "stop_words='english', \n",
    "lowercase=True, #convert everything to lower case (since Alice in Wonderland has the HABIT of CAPITALIZING WORDS for EMPHASIS)\n",
    "use_idf=True,#we definitely want to use inverse document frequencies in our weighting\n",
    "norm=u'l2', #Applies a correction factor so that longer paragraphs and shorter paragraphs get treated equally\n",
    "smooth_idf=True #Adds 1 to all document frequencies, as if an extra document existed that used every word once.  \n",
    " #Prevents divide-by-zero errors\n",
    "                            )\n",
    "\n",
    "\n",
    "#Applying the vectorizer\n",
    "emma_paras_tfidf=vectorizer.fit_transform(emma_paras)\n",
    "print(\"Number of features: %d\" % emma_paras_tfidf.get_shape()[1])\n",
    "\n",
    "#splitting into training and test sets\n",
    "X_train_tfidf, X_test_tfidf= train_test_split(emma_paras_tfidf, test_size=0.4, random_state=0)\n",
    "\n",
    "\n",
    "#Reshapes the vectorizer output into something people can read\n",
    "X_train_tfidf_csr = X_train_tfidf.tocsr()\n",
    "\n",
    "#number of paragraphs\n",
    "n = X_train_tfidf_csr.shape[0]\n",
    "#A list of dictionaries, one per paragraph\n",
    "tfidf_bypara = [{} for _ in range(0,n)]\n",
    "#List of features\n",
    "terms = vectorizer.get_feature_names()\n",
    "#for each paragraph, lists the feature words and their tf-idf scores\n",
    "for i, j in zip(*X_train_tfidf_csr.nonzero()):\n",
    "    tfidf_bypara[i][terms[j]] = X_train_tfidf_csr[i, j]\n",
    "\n",
    "#Keep in mind that the log base 2 of 1 is 0, so a tf-idf score of 0 indicates that the word was present once in that sentence.\n",
    "print('Original sentence:', X_train[5])\n",
    "print('Tf_idf vector:', tfidf_bypara[5])"
   ]
  },
  {
   "cell_type": "code",
   "execution_count": 48,
   "metadata": {},
   "outputs": [
    {
     "name": "stdout",
     "output_type": "stream",
     "text": [
      "Percent variance captured by all components: 45.2103629886\n",
      "Component 0:\n",
      "\" Oh !     0.99929\n",
      "\" Oh !\"    0.99929\n",
      "\" Oh !     0.99929\n",
      "\" Oh !     0.99929\n",
      "\" Oh !     0.99929\n",
      "\" Oh !     0.99929\n",
      "\" Oh !     0.99929\n",
      "\" Oh !     0.99929\n",
      "\" Oh !     0.99929\n",
      "\" Oh !     0.99929\n",
      "Name: 0, dtype: float64\n",
      "Component 1:\n",
      "\" You have made her too tall , Emma ,\" said Mr . Knightley .                                                                                                                0.634571\n",
      "\" You get upon delicate subjects , Emma ,\" said Mrs . Weston smiling ; \" remember that I am here . Mr .                                                                     0.590955\n",
      "\" You are right , Mrs . Weston ,\" said Mr . Knightley warmly , \" Miss Fairfax is as capable as any of us of forming a just opinion of Mrs . Elton .                         0.562907\n",
      "\" I do not know what your opinion may be , Mrs . Weston ,\" said Mr . Knightley , \" of this great intimacy between Emma and Harriet Smith , but I think it a bad thing .\"    0.562677\n",
      "\" There were misunderstandings between them , Emma ; he said so expressly .                                                                                                 0.528168\n",
      "Mr . Knightley might quarrel with her , but Emma could not quarrel with herself .                                                                                           0.527657\n",
      "\" Now ,\" said Emma , when they were fairly beyond the sweep gates , \" now Mr . Weston , do let me know what has happened .\"                                                 0.513376\n",
      "Emma found that it was not Mr . Weston ' s fault that the number of privy councillors was not yet larger .                                                                  0.510899\n",
      "\" In one respect , perhaps , Mr . Elton ' s manners are superior to Mr . Knightley ' s or Mr . Weston ' s .                                                                 0.502342\n",
      "\" I do not admire it ,\" said Mr . Knightley .                                                                                                                               0.499636\n",
      "Name: 1, dtype: float64\n",
      "Component 2:\n",
      "CHAPTER I       0.998679\n",
      "CHAPTER V       0.998679\n",
      "CHAPTER X       0.998679\n",
      "CHAPTER V       0.998679\n",
      "CHAPTER X       0.998679\n",
      "CHAPTER I       0.998679\n",
      "CHAPTER V       0.998679\n",
      "CHAPTER I       0.998679\n",
      "CHAPTER X       0.998679\n",
      "CHAPTER XVII    0.997611\n",
      "Name: 2, dtype: float64\n",
      "Component 3:\n",
      "\" Ah !      0.992895\n",
      "\" Ah !      0.992895\n",
      "\" Ah !      0.992895\n",
      "But ah !    0.992895\n",
      "\" Ah !      0.992895\n",
      "\" Ah !      0.992895\n",
      "\" Ah !      0.992895\n",
      "\" Ah !      0.992895\n",
      "\" Ah !      0.992895\n",
      "But ah !    0.992895\n",
      "Name: 3, dtype: float64\n",
      "Component 4:\n",
      "\" There were misunderstandings between them , Emma ; he said so expressly .    0.650364\n",
      "Emma demurred .                                                                0.598784\n",
      "\" Are you well , my Emma ?\"                                                    0.598784\n",
      "Emma was silenced .                                                            0.588085\n",
      "At first it was downright dulness to Emma .                                    0.586532\n",
      "\" Emma , my dear Emma \"                                                        0.577002\n",
      "Emma could not resist .                                                        0.569280\n",
      "\" For shame , Emma !                                                           0.551873\n",
      "\" It is not now worth a regret ,\" said Emma .                                  0.549595\n",
      "\" I am ready ,\" said Emma , \" whenever I am wanted .\"                          0.498993\n",
      "Name: 4, dtype: float64\n"
     ]
    }
   ],
   "source": [
    "from sklearn.decomposition import TruncatedSVD\n",
    "from sklearn.pipeline import make_pipeline\n",
    "from sklearn.preprocessing import Normalizer\n",
    "\n",
    "#Our SVD data reducer.  We are going to reduce the feature space from 1379 to 130.\n",
    "svd= TruncatedSVD(130)\n",
    "lsa = make_pipeline(svd, Normalizer(copy=False))\n",
    "# Run SVD on the training data, then project the training data.\n",
    "X_train_lsa = lsa.fit_transform(X_train_tfidf)\n",
    "\n",
    "variance_explained=svd.explained_variance_ratio_\n",
    "total_variance = variance_explained.sum()\n",
    "print(\"Percent variance captured by all components:\",total_variance*100)\n",
    "\n",
    "#Looking at what sorts of paragraphs our solution considers similar, for the first five identified topics\n",
    "paras_by_component=pd.DataFrame(X_train_lsa,index=X_train)\n",
    "for i in range(5):\n",
    "    print('Component {}:'.format(i))\n",
    "    print(paras_by_component.loc[:,i].sort_values(ascending=False)[0:10])\n",
    "\n",
    "\n"
   ]
  },
  {
   "cell_type": "code",
   "execution_count": 97,
   "metadata": {},
   "outputs": [
    {
     "data": {
      "image/png": "[encoded data removed]",
      "text/plain": [
       "<matplotlib.figure.Figure at 0x1bbefeec390>"
      ]
     },
     "metadata": {},
     "output_type": "display_data"
    },
    {
     "name": "stdout",
     "output_type": "stream",
     "text": [
      "Key:\n",
      "0 That is _court_ .\n",
      "1 \" Yes , sir , I did indeed ; and I am very much obliged by your kind solicitude about me .\"\n",
      "2 \" How much his business engrosses him already is very plain from the circumstance of his forgetting to inquire for the book you recommended .\n",
      "3 To restrain him as much as might be , by her own manners , she was immediately preparing to speak with exquisite calmness and gravity of the weather and the night ; but scarcely had she begun , scarcely had they passed the sweep - gate and joined the other carriage , than she found her subject cut up  her hand seized  her attention demanded , and Mr . Elton actually making violent love to her : availing himself of the precious opportunity , declaring sentiments which must be already well known , hoping  fearing  adoring  ready to die if she refused him ; but flattering himself that his ardent attachment and unequalled love and unexampled passion could not fail of having some effect , and in short , very much resolved on being seriously accepted as soon as possible .\n",
      "4 Emma smiled and answered \" My visit was of use to the nervous part of her complaint , I hope ; but not even I can charm away a sore throat ; it is a most severe cold indeed .\n",
      "5 A very few minutes more , however , completed the present trial .\n",
      "6 \" I am delighted to hear you speak so stoutly on the subject ,\" replied Emma , smiling ; \" but you do not mean to deny that there was a time  and not very distant either  when you gave me reason to understand that you did care about him ?\"\n",
      "7 \" Very well ; and if he had intended to give her one , he would have told her so .\"\n",
      "8 Some laughed , and answered good - humouredly .\n",
      "9 \" There appeared such a perfectly good understanding among them all \" he began rather quickly , but checking himself , added , \" however , it is impossible for me to say on what terms they really were  how it might all be behind the scenes .\n"
     ]
    }
   ],
   "source": [
    "# Compute document similarity using LSA components\n",
    "similarity = np.asarray(np.asmatrix(X_train_lsa) * np.asmatrix(X_train_lsa).T)\n",
    "#Only taking the first 10 sentences\n",
    "sim_matrix=pd.DataFrame(similarity,index=X_train).iloc[0:10,0:10]\n",
    "#Making a plot\n",
    "ax = sns.heatmap(sim_matrix,yticklabels=range(10), annot = True)\n",
    "plt.show()\n",
    "\n",
    "#Generating a key for the plot.\n",
    "print('Key:')\n",
    "for i in range(10):\n",
    "    print(i,sim_matrix.index[i])\n"
   ]
  },
  {
   "cell_type": "markdown",
   "metadata": {},
   "source": [
    "# Drill 0"
   ]
  },
  {
   "cell_type": "code",
   "execution_count": 49,
   "metadata": {},
   "outputs": [
    {
     "name": "stdout",
     "output_type": "stream",
     "text": [
      "Percent variance captured by all components: 49.4148006838\n",
      "Component 0:\n",
      "\" Oh !       0.99992\n",
      "\" Oh !       0.99992\n",
      "\" Oh !       0.99992\n",
      "\" Oh !       0.99992\n",
      "\" Oh !       0.99992\n",
      "\" Oh !       0.99992\n",
      "\" Oh no !    0.99992\n",
      "\" Oh !       0.99992\n",
      "\" Oh !       0.99992\n",
      "\" Oh !       0.99992\n",
      "Name: 0, dtype: float64\n",
      "Component 1:\n",
      "\" Well , Mrs . Weston ,\" said Emma triumphantly when he left them , \" what do you say now to Mr . Knightley ' s marrying Jane Fairfax ?\"                                                                                                                                                                                                                                                                                                             0.614421\n",
      "After tea , Mr . and Mrs . Weston , and Mr . Elton sat down with Mr . Woodhouse to cards .                                                                                                                                                                                                                                                                                                                                                           0.599682\n",
      "Frank turned instantly to Emma , to claim her former promise ; and boasted himself an engaged man , which his father looked his most perfect approbation of  and it then appeared that Mrs . Weston was wanting _him_ to dance with Mrs . Elton himself , and that their business was to help to persuade him into it , which was done pretty soon . Mr . Weston and Mrs . Elton led the way , Mr . Frank Churchill and Miss Woodhouse followed .    0.565534\n",
      "\" Mr .                                                                                                                                                                                                                                                                                                                                                                                                                                               0.519126\n",
      "While she was gone , Mr . Knightley called , and sat some time with Mr . Woodhouse and Emma , till Mr . Woodhouse , who had previously made up his mind to walk out , was persuaded by his daughter not to defer it , and was induced by the entreaties of both , though against the scruples of his own civility , to leave Mr . Knightley for that purpose .                                                                                       0.512774\n",
      "Mr . Weston was musing .                                                                                                                                                                                                                                                                                                                                                                                                                             0.505723\n",
      "\" Mrs . Weston ' s manners ,\" said Emma , \" were always particularly good .                                                                                                                                                                                                                                                                                                                                                                          0.497989\n",
      "\" I think , indeed ,\" said John Knightley pleasantly , \" that Mr . Weston has some little claim .                                                                                                                                                                                                                                                                                                                                                    0.490174\n",
      "\" Why , to be sure ,\" said Mr . Woodhouse \" yes , certainly  I cannot deny that Mrs . Weston , poor Mrs . Weston , does come and see us pretty often  but then  she is always obliged to go away again .\"                                                                                                                                                                                                                                            0.485368\n",
      "\" It is Frank and Miss Fairfax ,\" said Mrs . Weston .                                                                                                                                                                                                                                                                                                                                                                                                0.485020\n",
      "Name: 1, dtype: float64\n",
      "Component 2:\n",
      "\" Ah !     0.99697\n",
      "\" Ah !     0.99697\n",
      "\" Ah !     0.99697\n",
      "\" Ah !     0.99697\n",
      "\" Ah !\"    0.99697\n",
      "\" Ah !     0.99697\n",
      "\" Ah !     0.99697\n",
      "\" Ah !     0.99697\n",
      "\" Ah !     0.99697\n",
      "\" Ah !     0.99697\n",
      "Name: 2, dtype: float64\n",
      "Component 3:\n",
      "\" Mr .                                                                                                                                                                                                                                                                                                                                                            0.633449\n",
      "After tea , Mr . and Mrs . Weston , and Mr . Elton sat down with Mr . Woodhouse to cards .                                                                                                                                                                                                                                                                        0.563857\n",
      "Mr . Knightley was thoughtful again .                                                                                                                                                                                                                                                                                                                             0.524212\n",
      "\" You are not vain , Mr . Knightley .                                                                                                                                                                                                                                                                                                                             0.510264\n",
      "Mr . Weston was musing .                                                                                                                                                                                                                                                                                                                                          0.500330\n",
      "Mr . Weston ' s own happiness was indisputable .                                                                                                                                                                                                                                                                                                                  0.451208\n",
      "She meant to be very happy , in spite of the scene being laid at Mr . Cole ' s ; and without being able to forget that among the failings of Mr . Elton , even in the days of his favour , none had disturbed her more than his propensity to dine with Mr . Cole .                                                                                               0.440014\n",
      "Harriet , Mr . Elton , and Mr . Knightley , their own especial set , were the only persons invited to meet them ; the hours were to be early , as well as the numbers few ; Mr . Woodhouse ' s habits and inclination being consulted in every thing .                                                                                                            0.410491\n",
      "\" Christmas weather ,\" observed Mr . Elton .                                                                                                                                                                                                                                                                                                                      0.394097\n",
      "While she was gone , Mr . Knightley called , and sat some time with Mr . Woodhouse and Emma , till Mr . Woodhouse , who had previously made up his mind to walk out , was persuaded by his daughter not to defer it , and was induced by the entreaties of both , though against the scruples of his own civility , to leave Mr . Knightley for that purpose .    0.391033\n",
      "Name: 3, dtype: float64\n",
      "Component 4:\n",
      "\" Yes , sometimes he can .\"                                                     0.653057\n",
      "\" Yes , do .\"                                                                   0.653057\n",
      "\" Yes .                                                                         0.653057\n",
      "\" Yes I should , I am sure I should .                                           0.638775\n",
      "\" Yes , so I imagined .                                                         0.608086\n",
      "\" Yes  a good deal _nearer_ .\"                                                  0.566034\n",
      "\" Yes ; but we must not rest our claims on that distinction .                   0.563052\n",
      "\" Yes , our good Mrs . Elton .                                                  0.552789\n",
      "\" Yes , very soon .                                                             0.533621\n",
      "\" Yes , she would be , but that she thinks there will be another put - off .    0.530579\n",
      "Name: 4, dtype: float64\n"
     ]
    }
   ],
   "source": [
    "#Reshapes the vectorizer output into something people can read\n",
    "X_test_tfidf_csr = X_test_tfidf.tocsr()\n",
    "\n",
    "#number of paragraphs\n",
    "n = X_test_tfidf_csr.shape[0]\n",
    "#A list of dictionaries, one per paragraph\n",
    "tfidf_bypara = [{} for _ in range(0,n)]\n",
    "#List of features\n",
    "terms = vectorizer.get_feature_names()\n",
    "#for each paragraph, lists the feature words and their tf-idf scores\n",
    "for i, j in zip(*X_test_tfidf_csr.nonzero()):\n",
    "    tfidf_bypara[i][terms[j]] = X_test_tfidf_csr[i, j]\n",
    "\n",
    "\n",
    "\n",
    "X_test_lsa = lsa.fit_transform(X_test_tfidf)\n",
    "\n",
    "variance_explained=svd.explained_variance_ratio_\n",
    "total_variance = variance_explained.sum()\n",
    "print(\"Percent variance captured by all components:\",total_variance*100)\n",
    "\n",
    "#Looking at what sorts of paragraphs our solution considers similar, for the first five identified topics\n",
    "paras_by_component=pd.DataFrame(X_test_lsa,index=X_test)\n",
    "for i in range(5):\n",
    "    print('Component {}:'.format(i))\n",
    "    print(paras_by_component.loc[:,i].sort_values(ascending=False)[0:10])\n",
    "\n",
    "\n"
   ]
  },
  {
   "cell_type": "markdown",
   "metadata": {},
   "source": [
    "# Conclusion"
   ]
  },
  {
   "cell_type": "markdown",
   "metadata": {},
   "source": [
    "Component 0 is the same, targeting 'Oh!'\n",
    "\n",
    "Component 1 is different, dialogue about other characters, particularly Mr . and Mrs prefixes.\n",
    "\n",
    "Component 2 is targeting 'Ah!' whereas previously, it was captured as Component 3\n",
    "\n",
    "Component 4 is different, targeting 'yes'"
   ]
  },
  {
   "cell_type": "markdown",
   "metadata": {},
   "source": [
    "# Drill 1 - Tweaking tf-idf"
   ]
  },
  {
   "cell_type": "code",
   "execution_count": 38,
   "metadata": {},
   "outputs": [
    {
     "name": "stdout",
     "output_type": "stream",
     "text": [
      "Decreased Max_df to 0.3 \n"
     ]
    }
   ],
   "source": [
    "print('Decreased Max_df to 0.3 ')\n",
    "vectorizer = TfidfVectorizer(max_df=0.3, # drop words in more than 30% of paragraphs\n",
    "                             min_df=2, # only use words that appear at least twice\n",
    "                             stop_words='english', \n",
    "                             lowercase=True, #convert everything to lower case (since Alice in Wonderland has the HABIT of CAPITALIZING WORDS for EMPHASIS)\n",
    "                             use_idf=True,#we definitely want to use inverse document frequencies in our weighting\n",
    "                             norm=u'l2', #Applies a correction factor so that longer paragraphs and shorter paragraphs get treated equally\n",
    "                             smooth_idf=True #Adds 1 to all document frequencies, as if an extra document existed that used every word once.  Prevents divide-by-zero errors\n",
    "                            )"
   ]
  },
  {
   "cell_type": "code",
   "execution_count": 39,
   "metadata": {
    "collapsed": true
   },
   "outputs": [],
   "source": [
    "def apply_vectorizer():\n",
    "\n",
    "    emma_paras_tfidf=vectorizer.fit_transform(emma_paras)\n",
    "    print(\"Number of features: %d\" % emma_paras_tfidf.get_shape()[1])\n",
    "    X_train_tfidf, X_test_tfidf= train_test_split(emma_paras_tfidf, test_size=0.4, random_state=0)\n",
    "\n",
    "    X_train_tfidf_csr = X_train_tfidf.tocsr()\n",
    "\n",
    "    n = X_train_tfidf_csr.shape[0]\n",
    "\n",
    "    tfidf_bypara = [{} for _ in range(0,n)]\n",
    "\n",
    "    terms = vectorizer.get_feature_names()\n",
    "\n",
    "    for i, j in zip(*X_train_tfidf_csr.nonzero()):\n",
    "        tfidf_bypara[i][terms[j]] = X_train_tfidf_csr[i, j]\n",
    "\n",
    "        \n",
    "    svd= TruncatedSVD(130)\n",
    "    lsa = make_pipeline(svd, Normalizer(copy=False))\n",
    "\n",
    "    # Run SVD on the training data, then project the training data.\n",
    "    X_train_lsa = lsa.fit_transform(X_train_tfidf)\n",
    "\n",
    "    variance_explained=svd.explained_variance_ratio_\n",
    "    total_variance = variance_explained.sum()\n",
    "    print(\"Percent variance captured by all components:\",total_variance*100)"
   ]
  },
  {
   "cell_type": "code",
   "execution_count": 40,
   "metadata": {},
   "outputs": [
    {
     "name": "stdout",
     "output_type": "stream",
     "text": [
      "Number of features: 1948\n",
      "Percent variance captured by all components: 45.1964425795\n"
     ]
    }
   ],
   "source": [
    "apply_vectorizer()"
   ]
  },
  {
   "cell_type": "markdown",
   "metadata": {},
   "source": [
    "Variance stayed pretty much the same with a drop in max_df. Let's try some other changes."
   ]
  },
  {
   "cell_type": "code",
   "execution_count": 41,
   "metadata": {},
   "outputs": [
    {
     "name": "stdout",
     "output_type": "stream",
     "text": [
      "increased min_df to 10 with max_df = 0.3\n"
     ]
    }
   ],
   "source": [
    "print('increased min_df to 10 with max_df = 0.3')\n",
    "vectorizer = TfidfVectorizer(max_df= 0.3, # drop words in more than 30% of paragraphs\n",
    "                             min_df= 10, # only use words that appear at least 10 times\n",
    "                             stop_words='english', \n",
    "                             lowercase=True, #convert everything to lower case (since Alice in Wonderland has the HABIT of CAPITALIZING WORDS for EMPHASIS)\n",
    "                             use_idf=True,#we definitely want to use inverse document frequencies in our weighting\n",
    "                             norm=u'l2', #Applies a correction factor so that longer paragraphs and shorter paragraphs get treated equally\n",
    "                             smooth_idf=True #Adds 1 to all document frequencies, as if an extra document existed that used every word once.  Prevents divide-by-zero errors\n",
    "                            )"
   ]
  },
  {
   "cell_type": "code",
   "execution_count": 42,
   "metadata": {},
   "outputs": [
    {
     "name": "stdout",
     "output_type": "stream",
     "text": [
      "Number of features: 382\n",
      "Percent variance captured by all components: 69.3431585756\n"
     ]
    }
   ],
   "source": [
    "apply_vectorizer()"
   ]
  },
  {
   "cell_type": "markdown",
   "metadata": {},
   "source": [
    "Variance increased to around 69%. This also decreased the number of features in the space."
   ]
  },
  {
   "cell_type": "code",
   "execution_count": 43,
   "metadata": {},
   "outputs": [
    {
     "name": "stdout",
     "output_type": "stream",
     "text": [
      "Changed correction factor to L1\n"
     ]
    }
   ],
   "source": [
    "print('Changed correction factor to L1')\n",
    "vectorizer = TfidfVectorizer(max_df= 0.3, # drop words in more than 30% of paragraphs\n",
    "                             min_df= 10, # only use words that appear at least 10 times\n",
    "                             stop_words='english', \n",
    "                             lowercase=True, #convert everything to lower case (since Alice in Wonderland has the HABIT of CAPITALIZING WORDS for EMPHASIS)\n",
    "                             use_idf=True,#we definitely want to use inverse document frequencies in our weighting\n",
    "                             norm=u'l1', #Applies a correction factor so that longer paragraphs and shorter paragraphs get treated equally\n",
    "                             smooth_idf=True #Adds 1 to all document frequencies, as if an extra document existed that used every word once.  Prevents divide-by-zero errors\n",
    "                            )"
   ]
  },
  {
   "cell_type": "code",
   "execution_count": 44,
   "metadata": {},
   "outputs": [
    {
     "name": "stdout",
     "output_type": "stream",
     "text": [
      "Number of features: 382\n",
      "Percent variance captured by all components: 79.1767040344\n"
     ]
    }
   ],
   "source": [
    "apply_vectorizer()"
   ]
  },
  {
   "cell_type": "markdown",
   "metadata": {},
   "source": [
    "this increased the variance explained by the model, to 79%."
   ]
  },
  {
   "cell_type": "markdown",
   "metadata": {},
   "source": [
    "Little clean up"
   ]
  },
  {
   "cell_type": "code",
   "execution_count": 98,
   "metadata": {},
   "outputs": [
    {
     "name": "stdout",
     "output_type": "stream",
     "text": [
      "['[ Emma by Jane Austen 1816 ]', 'VOLUME I', 'CHAPTER I', 'Emma Woodhouse , handsome , clever , and rich , with a comfortable home and happy disposition , seemed to unite some of the best blessings of existence ; and had lived nearly twenty - one years in the world with very little to distress or vex her .']\n",
      "\n",
      "['', '', '', 'Emma Woodhouse , handsome , clever , and rich , with a comfortable home and happy disposition , seemed to unite some of the best blessings of existence ; and had lived nearly twenty - one years in the world with very little to distress or vex her .']\n"
     ]
    }
   ],
   "source": [
    "#reading in the data, this time in the form of paragraphs\n",
    "emma=gutenberg.paras('austen-emma.txt')\n",
    "#processing\n",
    "emma_paras=[]\n",
    "for paragraph in emma:\n",
    "    para=paragraph[0]\n",
    "    #removing the double-dash from all words\n",
    "    para = [re.sub(r'--','',word) for word in para]\n",
    "    \n",
    "    #Forming each paragraph into a string and adding it to the list of strings.\n",
    "    emma_paras.append(' '.join(para))\n",
    "\n",
    "print(emma_paras[0:4])\n",
    "print()\n",
    "emma_paras2 = []\n",
    "for para in emma_paras:\n",
    "    para = re.sub(r'CHAPTER \\D+','',para) \n",
    "    para = re.sub(r'VOLUME \\D+','',para) \n",
    "    para = re.sub(\"[\\[].*?[\\]]\", \"\", para)\n",
    "    emma_paras2.append(''.join(para))\n",
    "print(emma_paras2[0:4])"
   ]
  },
  {
   "cell_type": "code",
   "execution_count": 99,
   "metadata": {
    "collapsed": true
   },
   "outputs": [],
   "source": [
    "import spacy\n",
    "nlp = spacy.load('en')\n",
    "\n",
    "#emma_paras is a list. spacy needs to take in string inputs in order to parse, so input the strings 1 at a time from the list\n",
    "\n",
    "emma_spacy = []\n",
    "for para in emma_paras2: \n",
    "    emma_spacy.append(nlp(para))"
   ]
  },
  {
   "cell_type": "code",
   "execution_count": 100,
   "metadata": {
    "collapsed": true
   },
   "outputs": [],
   "source": [
    "emma_spacy_2 = []\n",
    "\n",
    "for para in emma_spacy:\n",
    "    sp = [token.lemma_\n",
    "                for token in para\n",
    "                if not token.is_punct\n",
    "                and not token.is_stop]\n",
    "    \n",
    "    emma_spacy_2.append(' '.join(sp))\n"
   ]
  },
  {
   "cell_type": "code",
   "execution_count": 101,
   "metadata": {},
   "outputs": [
    {
     "name": "stdout",
     "output_type": "stream",
     "text": [
      "Actual\n",
      "['', '', '', 'Emma Woodhouse , handsome , clever , and rich , with a comfortable home and happy disposition , seemed to unite some of the best blessings of existence ; and had lived nearly twenty - one years in the world with very little to distress or vex her .']\n",
      "After spacy\n",
      "['', '', '', 'emma woodhouse handsome clever and rich with a comfortable home and happy disposition seem to unite some of the good blessing of existence and have live nearly twenty one year in the world with very little to distress or vex -PRON-']\n"
     ]
    }
   ],
   "source": [
    "#Just view some example sentence and make sure the lemmas worked as expected\n",
    "print('Actual')\n",
    "print(emma_paras2[0:4])\n",
    "print('After spacy')\n",
    "print(emma_spacy_2[0:4])\n",
    "\n"
   ]
  },
  {
   "cell_type": "markdown",
   "metadata": {},
   "source": [
    "Now divide the lemmas into a train and test set, vectorize, create a new singular value decomposition, and normalize"
   ]
  },
  {
   "cell_type": "code",
   "execution_count": 102,
   "metadata": {
    "collapsed": true
   },
   "outputs": [],
   "source": [
    "X_train, X_test = train_test_split(emma_spacy_2, test_size=0.4, random_state=0)"
   ]
  },
  {
   "cell_type": "code",
   "execution_count": 106,
   "metadata": {},
   "outputs": [
    {
     "name": "stdout",
     "output_type": "stream",
     "text": [
      "Component 0:\n",
      "oh    0.99929\n",
      "oh    0.99929\n",
      "oh    0.99929\n",
      "oh    0.99929\n",
      "oh    0.99929\n",
      "oh    0.99929\n",
      "oh    0.99929\n",
      "oh    0.99929\n",
      "oh    0.99929\n",
      "oh    0.99929\n",
      "Name: 0, dtype: float64\n",
      "Component 1:\n",
      "-PRON- have make -PRON- too tall emma say mr knightley                                                                                                                 0.634571\n",
      "-PRON- get upon delicate subject emma say mrs weston smile remember that -PRON- be here mr                                                                             0.590955\n",
      "-PRON- be right mrs weston say mr knightley warmly miss fairfax be as capable as any of -PRON- of form a just opinion of mrs elton                                     0.562907\n",
      "-PRON- do not know what -PRON- opinion may be mrs weston say mr knightley of this great intimacy between emma and harriet smith but -PRON- think -PRON- a bad thing    0.562677\n",
      "there be misunderstanding between -PRON- emma -PRON- say so expressly                                                                                                  0.528168\n",
      "mr knightley may quarrel with -PRON- but emma could not quarrel with -PRON-                                                                                            0.527657\n",
      "now say emma when -PRON- be fairly beyond the sweep gate now mr weston do let -PRON- know what have happen                                                             0.513376\n",
      "emma find that -PRON- be not mr weston s fault that the number of privy councillor be not yet large                                                                    0.510899\n",
      "in one respect perhaps mr elton s manner be superior to mr knightley s or mr weston s                                                                                  0.502342\n",
      "-PRON- do not admire -PRON- say mr knightley                                                                                                                           0.499636\n",
      "Name: 1, dtype: float64\n",
      "Component 2:\n",
      "    0.998679\n",
      "    0.998679\n",
      "    0.998679\n",
      "    0.998679\n",
      "    0.998679\n",
      "    0.998679\n",
      "    0.998679\n",
      "    0.998679\n",
      "    0.998679\n",
      "    0.997611\n",
      "Name: 2, dtype: float64\n",
      "Component 3:\n",
      "ah        0.992895\n",
      "ah        0.992895\n",
      "ah        0.992895\n",
      "but ah    0.992895\n",
      "ah        0.992895\n",
      "ah        0.992895\n",
      "ah        0.992895\n",
      "ah        0.992895\n",
      "ah        0.992895\n",
      "but ah    0.992895\n",
      "Name: 3, dtype: float64\n",
      "Component 4:\n",
      "there be misunderstanding between -PRON- emma -PRON- say so expressly    0.650364\n",
      "emma demur                                                               0.598784\n",
      "be -PRON- well -PRON- emma                                               0.598784\n",
      "emma be silence                                                          0.588085\n",
      "at first -PRON- be downright dulness to emma                             0.586532\n",
      "emma -PRON- dear emma                                                    0.577002\n",
      "emma could not resist                                                    0.569280\n",
      "for shame emma                                                           0.551873\n",
      "-PRON- be not now worth a regret say emma                                0.549595\n",
      "-PRON- be ready say emma whenever -PRON- be want                         0.498993\n",
      "Name: 4, dtype: float64\n"
     ]
    }
   ],
   "source": [
    "from sklearn.pipeline import Pipeline\n",
    "\n",
    "vectorizer = TfidfVectorizer(max_df=0.5, # drop words that occur in more than half the paragraphs\n",
    "                             min_df=2, # only use words that appear at least twice\n",
    "                             stop_words='english', \n",
    "                             lowercase=True, #convert everything to lower case (since Alice in Wonderland has the HABIT of CAPITALIZING WORDS for EMPHASIS)\n",
    "                             use_idf=True,#we definitely want to use inverse document frequencies in our weighting\n",
    "                             norm=u'l2', #Applies a correction factor so that longer paragraphs and shorter paragraphs get treated equally\n",
    "                             smooth_idf=True #Adds 1 to all document frequencies, as if an extra document existed that used every word once.  Prevents divide-by-zero errors\n",
    "                            )\n",
    "\n",
    "svd_model = TruncatedSVD(n_components=130)\n",
    "\n",
    "\n",
    "svd_transformer = Pipeline([('tfidf', vectorizer), \n",
    "                            ('svd', svd_model),\n",
    "                            ('norm', Normalizer(copy=False))])\n",
    "\n",
    "svd_matrix = svd_transformer.fit_transform(X_train)\n",
    "\n",
    "#Create separate dataframe for the test rows\n",
    "paras_train = pd.DataFrame(X_train_lsa, index = X_train)\n",
    "\n",
    "#Print test components and the top 10 highest scoring rows (paragraphs)\n",
    "for i in range (5):\n",
    "    print(\"Component {}:\".format(i))\n",
    "    print(paras_train.loc[:, i].sort_values(ascending = False)[0:10])"
   ]
  },
  {
   "cell_type": "code",
   "execution_count": 105,
   "metadata": {},
   "outputs": [
    {
     "data": {
      "image/png": "[encoded data removed]",
      "text/plain": [
       "<matplotlib.figure.Figure at 0x1bbeff1dfd0>"
      ]
     },
     "metadata": {},
     "output_type": "display_data"
    },
    {
     "name": "stdout",
     "output_type": "stream",
     "text": [
      "Key:\n",
      "0 that be court\n",
      "1 yes sir -PRON- do indeed and -PRON- be very much oblige by -PRON- kind solicitude about -PRON-\n",
      "2 how much -PRON- business engross -PRON- already be very plain from the circumstance of -PRON- forgetting to inquire for the book -PRON- recommend\n",
      "3 to restrain -PRON- as much as may be by -PRON- own manner -PRON- be immediately prepare to speak with exquisite calmness and gravity of the weather and the night but scarcely have -PRON- begin scarcely have -PRON- pass the sweep gate and join the other carriage than -PRON- find -PRON- subject cut up   -PRON- hand seize   -PRON- attention demand and mr elton actually make violent love to -PRON- avail -PRON- of the precious opportunity declare sentiment which must be already well know hop   fear   adore   ready to die if -PRON- refuse -PRON- but flatter -PRON- that -PRON- ardent attachment and unequalled love and unexampled passion could not fail of have some effect and in short very much resolve on be seriously accept as soon as possible\n",
      "4 emma smile and answer -PRON- visit be of use to the nervous part of -PRON- complaint -PRON- hope but not even -PRON- can charm away a sore throat -PRON- be a most severe cold indeed\n",
      "5 a very few minute more however complete the present trial\n",
      "6 -PRON- be delighted to hear -PRON- speak so stoutly on the subject reply emma smile but -PRON- do not mean to deny that there be a time   and not very distant either   when -PRON- give -PRON- reason to understand that -PRON- do care about -PRON-\n",
      "7 very well and if -PRON- have intend to give -PRON- one -PRON- would have tell -PRON- so\n",
      "8 some laugh and answer good humouredly\n",
      "9 there appear such a perfectly good understanding among -PRON- all -PRON- begin rather quickly but check -PRON- add however -PRON- be impossible for -PRON- to say on what term -PRON- really be   how -PRON- may all be behind the scene\n"
     ]
    }
   ],
   "source": [
    "# Compute document similarity using LSA components\n",
    "similarity = np.asarray(np.asmatrix(X_train_lsa) * np.asmatrix(X_train_lsa).T)\n",
    "#Only taking the first 10 sentences\n",
    "sim_matrix=pd.DataFrame(similarity,index=X_train).iloc[0:10,0:10]\n",
    "#Making a plot\n",
    "ax = sns.heatmap(sim_matrix,yticklabels=range(10), annot = True)\n",
    "plt.show()\n",
    "\n",
    "#Generating a key for the plot.\n",
    "print('Key:')\n",
    "for i in range(10):\n",
    "    print(i,sim_matrix.index[i])"
   ]
  },
  {
   "cell_type": "markdown",
   "metadata": {
    "collapsed": true
   },
   "source": [
    "# Conclusion"
   ]
  },
  {
   "cell_type": "markdown",
   "metadata": {},
   "source": [
    "Variance stayed pretty much the same with a drop in max_df (Decreased Max_df to 0.3 from 0.5)\n",
    "\n",
    "When increased min_df to 10 from 2, with max_df = 0.3 - Variance increased to around 69%. This also decreased the number of features in the space.\n",
    "\n",
    "When Changed correction factor to L1 with min_df as 10 and max_df as 0.3, this increased the variance explained by the model to 79%."
   ]
  },
  {
   "cell_type": "code",
   "execution_count": null,
   "metadata": {
    "collapsed": true
   },
   "outputs": [],
   "source": []
  }
 ],
 "metadata": {
  "kernelspec": {
   "display_name": "Python 3",
   "language": "python",
   "name": "python3"
  },
  "language_info": {
   "codemirror_mode": {
    "name": "ipython",
    "version": 3
   },
   "file_extension": ".py",
   "mimetype": "text/x-python",
   "name": "python",
   "nbconvert_exporter": "python",
   "pygments_lexer": "ipython3",
   "version": "3.6.3"
  }
 },
 "nbformat": 4,
 "nbformat_minor": 2
}
