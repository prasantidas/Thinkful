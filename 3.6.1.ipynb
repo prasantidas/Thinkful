{
 "cells": [
  {
   "cell_type": "markdown",
   "metadata": {},
   "source": [
    "# About the data"
   ]
  },
  {
   "cell_type": "markdown",
   "metadata": {},
   "source": [
    "Dataset description: \n",
    "\n",
    "The datasets contains transactions made by credit cards in September 2013 by european cardholders. This dataset presents transactions that occurred in two days, where we have 492 frauds out of 284,807 transactions. The dataset is highly unbalanced, the positive class (frauds) account for 0.172% of all transactions.\n",
    "\n",
    "It contains only numerical input variables which are the result of a PCA transformation. Unfortunately, due to confidentiality issues, we cannot provide the original features and more background information about the data. Features V1, V2, ... V28 are the principal components obtained with PCA, the only features which have not been transformed with PCA are 'Time' and 'Amount'. Feature 'Time' contains the seconds elapsed between each transaction and the first transaction in the dataset. The feature 'Amount' is the transaction Amount, this feature can be used for example-dependant cost-senstive learning. Feature 'Class' is the response variable and it takes value 1 in case of fraud and 0 otherwise.\n",
    "\n",
    "Identify fraudulent credit card transactions.\n",
    "\n",
    "Given the class imbalance ratio, we recommend measuring the accuracy using the Area Under the Precision-Recall Curve (AUPRC). Confusion matrix accuracy is not meaningful for unbalanced classification."
   ]
  },
  {
   "cell_type": "code",
   "execution_count": 39,
   "metadata": {
    "collapsed": true
   },
   "outputs": [],
   "source": [
    "import numpy as np\n",
    "import pandas as pd\n",
    "import matplotlib.pyplot as plt\n",
    "import seaborn as sns\n",
    "import scipy\n",
    "\n",
    "from sklearn.utils import resample\n",
    "from sklearn.model_selection import cross_val_score, cross_val_predict, train_test_split\n",
    "from sklearn.model_selection import KFold\n",
    "from sklearn.metrics import confusion_matrix, classification_report\n",
    "from sklearn.metrics import auc, precision_recall_curve, average_precision_score\n",
    "\n",
    "from sklearn.naive_bayes import BernoulliNB\n",
    "from sklearn.tree import DecisionTreeClassifier\n",
    "from sklearn.ensemble import RandomForestClassifier\n",
    "from sklearn.linear_model import LogisticRegression\n",
    "from sklearn.linear_model import LogisticRegressionCV\n",
    "from sklearn.neighbors import KNeighborsClassifier\n",
    "\n",
    "%matplotlib inline\n"
   ]
  },
  {
   "cell_type": "markdown",
   "metadata": {},
   "source": [
    "df = pd.read_csv('creditcard.csv')\n",
    "df.head()"
   ]
  },
  {
   "cell_type": "code",
   "execution_count": 9,
   "metadata": {},
   "outputs": [
    {
     "data": {
      "text/plain": [
       "(284807, 31)"
      ]
     },
     "execution_count": 9,
     "metadata": {},
     "output_type": "execute_result"
    }
   ],
   "source": [
    "df.shape"
   ]
  },
  {
   "cell_type": "code",
   "execution_count": 3,
   "metadata": {},
   "outputs": [
    {
     "data": {
      "text/plain": [
       "0    284315\n",
       "1       492\n",
       "Name: Class, dtype: int64"
      ]
     },
     "execution_count": 3,
     "metadata": {},
     "output_type": "execute_result"
    }
   ],
   "source": [
    "df.Class.value_counts()"
   ]
  },
  {
   "cell_type": "markdown",
   "metadata": {},
   "source": [
    "There is a class imbalance problem here. We can address the class imbalance in two ways. We can downsample the majority class, or upsample the minority class.  Downsampling is going to be a much smaller dataset."
   ]
  },
  {
   "cell_type": "code",
   "execution_count": 5,
   "metadata": {
    "collapsed": true
   },
   "outputs": [],
   "source": [
    "# Separate majority and minority classes\n",
    "df_majority = df[df.Class==0]\n",
    "df_minority = df[df.Class==1]"
   ]
  },
  {
   "cell_type": "markdown",
   "metadata": {},
   "source": [
    "# Downsampling"
   ]
  },
  {
   "cell_type": "code",
   "execution_count": 6,
   "metadata": {},
   "outputs": [
    {
     "data": {
      "text/plain": [
       "1    492\n",
       "0    492\n",
       "Name: Class, dtype: int64"
      ]
     },
     "execution_count": 6,
     "metadata": {},
     "output_type": "execute_result"
    }
   ],
   "source": [
    "# Downsample majority class# Downs \n",
    "df_majority_downsampled = resample(df_majority, \n",
    "                                 replace=False,    # sample without replacement\n",
    "                                 n_samples=len(df_minority))    # to match minority class\n",
    "                                \n",
    "# Combine minority class with downsampled majority class\n",
    "df_downsampled = pd.concat([df_majority_downsampled, df_minority])\n",
    " \n",
    "# Display new class counts\n",
    "df_downsampled.Class.value_counts()"
   ]
  },
  {
   "cell_type": "code",
   "execution_count": 8,
   "metadata": {},
   "outputs": [
    {
     "data": {
      "text/plain": [
       "(984, 31)"
      ]
     },
     "execution_count": 8,
     "metadata": {},
     "output_type": "execute_result"
    }
   ],
   "source": [
    "df_downsampled.shape"
   ]
  },
  {
   "cell_type": "code",
   "execution_count": 19,
   "metadata": {},
   "outputs": [
    {
     "data": {
      "text/plain": [
       "((984, 30), (984,))"
      ]
     },
     "execution_count": 19,
     "metadata": {},
     "output_type": "execute_result"
    }
   ],
   "source": [
    "X = df_downsampled.loc[:, ~df_downsampled.columns.isin(['Class'])]\n",
    "Y = df_downsampled['Class']\n",
    "\n",
    "X.shape, Y.shape"
   ]
  },
  {
   "cell_type": "code",
   "execution_count": 33,
   "metadata": {},
   "outputs": [
    {
     "name": "stdout",
     "output_type": "stream",
     "text": [
      "0.450047291314\n",
      "Average precision score: 0.90\n",
      "Precision from Confusion Matrix  0.992574257426\n",
      "Recall from Confusion Matrix  0.815040650407\n"
     ]
    }
   ],
   "source": [
    "bnb = BernoulliNB()\n",
    "Y_pred = cross_val_predict(bnb, X, Y, cv=5)\n",
    "precision, recall, thresholds = precision_recall_curve(Y, Y_pred)\n",
    "average_precision = average_precision_score(Y, Y_pred)\n",
    "\n",
    "print(auc(precision, recall))\n",
    "print('Average precision score: {0:0.2f}'.format(average_precision))\n",
    "\n",
    "conf_mat = confusion_matrix(Y, Y_pred)\n",
    "print('Precision from Confusion Matrix ', conf_mat[1,1] / (conf_mat[1,1]+conf_mat[0,1]) )\n",
    "print('Recall from Confusion Matrix ', conf_mat[1,1] / (conf_mat[1,1]+conf_mat[1,0]) )"
   ]
  },
  {
   "cell_type": "markdown",
   "metadata": {},
   "source": [
    "# What to interpret from precision_recall_curve ? what is auc(precision, recall) doing ? why scores are not matching ???"
   ]
  },
  {
   "cell_type": "code",
   "execution_count": 34,
   "metadata": {},
   "outputs": [
    {
     "name": "stdout",
     "output_type": "stream",
     "text": [
      "0.451681448633\n",
      "Average precision score: 0.91\n",
      "Precision from Confusion Matrix  0.962305986696\n",
      "Recall from Confusion Matrix  0.882113821138\n"
     ]
    }
   ],
   "source": [
    "logreg = LogisticRegression(C = 1e9)\n",
    "Y_pred = cross_val_predict(logreg, X, Y, cv=5)\n",
    "\n",
    "precision, recall, thresholds = precision_recall_curve(Y, Y_pred)\n",
    "average_precision = average_precision_score(Y, Y_pred)\n",
    "    #print('fold {} precision {} recall {} thresholds {}'.format(test_no,precision, recall, thresholds))\n",
    "print(auc(precision, recall))\n",
    "print('Average precision score: {0:0.2f}'.format(average_precision))\n",
    "\n",
    "conf_mat = confusion_matrix(Y, Y_pred)\n",
    "print('Precision from Confusion Matrix ', conf_mat[1,1] / (conf_mat[1,1]+conf_mat[0,1]) )\n",
    "print('Recall from Confusion Matrix ', conf_mat[1,1] / (conf_mat[1,1]+conf_mat[1,0]) )"
   ]
  },
  {
   "cell_type": "code",
   "execution_count": 43,
   "metadata": {},
   "outputs": [
    {
     "name": "stdout",
     "output_type": "stream",
     "text": [
      "y_train class counts\n",
      "0    320\n",
      "1    319\n",
      "Name: Class, dtype: int64\n",
      "\n",
      "y_test class counts\n",
      "1    173\n",
      "0    172\n",
      "Name: Class, dtype: int64\n",
      "Precision from Confusion Matrix  0.974842767296\n",
      "Recall from Confusion Matrix  0.895953757225\n",
      "[[168   4]\n",
      " [ 18 155]]\n",
      "             precision    recall  f1-score   support\n",
      "\n",
      "          0       0.90      0.98      0.94       172\n",
      "          1       0.97      0.90      0.93       173\n",
      "\n",
      "avg / total       0.94      0.94      0.94       345\n",
      "\n"
     ]
    }
   ],
   "source": [
    "x_train,x_test,y_train,y_test = train_test_split(X,Y, stratify=Y,test_size=0.35, random_state=1)\n",
    "\n",
    "print('y_train class counts')\n",
    "print(y_train.value_counts())\n",
    "print('')\n",
    "print('y_test class counts')\n",
    "print(y_test.value_counts())\n",
    "\n",
    "lr_model = LogisticRegression()\n",
    "lr_model.fit(x_train,y_train)\n",
    "\n",
    "pred = lr_model.predict(x_test)\n",
    "conf_mat = confusion_matrix(y_test,pred)\n",
    "print('Precision from Confusion Matrix ', conf_mat[1,1] / (conf_mat[1,1]+conf_mat[0,1]) )\n",
    "print('Recall from Confusion Matrix ', conf_mat[1,1] / (conf_mat[1,1]+conf_mat[1,0]) )\n",
    "print(conf_mat)\n",
    "print(classification_report(y_test,pred))"
   ]
  },
  {
   "cell_type": "markdown",
   "metadata": {},
   "source": [
    "# Why precision and recall calculated from confusion matrix is different from classification_report??"
   ]
  },
  {
   "cell_type": "code",
   "execution_count": 41,
   "metadata": {},
   "outputs": [
    {
     "name": "stdout",
     "output_type": "stream",
     "text": [
      "[[168   4]\n",
      " [ 18 155]]\n",
      "             precision    recall  f1-score   support\n",
      "\n",
      "          0       0.90      0.98      0.94       172\n",
      "          1       0.97      0.90      0.93       173\n",
      "\n",
      "avg / total       0.94      0.94      0.94       345\n",
      "\n"
     ]
    }
   ],
   "source": [
    "lr_model = LogisticRegression(class_weight='balanced')\n",
    "lr_model.fit(x_train,y_train)\n",
    "\n",
    "pred = lr_model.predict(x_test)\n",
    "cfn_matrix = confusion_matrix(y_test,pred)\n",
    "print(cfn_matrix)\n",
    "print(classification_report(y_test,pred))"
   ]
  },
  {
   "cell_type": "code",
   "execution_count": 29,
   "metadata": {},
   "outputs": [
    {
     "name": "stdout",
     "output_type": "stream",
     "text": [
      "0.462464796217\n",
      "Average precision score: 0.93\n"
     ]
    }
   ],
   "source": [
    "lasso = LogisticRegressionCV(penalty='l1', solver = 'liblinear')\n",
    "Y_pred = cross_val_predict(lasso, X, Y, cv=5)\n",
    "\n",
    "precision, recall, thresholds = precision_recall_curve(Y, Y_pred)\n",
    "average_precision = average_precision_score(Y, Y_pred)\n",
    "    #print('fold {} precision {} recall {} thresholds {}'.format(test_no,precision, recall, thresholds))\n",
    "print(auc(precision, recall))\n",
    "print('Average precision score: {0:0.2f}'.format(average_precision))"
   ]
  },
  {
   "cell_type": "code",
   "execution_count": 31,
   "metadata": {},
   "outputs": [
    {
     "name": "stdout",
     "output_type": "stream",
     "text": [
      "0.462464796217\n",
      "Average precision score: 0.93\n",
      "[[ -1.11892203e-05   0.00000000e+00   0.00000000e+00  -2.15070566e-01\n",
      "    8.28896994e-01   2.07788599e-01  -1.44692330e-01   0.00000000e+00\n",
      "   -1.71904787e-01  -1.64278565e-01  -5.01993888e-01   1.48124853e-01\n",
      "   -3.93618900e-01  -1.10503873e-01  -8.40190365e-01  -7.98821663e-02\n",
      "    0.00000000e+00   0.00000000e+00   1.14829589e-01  -3.05332237e-02\n",
      "   -2.51288453e-01   0.00000000e+00   2.61790349e-01  -1.73931929e-01\n",
      "    1.34162309e-01  -1.07224710e-01   0.00000000e+00   0.00000000e+00\n",
      "    0.00000000e+00   2.39610701e-03]]\n"
     ]
    }
   ],
   "source": [
    "lasso = LogisticRegressionCV(penalty='l1', solver = 'liblinear')\n",
    "lasso.fit(X,Y)\n",
    "Y_pred = cross_val_predict(lasso, X, Y, cv=5)\n",
    "\n",
    "precision, recall, thresholds = precision_recall_curve(Y, Y_pred)\n",
    "average_precision = average_precision_score(Y, Y_pred)\n",
    "    #print('fold {} precision {} recall {} thresholds {}'.format(test_no,precision, recall, thresholds))\n",
    "print(auc(precision, recall))\n",
    "print('Average precision score: {0:0.2f}'.format(average_precision))\n",
    "print(lasso.coef_)"
   ]
  },
  {
   "cell_type": "markdown",
   "metadata": {},
   "source": [
    "# When used Lasso it reduced 9 features. (is it ok to use Lasso here as a classifier?)"
   ]
  },
  {
   "cell_type": "code",
   "execution_count": null,
   "metadata": {
    "collapsed": true
   },
   "outputs": [],
   "source": []
  }
 ],
 "metadata": {
  "kernelspec": {
   "display_name": "Python 3",
   "language": "python",
   "name": "python3"
  },
  "language_info": {
   "codemirror_mode": {
    "name": "ipython",
    "version": 3
   },
   "file_extension": ".py",
   "mimetype": "text/x-python",
   "name": "python",
   "nbconvert_exporter": "python",
   "pygments_lexer": "ipython3",
   "version": "3.6.3"
  }
 },
 "nbformat": 4,
 "nbformat_minor": 2
}
