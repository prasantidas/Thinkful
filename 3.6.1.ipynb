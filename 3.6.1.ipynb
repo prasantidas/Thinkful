{
 "cells": [
  {
   "cell_type": "markdown",
   "metadata": {},
   "source": [
    "# About the data"
   ]
  },
  {
   "cell_type": "markdown",
   "metadata": {},
   "source": [
    "Dataset description: \n",
    "\n",
    "The datasets contains transactions made by credit cards in September 2013 by european cardholders. This dataset presents transactions that occurred in two days, where we have 492 frauds out of 284,807 transactions. The dataset is highly unbalanced, the positive class (frauds) account for 0.172% of all transactions.\n",
    "\n",
    "It contains only numerical input variables which are the result of a PCA transformation. Features V1, V2, ... V28 are the principal components obtained with PCA, the only features which have not been transformed with PCA are 'Time' and 'Amount'. Feature 'Time' contains the seconds elapsed between each transaction and the first transaction in the dataset. The feature 'Amount' is the transaction Amount. Feature 'Class' is the response variable and it takes value 1 in case of fraud and 0 otherwise.\n",
    "\n",
    "The goal is to identify fraudulent credit card transactions. "
   ]
  },
  {
   "cell_type": "code",
   "execution_count": 1,
   "metadata": {
    "collapsed": true
   },
   "outputs": [],
   "source": [
    "import numpy as np\n",
    "import pandas as pd\n",
    "import matplotlib.pyplot as plt\n",
    "import seaborn as sns\n",
    "import scipy\n",
    "from datetime import datetime\n",
    "from sklearn.utils import resample\n",
    "from sklearn.model_selection import cross_val_score, cross_val_predict, train_test_split\n",
    "from sklearn.model_selection import KFold, GridSearchCV\n",
    "from sklearn.metrics import confusion_matrix, classification_report\n",
    "from sklearn.metrics import auc, precision_recall_curve, average_precision_score\n",
    "from sklearn.preprocessing import StandardScaler\n",
    "from sklearn.decomposition import PCA \n",
    "\n",
    "from sklearn.naive_bayes import BernoulliNB\n",
    "from sklearn.tree import DecisionTreeClassifier\n",
    "from sklearn.ensemble import RandomForestClassifier\n",
    "from sklearn.linear_model import LogisticRegression\n",
    "from sklearn.linear_model import LogisticRegressionCV\n",
    "from sklearn.neighbors import KNeighborsClassifier\n",
    "from sklearn.svm import SVC\n",
    "\n",
    "\n",
    "\n",
    "%matplotlib inline\n"
   ]
  },
  {
   "cell_type": "code",
   "execution_count": 2,
   "metadata": {},
   "outputs": [
    {
     "data": {
      "text/html": [
       "<div>\n",
       "<style>\n",
       "    .dataframe thead tr:only-child th {\n",
       "        text-align: right;\n",
       "    }\n",
       "\n",
       "    .dataframe thead th {\n",
       "        text-align: left;\n",
       "    }\n",
       "\n",
       "    .dataframe tbody tr th {\n",
       "        vertical-align: top;\n",
       "    }\n",
       "</style>\n",
       "<table border=\"1\" class=\"dataframe\">\n",
       "  <thead>\n",
       "    <tr style=\"text-align: right;\">\n",
       "      <th></th>\n",
       "      <th>Time</th>\n",
       "      <th>V1</th>\n",
       "      <th>V2</th>\n",
       "      <th>V3</th>\n",
       "      <th>V4</th>\n",
       "      <th>V5</th>\n",
       "      <th>V6</th>\n",
       "      <th>V7</th>\n",
       "      <th>V8</th>\n",
       "      <th>V9</th>\n",
       "      <th>...</th>\n",
       "      <th>V21</th>\n",
       "      <th>V22</th>\n",
       "      <th>V23</th>\n",
       "      <th>V24</th>\n",
       "      <th>V25</th>\n",
       "      <th>V26</th>\n",
       "      <th>V27</th>\n",
       "      <th>V28</th>\n",
       "      <th>Amount</th>\n",
       "      <th>Class</th>\n",
       "    </tr>\n",
       "  </thead>\n",
       "  <tbody>\n",
       "    <tr>\n",
       "      <th>0</th>\n",
       "      <td>0.0</td>\n",
       "      <td>-1.359807</td>\n",
       "      <td>-0.072781</td>\n",
       "      <td>2.536347</td>\n",
       "      <td>1.378155</td>\n",
       "      <td>-0.338321</td>\n",
       "      <td>0.462388</td>\n",
       "      <td>0.239599</td>\n",
       "      <td>0.098698</td>\n",
       "      <td>0.363787</td>\n",
       "      <td>...</td>\n",
       "      <td>-0.018307</td>\n",
       "      <td>0.277838</td>\n",
       "      <td>-0.110474</td>\n",
       "      <td>0.066928</td>\n",
       "      <td>0.128539</td>\n",
       "      <td>-0.189115</td>\n",
       "      <td>0.133558</td>\n",
       "      <td>-0.021053</td>\n",
       "      <td>149.62</td>\n",
       "      <td>0</td>\n",
       "    </tr>\n",
       "    <tr>\n",
       "      <th>1</th>\n",
       "      <td>0.0</td>\n",
       "      <td>1.191857</td>\n",
       "      <td>0.266151</td>\n",
       "      <td>0.166480</td>\n",
       "      <td>0.448154</td>\n",
       "      <td>0.060018</td>\n",
       "      <td>-0.082361</td>\n",
       "      <td>-0.078803</td>\n",
       "      <td>0.085102</td>\n",
       "      <td>-0.255425</td>\n",
       "      <td>...</td>\n",
       "      <td>-0.225775</td>\n",
       "      <td>-0.638672</td>\n",
       "      <td>0.101288</td>\n",
       "      <td>-0.339846</td>\n",
       "      <td>0.167170</td>\n",
       "      <td>0.125895</td>\n",
       "      <td>-0.008983</td>\n",
       "      <td>0.014724</td>\n",
       "      <td>2.69</td>\n",
       "      <td>0</td>\n",
       "    </tr>\n",
       "    <tr>\n",
       "      <th>2</th>\n",
       "      <td>1.0</td>\n",
       "      <td>-1.358354</td>\n",
       "      <td>-1.340163</td>\n",
       "      <td>1.773209</td>\n",
       "      <td>0.379780</td>\n",
       "      <td>-0.503198</td>\n",
       "      <td>1.800499</td>\n",
       "      <td>0.791461</td>\n",
       "      <td>0.247676</td>\n",
       "      <td>-1.514654</td>\n",
       "      <td>...</td>\n",
       "      <td>0.247998</td>\n",
       "      <td>0.771679</td>\n",
       "      <td>0.909412</td>\n",
       "      <td>-0.689281</td>\n",
       "      <td>-0.327642</td>\n",
       "      <td>-0.139097</td>\n",
       "      <td>-0.055353</td>\n",
       "      <td>-0.059752</td>\n",
       "      <td>378.66</td>\n",
       "      <td>0</td>\n",
       "    </tr>\n",
       "    <tr>\n",
       "      <th>3</th>\n",
       "      <td>1.0</td>\n",
       "      <td>-0.966272</td>\n",
       "      <td>-0.185226</td>\n",
       "      <td>1.792993</td>\n",
       "      <td>-0.863291</td>\n",
       "      <td>-0.010309</td>\n",
       "      <td>1.247203</td>\n",
       "      <td>0.237609</td>\n",
       "      <td>0.377436</td>\n",
       "      <td>-1.387024</td>\n",
       "      <td>...</td>\n",
       "      <td>-0.108300</td>\n",
       "      <td>0.005274</td>\n",
       "      <td>-0.190321</td>\n",
       "      <td>-1.175575</td>\n",
       "      <td>0.647376</td>\n",
       "      <td>-0.221929</td>\n",
       "      <td>0.062723</td>\n",
       "      <td>0.061458</td>\n",
       "      <td>123.50</td>\n",
       "      <td>0</td>\n",
       "    </tr>\n",
       "    <tr>\n",
       "      <th>4</th>\n",
       "      <td>2.0</td>\n",
       "      <td>-1.158233</td>\n",
       "      <td>0.877737</td>\n",
       "      <td>1.548718</td>\n",
       "      <td>0.403034</td>\n",
       "      <td>-0.407193</td>\n",
       "      <td>0.095921</td>\n",
       "      <td>0.592941</td>\n",
       "      <td>-0.270533</td>\n",
       "      <td>0.817739</td>\n",
       "      <td>...</td>\n",
       "      <td>-0.009431</td>\n",
       "      <td>0.798278</td>\n",
       "      <td>-0.137458</td>\n",
       "      <td>0.141267</td>\n",
       "      <td>-0.206010</td>\n",
       "      <td>0.502292</td>\n",
       "      <td>0.219422</td>\n",
       "      <td>0.215153</td>\n",
       "      <td>69.99</td>\n",
       "      <td>0</td>\n",
       "    </tr>\n",
       "  </tbody>\n",
       "</table>\n",
       "<p>5 rows × 31 columns</p>\n",
       "</div>"
      ],
      "text/plain": [
       "   Time        V1        V2        V3        V4        V5        V6        V7  \\\n",
       "0   0.0 -1.359807 -0.072781  2.536347  1.378155 -0.338321  0.462388  0.239599   \n",
       "1   0.0  1.191857  0.266151  0.166480  0.448154  0.060018 -0.082361 -0.078803   \n",
       "2   1.0 -1.358354 -1.340163  1.773209  0.379780 -0.503198  1.800499  0.791461   \n",
       "3   1.0 -0.966272 -0.185226  1.792993 -0.863291 -0.010309  1.247203  0.237609   \n",
       "4   2.0 -1.158233  0.877737  1.548718  0.403034 -0.407193  0.095921  0.592941   \n",
       "\n",
       "         V8        V9  ...         V21       V22       V23       V24  \\\n",
       "0  0.098698  0.363787  ...   -0.018307  0.277838 -0.110474  0.066928   \n",
       "1  0.085102 -0.255425  ...   -0.225775 -0.638672  0.101288 -0.339846   \n",
       "2  0.247676 -1.514654  ...    0.247998  0.771679  0.909412 -0.689281   \n",
       "3  0.377436 -1.387024  ...   -0.108300  0.005274 -0.190321 -1.175575   \n",
       "4 -0.270533  0.817739  ...   -0.009431  0.798278 -0.137458  0.141267   \n",
       "\n",
       "        V25       V26       V27       V28  Amount  Class  \n",
       "0  0.128539 -0.189115  0.133558 -0.021053  149.62      0  \n",
       "1  0.167170  0.125895 -0.008983  0.014724    2.69      0  \n",
       "2 -0.327642 -0.139097 -0.055353 -0.059752  378.66      0  \n",
       "3  0.647376 -0.221929  0.062723  0.061458  123.50      0  \n",
       "4 -0.206010  0.502292  0.219422  0.215153   69.99      0  \n",
       "\n",
       "[5 rows x 31 columns]"
      ]
     },
     "execution_count": 2,
     "metadata": {},
     "output_type": "execute_result"
    }
   ],
   "source": [
    "df = pd.read_csv('creditcard.csv')\n",
    "df.head()"
   ]
  },
  {
   "cell_type": "code",
   "execution_count": 3,
   "metadata": {},
   "outputs": [
    {
     "data": {
      "text/plain": [
       "(284807, 31)"
      ]
     },
     "execution_count": 3,
     "metadata": {},
     "output_type": "execute_result"
    }
   ],
   "source": [
    "df.shape"
   ]
  },
  {
   "cell_type": "code",
   "execution_count": 4,
   "metadata": {},
   "outputs": [
    {
     "data": {
      "text/plain": [
       "0    284315\n",
       "1       492\n",
       "Name: Class, dtype: int64"
      ]
     },
     "execution_count": 4,
     "metadata": {},
     "output_type": "execute_result"
    }
   ],
   "source": [
    "df.Class.value_counts()"
   ]
  },
  {
   "cell_type": "markdown",
   "metadata": {},
   "source": [
    "There is a class imbalance problem here. We can address the class imbalance in two ways. We can downsample the majority class, or upsample the minority class.  Downsampling is going to be a much smaller dataset."
   ]
  },
  {
   "cell_type": "code",
   "execution_count": 3,
   "metadata": {
    "collapsed": true
   },
   "outputs": [],
   "source": [
    "# Separate majority and minority classes\n",
    "df_majority = df[df.Class==0]\n",
    "df_minority = df[df.Class==1]"
   ]
  },
  {
   "cell_type": "markdown",
   "metadata": {},
   "source": [
    "# Downsampling"
   ]
  },
  {
   "cell_type": "code",
   "execution_count": 4,
   "metadata": {},
   "outputs": [
    {
     "data": {
      "text/plain": [
       "1    492\n",
       "0    492\n",
       "Name: Class, dtype: int64"
      ]
     },
     "execution_count": 4,
     "metadata": {},
     "output_type": "execute_result"
    }
   ],
   "source": [
    "# Downsample majority class# Downs \n",
    "df_majority_downsampled = resample(df_majority, \n",
    "                                 replace=False,    # sample without replacement\n",
    "                                 n_samples=len(df_minority))    # to match minority class\n",
    "                                \n",
    "# Combine minority class with downsampled majority class\n",
    "df_downsampled = pd.concat([df_majority_downsampled, df_minority])\n",
    " \n",
    "# Display new class counts\n",
    "df_downsampled.Class.value_counts()"
   ]
  },
  {
   "cell_type": "code",
   "execution_count": 8,
   "metadata": {},
   "outputs": [
    {
     "data": {
      "text/plain": [
       "(984, 31)"
      ]
     },
     "execution_count": 8,
     "metadata": {},
     "output_type": "execute_result"
    }
   ],
   "source": [
    "df_downsampled.shape"
   ]
  },
  {
   "cell_type": "code",
   "execution_count": 5,
   "metadata": {},
   "outputs": [
    {
     "data": {
      "text/plain": [
       "((984, 30), (984,))"
      ]
     },
     "execution_count": 5,
     "metadata": {},
     "output_type": "execute_result"
    }
   ],
   "source": [
    "X = df_downsampled.loc[:, ~df_downsampled.columns.isin(['Class'])]\n",
    "Y = df_downsampled['Class']\n",
    "\n",
    "X.shape, Y.shape"
   ]
  },
  {
   "cell_type": "code",
   "execution_count": 125,
   "metadata": {
    "collapsed": true
   },
   "outputs": [],
   "source": [
    "# Check the Correlation Matrix for the features"
   ]
  },
  {
   "cell_type": "code",
   "execution_count": 124,
   "metadata": {},
   "outputs": [
    {
     "data": {
      "image/png": "[encoded data removed]",
      "text/plain": [
       "<matplotlib.figure.Figure at 0x26497beb630>"
      ]
     },
     "metadata": {},
     "output_type": "display_data"
    }
   ],
   "source": [
    "corr_mat = X.corr()\n",
    "sns.heatmap(corr_mat)\n",
    "plt.show()"
   ]
  },
  {
   "cell_type": "markdown",
   "metadata": {},
   "source": [
    "Looks like many features are highly correlated. So need to do PCA."
   ]
  },
  {
   "cell_type": "code",
   "execution_count": 6,
   "metadata": {},
   "outputs": [
    {
     "name": "stdout",
     "output_type": "stream",
     "text": [
      "The percentage of total variance in the dataset explained by each component from Sklearn PCA.\n",
      " [ 0.37010876  0.46366491  0.55283751  0.61774574  0.66896152  0.71823097\n",
      "  0.75503886  0.78889489  0.8188061   0.8452916   0.87055963  0.89150659\n",
      "  0.90954435  0.9255025   0.93901938  0.9502941   0.96039183  0.96838082\n",
      "  0.97456874  0.98003885  0.98384842  0.98705233  0.98985816  0.99248434\n",
      "  0.99444797  0.99610269  0.9976125   0.99900282  0.99985126  1.        ]\n"
     ]
    }
   ],
   "source": [
    "X_std = StandardScaler().fit_transform(X)\n",
    "pca = PCA(n_components=30)\n",
    "X_pca = pd.DataFrame(pca.fit_transform(X_std))\n",
    "\n",
    "print(\n",
    "    'The percentage of total variance in the dataset explained by each component from Sklearn PCA.\\n',\n",
    "    pca.explained_variance_ratio_.cumsum()\n",
    ")"
   ]
  },
  {
   "cell_type": "markdown",
   "metadata": {},
   "source": [
    "Lets consider we want features which can explain 92% variance"
   ]
  },
  {
   "cell_type": "code",
   "execution_count": 7,
   "metadata": {},
   "outputs": [],
   "source": [
    "pca = PCA(n_components=15)\n",
    "X_pca = pd.DataFrame(pca.fit_transform(X_std))"
   ]
  },
  {
   "cell_type": "code",
   "execution_count": 111,
   "metadata": {},
   "outputs": [
    {
     "data": {
      "image/png": "[encoded data removed]",
      "text/plain": [
       "<matplotlib.figure.Figure at 0x264a1a59978>"
      ]
     },
     "metadata": {},
     "output_type": "display_data"
    }
   ],
   "source": [
    "corr_mat = X_pca.corr()\n",
    "sns.heatmap(corr_mat)\n",
    "plt.show()"
   ]
  },
  {
   "cell_type": "code",
   "execution_count": 8,
   "metadata": {},
   "outputs": [
    {
     "name": "stdout",
     "output_type": "stream",
     "text": [
      "(787, 15)\n",
      "(197, 15)\n"
     ]
    }
   ],
   "source": [
    "X_train, X_test, Y_train , Y_test = train_test_split(X_pca,Y,test_size=0.2, stratify = Y )\n",
    "print(X_train.shape)\n",
    "print(X_test.shape)"
   ]
  },
  {
   "cell_type": "code",
   "execution_count": 12,
   "metadata": {},
   "outputs": [
    {
     "name": "stdout",
     "output_type": "stream",
     "text": [
      "0.425162558719\n",
      "Precision from Confusion Matrix  0.944117647059\n",
      "Recall from Confusion Matrix  0.814720812183\n"
     ]
    }
   ],
   "source": [
    "bnb = BernoulliNB()\n",
    "Y_pred = cross_val_predict(bnb, X_train, Y_train, cv=5)\n",
    "#print(Y_pred.shape)\n",
    "bnb_train_precision, bnb_train_recall, thresholds = precision_recall_curve(Y_train, Y_pred)\n",
    "\n",
    "print(auc(bnb_train_precision, bnb_train_recall))\n",
    "\n",
    "conf_mat = confusion_matrix(Y_train, Y_pred)\n",
    "#print(conf_mat)\n",
    "print('Precision from Confusion Matrix ', conf_mat[1,1] / (conf_mat[1,1]+conf_mat[0,1]) )\n",
    "print('Recall from Confusion Matrix ', conf_mat[1,1] / (conf_mat[1,1]+conf_mat[1,0]) )\n"
   ]
  },
  {
   "cell_type": "code",
   "execution_count": 14,
   "metadata": {},
   "outputs": [
    {
     "name": "stdout",
     "output_type": "stream",
     "text": [
      "0.412316766808\n",
      "Duration :  0:00:00.015626\n",
      "Precision from Confusion Matrix  0.9375\n",
      "Recall from Confusion Matrix  0.765306122449\n"
     ]
    }
   ],
   "source": [
    "start = datetime.now()\n",
    "Y_pred = cross_val_predict(bnb, X_test, Y_test, cv=5)\n",
    "\n",
    "bnb_test_precision, bnb_test_recall, thresholds = precision_recall_curve(Y_test, Y_pred)\n",
    "\n",
    "\n",
    "print(auc(bnb_test_precision, bnb_test_recall))\n",
    "\n",
    "conf_mat = confusion_matrix(Y_test, Y_pred)\n",
    "bnb_runtime = datetime.now() - start\n",
    "print('Duration : ',bnb_runtime )\n",
    "\n",
    "print('Precision from Confusion Matrix ', conf_mat[1,1] / (conf_mat[1,1]+conf_mat[0,1]) )\n",
    "print('Recall from Confusion Matrix ', conf_mat[1,1] / (conf_mat[1,1]+conf_mat[1,0]) )"
   ]
  },
  {
   "cell_type": "markdown",
   "metadata": {},
   "source": [
    "# Try with  Logistic Regression"
   ]
  },
  {
   "cell_type": "code",
   "execution_count": 39,
   "metadata": {},
   "outputs": [
    {
     "name": "stdout",
     "output_type": "stream",
     "text": [
      "0.459107671526\n"
     ]
    }
   ],
   "source": [
    "logreg = LogisticRegression()\n",
    "Y_pred = cross_val_predict(logreg, X_train, Y_train, cv=5)\n",
    "\n",
    "logreg_train_precision, logreg_train_recall, thresholds = precision_recall_curve(Y_train, Y_pred)\n",
    "\n",
    "print(auc(logreg_train_precision, logreg_train_recall))\n"
   ]
  },
  {
   "cell_type": "code",
   "execution_count": 17,
   "metadata": {},
   "outputs": [
    {
     "name": "stdout",
     "output_type": "stream",
     "text": [
      "0.458126143859\n",
      "Duration :  0:00:00.015624\n"
     ]
    }
   ],
   "source": [
    "start = datetime.now()\n",
    "\n",
    "Y_pred = cross_val_predict(logreg, X_test, Y_test, cv=5)\n",
    "#print(Y_pred.shape)\n",
    "logreg_test_precision, logreg_test_recall, thresholds = precision_recall_curve(Y_test, Y_pred)\n",
    "\n",
    "print(auc(logreg_test_precision, logreg_test_recall))\n",
    "\n",
    "\n",
    "logreg_runtime = datetime.now() - start\n",
    "print('Duration : ',logreg_runtime )"
   ]
  },
  {
   "cell_type": "markdown",
   "metadata": {},
   "source": [
    "# Try Lasso Regression"
   ]
  },
  {
   "cell_type": "code",
   "execution_count": 18,
   "metadata": {},
   "outputs": [
    {
     "name": "stdout",
     "output_type": "stream",
     "text": [
      "0.454257937864\n"
     ]
    }
   ],
   "source": [
    "lasso = LogisticRegressionCV(penalty='l1', solver = 'liblinear')\n",
    "Y_pred = cross_val_predict(lasso, X_train, Y_train, cv=5)\n",
    "\n",
    "lasso_train_precision, lasso_train_recall, thresholds = precision_recall_curve(Y_train, Y_pred)\n",
    "\n",
    "print(auc(lasso_train_precision, lasso_train_recall))\n"
   ]
  },
  {
   "cell_type": "code",
   "execution_count": 19,
   "metadata": {},
   "outputs": [
    {
     "name": "stdout",
     "output_type": "stream",
     "text": [
      "0.444297906589\n",
      "Duration :  0:00:01.223498\n"
     ]
    }
   ],
   "source": [
    "start = datetime.now()\n",
    "\n",
    "Y_pred = cross_val_predict(lasso, X_test, Y_test, cv=5)\n",
    "\n",
    "lasso_test_precision, lasso_test_recall, thresholds = precision_recall_curve(Y_test, Y_pred)\n",
    "\n",
    "print(auc(lasso_test_precision, lasso_test_recall))\n",
    "\n",
    "lasso_runtime = datetime.now() - start\n",
    "print('Duration : ',lasso_runtime )"
   ]
  },
  {
   "cell_type": "code",
   "execution_count": 126,
   "metadata": {},
   "outputs": [
    {
     "name": "stdout",
     "output_type": "stream",
     "text": [
      "[[ 2.15363497 -0.33725936  0.35906563 -0.71364875 -1.81406276  0.91272739\n",
      "  -0.38515949  0.21378339 -0.48616278  0.47524876  0.57004078 -0.71998489\n",
      "   0.16580282  1.69394127 -0.31835182]]\n"
     ]
    }
   ],
   "source": [
    "lasso.fit(X_train, Y_train)\n",
    "\n",
    "print(lasso.coef_)"
   ]
  },
  {
   "cell_type": "code",
   "execution_count": 42,
   "metadata": {},
   "outputs": [
    {
     "data": {
      "text/plain": [
       "8"
      ]
     },
     "execution_count": 42,
     "metadata": {},
     "output_type": "execute_result"
    }
   ],
   "source": [
    "lasso_params = lasso.coef_\n",
    "len(lasso_params[lasso_params ==0])"
   ]
  },
  {
   "cell_type": "markdown",
   "metadata": {},
   "source": [
    "# Try KNN"
   ]
  },
  {
   "cell_type": "code",
   "execution_count": 20,
   "metadata": {},
   "outputs": [
    {
     "name": "stdout",
     "output_type": "stream",
     "text": [
      "Best Score: 0.873127719379\n",
      "Best Parameters: {'n_neighbors': 3}\n"
     ]
    }
   ],
   "source": [
    "knn = KNeighborsClassifier()\n",
    "# Set of parameters to test for best score in Grid Search CV\n",
    "k = np.arange(2,15,1)\n",
    "parameters = {'n_neighbors':k}\n",
    "\n",
    "#fitting model and printing best parameters and score from model\n",
    "grid_knn = GridSearchCV(knn, param_grid=parameters, scoring='recall')\n",
    "grid_knn.fit(X_train, Y_train)\n",
    "\n",
    "print('Best Score:', grid_knn.best_score_)\n",
    "best_params_knn = grid_knn.best_params_\n",
    "print('Best Parameters:', best_params_knn)\n",
    "\n"
   ]
  },
  {
   "cell_type": "code",
   "execution_count": 21,
   "metadata": {},
   "outputs": [
    {
     "name": "stdout",
     "output_type": "stream",
     "text": [
      "0.451524679095\n",
      "Duration :  0:00:00.046875\n"
     ]
    }
   ],
   "source": [
    "start = datetime.now()\n",
    "\n",
    "knn = KNeighborsClassifier(n_neighbors = 3)\n",
    "Y_pred = cross_val_predict(knn, X_train, Y_train, cv=5)\n",
    "\n",
    "knn_train_precision, knn_train_recall, thresholds = precision_recall_curve(Y_train, Y_pred)\n",
    "\n",
    "print(auc(knn_train_precision, knn_train_recall))\n",
    "\n",
    "knn_runtime = datetime.now() - start\n",
    "print('Duration : ',knn_runtime )"
   ]
  },
  {
   "cell_type": "code",
   "execution_count": 34,
   "metadata": {},
   "outputs": [
    {
     "name": "stdout",
     "output_type": "stream",
     "text": [
      "0.403502797058\n",
      "Duration :  0:00:00.015626\n"
     ]
    }
   ],
   "source": [
    "start = datetime.now()\n",
    "Y_pred = cross_val_predict(knn, X_test, Y_test, cv=5)\n",
    "knn_test_precision, knn_test_recall, thresholds = precision_recall_curve(Y_test, Y_pred)\n",
    "\n",
    "print(auc(knn_test_precision, knn_test_recall))\n",
    "\n",
    "knn_runtime = datetime.now() - start\n",
    "print('Duration : ',knn_runtime )"
   ]
  },
  {
   "cell_type": "markdown",
   "metadata": {},
   "source": [
    "# Try Decision Tree"
   ]
  },
  {
   "cell_type": "code",
   "execution_count": 22,
   "metadata": {},
   "outputs": [
    {
     "name": "stdout",
     "output_type": "stream",
     "text": [
      "Duration :  0:00:00.506426\n",
      "0.885754266321\n",
      "{'max_depth': None, 'max_features': 4}\n"
     ]
    }
   ],
   "source": [
    "start_time = datetime.now()\n",
    "params = {'max_depth': [3, 4, 5, 6, 7, None],\n",
    "          'max_features':[1,2,3,4]\n",
    "         }\n",
    "gs = GridSearchCV(estimator=DecisionTreeClassifier(random_state=0),\n",
    "                  param_grid=params,\n",
    "                  scoring='recall',\n",
    "                  cv=5)\n",
    "\n",
    "gs = gs.fit(X_train, Y_train)\n",
    "\n",
    "print(\"Duration : \", (datetime.now() - start_time))\n",
    "\n",
    "print(gs.best_score_)\n",
    "print(gs.best_params_)"
   ]
  },
  {
   "cell_type": "code",
   "execution_count": 23,
   "metadata": {},
   "outputs": [
    {
     "name": "stdout",
     "output_type": "stream",
     "text": [
      "0.397498024434\n",
      "Duration :  0:00:00.031250\n"
     ]
    }
   ],
   "source": [
    "start = datetime.now()\n",
    "\n",
    "decision_tree = DecisionTreeClassifier(**gs.best_params_ , random_state=0)\n",
    "Y_pred = cross_val_predict(decision_tree, X_train, Y_train, cv=5)\n",
    "\n",
    "decision_tree_train_precision, decision_tree_train_recall, thresholds = precision_recall_curve(Y_train, Y_pred)\n",
    "\n",
    "print(auc(decision_tree_train_precision, decision_tree_train_recall))\n",
    "dt_runtime = datetime.now() - start\n",
    "print('Duration : ',dt_runtime )"
   ]
  },
  {
   "cell_type": "code",
   "execution_count": 36,
   "metadata": {},
   "outputs": [
    {
     "name": "stdout",
     "output_type": "stream",
     "text": [
      "0.337583595198\n",
      "Duration :  0:00:00.034271\n"
     ]
    }
   ],
   "source": [
    "start = datetime.now()\n",
    "\n",
    "Y_pred = cross_val_predict(decision_tree, X_test, Y_test, cv=5)\n",
    "decision_tree_test_precision, decision_tree_test_recall, thresholds = precision_recall_curve(Y_test, Y_pred)\n",
    "\n",
    "print(auc(decision_tree_test_precision, decision_tree_test_recall))\n",
    "\n",
    "decision_tree_runtime = datetime.now() - start\n",
    "print('Duration : ',decision_tree_runtime )"
   ]
  },
  {
   "cell_type": "markdown",
   "metadata": {},
   "source": [
    "# Try Random Forest"
   ]
  },
  {
   "cell_type": "code",
   "execution_count": 24,
   "metadata": {},
   "outputs": [
    {
     "name": "stdout",
     "output_type": "stream",
     "text": [
      "Duration :  0:03:41.329810\n",
      "0.92376111817\n",
      "{'max_depth': 4, 'max_features': 'auto', 'min_samples_split': 2, 'n_estimators': 500}\n"
     ]
    }
   ],
   "source": [
    "start_time = datetime.now()\n",
    "rfc_params  = {\n",
    "    'n_estimators':[100,200,500],\n",
    "    'max_features':['auto', 'sqrt', 'log2'],\n",
    "    'max_depth':[4, 6,7, 8, None],\n",
    "    'min_samples_split':[2, 8]\n",
    "}\n",
    "rfc_grid = GridSearchCV(RandomForestClassifier(random_state=0), param_grid=rfc_params, cv=5)\n",
    "rfc_grid.fit(X_train, Y_train)\n",
    "\n",
    "print(\"Duration : \", (datetime.now() - start_time))\n",
    "\n",
    "print(rfc_grid.best_score_)\n",
    "print(rfc_grid.best_params_)"
   ]
  },
  {
   "cell_type": "code",
   "execution_count": 25,
   "metadata": {},
   "outputs": [
    {
     "name": "stdout",
     "output_type": "stream",
     "text": [
      "0.454394935572\n"
     ]
    }
   ],
   "source": [
    "forest = RandomForestClassifier(**rfc_grid.best_params_ , random_state=42)\n",
    "\n",
    "Y_pred = cross_val_predict(forest, X_train, Y_train, cv=5)\n",
    "\n",
    "\n",
    "rfc_train_precision, rfc_train_recall, thresholds = precision_recall_curve(Y_train, Y_pred)\n",
    "\n",
    "print(auc(rfc_train_precision, rfc_train_recall))"
   ]
  },
  {
   "cell_type": "code",
   "execution_count": 26,
   "metadata": {},
   "outputs": [
    {
     "name": "stdout",
     "output_type": "stream",
     "text": [
      "0.444191493609\n",
      "Duration :  0:00:02.709257\n"
     ]
    }
   ],
   "source": [
    "start = datetime.now()\n",
    "\n",
    "Y_pred = cross_val_predict(forest, X_test, Y_test, cv=5)\n",
    "rfc_test_precision, rfc_test_recall, thresholds = precision_recall_curve(Y_test, Y_pred)\n",
    "\n",
    "print(auc(rfc_test_precision, rfc_test_recall))\n",
    "\n",
    "rfc_runtime = datetime.now() - start\n",
    "print('Duration : ',rfc_runtime )"
   ]
  },
  {
   "cell_type": "markdown",
   "metadata": {},
   "source": [
    "# Try SVC"
   ]
  },
  {
   "cell_type": "code",
   "execution_count": 28,
   "metadata": {},
   "outputs": [
    {
     "name": "stdout",
     "output_type": "stream",
     "text": [
      "{'C': 10, 'kernel': 'linear'}\n",
      "0.925031766201\n",
      "Duration :  0:00:00.593773\n"
     ]
    }
   ],
   "source": [
    "svc = SVC()\n",
    "start_time = datetime.now()\n",
    "parameters = [{'kernel':['rbf'], 'C': [0.1,1,10], 'gamma':[0.0001,0.001]},\n",
    "              {'kernel':['linear'], 'C': [0.1,1,10]}]\n",
    "#fitting model and printing best parameters and score from model\n",
    "grid = GridSearchCV(svc, param_grid=parameters)\n",
    "grid.fit(X_train, Y_train)\n",
    "print(grid.best_params_)\n",
    "print(grid.best_score_)\n",
    "#recording time model finished and printing overall time to run model\n",
    "print(\"Duration : \", (datetime.now() - start_time))"
   ]
  },
  {
   "cell_type": "code",
   "execution_count": 29,
   "metadata": {},
   "outputs": [
    {
     "name": "stdout",
     "output_type": "stream",
     "text": [
      "0.456270466795\n"
     ]
    }
   ],
   "source": [
    "svc = SVC(**grid.best_params_ , random_state=42)\n",
    "\n",
    "Y_pred = cross_val_predict(svc, X_train, Y_train, cv=5)\n",
    "\n",
    "\n",
    "svc_train_precision, svc_train_recall, thresholds = precision_recall_curve(Y_train, Y_pred)\n",
    "\n",
    "print(auc(svc_train_precision, svc_train_recall))"
   ]
  },
  {
   "cell_type": "code",
   "execution_count": 30,
   "metadata": {},
   "outputs": [
    {
     "name": "stdout",
     "output_type": "stream",
     "text": [
      "0.415069403134\n",
      "Duration :  0:00:00.031251\n"
     ]
    }
   ],
   "source": [
    "start = datetime.now()\n",
    "Y_pred = cross_val_predict(svc, X_test, Y_test, cv=5)\n",
    "svc_test_precision, svc_test_recall, thresholds = precision_recall_curve(Y_test, Y_pred)\n",
    "\n",
    "print(auc(svc_test_precision, svc_test_recall))\n",
    "\n",
    "svc_runtime = datetime.now() - start\n",
    "print('Duration : ',svc_runtime )\n"
   ]
  },
  {
   "cell_type": "markdown",
   "metadata": {},
   "source": [
    "# Precision Recall Curve for all Models"
   ]
  },
  {
   "cell_type": "code",
   "execution_count": 41,
   "metadata": {},
   "outputs": [
    {
     "data": {
      "image/png": "[encoded data removed]",
      "text/plain": [
       "<matplotlib.figure.Figure at 0x1519d29b550>"
      ]
     },
     "metadata": {},
     "output_type": "display_data"
    }
   ],
   "source": [
    "plt.step(svc_test_recall, svc_test_precision, label = 'svc')\n",
    "plt.step(bnb_test_recall, bnb_test_precision, label = 'bnb')\n",
    "plt.step(logreg_test_recall, logreg_test_precision, label ='Logistic')\n",
    "plt.step(lasso_test_recall, lasso_test_precision, label ='Lasso')\n",
    "plt.step(knn_test_recall, knn_test_precision, label = 'KNN')\n",
    "plt.step(decision_tree_test_recall, decision_tree_test_precision, label = 'Tree')\n",
    "plt.step(rfc_test_recall, rfc_test_precision, label = 'Forest')\n",
    "\n",
    "plt.xlabel('Recall')\n",
    "plt.ylabel('Precision')\n",
    "plt.title('Precision-Recall curve')\n",
    "plt.legend()\n",
    "plt.show()"
   ]
  },
  {
   "cell_type": "code",
   "execution_count": 46,
   "metadata": {},
   "outputs": [
    {
     "data": {
      "text/html": [
       "<div>\n",
       "<style>\n",
       "    .dataframe thead tr:only-child th {\n",
       "        text-align: right;\n",
       "    }\n",
       "\n",
       "    .dataframe thead th {\n",
       "        text-align: left;\n",
       "    }\n",
       "\n",
       "    .dataframe tbody tr th {\n",
       "        vertical-align: top;\n",
       "    }\n",
       "</style>\n",
       "<table border=\"1\" class=\"dataframe\">\n",
       "  <thead>\n",
       "    <tr style=\"text-align: right;\">\n",
       "      <th></th>\n",
       "      <th>Models</th>\n",
       "      <th>Run Time</th>\n",
       "    </tr>\n",
       "  </thead>\n",
       "  <tbody>\n",
       "    <tr>\n",
       "      <th>3</th>\n",
       "      <td>rfc</td>\n",
       "      <td>00:00:02.709257</td>\n",
       "    </tr>\n",
       "    <tr>\n",
       "      <th>6</th>\n",
       "      <td>lasso</td>\n",
       "      <td>00:00:01.223498</td>\n",
       "    </tr>\n",
       "    <tr>\n",
       "      <th>4</th>\n",
       "      <td>decision tree</td>\n",
       "      <td>00:00:00.034271</td>\n",
       "    </tr>\n",
       "    <tr>\n",
       "      <th>2</th>\n",
       "      <td>svc</td>\n",
       "      <td>00:00:00.031251</td>\n",
       "    </tr>\n",
       "    <tr>\n",
       "      <th>0</th>\n",
       "      <td>Bernoulli</td>\n",
       "      <td>00:00:00.015626</td>\n",
       "    </tr>\n",
       "    <tr>\n",
       "      <th>5</th>\n",
       "      <td>knn</td>\n",
       "      <td>00:00:00.015626</td>\n",
       "    </tr>\n",
       "    <tr>\n",
       "      <th>1</th>\n",
       "      <td>logistic</td>\n",
       "      <td>00:00:00.015624</td>\n",
       "    </tr>\n",
       "  </tbody>\n",
       "</table>\n",
       "</div>"
      ],
      "text/plain": [
       "          Models        Run Time\n",
       "3            rfc 00:00:02.709257\n",
       "6          lasso 00:00:01.223498\n",
       "4  decision tree 00:00:00.034271\n",
       "2            svc 00:00:00.031251\n",
       "0      Bernoulli 00:00:00.015626\n",
       "5            knn 00:00:00.015626\n",
       "1       logistic 00:00:00.015624"
      ]
     },
     "execution_count": 46,
     "metadata": {},
     "output_type": "execute_result"
    }
   ],
   "source": [
    "runtime = [ ['Bernoulli', bnb_runtime],['logistic',logreg_runtime],\n",
    "           ['svc' ,svc_runtime],['rfc',rfc_runtime],['decision tree',decision_tree_runtime],\n",
    "           ['knn',knn_runtime] , ['lasso',lasso_runtime]    \n",
    "]\n",
    "runtime_df = pd.DataFrame(runtime, columns = ['Models','Run Time'])\n",
    "runtime_df.sort_values(by = 'Run Time', ascending = False)"
   ]
  },
  {
   "cell_type": "markdown",
   "metadata": {},
   "source": [
    "The Logistic Regression Took the least time."
   ]
  },
  {
   "cell_type": "markdown",
   "metadata": {
    "collapsed": true
   },
   "source": [
    "# Conclusion"
   ]
  },
  {
   "cell_type": "markdown",
   "metadata": {},
   "source": [
    "As a conclusion, Logistic Regression performed best considering the accuracy and speed. Knowing the question and this information, I would suggest that the credit card company use the Logistic Regression model with this data."
   ]
  },
  {
   "cell_type": "code",
   "execution_count": null,
   "metadata": {
    "collapsed": true
   },
   "outputs": [],
   "source": []
  }
 ],
 "metadata": {
  "kernelspec": {
   "display_name": "Python 3",
   "language": "python",
   "name": "python3"
  },
  "language_info": {
   "codemirror_mode": {
    "name": "ipython",
    "version": 3
   },
   "file_extension": ".py",
   "mimetype": "text/x-python",
   "name": "python",
   "nbconvert_exporter": "python",
   "pygments_lexer": "ipython3",
   "version": "3.6.3"
  }
 },
 "nbformat": 4,
 "nbformat_minor": 2
}
