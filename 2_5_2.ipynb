{
 "cells": [
  {
   "cell_type": "code",
   "execution_count": 1,
   "metadata": {
    "collapsed": true
   },
   "outputs": [],
   "source": [
    "import pandas as pd\n",
    "import numpy as np\n",
    "import matplotlib.pyplot as plt\n",
    "import seaborn as sns\n",
    "from scipy import stats\n",
    "from sklearn import linear_model\n",
    "%matplotlib inline\n",
    "\n",
    "\n",
    "import statsmodels.formula.api as smf\n",
    "from statsmodels.sandbox.regression.predstd import wls_prediction_std"
   ]
  },
  {
   "cell_type": "code",
   "execution_count": 2,
   "metadata": {
    "collapsed": true
   },
   "outputs": [],
   "source": [
    "crime = pd.read_excel('crime_data_by_State_by_City_2013.xls', skiprows = 3, skip_footer=10)"
   ]
  },
  {
   "cell_type": "code",
   "execution_count": 148,
   "metadata": {},
   "outputs": [
    {
     "data": {
      "text/html": [
       "<div>\n",
       "<style>\n",
       "    .dataframe thead tr:only-child th {\n",
       "        text-align: right;\n",
       "    }\n",
       "\n",
       "    .dataframe thead th {\n",
       "        text-align: left;\n",
       "    }\n",
       "\n",
       "    .dataframe tbody tr th {\n",
       "        vertical-align: top;\n",
       "    }\n",
       "</style>\n",
       "<table border=\"1\" class=\"dataframe\">\n",
       "  <thead>\n",
       "    <tr style=\"text-align: right;\">\n",
       "      <th></th>\n",
       "      <th>State</th>\n",
       "      <th>City</th>\n",
       "      <th>Population</th>\n",
       "      <th>Violent\n",
       "crime</th>\n",
       "      <th>Murder and\n",
       "nonnegligent\n",
       "manslaughter</th>\n",
       "      <th>Rape\n",
       "(revised\n",
       "definition)1</th>\n",
       "      <th>Rape\n",
       "(legacy\n",
       "definition)2</th>\n",
       "      <th>Robbery</th>\n",
       "      <th>Aggravated\n",
       "assault</th>\n",
       "      <th>Property\n",
       "crime</th>\n",
       "      <th>Burglary</th>\n",
       "      <th>Larceny-\n",
       "theft</th>\n",
       "      <th>Motor\n",
       "vehicle\n",
       "theft</th>\n",
       "      <th>Arson3</th>\n",
       "      <th>Unnamed: 14</th>\n",
       "      <th>Unnamed: 15</th>\n",
       "      <th>Unnamed: 16</th>\n",
       "    </tr>\n",
       "  </thead>\n",
       "  <tbody>\n",
       "    <tr>\n",
       "      <th>0</th>\n",
       "      <td>ALABAMA</td>\n",
       "      <td>Abbeville</td>\n",
       "      <td>2645.0</td>\n",
       "      <td>11.0</td>\n",
       "      <td>1</td>\n",
       "      <td>1.0</td>\n",
       "      <td>NaN</td>\n",
       "      <td>2</td>\n",
       "      <td>7.0</td>\n",
       "      <td>63.0</td>\n",
       "      <td>21.0</td>\n",
       "      <td>39.0</td>\n",
       "      <td>3</td>\n",
       "      <td>NaN</td>\n",
       "      <td>NaN</td>\n",
       "      <td>NaN</td>\n",
       "      <td>NaN</td>\n",
       "    </tr>\n",
       "    <tr>\n",
       "      <th>1</th>\n",
       "      <td>NaN</td>\n",
       "      <td>Adamsville</td>\n",
       "      <td>4481.0</td>\n",
       "      <td>19.0</td>\n",
       "      <td>1</td>\n",
       "      <td>0.0</td>\n",
       "      <td>NaN</td>\n",
       "      <td>7</td>\n",
       "      <td>11.0</td>\n",
       "      <td>321.0</td>\n",
       "      <td>58.0</td>\n",
       "      <td>252.0</td>\n",
       "      <td>11</td>\n",
       "      <td>NaN</td>\n",
       "      <td>NaN</td>\n",
       "      <td>NaN</td>\n",
       "      <td></td>\n",
       "    </tr>\n",
       "    <tr>\n",
       "      <th>2</th>\n",
       "      <td>NaN</td>\n",
       "      <td>Addison</td>\n",
       "      <td>744.0</td>\n",
       "      <td>1.0</td>\n",
       "      <td>0</td>\n",
       "      <td>1.0</td>\n",
       "      <td>NaN</td>\n",
       "      <td>0</td>\n",
       "      <td>0.0</td>\n",
       "      <td>25.0</td>\n",
       "      <td>6.0</td>\n",
       "      <td>17.0</td>\n",
       "      <td>2</td>\n",
       "      <td>NaN</td>\n",
       "      <td>NaN</td>\n",
       "      <td>NaN</td>\n",
       "      <td></td>\n",
       "    </tr>\n",
       "    <tr>\n",
       "      <th>3</th>\n",
       "      <td>NaN</td>\n",
       "      <td>Alabaster</td>\n",
       "      <td>31170.0</td>\n",
       "      <td>44.0</td>\n",
       "      <td>0</td>\n",
       "      <td>2.0</td>\n",
       "      <td>NaN</td>\n",
       "      <td>11</td>\n",
       "      <td>31.0</td>\n",
       "      <td>640.0</td>\n",
       "      <td>70.0</td>\n",
       "      <td>544.0</td>\n",
       "      <td>26</td>\n",
       "      <td>NaN</td>\n",
       "      <td>NaN</td>\n",
       "      <td>NaN</td>\n",
       "      <td>NaN</td>\n",
       "    </tr>\n",
       "    <tr>\n",
       "      <th>4</th>\n",
       "      <td>NaN</td>\n",
       "      <td>Alexander City</td>\n",
       "      <td>14692.0</td>\n",
       "      <td>119.0</td>\n",
       "      <td>2</td>\n",
       "      <td>16.0</td>\n",
       "      <td>NaN</td>\n",
       "      <td>12</td>\n",
       "      <td>89.0</td>\n",
       "      <td>661.0</td>\n",
       "      <td>121.0</td>\n",
       "      <td>510.0</td>\n",
       "      <td>30</td>\n",
       "      <td>NaN</td>\n",
       "      <td>NaN</td>\n",
       "      <td>NaN</td>\n",
       "      <td>NaN</td>\n",
       "    </tr>\n",
       "  </tbody>\n",
       "</table>\n",
       "</div>"
      ],
      "text/plain": [
       "     State            City  Population  Violent\\ncrime  \\\n",
       "0  ALABAMA       Abbeville      2645.0            11.0   \n",
       "1      NaN      Adamsville      4481.0            19.0   \n",
       "2      NaN         Addison       744.0             1.0   \n",
       "3      NaN       Alabaster     31170.0            44.0   \n",
       "4      NaN  Alexander City     14692.0           119.0   \n",
       "\n",
       "   Murder and\\nnonnegligent\\nmanslaughter  Rape\\n(revised\\ndefinition)1  \\\n",
       "0                                       1                           1.0   \n",
       "1                                       1                           0.0   \n",
       "2                                       0                           1.0   \n",
       "3                                       0                           2.0   \n",
       "4                                       2                          16.0   \n",
       "\n",
       "   Rape\\n(legacy\\ndefinition)2  Robbery  Aggravated\\nassault  Property\\ncrime  \\\n",
       "0                          NaN        2                  7.0             63.0   \n",
       "1                          NaN        7                 11.0            321.0   \n",
       "2                          NaN        0                  0.0             25.0   \n",
       "3                          NaN       11                 31.0            640.0   \n",
       "4                          NaN       12                 89.0            661.0   \n",
       "\n",
       "   Burglary  Larceny-\\ntheft  Motor\\nvehicle\\ntheft  Arson3  Unnamed: 14  \\\n",
       "0      21.0             39.0                      3     NaN          NaN   \n",
       "1      58.0            252.0                     11     NaN          NaN   \n",
       "2       6.0             17.0                      2     NaN          NaN   \n",
       "3      70.0            544.0                     26     NaN          NaN   \n",
       "4     121.0            510.0                     30     NaN          NaN   \n",
       "\n",
       "   Unnamed: 15 Unnamed: 16  \n",
       "0          NaN         NaN  \n",
       "1          NaN              \n",
       "2          NaN              \n",
       "3          NaN         NaN  \n",
       "4          NaN         NaN  "
      ]
     },
     "execution_count": 148,
     "metadata": {},
     "output_type": "execute_result"
    }
   ],
   "source": [
    "crime.head()"
   ]
  },
  {
   "cell_type": "code",
   "execution_count": 3,
   "metadata": {
    "collapsed": true
   },
   "outputs": [],
   "source": [
    "crime['State'] = crime[['State']].fillna(method= 'ffill')"
   ]
  },
  {
   "cell_type": "code",
   "execution_count": 150,
   "metadata": {},
   "outputs": [
    {
     "data": {
      "text/html": [
       "<div>\n",
       "<style>\n",
       "    .dataframe thead tr:only-child th {\n",
       "        text-align: right;\n",
       "    }\n",
       "\n",
       "    .dataframe thead th {\n",
       "        text-align: left;\n",
       "    }\n",
       "\n",
       "    .dataframe tbody tr th {\n",
       "        vertical-align: top;\n",
       "    }\n",
       "</style>\n",
       "<table border=\"1\" class=\"dataframe\">\n",
       "  <thead>\n",
       "    <tr style=\"text-align: right;\">\n",
       "      <th></th>\n",
       "      <th>State</th>\n",
       "      <th>City</th>\n",
       "      <th>Population</th>\n",
       "      <th>Violent\n",
       "crime</th>\n",
       "      <th>Murder and\n",
       "nonnegligent\n",
       "manslaughter</th>\n",
       "      <th>Rape\n",
       "(revised\n",
       "definition)1</th>\n",
       "      <th>Rape\n",
       "(legacy\n",
       "definition)2</th>\n",
       "      <th>Robbery</th>\n",
       "      <th>Aggravated\n",
       "assault</th>\n",
       "      <th>Property\n",
       "crime</th>\n",
       "      <th>Burglary</th>\n",
       "      <th>Larceny-\n",
       "theft</th>\n",
       "      <th>Motor\n",
       "vehicle\n",
       "theft</th>\n",
       "      <th>Arson3</th>\n",
       "      <th>Unnamed: 14</th>\n",
       "      <th>Unnamed: 15</th>\n",
       "      <th>Unnamed: 16</th>\n",
       "    </tr>\n",
       "  </thead>\n",
       "  <tbody>\n",
       "    <tr>\n",
       "      <th>0</th>\n",
       "      <td>ALABAMA</td>\n",
       "      <td>Abbeville</td>\n",
       "      <td>2645.0</td>\n",
       "      <td>11.0</td>\n",
       "      <td>1</td>\n",
       "      <td>1.0</td>\n",
       "      <td>NaN</td>\n",
       "      <td>2</td>\n",
       "      <td>7.0</td>\n",
       "      <td>63.0</td>\n",
       "      <td>21.0</td>\n",
       "      <td>39.0</td>\n",
       "      <td>3</td>\n",
       "      <td>NaN</td>\n",
       "      <td>NaN</td>\n",
       "      <td>NaN</td>\n",
       "      <td>NaN</td>\n",
       "    </tr>\n",
       "    <tr>\n",
       "      <th>1</th>\n",
       "      <td>ALABAMA</td>\n",
       "      <td>Adamsville</td>\n",
       "      <td>4481.0</td>\n",
       "      <td>19.0</td>\n",
       "      <td>1</td>\n",
       "      <td>0.0</td>\n",
       "      <td>NaN</td>\n",
       "      <td>7</td>\n",
       "      <td>11.0</td>\n",
       "      <td>321.0</td>\n",
       "      <td>58.0</td>\n",
       "      <td>252.0</td>\n",
       "      <td>11</td>\n",
       "      <td>NaN</td>\n",
       "      <td>NaN</td>\n",
       "      <td>NaN</td>\n",
       "      <td></td>\n",
       "    </tr>\n",
       "    <tr>\n",
       "      <th>2</th>\n",
       "      <td>ALABAMA</td>\n",
       "      <td>Addison</td>\n",
       "      <td>744.0</td>\n",
       "      <td>1.0</td>\n",
       "      <td>0</td>\n",
       "      <td>1.0</td>\n",
       "      <td>NaN</td>\n",
       "      <td>0</td>\n",
       "      <td>0.0</td>\n",
       "      <td>25.0</td>\n",
       "      <td>6.0</td>\n",
       "      <td>17.0</td>\n",
       "      <td>2</td>\n",
       "      <td>NaN</td>\n",
       "      <td>NaN</td>\n",
       "      <td>NaN</td>\n",
       "      <td></td>\n",
       "    </tr>\n",
       "    <tr>\n",
       "      <th>3</th>\n",
       "      <td>ALABAMA</td>\n",
       "      <td>Alabaster</td>\n",
       "      <td>31170.0</td>\n",
       "      <td>44.0</td>\n",
       "      <td>0</td>\n",
       "      <td>2.0</td>\n",
       "      <td>NaN</td>\n",
       "      <td>11</td>\n",
       "      <td>31.0</td>\n",
       "      <td>640.0</td>\n",
       "      <td>70.0</td>\n",
       "      <td>544.0</td>\n",
       "      <td>26</td>\n",
       "      <td>NaN</td>\n",
       "      <td>NaN</td>\n",
       "      <td>NaN</td>\n",
       "      <td>NaN</td>\n",
       "    </tr>\n",
       "    <tr>\n",
       "      <th>4</th>\n",
       "      <td>ALABAMA</td>\n",
       "      <td>Alexander City</td>\n",
       "      <td>14692.0</td>\n",
       "      <td>119.0</td>\n",
       "      <td>2</td>\n",
       "      <td>16.0</td>\n",
       "      <td>NaN</td>\n",
       "      <td>12</td>\n",
       "      <td>89.0</td>\n",
       "      <td>661.0</td>\n",
       "      <td>121.0</td>\n",
       "      <td>510.0</td>\n",
       "      <td>30</td>\n",
       "      <td>NaN</td>\n",
       "      <td>NaN</td>\n",
       "      <td>NaN</td>\n",
       "      <td>NaN</td>\n",
       "    </tr>\n",
       "  </tbody>\n",
       "</table>\n",
       "</div>"
      ],
      "text/plain": [
       "     State            City  Population  Violent\\ncrime  \\\n",
       "0  ALABAMA       Abbeville      2645.0            11.0   \n",
       "1  ALABAMA      Adamsville      4481.0            19.0   \n",
       "2  ALABAMA         Addison       744.0             1.0   \n",
       "3  ALABAMA       Alabaster     31170.0            44.0   \n",
       "4  ALABAMA  Alexander City     14692.0           119.0   \n",
       "\n",
       "   Murder and\\nnonnegligent\\nmanslaughter  Rape\\n(revised\\ndefinition)1  \\\n",
       "0                                       1                           1.0   \n",
       "1                                       1                           0.0   \n",
       "2                                       0                           1.0   \n",
       "3                                       0                           2.0   \n",
       "4                                       2                          16.0   \n",
       "\n",
       "   Rape\\n(legacy\\ndefinition)2  Robbery  Aggravated\\nassault  Property\\ncrime  \\\n",
       "0                          NaN        2                  7.0             63.0   \n",
       "1                          NaN        7                 11.0            321.0   \n",
       "2                          NaN        0                  0.0             25.0   \n",
       "3                          NaN       11                 31.0            640.0   \n",
       "4                          NaN       12                 89.0            661.0   \n",
       "\n",
       "   Burglary  Larceny-\\ntheft  Motor\\nvehicle\\ntheft  Arson3  Unnamed: 14  \\\n",
       "0      21.0             39.0                      3     NaN          NaN   \n",
       "1      58.0            252.0                     11     NaN          NaN   \n",
       "2       6.0             17.0                      2     NaN          NaN   \n",
       "3      70.0            544.0                     26     NaN          NaN   \n",
       "4     121.0            510.0                     30     NaN          NaN   \n",
       "\n",
       "   Unnamed: 15 Unnamed: 16  \n",
       "0          NaN         NaN  \n",
       "1          NaN              \n",
       "2          NaN              \n",
       "3          NaN         NaN  \n",
       "4          NaN         NaN  "
      ]
     },
     "execution_count": 150,
     "metadata": {},
     "output_type": "execute_result"
    }
   ],
   "source": [
    "crime.head()"
   ]
  },
  {
   "cell_type": "code",
   "execution_count": 48,
   "metadata": {},
   "outputs": [
    {
     "data": {
      "text/plain": [
       "(9292, 17)"
      ]
     },
     "execution_count": 48,
     "metadata": {},
     "output_type": "execute_result"
    }
   ],
   "source": [
    "crime.shape"
   ]
  },
  {
   "cell_type": "markdown",
   "metadata": {},
   "source": [
    "There are 9292 observations and 17 columns."
   ]
  },
  {
   "cell_type": "code",
   "execution_count": 4,
   "metadata": {
    "collapsed": true
   },
   "outputs": [],
   "source": [
    "crime.columns = crime.columns.str.lower()"
   ]
  },
  {
   "cell_type": "code",
   "execution_count": 5,
   "metadata": {},
   "outputs": [
    {
     "data": {
      "text/plain": [
       "Index(['state', 'city', 'population', 'violent\\ncrime',\n",
       "       'murder and\\nnonnegligent\\nmanslaughter',\n",
       "       'rape\\n(revised\\ndefinition)1', 'rape\\n(legacy\\ndefinition)2',\n",
       "       'robbery', 'aggravated\\nassault', 'property\\ncrime', 'burglary',\n",
       "       'larceny-\\ntheft', 'motor\\nvehicle\\ntheft', 'arson3', 'unnamed: 14',\n",
       "       'unnamed: 15', 'unnamed: 16'],\n",
       "      dtype='object')"
      ]
     },
     "execution_count": 5,
     "metadata": {},
     "output_type": "execute_result"
    }
   ],
   "source": [
    "crime.columns"
   ]
  },
  {
   "cell_type": "code",
   "execution_count": 6,
   "metadata": {
    "collapsed": true
   },
   "outputs": [],
   "source": [
    "crime.rename(columns={'murder and\\nnonnegligent\\nmanslaughter':'murder'\n",
    "                          ,'rape\\n(revised\\ndefinition)1':'rape_revised_definition1'\n",
    "                          ,'rape\\n(legacy\\ndefinition)2':'rape_legacy_definition2'\n",
    "                          ,'aggravated\\nassault':'assault'\n",
    "                          ,'property\\ncrime':'property_crime'\n",
    "                          ,'larceny-\\ntheft': 'larceny_theft'\n",
    "                          ,'violent\\ncrime' : 'violent_crime'\n",
    "                          , 'motor\\nvehicle\\ntheft': 'motor_vehicle_theft'}\n",
    "                 , inplace=True)"
   ]
  },
  {
   "cell_type": "code",
   "execution_count": 154,
   "metadata": {},
   "outputs": [
    {
     "data": {
      "text/plain": [
       "Index(['state', 'city', 'population', 'violent_crime', 'murder',\n",
       "       'rape_revised_definition1', 'rape_legacy_definition2', 'robbery',\n",
       "       'assault', 'property_crime', 'burglary', 'larceny_theft',\n",
       "       'motor_vehicle_theft', 'arson3', 'unnamed: 14', 'unnamed: 15',\n",
       "       'unnamed: 16'],\n",
       "      dtype='object')"
      ]
     },
     "execution_count": 154,
     "metadata": {},
     "output_type": "execute_result"
    }
   ],
   "source": [
    "crime.columns"
   ]
  },
  {
   "cell_type": "code",
   "execution_count": 155,
   "metadata": {},
   "outputs": [
    {
     "data": {
      "text/plain": [
       "state                          0\n",
       "city                           0\n",
       "population                     3\n",
       "violent_crime                  4\n",
       "murder                         0\n",
       "rape_revised_definition1    3861\n",
       "rape_legacy_definition2     5433\n",
       "robbery                        0\n",
       "assault                        3\n",
       "property_crime                 4\n",
       "burglary                       2\n",
       "larceny_theft                  2\n",
       "motor_vehicle_theft            0\n",
       "arson3                       473\n",
       "unnamed: 14                 9292\n",
       "unnamed: 15                 9292\n",
       "unnamed: 16                 9290\n",
       "dtype: int64"
      ]
     },
     "execution_count": 155,
     "metadata": {},
     "output_type": "execute_result"
    }
   ],
   "source": [
    "crime.isnull().sum()"
   ]
  },
  {
   "cell_type": "code",
   "execution_count": 7,
   "metadata": {},
   "outputs": [
    {
     "data": {
      "text/html": [
       "<div>\n",
       "<style>\n",
       "    .dataframe thead tr:only-child th {\n",
       "        text-align: right;\n",
       "    }\n",
       "\n",
       "    .dataframe thead th {\n",
       "        text-align: left;\n",
       "    }\n",
       "\n",
       "    .dataframe tbody tr th {\n",
       "        vertical-align: top;\n",
       "    }\n",
       "</style>\n",
       "<table border=\"1\" class=\"dataframe\">\n",
       "  <thead>\n",
       "    <tr style=\"text-align: right;\">\n",
       "      <th></th>\n",
       "      <th>state</th>\n",
       "      <th>city</th>\n",
       "      <th>population</th>\n",
       "      <th>violent_crime</th>\n",
       "      <th>murder</th>\n",
       "      <th>rape_revised_definition1</th>\n",
       "      <th>rape_legacy_definition2</th>\n",
       "      <th>robbery</th>\n",
       "      <th>assault</th>\n",
       "      <th>property_crime</th>\n",
       "      <th>burglary</th>\n",
       "      <th>larceny_theft</th>\n",
       "      <th>motor_vehicle_theft</th>\n",
       "      <th>arson3</th>\n",
       "      <th>unnamed: 14</th>\n",
       "      <th>unnamed: 15</th>\n",
       "      <th>unnamed: 16</th>\n",
       "    </tr>\n",
       "  </thead>\n",
       "  <tbody>\n",
       "    <tr>\n",
       "      <th>1</th>\n",
       "      <td>ALABAMA</td>\n",
       "      <td>Adamsville</td>\n",
       "      <td>4481.0</td>\n",
       "      <td>19.0</td>\n",
       "      <td>1</td>\n",
       "      <td>0.0</td>\n",
       "      <td>NaN</td>\n",
       "      <td>7</td>\n",
       "      <td>11.0</td>\n",
       "      <td>321.0</td>\n",
       "      <td>58.0</td>\n",
       "      <td>252.0</td>\n",
       "      <td>11</td>\n",
       "      <td>NaN</td>\n",
       "      <td>NaN</td>\n",
       "      <td>NaN</td>\n",
       "      <td></td>\n",
       "    </tr>\n",
       "    <tr>\n",
       "      <th>2</th>\n",
       "      <td>ALABAMA</td>\n",
       "      <td>Addison</td>\n",
       "      <td>744.0</td>\n",
       "      <td>1.0</td>\n",
       "      <td>0</td>\n",
       "      <td>1.0</td>\n",
       "      <td>NaN</td>\n",
       "      <td>0</td>\n",
       "      <td>0.0</td>\n",
       "      <td>25.0</td>\n",
       "      <td>6.0</td>\n",
       "      <td>17.0</td>\n",
       "      <td>2</td>\n",
       "      <td>NaN</td>\n",
       "      <td>NaN</td>\n",
       "      <td>NaN</td>\n",
       "      <td></td>\n",
       "    </tr>\n",
       "  </tbody>\n",
       "</table>\n",
       "</div>"
      ],
      "text/plain": [
       "     state        city  population  violent_crime  murder  \\\n",
       "1  ALABAMA  Adamsville      4481.0           19.0       1   \n",
       "2  ALABAMA     Addison       744.0            1.0       0   \n",
       "\n",
       "   rape_revised_definition1  rape_legacy_definition2  robbery  assault  \\\n",
       "1                       0.0                      NaN        7     11.0   \n",
       "2                       1.0                      NaN        0      0.0   \n",
       "\n",
       "   property_crime  burglary  larceny_theft  motor_vehicle_theft  arson3  \\\n",
       "1           321.0      58.0          252.0                   11     NaN   \n",
       "2            25.0       6.0           17.0                    2     NaN   \n",
       "\n",
       "   unnamed: 14  unnamed: 15 unnamed: 16  \n",
       "1          NaN          NaN              \n",
       "2          NaN          NaN              "
      ]
     },
     "execution_count": 7,
     "metadata": {},
     "output_type": "execute_result"
    }
   ],
   "source": [
    "crime[crime['unnamed: 16'].notnull()]"
   ]
  },
  {
   "cell_type": "markdown",
   "metadata": {},
   "source": [
    "After checking the value for the column \"unnamed: 16\" for rows which are not null we can safely drop the columns \"unnamed: 14\", \"unnamed: 15\" and , \"unnamed: 16\""
   ]
  },
  {
   "cell_type": "code",
   "execution_count": 8,
   "metadata": {
    "collapsed": true
   },
   "outputs": [],
   "source": [
    "crime.drop([\"unnamed: 14\", \"unnamed: 15\" , \"unnamed: 16\"], axis = 1, inplace=True)"
   ]
  },
  {
   "cell_type": "code",
   "execution_count": 158,
   "metadata": {},
   "outputs": [
    {
     "data": {
      "text/html": [
       "<div>\n",
       "<style>\n",
       "    .dataframe thead tr:only-child th {\n",
       "        text-align: right;\n",
       "    }\n",
       "\n",
       "    .dataframe thead th {\n",
       "        text-align: left;\n",
       "    }\n",
       "\n",
       "    .dataframe tbody tr th {\n",
       "        vertical-align: top;\n",
       "    }\n",
       "</style>\n",
       "<table border=\"1\" class=\"dataframe\">\n",
       "  <thead>\n",
       "    <tr style=\"text-align: right;\">\n",
       "      <th></th>\n",
       "      <th>state</th>\n",
       "      <th>city</th>\n",
       "      <th>population</th>\n",
       "      <th>violent_crime</th>\n",
       "      <th>murder</th>\n",
       "      <th>rape_revised_definition1</th>\n",
       "      <th>rape_legacy_definition2</th>\n",
       "      <th>robbery</th>\n",
       "      <th>assault</th>\n",
       "      <th>property_crime</th>\n",
       "      <th>burglary</th>\n",
       "      <th>larceny_theft</th>\n",
       "      <th>motor_vehicle_theft</th>\n",
       "      <th>arson3</th>\n",
       "    </tr>\n",
       "  </thead>\n",
       "  <tbody>\n",
       "    <tr>\n",
       "      <th>0</th>\n",
       "      <td>ALABAMA</td>\n",
       "      <td>Abbeville</td>\n",
       "      <td>2645.0</td>\n",
       "      <td>11.0</td>\n",
       "      <td>1</td>\n",
       "      <td>1.0</td>\n",
       "      <td>NaN</td>\n",
       "      <td>2</td>\n",
       "      <td>7.0</td>\n",
       "      <td>63.0</td>\n",
       "      <td>21.0</td>\n",
       "      <td>39.0</td>\n",
       "      <td>3</td>\n",
       "      <td>NaN</td>\n",
       "    </tr>\n",
       "    <tr>\n",
       "      <th>1</th>\n",
       "      <td>ALABAMA</td>\n",
       "      <td>Adamsville</td>\n",
       "      <td>4481.0</td>\n",
       "      <td>19.0</td>\n",
       "      <td>1</td>\n",
       "      <td>0.0</td>\n",
       "      <td>NaN</td>\n",
       "      <td>7</td>\n",
       "      <td>11.0</td>\n",
       "      <td>321.0</td>\n",
       "      <td>58.0</td>\n",
       "      <td>252.0</td>\n",
       "      <td>11</td>\n",
       "      <td>NaN</td>\n",
       "    </tr>\n",
       "    <tr>\n",
       "      <th>2</th>\n",
       "      <td>ALABAMA</td>\n",
       "      <td>Addison</td>\n",
       "      <td>744.0</td>\n",
       "      <td>1.0</td>\n",
       "      <td>0</td>\n",
       "      <td>1.0</td>\n",
       "      <td>NaN</td>\n",
       "      <td>0</td>\n",
       "      <td>0.0</td>\n",
       "      <td>25.0</td>\n",
       "      <td>6.0</td>\n",
       "      <td>17.0</td>\n",
       "      <td>2</td>\n",
       "      <td>NaN</td>\n",
       "    </tr>\n",
       "    <tr>\n",
       "      <th>3</th>\n",
       "      <td>ALABAMA</td>\n",
       "      <td>Alabaster</td>\n",
       "      <td>31170.0</td>\n",
       "      <td>44.0</td>\n",
       "      <td>0</td>\n",
       "      <td>2.0</td>\n",
       "      <td>NaN</td>\n",
       "      <td>11</td>\n",
       "      <td>31.0</td>\n",
       "      <td>640.0</td>\n",
       "      <td>70.0</td>\n",
       "      <td>544.0</td>\n",
       "      <td>26</td>\n",
       "      <td>NaN</td>\n",
       "    </tr>\n",
       "    <tr>\n",
       "      <th>4</th>\n",
       "      <td>ALABAMA</td>\n",
       "      <td>Alexander City</td>\n",
       "      <td>14692.0</td>\n",
       "      <td>119.0</td>\n",
       "      <td>2</td>\n",
       "      <td>16.0</td>\n",
       "      <td>NaN</td>\n",
       "      <td>12</td>\n",
       "      <td>89.0</td>\n",
       "      <td>661.0</td>\n",
       "      <td>121.0</td>\n",
       "      <td>510.0</td>\n",
       "      <td>30</td>\n",
       "      <td>NaN</td>\n",
       "    </tr>\n",
       "  </tbody>\n",
       "</table>\n",
       "</div>"
      ],
      "text/plain": [
       "     state            city  population  violent_crime  murder  \\\n",
       "0  ALABAMA       Abbeville      2645.0           11.0       1   \n",
       "1  ALABAMA      Adamsville      4481.0           19.0       1   \n",
       "2  ALABAMA         Addison       744.0            1.0       0   \n",
       "3  ALABAMA       Alabaster     31170.0           44.0       0   \n",
       "4  ALABAMA  Alexander City     14692.0          119.0       2   \n",
       "\n",
       "   rape_revised_definition1  rape_legacy_definition2  robbery  assault  \\\n",
       "0                       1.0                      NaN        2      7.0   \n",
       "1                       0.0                      NaN        7     11.0   \n",
       "2                       1.0                      NaN        0      0.0   \n",
       "3                       2.0                      NaN       11     31.0   \n",
       "4                      16.0                      NaN       12     89.0   \n",
       "\n",
       "   property_crime  burglary  larceny_theft  motor_vehicle_theft  arson3  \n",
       "0            63.0      21.0           39.0                    3     NaN  \n",
       "1           321.0      58.0          252.0                   11     NaN  \n",
       "2            25.0       6.0           17.0                    2     NaN  \n",
       "3           640.0      70.0          544.0                   26     NaN  \n",
       "4           661.0     121.0          510.0                   30     NaN  "
      ]
     },
     "execution_count": 158,
     "metadata": {},
     "output_type": "execute_result"
    }
   ],
   "source": [
    "crime.head()"
   ]
  },
  {
   "cell_type": "code",
   "execution_count": 159,
   "metadata": {
    "scrolled": true
   },
   "outputs": [
    {
     "data": {
      "text/html": [
       "<div>\n",
       "<style>\n",
       "    .dataframe thead tr:only-child th {\n",
       "        text-align: right;\n",
       "    }\n",
       "\n",
       "    .dataframe thead th {\n",
       "        text-align: left;\n",
       "    }\n",
       "\n",
       "    .dataframe tbody tr th {\n",
       "        vertical-align: top;\n",
       "    }\n",
       "</style>\n",
       "<table border=\"1\" class=\"dataframe\">\n",
       "  <thead>\n",
       "    <tr style=\"text-align: right;\">\n",
       "      <th></th>\n",
       "      <th>state</th>\n",
       "      <th>city</th>\n",
       "      <th>population</th>\n",
       "      <th>violent_crime</th>\n",
       "      <th>murder</th>\n",
       "      <th>rape_revised_definition1</th>\n",
       "      <th>rape_legacy_definition2</th>\n",
       "      <th>robbery</th>\n",
       "      <th>assault</th>\n",
       "      <th>property_crime</th>\n",
       "      <th>burglary</th>\n",
       "      <th>larceny_theft</th>\n",
       "      <th>motor_vehicle_theft</th>\n",
       "      <th>arson3</th>\n",
       "    </tr>\n",
       "  </thead>\n",
       "  <tbody>\n",
       "    <tr>\n",
       "      <th>3062</th>\n",
       "      <td>MARYLAND</td>\n",
       "      <td>Baltimore City Sheriff</td>\n",
       "      <td>NaN</td>\n",
       "      <td>0.0</td>\n",
       "      <td>0</td>\n",
       "      <td>NaN</td>\n",
       "      <td>0.0</td>\n",
       "      <td>0</td>\n",
       "      <td>0.0</td>\n",
       "      <td>0.0</td>\n",
       "      <td>0.0</td>\n",
       "      <td>0.0</td>\n",
       "      <td>0</td>\n",
       "      <td>0.0</td>\n",
       "    </tr>\n",
       "    <tr>\n",
       "      <th>6402</th>\n",
       "      <td>OREGON</td>\n",
       "      <td>Black Butte</td>\n",
       "      <td>NaN</td>\n",
       "      <td>0.0</td>\n",
       "      <td>0</td>\n",
       "      <td>0.0</td>\n",
       "      <td>NaN</td>\n",
       "      <td>0</td>\n",
       "      <td>0.0</td>\n",
       "      <td>5.0</td>\n",
       "      <td>0.0</td>\n",
       "      <td>5.0</td>\n",
       "      <td>0</td>\n",
       "      <td>0.0</td>\n",
       "    </tr>\n",
       "    <tr>\n",
       "      <th>6484</th>\n",
       "      <td>OREGON</td>\n",
       "      <td>Sunriver</td>\n",
       "      <td>NaN</td>\n",
       "      <td>2.0</td>\n",
       "      <td>0</td>\n",
       "      <td>0.0</td>\n",
       "      <td>NaN</td>\n",
       "      <td>0</td>\n",
       "      <td>2.0</td>\n",
       "      <td>80.0</td>\n",
       "      <td>16.0</td>\n",
       "      <td>60.0</td>\n",
       "      <td>4</td>\n",
       "      <td>0.0</td>\n",
       "    </tr>\n",
       "  </tbody>\n",
       "</table>\n",
       "</div>"
      ],
      "text/plain": [
       "         state                    city  population  violent_crime  murder  \\\n",
       "3062  MARYLAND  Baltimore City Sheriff         NaN            0.0       0   \n",
       "6402    OREGON             Black Butte         NaN            0.0       0   \n",
       "6484    OREGON                Sunriver         NaN            2.0       0   \n",
       "\n",
       "      rape_revised_definition1  rape_legacy_definition2  robbery  assault  \\\n",
       "3062                       NaN                      0.0        0      0.0   \n",
       "6402                       0.0                      NaN        0      0.0   \n",
       "6484                       0.0                      NaN        0      2.0   \n",
       "\n",
       "      property_crime  burglary  larceny_theft  motor_vehicle_theft  arson3  \n",
       "3062             0.0       0.0            0.0                    0     0.0  \n",
       "6402             5.0       0.0            5.0                    0     0.0  \n",
       "6484            80.0      16.0           60.0                    4     0.0  "
      ]
     },
     "execution_count": 159,
     "metadata": {},
     "output_type": "execute_result"
    }
   ],
   "source": [
    "crime[crime.population.isnull()]"
   ]
  },
  {
   "cell_type": "code",
   "execution_count": 9,
   "metadata": {
    "collapsed": true
   },
   "outputs": [],
   "source": [
    "crime.drop(crime[crime.population.isnull()].index, inplace=True)"
   ]
  },
  {
   "cell_type": "code",
   "execution_count": 48,
   "metadata": {},
   "outputs": [
    {
     "data": {
      "text/plain": [
       "PENNSYLVANIA    853\n",
       "TEXAS           604\n",
       "ILLINOIS        506\n",
       "NEW JERSEY      479\n",
       "CALIFORNIA      462\n",
       "Name: state, dtype: int64"
      ]
     },
     "execution_count": 48,
     "metadata": {},
     "output_type": "execute_result"
    }
   ],
   "source": [
    "crime.state.value_counts().head()"
   ]
  },
  {
   "cell_type": "code",
   "execution_count": 64,
   "metadata": {},
   "outputs": [
    {
     "name": "stdout",
     "output_type": "stream",
     "text": [
      "            robbery       murder    population  property_crime\n",
      "count   9289.000000  9289.000000  9.289000e+03     9285.000000\n",
      "mean      30.995371     1.103133  2.141811e+04      671.245880\n",
      "std      328.475187     9.871871  1.189963e+05     3438.782366\n",
      "min        0.000000     0.000000  5.000000e+00        0.000000\n",
      "25%        0.000000     0.000000  2.318000e+03       36.000000\n",
      "50%        1.000000     0.000000  5.902000e+03      118.000000\n",
      "75%        7.000000     0.000000  1.627000e+04      419.000000\n",
      "max    19170.000000   414.000000  8.396126e+06   141971.000000\n"
     ]
    }
   ],
   "source": [
    "print(crime[['robbery','murder','population','property_crime']].describe())"
   ]
  },
  {
   "cell_type": "code",
   "execution_count": 11,
   "metadata": {},
   "outputs": [
    {
     "name": "stdout",
     "output_type": "stream",
     "text": [
      "(462, 4)\n",
      "(853, 4)\n"
     ]
    }
   ],
   "source": [
    "crime_ca = crime.loc[crime.state== 'CALIFORNIA',['robbery','murder','population','property_crime']]\n",
    "print(crime_ca.shape)\n",
    "\n",
    "crime_pn = crime.loc[crime.state== 'PENNSYLVANIA',['robbery','murder','population','property_crime']]\n",
    "print(crime_pn.shape)\n"
   ]
  },
  {
   "cell_type": "code",
   "execution_count": 21,
   "metadata": {},
   "outputs": [
    {
     "data": {
      "image/png": "[encoded data removed]",
      "text/plain": [
       "<matplotlib.figure.Figure at 0x202b8f49f28>"
      ]
     },
     "metadata": {},
     "output_type": "display_data"
    }
   ],
   "source": [
    "df_wide = crime_pn[['robbery','property_crime','murder','population']]\n",
    "df_long = pd.melt(df_wide, id_vars = 'property_crime')\n",
    "sns.lmplot(data = df_long,  x= 'value', y='property_crime', col= 'variable',sharex=False )\n",
    "plt.show()"
   ]
  },
  {
   "cell_type": "code",
   "execution_count": 26,
   "metadata": {},
   "outputs": [
    {
     "data": {
      "text/html": [
       "<div>\n",
       "<style>\n",
       "    .dataframe thead tr:only-child th {\n",
       "        text-align: right;\n",
       "    }\n",
       "\n",
       "    .dataframe thead th {\n",
       "        text-align: left;\n",
       "    }\n",
       "\n",
       "    .dataframe tbody tr th {\n",
       "        vertical-align: top;\n",
       "    }\n",
       "</style>\n",
       "<table border=\"1\" class=\"dataframe\">\n",
       "  <thead>\n",
       "    <tr style=\"text-align: right;\">\n",
       "      <th></th>\n",
       "      <th>robbery</th>\n",
       "      <th>murder</th>\n",
       "      <th>population</th>\n",
       "      <th>property_crime</th>\n",
       "      <th>property_crime_v2</th>\n",
       "      <th>property_crime_BC</th>\n",
       "      <th>robbery_log</th>\n",
       "      <th>murder_log</th>\n",
       "      <th>population_log</th>\n",
       "    </tr>\n",
       "  </thead>\n",
       "  <tbody>\n",
       "    <tr>\n",
       "      <th>7073</th>\n",
       "      <td>7563</td>\n",
       "      <td>7564</td>\n",
       "      <td>1553154.0</td>\n",
       "      <td>53452.0</td>\n",
       "      <td>53452.0</td>\n",
       "      <td>17.269078</td>\n",
       "      <td>8.931023</td>\n",
       "      <td>8.931155</td>\n",
       "      <td>14.255798</td>\n",
       "    </tr>\n",
       "    <tr>\n",
       "      <th>7078</th>\n",
       "      <td>957</td>\n",
       "      <td>958</td>\n",
       "      <td>307633.0</td>\n",
       "      <td>10047.0</td>\n",
       "      <td>10047.0</td>\n",
       "      <td>13.564143</td>\n",
       "      <td>6.863803</td>\n",
       "      <td>6.864848</td>\n",
       "      <td>12.636663</td>\n",
       "    </tr>\n",
       "    <tr>\n",
       "      <th>6512</th>\n",
       "      <td>330</td>\n",
       "      <td>331</td>\n",
       "      <td>119278.0</td>\n",
       "      <td>4324.0</td>\n",
       "      <td>4324.0</td>\n",
       "      <td>11.873277</td>\n",
       "      <td>5.799093</td>\n",
       "      <td>5.802118</td>\n",
       "      <td>11.689212</td>\n",
       "    </tr>\n",
       "    <tr>\n",
       "      <th>6732</th>\n",
       "      <td>176</td>\n",
       "      <td>177</td>\n",
       "      <td>100815.0</td>\n",
       "      <td>3208.0</td>\n",
       "      <td>3208.0</td>\n",
       "      <td>11.301085</td>\n",
       "      <td>5.170484</td>\n",
       "      <td>5.176150</td>\n",
       "      <td>11.521042</td>\n",
       "    </tr>\n",
       "    <tr>\n",
       "      <th>7102</th>\n",
       "      <td>329</td>\n",
       "      <td>330</td>\n",
       "      <td>88108.0</td>\n",
       "      <td>2799.0</td>\n",
       "      <td>2799.0</td>\n",
       "      <td>11.044142</td>\n",
       "      <td>5.796058</td>\n",
       "      <td>5.799093</td>\n",
       "      <td>11.386319</td>\n",
       "    </tr>\n",
       "  </tbody>\n",
       "</table>\n",
       "</div>"
      ],
      "text/plain": [
       "      robbery  murder  population  property_crime  property_crime_v2  \\\n",
       "7073     7563    7564   1553154.0         53452.0            53452.0   \n",
       "7078      957     958    307633.0         10047.0            10047.0   \n",
       "6512      330     331    119278.0          4324.0             4324.0   \n",
       "6732      176     177    100815.0          3208.0             3208.0   \n",
       "7102      329     330     88108.0          2799.0             2799.0   \n",
       "\n",
       "      property_crime_BC  robbery_log  murder_log  population_log  \n",
       "7073          17.269078     8.931023    8.931155       14.255798  \n",
       "7078          13.564143     6.863803    6.864848       12.636663  \n",
       "6512          11.873277     5.799093    5.802118       11.689212  \n",
       "6732          11.301085     5.170484    5.176150       11.521042  \n",
       "7102          11.044142     5.796058    5.799093       11.386319  "
      ]
     },
     "execution_count": 26,
     "metadata": {},
     "output_type": "execute_result"
    }
   ],
   "source": [
    "crime_pn.sort_values(by='population', ascending=False).head()"
   ]
  },
  {
   "cell_type": "code",
   "execution_count": 27,
   "metadata": {
    "collapsed": true
   },
   "outputs": [],
   "source": [
    "crime_pn = crime_pn[crime_pn.population!= 1553154.0]"
   ]
  },
  {
   "cell_type": "code",
   "execution_count": 30,
   "metadata": {
    "collapsed": true
   },
   "outputs": [],
   "source": [
    "crime_pn = crime_pn[crime_pn.population!= 307633.0]"
   ]
  },
  {
   "cell_type": "code",
   "execution_count": 31,
   "metadata": {},
   "outputs": [
    {
     "data": {
      "text/html": [
       "<div>\n",
       "<style>\n",
       "    .dataframe thead tr:only-child th {\n",
       "        text-align: right;\n",
       "    }\n",
       "\n",
       "    .dataframe thead th {\n",
       "        text-align: left;\n",
       "    }\n",
       "\n",
       "    .dataframe tbody tr th {\n",
       "        vertical-align: top;\n",
       "    }\n",
       "</style>\n",
       "<table border=\"1\" class=\"dataframe\">\n",
       "  <thead>\n",
       "    <tr style=\"text-align: right;\">\n",
       "      <th></th>\n",
       "      <th>robbery</th>\n",
       "      <th>murder</th>\n",
       "      <th>population</th>\n",
       "      <th>property_crime</th>\n",
       "      <th>property_crime_v2</th>\n",
       "      <th>property_crime_BC</th>\n",
       "      <th>robbery_log</th>\n",
       "      <th>murder_log</th>\n",
       "      <th>population_log</th>\n",
       "    </tr>\n",
       "  </thead>\n",
       "  <tbody>\n",
       "    <tr>\n",
       "      <th>6512</th>\n",
       "      <td>330</td>\n",
       "      <td>331</td>\n",
       "      <td>119278.0</td>\n",
       "      <td>4324.0</td>\n",
       "      <td>4324.0</td>\n",
       "      <td>11.873277</td>\n",
       "      <td>5.799093</td>\n",
       "      <td>5.802118</td>\n",
       "      <td>11.689212</td>\n",
       "    </tr>\n",
       "    <tr>\n",
       "      <th>6732</th>\n",
       "      <td>176</td>\n",
       "      <td>177</td>\n",
       "      <td>100815.0</td>\n",
       "      <td>3208.0</td>\n",
       "      <td>3208.0</td>\n",
       "      <td>11.301085</td>\n",
       "      <td>5.170484</td>\n",
       "      <td>5.176150</td>\n",
       "      <td>11.521042</td>\n",
       "    </tr>\n",
       "    <tr>\n",
       "      <th>7102</th>\n",
       "      <td>329</td>\n",
       "      <td>330</td>\n",
       "      <td>88108.0</td>\n",
       "      <td>2799.0</td>\n",
       "      <td>2799.0</td>\n",
       "      <td>11.044142</td>\n",
       "      <td>5.796058</td>\n",
       "      <td>5.799093</td>\n",
       "      <td>11.386319</td>\n",
       "    </tr>\n",
       "    <tr>\n",
       "      <th>7244</th>\n",
       "      <td>228</td>\n",
       "      <td>229</td>\n",
       "      <td>82772.0</td>\n",
       "      <td>1852.0</td>\n",
       "      <td>1852.0</td>\n",
       "      <td>10.282775</td>\n",
       "      <td>5.429346</td>\n",
       "      <td>5.433722</td>\n",
       "      <td>11.323845</td>\n",
       "    </tr>\n",
       "    <tr>\n",
       "      <th>7140</th>\n",
       "      <td>72</td>\n",
       "      <td>73</td>\n",
       "      <td>75733.0</td>\n",
       "      <td>2277.0</td>\n",
       "      <td>2277.0</td>\n",
       "      <td>10.660523</td>\n",
       "      <td>4.276666</td>\n",
       "      <td>4.290459</td>\n",
       "      <td>11.234969</td>\n",
       "    </tr>\n",
       "  </tbody>\n",
       "</table>\n",
       "</div>"
      ],
      "text/plain": [
       "      robbery  murder  population  property_crime  property_crime_v2  \\\n",
       "6512      330     331    119278.0          4324.0             4324.0   \n",
       "6732      176     177    100815.0          3208.0             3208.0   \n",
       "7102      329     330     88108.0          2799.0             2799.0   \n",
       "7244      228     229     82772.0          1852.0             1852.0   \n",
       "7140       72      73     75733.0          2277.0             2277.0   \n",
       "\n",
       "      property_crime_BC  robbery_log  murder_log  population_log  \n",
       "6512          11.873277     5.799093    5.802118       11.689212  \n",
       "6732          11.301085     5.170484    5.176150       11.521042  \n",
       "7102          11.044142     5.796058    5.799093       11.386319  \n",
       "7244          10.282775     5.429346    5.433722       11.323845  \n",
       "7140          10.660523     4.276666    4.290459       11.234969  "
      ]
     },
     "execution_count": 31,
     "metadata": {},
     "output_type": "execute_result"
    }
   ],
   "source": [
    "crime_pn.sort_values(by='population', ascending=False).head()"
   ]
  },
  {
   "cell_type": "code",
   "execution_count": 32,
   "metadata": {},
   "outputs": [
    {
     "data": {
      "image/png": "[encoded data removed]",
      "text/plain": [
       "<matplotlib.figure.Figure at 0x202b8ed9ac8>"
      ]
     },
     "metadata": {},
     "output_type": "display_data"
    }
   ],
   "source": [
    "# the linearity is nice if we work without removing the ouliers. for both CA and Pennsylvania\n",
    "df_wide = crime_pn[['robbery','property_crime','murder','population']]\n",
    "df_long = pd.melt(df_wide, id_vars = 'property_crime')\n",
    "sns.lmplot(data = df_long,  x= 'value', y='property_crime', col= 'variable',sharex=False )\n",
    "plt.show()"
   ]
  },
  {
   "cell_type": "code",
   "execution_count": 33,
   "metadata": {},
   "outputs": [
    {
     "name": "stdout",
     "output_type": "stream",
     "text": [
      "\n",
      "Coefficients: \n",
      " [[ 2.70249155  2.70249155  0.01731196]]\n",
      "\n",
      "Intercept: \n",
      " [-19.94011018]\n",
      "\n",
      "R-squared:\n",
      "0.875079888006\n"
     ]
    },
    {
     "data": {
      "image/png": "[encoded data removed]",
      "text/plain": [
       "<matplotlib.figure.Figure at 0x202b8ed4e48>"
      ]
     },
     "metadata": {},
     "output_type": "display_data"
    },
    {
     "data": {
      "image/png": "[encoded data removed]",
      "text/plain": [
       "<matplotlib.figure.Figure at 0x202b8eb4ac8>"
      ]
     },
     "metadata": {},
     "output_type": "display_data"
    }
   ],
   "source": [
    "regr = linear_model.LinearRegression()\n",
    "Y = crime_pn['property_crime'].values.reshape(-1, 1)\n",
    "X = crime_pn[['robbery','murder','population']]\n",
    "regr.fit(X, Y)\n",
    "\n",
    "print('\\nCoefficients: \\n', regr.coef_)\n",
    "print('\\nIntercept: \\n', regr.intercept_)\n",
    "print('\\nR-squared:')\n",
    "print(regr.score(X, Y))\n",
    "\n",
    "\n",
    "predicted = regr.predict(X).ravel()\n",
    "actual = crime_pn['property_crime']\n",
    "# Calculate the error, also called the residual.\n",
    "residual = actual - predicted\n",
    "\n",
    "\n",
    "plt.hist(residual)\n",
    "plt.title('Residual counts')\n",
    "plt.xlabel('Residual')\n",
    "plt.ylabel('Count')\n",
    "plt.show()\n",
    "\n",
    "plt.scatter(predicted, residual)\n",
    "plt.xlabel('Predicted')\n",
    "plt.ylabel('Residual')\n",
    "plt.axhline(y=0)\n",
    "plt.title('Residual vs. Predicted')\n",
    "plt.show()\n",
    "\n"
   ]
  },
  {
   "cell_type": "code",
   "execution_count": 35,
   "metadata": {},
   "outputs": [
    {
     "data": {
      "image/png": "[encoded data removed]",
      "text/plain": [
       "<matplotlib.figure.Figure at 0x202b903d588>"
      ]
     },
     "metadata": {},
     "output_type": "display_data"
    }
   ],
   "source": [
    "crime_pn.population.hist()\n",
    "plt.show()"
   ]
  },
  {
   "cell_type": "code",
   "execution_count": 36,
   "metadata": {
    "collapsed": true
   },
   "outputs": [],
   "source": [
    "crime_pn['property_crime_v2'] = crime_pn['property_crime'].apply(lambda x: x+1 if x == 0 else x)"
   ]
  },
  {
   "cell_type": "code",
   "execution_count": 37,
   "metadata": {},
   "outputs": [
    {
     "data": {
      "image/png": "[encoded data removed]",
      "text/plain": [
       "<matplotlib.figure.Figure at 0x202b90a2400>"
      ]
     },
     "metadata": {},
     "output_type": "display_data"
    }
   ],
   "source": [
    "from scipy.stats import boxcox\n",
    "bc = boxcox(crime_pn['property_crime_v2'])\n",
    "\n",
    "crime_pn['property_crime_BC'] = bc[0]\n",
    "plt.scatter(crime_pn['property_crime_BC'], bc[0])\n",
    "plt.show()\n"
   ]
  },
  {
   "cell_type": "code",
   "execution_count": 38,
   "metadata": {
    "collapsed": true
   },
   "outputs": [],
   "source": [
    "crime_pn['robbery'] = crime_pn['robbery'] +1\n",
    "crime_pn['robbery_log'] = np.log(crime_pn['robbery'])\n",
    "crime_pn['murder'] = crime_pn['robbery'] +1\n",
    "crime_pn['murder_log'] = np.log(crime_pn['murder'])\n",
    "crime_pn['population'] = crime_pn['population'] + 1\n",
    "crime_pn['population_log'] = np.log(crime_pn['population'])"
   ]
  },
  {
   "cell_type": "code",
   "execution_count": 39,
   "metadata": {},
   "outputs": [
    {
     "data": {
      "image/png": "[encoded data removed]",
      "text/plain": [
       "<matplotlib.figure.Figure at 0x202b8f6f630>"
      ]
     },
     "metadata": {},
     "output_type": "display_data"
    }
   ],
   "source": [
    "crime_pn.population_log.hist()\n",
    "plt.show()"
   ]
  },
  {
   "cell_type": "code",
   "execution_count": 40,
   "metadata": {},
   "outputs": [
    {
     "name": "stdout",
     "output_type": "stream",
     "text": [
      "\n",
      "Coefficients: \n",
      " [[ 4.20060662 -3.72448894  1.558551  ]]\n",
      "\n",
      "Intercept: \n",
      " [-7.34240197]\n",
      "\n",
      "R-squared:\n",
      "0.804033018371\n"
     ]
    },
    {
     "data": {
      "image/png": "[encoded data removed]",
      "text/plain": [
       "<matplotlib.figure.Figure at 0x202b915af60>"
      ]
     },
     "metadata": {},
     "output_type": "display_data"
    },
    {
     "data": {
      "image/png": "[encoded data removed]",
      "text/plain": [
       "<matplotlib.figure.Figure at 0x202b90555f8>"
      ]
     },
     "metadata": {},
     "output_type": "display_data"
    }
   ],
   "source": [
    "regr = linear_model.LinearRegression()\n",
    "Y = crime_pn['property_crime_BC'].values.reshape(-1, 1)\n",
    "X = crime_pn[['robbery_log','murder_log','population_log']]\n",
    "regr.fit(X, Y)\n",
    "\n",
    "print('\\nCoefficients: \\n', regr.coef_)\n",
    "print('\\nIntercept: \\n', regr.intercept_)\n",
    "print('\\nR-squared:')\n",
    "print(regr.score(X, Y))\n",
    "\n",
    "\n",
    "predicted = regr.predict(X).ravel()\n",
    "actual = crime_pn['property_crime_BC']\n",
    "# Calculate the error, also called the residual.\n",
    "residual = actual - predicted\n",
    "\n",
    "\n",
    "plt.hist(residual)\n",
    "plt.title('Residual counts')\n",
    "plt.xlabel('Residual')\n",
    "plt.ylabel('Count')\n",
    "plt.show()\n",
    "\n",
    "plt.scatter(predicted, residual)\n",
    "plt.xlabel('Predicted')\n",
    "plt.ylabel('Residual')\n",
    "plt.axhline(y=0)\n",
    "plt.title('Residual vs. Predicted')\n",
    "plt.show()\n",
    "\n"
   ]
  },
  {
   "cell_type": "code",
   "execution_count": 42,
   "metadata": {
    "collapsed": true
   },
   "outputs": [],
   "source": [
    "from scipy.stats import boxcox\n",
    "bc = boxcox(crime_pn['robbery'])\n",
    "\n",
    "crime_pn['robbery_BC'] = bc[0]\n"
   ]
  },
  {
   "cell_type": "code",
   "execution_count": 43,
   "metadata": {
    "collapsed": true
   },
   "outputs": [],
   "source": [
    "from scipy.stats import boxcox\n",
    "bc = boxcox(crime_pn['murder'])\n",
    "\n",
    "crime_pn['murder_BC'] = bc[0]\n"
   ]
  },
  {
   "cell_type": "code",
   "execution_count": 45,
   "metadata": {
    "collapsed": true
   },
   "outputs": [],
   "source": [
    "from scipy.stats import boxcox\n",
    "bc = boxcox(crime_pn['population'])\n",
    "\n",
    "crime_pn['population_BC'] = bc[0]"
   ]
  },
  {
   "cell_type": "code",
   "execution_count": 47,
   "metadata": {},
   "outputs": [
    {
     "name": "stdout",
     "output_type": "stream",
     "text": [
      "\n",
      "Coefficients: \n",
      " [[-22.23487402  79.21057999   1.70544188]]\n",
      "\n",
      "Intercept: \n",
      " [-42.44357416]\n",
      "\n",
      "R-squared:\n",
      "0.799613910292\n"
     ]
    },
    {
     "data": {
      "image/png": "[encoded data removed]",
      "text/plain": [
       "<matplotlib.figure.Figure at 0x202b8ef9978>"
      ]
     },
     "metadata": {},
     "output_type": "display_data"
    },
    {
     "data": {
      "image/png": "[encoded data removed]",
      "text/plain": [
       "<matplotlib.figure.Figure at 0x202b91f2208>"
      ]
     },
     "metadata": {},
     "output_type": "display_data"
    }
   ],
   "source": [
    "regr = linear_model.LinearRegression()\n",
    "Y = crime_pn['property_crime_BC'].values.reshape(-1, 1)\n",
    "X = crime_pn[['robbery_BC','murder_BC','population_BC']]\n",
    "regr.fit(X, Y)\n",
    "\n",
    "print('\\nCoefficients: \\n', regr.coef_)\n",
    "print('\\nIntercept: \\n', regr.intercept_)\n",
    "print('\\nR-squared:')\n",
    "print(regr.score(X, Y))\n",
    "\n",
    "\n",
    "predicted = regr.predict(X).ravel()\n",
    "actual = crime_pn['property_crime_BC']\n",
    "# Calculate the error, also called the residual.\n",
    "residual = actual - predicted\n",
    "\n",
    "\n",
    "plt.hist(residual)\n",
    "plt.title('Residual counts')\n",
    "plt.xlabel('Residual')\n",
    "plt.ylabel('Count')\n",
    "plt.show()\n",
    "\n",
    "plt.scatter(predicted, residual)\n",
    "plt.xlabel('Predicted')\n",
    "plt.ylabel('Residual')\n",
    "plt.axhline(y=0)\n",
    "plt.title('Residual vs. Predicted')\n",
    "plt.show()\n",
    "\n"
   ]
  },
  {
   "cell_type": "markdown",
   "metadata": {
    "collapsed": true
   },
   "source": [
    "The above looks better than others."
   ]
  },
  {
   "cell_type": "code",
   "execution_count": null,
   "metadata": {
    "collapsed": true
   },
   "outputs": [],
   "source": []
  },
  {
   "cell_type": "code",
   "execution_count": 52,
   "metadata": {},
   "outputs": [
    {
     "name": "stdout",
     "output_type": "stream",
     "text": [
      "coefficients of our model are : \n",
      "Intercept    -16.908270\n",
      "robbery       11.156627\n",
      "murder        -5.751644\n",
      "population     0.017312\n",
      "dtype: float64\n",
      "\n",
      "p-values as a significance test for each of the coefficients : \n",
      "Intercept      8.292602e-07\n",
      "robbery        6.659329e-11\n",
      "murder         8.914865e-04\n",
      "population    5.580115e-180\n",
      "dtype: float64\n",
      "\n",
      "R2 : \n",
      "0.875079888006\n",
      "\n",
      "Confidence intervals : \n",
      "                    0          1\n",
      "Intercept  -23.592002 -10.224538\n",
      "robbery      7.845299  14.467954\n",
      "murder      -9.137157  -2.366130\n",
      "population   0.016397   0.018227\n"
     ]
    }
   ],
   "source": [
    "import statsmodels.formula.api as smf\n",
    "from statsmodels.sandbox.regression.predstd import wls_prediction_std\n",
    "linear_formula = 'property_crime ~ robbery+murder+population'\n",
    "\n",
    "# Fit the model to our data using the formula.\n",
    "lm = smf.ols(formula=linear_formula, data=crime_pn).fit()\n",
    "print('coefficients of our model are : ' )\n",
    "print(lm.params)\n",
    "print()\n",
    "print('p-values as a significance test for each of the coefficients : ')\n",
    "print(lm.pvalues)\n",
    "print()\n",
    "print('R2 : ')\n",
    "print(lm.rsquared)\n",
    "print()\n",
    "print('Confidence intervals : ')\n",
    "print(lm.conf_int())\n"
   ]
  },
  {
   "cell_type": "code",
   "execution_count": 53,
   "metadata": {},
   "outputs": [
    {
     "name": "stdout",
     "output_type": "stream",
     "text": [
      "coefficients of our model are : \n",
      "Intercept       -42.443574\n",
      "robbery_BC      -22.234874\n",
      "murder_BC        79.210580\n",
      "population_BC     1.705442\n",
      "dtype: float64\n",
      "\n",
      "p-values as a significance test for each of the coefficients : \n",
      "Intercept         1.357436e-06\n",
      "robbery_BC        5.992997e-03\n",
      "murder_BC         5.428843e-04\n",
      "population_BC    1.829001e-155\n",
      "dtype: float64\n",
      "\n",
      "R2 : \n",
      "0.799613910292\n",
      "\n",
      "Confidence intervals : \n",
      "                       0           1\n",
      "Intercept     -59.563494  -25.323654\n",
      "robbery_BC    -38.075182   -6.394566\n",
      "murder_BC      34.430877  123.990283\n",
      "population_BC   1.604617    1.806267\n"
     ]
    }
   ],
   "source": [
    "\n",
    "import statsmodels.formula.api as smf\n",
    "from statsmodels.sandbox.regression.predstd import wls_prediction_std\n",
    "linear_formula = 'property_crime_BC ~ robbery_BC+murder_BC+population_BC'\n",
    "\n",
    "# Fit the model to our data using the formula.\n",
    "lm = smf.ols(formula=linear_formula, data=crime_pn).fit()\n",
    "print('coefficients of our model are : ' )\n",
    "print(lm.params)\n",
    "print()\n",
    "print('p-values as a significance test for each of the coefficients : ')\n",
    "print(lm.pvalues)\n",
    "print()\n",
    "print('R2 : ')\n",
    "print(lm.rsquared)\n",
    "print()\n",
    "print('Confidence intervals : ')\n",
    "print(lm.conf_int())\n"
   ]
  },
  {
   "cell_type": "code",
   "execution_count": 54,
   "metadata": {},
   "outputs": [
    {
     "name": "stdout",
     "output_type": "stream",
     "text": [
      "With 20% Holdout: 0.794035637178\n"
     ]
    }
   ],
   "source": [
    "# Test your model with different holdout groups.\n",
    "target = crime_pn['property_crime_BC'].values.reshape(-1, 1)\n",
    "data = crime_pn[['robbery_BC','murder_BC','population_BC']]\n",
    "from sklearn.model_selection import train_test_split\n",
    "X_train, X_test, y_train, y_test = train_test_split(data, target, test_size=0.2, random_state=20)\n",
    "print('With 20% Holdout: ' + str(regr.fit(X_train, y_train).score(X_test, y_test)))\n"
   ]
  },
  {
   "cell_type": "code",
   "execution_count": 57,
   "metadata": {},
   "outputs": [
    {
     "name": "stdout",
     "output_type": "stream",
     "text": [
      "The Average Accuracy :  0.791146615284\n",
      "Standard Deviation :  0.0291097386989\n"
     ]
    }
   ],
   "source": [
    "from sklearn.model_selection import cross_val_score\n",
    "ten_fold = cross_val_score(regr, data, target, cv=10)\n",
    "print(\"The Average Accuracy : \" , ten_fold.mean())\n",
    "print(\"Standard Deviation : \" , ten_fold.std())"
   ]
  }
 ],
 "metadata": {
  "kernelspec": {
   "display_name": "Python 3",
   "language": "python",
   "name": "python3"
  },
  "language_info": {
   "codemirror_mode": {
    "name": "ipython",
    "version": 3
   },
   "file_extension": ".py",
   "mimetype": "text/x-python",
   "name": "python",
   "nbconvert_exporter": "python",
   "pygments_lexer": "ipython3",
   "version": "3.6.3"
  }
 },
 "nbformat": 4,
 "nbformat_minor": 2
}
