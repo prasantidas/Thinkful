{
 "cells": [
  {
   "cell_type": "code",
   "execution_count": 225,
   "metadata": {
    "collapsed": true
   },
   "outputs": [],
   "source": [
    "import time\n",
    "import random\n",
    "\n",
    "# Set seed.\n",
    "random.seed(a=100)\n",
    "\n",
    "# Create our default list.\n",
    "short_list = list(random.sample(range(1000000), 10))\n",
    "long_list = list(random.sample(range(1000000), 10000))"
   ]
  },
  {
   "cell_type": "markdown",
   "metadata": {},
   "source": [
    "# MergeSort"
   ]
  },
  {
   "cell_type": "code",
   "execution_count": 226,
   "metadata": {
    "collapsed": true
   },
   "outputs": [],
   "source": [
    "def merge_sorted_lists(a, b ):\n",
    "    \n",
    "    result = []\n",
    "    i, j = 0,0\n",
    "\n",
    "    while len(result) < (len(a) + len(b)) :\n",
    "        if a[i] < b[j] :\n",
    "            \n",
    "            result.append(a[i])\n",
    "            i +=1\n",
    "        else:\n",
    "            \n",
    "            result.append(b[j])\n",
    "            j +=1\n",
    "        if i == len(a) or j == len(b):\n",
    "            result.extend(a[i:] or b[j:])\n",
    "            break\n",
    "\n",
    "    return result\n",
    "\n",
    "def sort_list(a):\n",
    "    if len(a) <= 1:\n",
    "        return a\n",
    "    mid = len(a)//2\n",
    "    left, right = sort_list(a[:mid]), sort_list(a[mid:])\n",
    "    \n",
    "    return merge_sorted_lists(left, right)"
   ]
  },
  {
   "cell_type": "code",
   "execution_count": 227,
   "metadata": {},
   "outputs": [
    {
     "name": "stdout",
     "output_type": "stream",
     "text": [
      "[152745, 183236, 366725, 412125, 477025, 481850, 739784, 767514, 808225, 997948]\n",
      "\n",
      "--- 0.0 seconds ---\n"
     ]
    }
   ],
   "source": [
    "\n",
    "# Start the timer.\n",
    "start_time = time.time()\n",
    "\n",
    "print(sort_list(short_list))\n",
    "\n",
    "# Print time to show runtime.\n",
    "print(\"\\n--- %s seconds ---\" % (time.time() - start_time))\n"
   ]
  },
  {
   "cell_type": "code",
   "execution_count": 228,
   "metadata": {},
   "outputs": [
    {
     "name": "stdout",
     "output_type": "stream",
     "text": [
      "\n",
      "--- 0.10493946075439453 seconds ---\n"
     ]
    }
   ],
   "source": [
    "# Start the timer.\n",
    "start_time = time.time()\n",
    "\n",
    "sort_list(long_list)\n",
    "\n",
    "# Print time to show runtime.\n",
    "print(\"\\n--- %s seconds ---\" % (time.time() - start_time))\n"
   ]
  },
  {
   "cell_type": "code",
   "execution_count": 229,
   "metadata": {
    "collapsed": true
   },
   "outputs": [],
   "source": [
    "import time\n",
    "import random\n",
    "\n",
    "# Set seed.\n",
    "random.seed(a=100)\n",
    "\n",
    "# Create our default list.\n",
    "short_list = list(random.sample(range(1000000), 10))\n",
    "long_list = list(random.sample(range(1000000), 10000))"
   ]
  },
  {
   "cell_type": "markdown",
   "metadata": {},
   "source": [
    "# Quicksort"
   ]
  },
  {
   "cell_type": "code",
   "execution_count": 230,
   "metadata": {
    "collapsed": true
   },
   "outputs": [],
   "source": [
    "from random import randint\n",
    "\n",
    "def quicksort_list(a):\n",
    "    small_nums = []\n",
    "    same_nums = []\n",
    "    large_nums = []\n",
    "    \n",
    "    if len(a) <= 1:\n",
    "        return a\n",
    "    \n",
    "    pivot_point = a[randint(0,len(a)-1)]\n",
    "    \n",
    "    \n",
    "    for x in a:\n",
    "        if x < pivot_point:\n",
    "            small_nums.append(x)\n",
    "        elif x == pivot_point:\n",
    "            same_nums.append(x)\n",
    "        else:\n",
    "            large_nums.append(x)\n",
    "    return quicksort_list(small_nums) + same_nums + quicksort_list(large_nums)             "
   ]
  },
  {
   "cell_type": "code",
   "execution_count": 231,
   "metadata": {},
   "outputs": [
    {
     "name": "stdout",
     "output_type": "stream",
     "text": [
      "[152745, 183236, 366725, 412125, 477025, 481850, 739784, 767514, 808225, 997948]\n",
      "\n",
      "--- 0.0009984970092773438 seconds ---\n"
     ]
    }
   ],
   "source": [
    "# Start the timer.\n",
    "start_time = time.time()\n",
    "\n",
    "print(quicksort_list(short_list))\n",
    "\n",
    "# Print time to show runtime.\n",
    "print(\"\\n--- %s seconds ---\" % (time.time() - start_time))\n"
   ]
  },
  {
   "cell_type": "code",
   "execution_count": 232,
   "metadata": {},
   "outputs": [
    {
     "name": "stdout",
     "output_type": "stream",
     "text": [
      "\n",
      "--- 0.052969932556152344 seconds ---\n"
     ]
    }
   ],
   "source": [
    "# Start the timer.\n",
    "start_time = time.time()\n",
    "\n",
    "quicksort_list(long_list)\n",
    "\n",
    "# Print time to show runtime.\n",
    "print(\"\\n--- %s seconds ---\" % (time.time() - start_time))\n"
   ]
  },
  {
   "cell_type": "code",
   "execution_count": null,
   "metadata": {
    "collapsed": true
   },
   "outputs": [],
   "source": []
  }
 ],
 "metadata": {
  "kernelspec": {
   "display_name": "Python 3",
   "language": "python",
   "name": "python3"
  },
  "language_info": {
   "codemirror_mode": {
    "name": "ipython",
    "version": 3
   },
   "file_extension": ".py",
   "mimetype": "text/x-python",
   "name": "python",
   "nbconvert_exporter": "python",
   "pygments_lexer": "ipython3",
   "version": "3.6.3"
  }
 },
 "nbformat": 4,
 "nbformat_minor": 2
}
