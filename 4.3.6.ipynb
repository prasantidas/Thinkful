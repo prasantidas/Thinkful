{
 "cells": [
  {
   "cell_type": "markdown",
   "metadata": {},
   "source": [
    "The Dataset is about Wisconsin Diagnostic Breast Cancer (WDBC).\n",
    "Number of instances: 569 \n",
    "\n",
    "Number of attributes: 32 (ID, diagnosis, 30 real-valued input features)\n",
    "\n",
    "Attribute information\n",
    "\n",
    "columns 3-32 \n",
    "Ten real-valued features are computed for each cell nucleus:\n",
    "\n",
    "\ta) radius (mean of distances from center to points on the perimeter)\n",
    "\tb) texture (standard deviation of gray-scale values)\n",
    "\tc) perimeter\n",
    "\td) area\n",
    "\te) smoothness (local variation in radius lengths)\n",
    "\tf) compactness (perimeter^2 / area - 1.0)\n",
    "\tg) concavity (severity of concave portions of the contour)\n",
    "\th) concave points (number of concave portions of the contour)\n",
    "\ti) symmetry \n",
    "\tj) fractal dimension (\"coastline approximation\" - 1)\n",
    " Class distribution: 357 benign, 212 malignant"
   ]
  },
  {
   "cell_type": "code",
   "execution_count": 1,
   "metadata": {
    "collapsed": true
   },
   "outputs": [],
   "source": [
    "import numpy as np\n",
    "import pandas as pd\n",
    "import matplotlib.pyplot as plt\n",
    "import seaborn as sns\n",
    "from datetime import datetime\n",
    "\n",
    "from sklearn.model_selection import KFold, cross_val_score, cross_val_predict, GridSearchCV,train_test_split\n",
    "\n",
    "from sklearn.metrics import  confusion_matrix, average_precision_score, classification_report, roc_auc_score\n",
    "\n",
    "from sklearn.preprocessing  import StandardScaler\n",
    "from sklearn.decomposition import PCA \n",
    "\n",
    "from sklearn.naive_bayes import BernoulliNB\n",
    "from sklearn.neighbors import KNeighborsClassifier\n",
    "\n",
    "from sklearn.tree import DecisionTreeClassifier\n",
    "from sklearn.ensemble import RandomForestClassifier, GradientBoostingClassifier\n",
    "\n",
    "\n",
    "from sklearn.linear_model import LogisticRegression\n",
    "\n",
    "from sklearn.neural_network import MLPClassifier\n",
    "\n",
    "pd.set_option('display.max_columns', None)"
   ]
  },
  {
   "cell_type": "code",
   "execution_count": 2,
   "metadata": {
    "collapsed": true
   },
   "outputs": [],
   "source": [
    "df = pd.read_csv('https://archive.ics.uci.edu/ml/machine-learning-databases/breast-cancer-wisconsin/wdbc.data', header=None)"
   ]
  },
  {
   "cell_type": "code",
   "execution_count": 3,
   "metadata": {
    "collapsed": true
   },
   "outputs": [],
   "source": [
    "df.columns = ['ID number', 'Diagnosis','mean radius', 'mean texture', 'mean perimeter', 'mean area',\n",
    "       'mean smoothness', 'mean compactness', 'mean concavity',\n",
    "       'mean concave points', 'mean symmetry', 'mean fractal dimension',\n",
    "       'radius error', 'texture error', 'perimeter error', 'area error',\n",
    "       'smoothness error', 'compactness error', 'concavity error',\n",
    "       'concave points error', 'symmetry error', 'fractal dimension error',\n",
    "       'worst radius', 'worst texture', 'worst perimeter', 'worst area',\n",
    "       'worst smoothness', 'worst compactness', 'worst concavity',\n",
    "       'worst concave points', 'worst symmetry', 'worst fractal dimension']"
   ]
  },
  {
   "cell_type": "code",
   "execution_count": 4,
   "metadata": {},
   "outputs": [
    {
     "data": {
      "text/html": [
       "<div>\n",
       "<style>\n",
       "    .dataframe thead tr:only-child th {\n",
       "        text-align: right;\n",
       "    }\n",
       "\n",
       "    .dataframe thead th {\n",
       "        text-align: left;\n",
       "    }\n",
       "\n",
       "    .dataframe tbody tr th {\n",
       "        vertical-align: top;\n",
       "    }\n",
       "</style>\n",
       "<table border=\"1\" class=\"dataframe\">\n",
       "  <thead>\n",
       "    <tr style=\"text-align: right;\">\n",
       "      <th></th>\n",
       "      <th>ID number</th>\n",
       "      <th>Diagnosis</th>\n",
       "      <th>mean radius</th>\n",
       "      <th>mean texture</th>\n",
       "      <th>mean perimeter</th>\n",
       "      <th>mean area</th>\n",
       "      <th>mean smoothness</th>\n",
       "      <th>mean compactness</th>\n",
       "      <th>mean concavity</th>\n",
       "      <th>mean concave points</th>\n",
       "      <th>mean symmetry</th>\n",
       "      <th>mean fractal dimension</th>\n",
       "      <th>radius error</th>\n",
       "      <th>texture error</th>\n",
       "      <th>perimeter error</th>\n",
       "      <th>area error</th>\n",
       "      <th>smoothness error</th>\n",
       "      <th>compactness error</th>\n",
       "      <th>concavity error</th>\n",
       "      <th>concave points error</th>\n",
       "      <th>symmetry error</th>\n",
       "      <th>fractal dimension error</th>\n",
       "      <th>worst radius</th>\n",
       "      <th>worst texture</th>\n",
       "      <th>worst perimeter</th>\n",
       "      <th>worst area</th>\n",
       "      <th>worst smoothness</th>\n",
       "      <th>worst compactness</th>\n",
       "      <th>worst concavity</th>\n",
       "      <th>worst concave points</th>\n",
       "      <th>worst symmetry</th>\n",
       "      <th>worst fractal dimension</th>\n",
       "    </tr>\n",
       "  </thead>\n",
       "  <tbody>\n",
       "    <tr>\n",
       "      <th>0</th>\n",
       "      <td>842302</td>\n",
       "      <td>M</td>\n",
       "      <td>17.99</td>\n",
       "      <td>10.38</td>\n",
       "      <td>122.80</td>\n",
       "      <td>1001.0</td>\n",
       "      <td>0.11840</td>\n",
       "      <td>0.27760</td>\n",
       "      <td>0.3001</td>\n",
       "      <td>0.14710</td>\n",
       "      <td>0.2419</td>\n",
       "      <td>0.07871</td>\n",
       "      <td>1.0950</td>\n",
       "      <td>0.9053</td>\n",
       "      <td>8.589</td>\n",
       "      <td>153.40</td>\n",
       "      <td>0.006399</td>\n",
       "      <td>0.04904</td>\n",
       "      <td>0.05373</td>\n",
       "      <td>0.01587</td>\n",
       "      <td>0.03003</td>\n",
       "      <td>0.006193</td>\n",
       "      <td>25.38</td>\n",
       "      <td>17.33</td>\n",
       "      <td>184.60</td>\n",
       "      <td>2019.0</td>\n",
       "      <td>0.1622</td>\n",
       "      <td>0.6656</td>\n",
       "      <td>0.7119</td>\n",
       "      <td>0.2654</td>\n",
       "      <td>0.4601</td>\n",
       "      <td>0.11890</td>\n",
       "    </tr>\n",
       "    <tr>\n",
       "      <th>1</th>\n",
       "      <td>842517</td>\n",
       "      <td>M</td>\n",
       "      <td>20.57</td>\n",
       "      <td>17.77</td>\n",
       "      <td>132.90</td>\n",
       "      <td>1326.0</td>\n",
       "      <td>0.08474</td>\n",
       "      <td>0.07864</td>\n",
       "      <td>0.0869</td>\n",
       "      <td>0.07017</td>\n",
       "      <td>0.1812</td>\n",
       "      <td>0.05667</td>\n",
       "      <td>0.5435</td>\n",
       "      <td>0.7339</td>\n",
       "      <td>3.398</td>\n",
       "      <td>74.08</td>\n",
       "      <td>0.005225</td>\n",
       "      <td>0.01308</td>\n",
       "      <td>0.01860</td>\n",
       "      <td>0.01340</td>\n",
       "      <td>0.01389</td>\n",
       "      <td>0.003532</td>\n",
       "      <td>24.99</td>\n",
       "      <td>23.41</td>\n",
       "      <td>158.80</td>\n",
       "      <td>1956.0</td>\n",
       "      <td>0.1238</td>\n",
       "      <td>0.1866</td>\n",
       "      <td>0.2416</td>\n",
       "      <td>0.1860</td>\n",
       "      <td>0.2750</td>\n",
       "      <td>0.08902</td>\n",
       "    </tr>\n",
       "    <tr>\n",
       "      <th>2</th>\n",
       "      <td>84300903</td>\n",
       "      <td>M</td>\n",
       "      <td>19.69</td>\n",
       "      <td>21.25</td>\n",
       "      <td>130.00</td>\n",
       "      <td>1203.0</td>\n",
       "      <td>0.10960</td>\n",
       "      <td>0.15990</td>\n",
       "      <td>0.1974</td>\n",
       "      <td>0.12790</td>\n",
       "      <td>0.2069</td>\n",
       "      <td>0.05999</td>\n",
       "      <td>0.7456</td>\n",
       "      <td>0.7869</td>\n",
       "      <td>4.585</td>\n",
       "      <td>94.03</td>\n",
       "      <td>0.006150</td>\n",
       "      <td>0.04006</td>\n",
       "      <td>0.03832</td>\n",
       "      <td>0.02058</td>\n",
       "      <td>0.02250</td>\n",
       "      <td>0.004571</td>\n",
       "      <td>23.57</td>\n",
       "      <td>25.53</td>\n",
       "      <td>152.50</td>\n",
       "      <td>1709.0</td>\n",
       "      <td>0.1444</td>\n",
       "      <td>0.4245</td>\n",
       "      <td>0.4504</td>\n",
       "      <td>0.2430</td>\n",
       "      <td>0.3613</td>\n",
       "      <td>0.08758</td>\n",
       "    </tr>\n",
       "    <tr>\n",
       "      <th>3</th>\n",
       "      <td>84348301</td>\n",
       "      <td>M</td>\n",
       "      <td>11.42</td>\n",
       "      <td>20.38</td>\n",
       "      <td>77.58</td>\n",
       "      <td>386.1</td>\n",
       "      <td>0.14250</td>\n",
       "      <td>0.28390</td>\n",
       "      <td>0.2414</td>\n",
       "      <td>0.10520</td>\n",
       "      <td>0.2597</td>\n",
       "      <td>0.09744</td>\n",
       "      <td>0.4956</td>\n",
       "      <td>1.1560</td>\n",
       "      <td>3.445</td>\n",
       "      <td>27.23</td>\n",
       "      <td>0.009110</td>\n",
       "      <td>0.07458</td>\n",
       "      <td>0.05661</td>\n",
       "      <td>0.01867</td>\n",
       "      <td>0.05963</td>\n",
       "      <td>0.009208</td>\n",
       "      <td>14.91</td>\n",
       "      <td>26.50</td>\n",
       "      <td>98.87</td>\n",
       "      <td>567.7</td>\n",
       "      <td>0.2098</td>\n",
       "      <td>0.8663</td>\n",
       "      <td>0.6869</td>\n",
       "      <td>0.2575</td>\n",
       "      <td>0.6638</td>\n",
       "      <td>0.17300</td>\n",
       "    </tr>\n",
       "    <tr>\n",
       "      <th>4</th>\n",
       "      <td>84358402</td>\n",
       "      <td>M</td>\n",
       "      <td>20.29</td>\n",
       "      <td>14.34</td>\n",
       "      <td>135.10</td>\n",
       "      <td>1297.0</td>\n",
       "      <td>0.10030</td>\n",
       "      <td>0.13280</td>\n",
       "      <td>0.1980</td>\n",
       "      <td>0.10430</td>\n",
       "      <td>0.1809</td>\n",
       "      <td>0.05883</td>\n",
       "      <td>0.7572</td>\n",
       "      <td>0.7813</td>\n",
       "      <td>5.438</td>\n",
       "      <td>94.44</td>\n",
       "      <td>0.011490</td>\n",
       "      <td>0.02461</td>\n",
       "      <td>0.05688</td>\n",
       "      <td>0.01885</td>\n",
       "      <td>0.01756</td>\n",
       "      <td>0.005115</td>\n",
       "      <td>22.54</td>\n",
       "      <td>16.67</td>\n",
       "      <td>152.20</td>\n",
       "      <td>1575.0</td>\n",
       "      <td>0.1374</td>\n",
       "      <td>0.2050</td>\n",
       "      <td>0.4000</td>\n",
       "      <td>0.1625</td>\n",
       "      <td>0.2364</td>\n",
       "      <td>0.07678</td>\n",
       "    </tr>\n",
       "  </tbody>\n",
       "</table>\n",
       "</div>"
      ],
      "text/plain": [
       "   ID number Diagnosis  mean radius  mean texture  mean perimeter  mean area  \\\n",
       "0     842302         M        17.99         10.38          122.80     1001.0   \n",
       "1     842517         M        20.57         17.77          132.90     1326.0   \n",
       "2   84300903         M        19.69         21.25          130.00     1203.0   \n",
       "3   84348301         M        11.42         20.38           77.58      386.1   \n",
       "4   84358402         M        20.29         14.34          135.10     1297.0   \n",
       "\n",
       "   mean smoothness  mean compactness  mean concavity  mean concave points  \\\n",
       "0          0.11840           0.27760          0.3001              0.14710   \n",
       "1          0.08474           0.07864          0.0869              0.07017   \n",
       "2          0.10960           0.15990          0.1974              0.12790   \n",
       "3          0.14250           0.28390          0.2414              0.10520   \n",
       "4          0.10030           0.13280          0.1980              0.10430   \n",
       "\n",
       "   mean symmetry  mean fractal dimension  radius error  texture error  \\\n",
       "0         0.2419                 0.07871        1.0950         0.9053   \n",
       "1         0.1812                 0.05667        0.5435         0.7339   \n",
       "2         0.2069                 0.05999        0.7456         0.7869   \n",
       "3         0.2597                 0.09744        0.4956         1.1560   \n",
       "4         0.1809                 0.05883        0.7572         0.7813   \n",
       "\n",
       "   perimeter error  area error  smoothness error  compactness error  \\\n",
       "0            8.589      153.40          0.006399            0.04904   \n",
       "1            3.398       74.08          0.005225            0.01308   \n",
       "2            4.585       94.03          0.006150            0.04006   \n",
       "3            3.445       27.23          0.009110            0.07458   \n",
       "4            5.438       94.44          0.011490            0.02461   \n",
       "\n",
       "   concavity error  concave points error  symmetry error  \\\n",
       "0          0.05373               0.01587         0.03003   \n",
       "1          0.01860               0.01340         0.01389   \n",
       "2          0.03832               0.02058         0.02250   \n",
       "3          0.05661               0.01867         0.05963   \n",
       "4          0.05688               0.01885         0.01756   \n",
       "\n",
       "   fractal dimension error  worst radius  worst texture  worst perimeter  \\\n",
       "0                 0.006193         25.38          17.33           184.60   \n",
       "1                 0.003532         24.99          23.41           158.80   \n",
       "2                 0.004571         23.57          25.53           152.50   \n",
       "3                 0.009208         14.91          26.50            98.87   \n",
       "4                 0.005115         22.54          16.67           152.20   \n",
       "\n",
       "   worst area  worst smoothness  worst compactness  worst concavity  \\\n",
       "0      2019.0            0.1622             0.6656           0.7119   \n",
       "1      1956.0            0.1238             0.1866           0.2416   \n",
       "2      1709.0            0.1444             0.4245           0.4504   \n",
       "3       567.7            0.2098             0.8663           0.6869   \n",
       "4      1575.0            0.1374             0.2050           0.4000   \n",
       "\n",
       "   worst concave points  worst symmetry  worst fractal dimension  \n",
       "0                0.2654          0.4601                  0.11890  \n",
       "1                0.1860          0.2750                  0.08902  \n",
       "2                0.2430          0.3613                  0.08758  \n",
       "3                0.2575          0.6638                  0.17300  \n",
       "4                0.1625          0.2364                  0.07678  "
      ]
     },
     "execution_count": 4,
     "metadata": {},
     "output_type": "execute_result"
    }
   ],
   "source": [
    "df.head()"
   ]
  },
  {
   "cell_type": "code",
   "execution_count": 13,
   "metadata": {},
   "outputs": [
    {
     "data": {
      "text/plain": [
       "(569, 31)"
      ]
     },
     "execution_count": 13,
     "metadata": {},
     "output_type": "execute_result"
    }
   ],
   "source": [
    "df.shape"
   ]
  },
  {
   "cell_type": "code",
   "execution_count": 4,
   "metadata": {
    "collapsed": true
   },
   "outputs": [],
   "source": [
    "Diagnosis_mapping = {'M':1, 'B':0}\n",
    "df.Diagnosis = df.Diagnosis.map(Diagnosis_mapping)"
   ]
  },
  {
   "cell_type": "code",
   "execution_count": 17,
   "metadata": {},
   "outputs": [
    {
     "data": {
      "text/plain": [
       "0    357\n",
       "1    212\n",
       "Name: Diagnosis, dtype: int64"
      ]
     },
     "execution_count": 17,
     "metadata": {},
     "output_type": "execute_result"
    }
   ],
   "source": [
    "df.Diagnosis.value_counts()"
   ]
  },
  {
   "cell_type": "code",
   "execution_count": 5,
   "metadata": {
    "collapsed": true
   },
   "outputs": [],
   "source": [
    "df.drop('ID number', axis=1 , inplace=True)"
   ]
  },
  {
   "cell_type": "code",
   "execution_count": 8,
   "metadata": {
    "collapsed": true
   },
   "outputs": [],
   "source": [
    "df_wide = df[['Diagnosis','mean radius', 'mean texture', 'mean perimeter', 'mean area',\n",
    "       'mean smoothness', 'mean compactness', 'mean concavity',\n",
    "       'mean concave points', 'mean symmetry', 'mean fractal dimension']]\n",
    "df_long = pd.melt(df_wide, id_vars = 'Diagnosis')\n"
   ]
  },
  {
   "cell_type": "code",
   "execution_count": 9,
   "metadata": {},
   "outputs": [
    {
     "data": {
      "image/png": "[encoded data removed]",
      "text/plain": [
       "<matplotlib.figure.Figure at 0x1e591ddca58>"
      ]
     },
     "metadata": {},
     "output_type": "display_data"
    }
   ],
   "source": [
    "sns.lmplot(data = df_long, x ='value', y = 'Diagnosis', col=  'variable', sharex= False)\n",
    "plt.show()"
   ]
  },
  {
   "cell_type": "code",
   "execution_count": 10,
   "metadata": {},
   "outputs": [
    {
     "data": {
      "image/png": "[encoded data removed]",
      "text/plain": [
       "<matplotlib.figure.Figure at 0x1e5929c1908>"
      ]
     },
     "metadata": {},
     "output_type": "display_data"
    }
   ],
   "source": [
    "sns.heatmap(df.corr())\n",
    "plt.show()"
   ]
  },
  {
   "cell_type": "code",
   "execution_count": 12,
   "metadata": {},
   "outputs": [
    {
     "data": {
      "text/plain": [
       "0    357\n",
       "1    212\n",
       "Name: Diagnosis, dtype: int64"
      ]
     },
     "execution_count": 12,
     "metadata": {},
     "output_type": "execute_result"
    }
   ],
   "source": [
    "df.Diagnosis.value_counts()"
   ]
  },
  {
   "cell_type": "code",
   "execution_count": 6,
   "metadata": {
    "collapsed": true
   },
   "outputs": [],
   "source": [
    "X = df.iloc[:, 1:]\n",
    "Y = df['Diagnosis']"
   ]
  },
  {
   "cell_type": "code",
   "execution_count": 7,
   "metadata": {
    "collapsed": true
   },
   "outputs": [],
   "source": [
    "X_train, X_test, Y_train, Y_test = train_test_split(X,Y,test_size=0.25, random_state=42)"
   ]
  },
  {
   "cell_type": "code",
   "execution_count": 9,
   "metadata": {},
   "outputs": [
    {
     "name": "stdout",
     "output_type": "stream",
     "text": [
      "(426, 30)\n",
      "(143, 30)\n"
     ]
    }
   ],
   "source": [
    "print(X_train.shape)\n",
    "print(X_test.shape)"
   ]
  },
  {
   "cell_type": "markdown",
   "metadata": {},
   "source": [
    "# Let's start with Bernoulli"
   ]
  },
  {
   "cell_type": "code",
   "execution_count": 18,
   "metadata": {},
   "outputs": [
    {
     "name": "stdout",
     "output_type": "stream",
     "text": [
      "\n",
      "  Average cross_val_score on Training Data :  0.629125138427\n",
      "\n",
      "  Average cross_val_score on Test Data :  0.622477650064\n",
      "\n",
      "  Average cross_val_score on ROC AUC :  0.527777777778\n"
     ]
    }
   ],
   "source": [
    "bnb = BernoulliNB()\n",
    "train_score = cross_val_score(bnb, X_train, Y_train, cv=5)\n",
    "print('\\n  Average cross_val_score on Training Data : ', train_score.mean())\n",
    "test_score = cross_val_score(bnb, X_test, Y_test, cv=5)\n",
    "print('\\n  Average cross_val_score on Test Data : ', test_score.mean())\n",
    "roc_score = cross_val_score(bnb, X_test, Y_test, cv=5, scoring = 'roc_auc')\n",
    "print('\\n  Average cross_val_score on ROC AUC : ', roc_score.mean())"
   ]
  },
  {
   "cell_type": "code",
   "execution_count": 34,
   "metadata": {
    "collapsed": true
   },
   "outputs": [],
   "source": [
    "X = df.iloc[:, 1:]\n",
    "Y = df['Diagnosis']"
   ]
  },
  {
   "cell_type": "code",
   "execution_count": 35,
   "metadata": {},
   "outputs": [
    {
     "data": {
      "image/png": "[encoded data removed]",
      "text/plain": [
       "<matplotlib.figure.Figure at 0x199fcb74e48>"
      ]
     },
     "metadata": {},
     "output_type": "display_data"
    }
   ],
   "source": [
    "corr_mat = X.corr()\n",
    "sns.heatmap(corr_mat)\n",
    "plt.show()"
   ]
  },
  {
   "cell_type": "markdown",
   "metadata": {},
   "source": [
    "Many features are related to each other. So lets try PCA on this first and again calculate the scores."
   ]
  },
  {
   "cell_type": "code",
   "execution_count": 36,
   "metadata": {},
   "outputs": [
    {
     "name": "stdout",
     "output_type": "stream",
     "text": [
      "The percentage of total variance in the dataset explained by each component from Sklearn PCA.\n",
      " [ 0.44272026  0.63243208  0.72636371  0.79238506  0.84734274  0.88758796\n",
      "  0.9100953   0.92598254  0.93987903  0.95156881  0.961366    0.97007138\n",
      "  0.97811663  0.98335029  0.98648812  0.98915022  0.99113018  0.99288414\n",
      "  0.9945334   0.99557204  0.99657114  0.99748579  0.99829715  0.99889898\n",
      "  0.99941502  0.99968761  0.99991763  0.99997061  0.99999557  1.        ]\n"
     ]
    }
   ],
   "source": [
    "X_std = StandardScaler().fit_transform(X)\n",
    "pca = PCA(n_components=30)\n",
    "X_pca = pd.DataFrame(pca.fit_transform(X_std))\n",
    "\n",
    "print(\n",
    "    'The percentage of total variance in the dataset explained by each component from Sklearn PCA.\\n',\n",
    "    pca.explained_variance_ratio_.cumsum()\n",
    ")"
   ]
  },
  {
   "cell_type": "markdown",
   "metadata": {},
   "source": [
    "Lets consider we want features which can explain 98% variance"
   ]
  },
  {
   "cell_type": "code",
   "execution_count": 37,
   "metadata": {
    "collapsed": true
   },
   "outputs": [],
   "source": [
    "pca = PCA(n_components=15)\n",
    "X_pca = pd.DataFrame(pca.fit_transform(X_std))"
   ]
  },
  {
   "cell_type": "code",
   "execution_count": 38,
   "metadata": {},
   "outputs": [
    {
     "data": {
      "image/png": "[encoded data removed]",
      "text/plain": [
       "<matplotlib.figure.Figure at 0x199fd8ac668>"
      ]
     },
     "metadata": {},
     "output_type": "display_data"
    }
   ],
   "source": [
    "corr_mat = X_pca.corr()\n",
    "sns.heatmap(corr_mat)\n",
    "plt.show()"
   ]
  },
  {
   "cell_type": "code",
   "execution_count": 39,
   "metadata": {},
   "outputs": [
    {
     "name": "stdout",
     "output_type": "stream",
     "text": [
      "(455, 15)\n",
      "(114, 15)\n"
     ]
    }
   ],
   "source": [
    "X_train, X_test, Y_train , Y_test = train_test_split(X_pca,Y,test_size=0.2, stratify = Y )\n",
    "print(X_train.shape)\n",
    "print(X_test.shape)"
   ]
  },
  {
   "cell_type": "code",
   "execution_count": 40,
   "metadata": {},
   "outputs": [
    {
     "name": "stdout",
     "output_type": "stream",
     "text": [
      "\n",
      "  Average cross_val_score on Training Data :  0.98021978022\n",
      "\n",
      "  Average cross_val_score on Test Data :  0.966666666667\n",
      "\n",
      "  Average cross_val_score on ROC AUC :  0.994074074074\n"
     ]
    }
   ],
   "source": [
    "bnb = BernoulliNB()\n",
    "bnb_train_score = cross_val_score(bnb, X_train, Y_train, cv=5)\n",
    "print('\\n  Average cross_val_score on Training Data : ', train_score.mean())\n",
    "bnb_test_score = cross_val_score(bnb, X_test, Y_test, cv=5)\n",
    "print('\\n  Average cross_val_score on Test Data : ', test_score.mean())\n",
    "bnb_roc_score = cross_val_score(bnb, X_test, Y_test, cv=5, scoring = 'roc_auc')\n",
    "print('\\n  Average cross_val_score on ROC AUC : ', roc_score.mean())"
   ]
  },
  {
   "cell_type": "markdown",
   "metadata": {},
   "source": [
    "The scores of bernoulli Naive Bayes is better now."
   ]
  },
  {
   "cell_type": "markdown",
   "metadata": {},
   "source": [
    "# Let's Try LOGISTIC REGRESSION on this."
   ]
  },
  {
   "cell_type": "code",
   "execution_count": 41,
   "metadata": {},
   "outputs": [
    {
     "name": "stdout",
     "output_type": "stream",
     "text": [
      "\n",
      "  Average cross_val_score on Training Data :  0.98021978022\n",
      "\n",
      "  Average cross_val_score on Test Data :  0.966666666667\n",
      "\n",
      "  Average cross_val_score on ROC AUC :  0.994074074074\n"
     ]
    }
   ],
   "source": [
    "# LOGISTIC REGRESSION\n",
    "logreg = LogisticRegression(random_state=42)\n",
    "logreg.fit(X_train, Y_train)\n",
    "logreg_train_score = cross_val_score(logreg, X_train, Y_train, cv=5)\n",
    "print('\\n  Average cross_val_score on Training Data : ', train_score.mean())\n",
    "logreg_test_score = cross_val_score(logreg, X_test, Y_test, cv=5)\n",
    "print('\\n  Average cross_val_score on Test Data : ', test_score.mean())\n",
    "logreg_roc_score = cross_val_score(logreg, X_test, Y_test, cv=5, scoring = 'roc_auc')\n",
    "print('\\n  Average cross_val_score on ROC AUC : ', roc_score.mean())"
   ]
  },
  {
   "cell_type": "code",
   "execution_count": 21,
   "metadata": {},
   "outputs": [
    {
     "data": {
      "text/plain": [
       "array([-0.3908732])"
      ]
     },
     "execution_count": 21,
     "metadata": {},
     "output_type": "execute_result"
    }
   ],
   "source": [
    "logreg.intercept_"
   ]
  },
  {
   "cell_type": "code",
   "execution_count": 22,
   "metadata": {},
   "outputs": [
    {
     "data": {
      "text/plain": [
       "array([[ 2.57139788, -1.38418695, -0.39693264, -0.48811594, -0.94354927,\n",
       "        -0.44283434,  0.16272486,  0.59327838,  0.9984217 , -0.49824143,\n",
       "         0.41279179,  0.09498438, -0.52791376, -0.657804  ,  0.16099921]])"
      ]
     },
     "execution_count": 22,
     "metadata": {},
     "output_type": "execute_result"
    }
   ],
   "source": [
    "logreg.coef_"
   ]
  },
  {
   "cell_type": "markdown",
   "metadata": {
    "collapsed": true
   },
   "source": [
    "# Lets Try KNN on this."
   ]
  },
  {
   "cell_type": "markdown",
   "metadata": {},
   "source": [
    "I am considering the original dataset here, then go for standardization of the features."
   ]
  },
  {
   "cell_type": "code",
   "execution_count": 42,
   "metadata": {},
   "outputs": [
    {
     "name": "stdout",
     "output_type": "stream",
     "text": [
      "(455, 30)\n",
      "(114, 30)\n"
     ]
    }
   ],
   "source": [
    "X_std = StandardScaler().fit_transform(X)\n",
    "\n",
    "X_train, X_test, Y_train , Y_test = train_test_split(X_std,Y,test_size=0.2, stratify = Y )\n",
    "print(X_train.shape)\n",
    "print(X_test.shape)"
   ]
  },
  {
   "cell_type": "code",
   "execution_count": 24,
   "metadata": {},
   "outputs": [
    {
     "name": "stdout",
     "output_type": "stream",
     "text": [
      "Best Score: 0.992279186978\n",
      "Best Parameters: {'n_neighbors': 14}\n"
     ]
    }
   ],
   "source": [
    "knn = KNeighborsClassifier()\n",
    "# Set of parameters to test for best score in Grid Search CV\n",
    "k = np.arange(2,15,1)\n",
    "parameters = {'n_neighbors':k}\n",
    "\n",
    "#fitting model and printing best parameters and score from model\n",
    "grid_knn = GridSearchCV(knn, param_grid=parameters, scoring='roc_auc')\n",
    "grid_knn.fit(X_train, Y_train)\n",
    "\n",
    "print('Best Score:', grid_knn.best_score_)\n",
    "best_params_knn = grid_knn.best_params_\n",
    "print('Best Parameters:', best_params_knn)"
   ]
  },
  {
   "cell_type": "markdown",
   "metadata": {},
   "source": [
    "\n",
    "Now that we know what best parameters to use, let's use these parameters for a new KNN model and fit the model to the training data, then test the accuracy of the test set."
   ]
  },
  {
   "cell_type": "code",
   "execution_count": 43,
   "metadata": {},
   "outputs": [
    {
     "name": "stdout",
     "output_type": "stream",
     "text": [
      "Training Data Accuracy: 0.96 +/- 0.01\n",
      "Test Data Accuracy: 0.92 +/- 0.04\n",
      "ROC AUC Accuracy: 0.99 +/- 0.01\n",
      "\n",
      "Duration :  0:00:00.046861\n"
     ]
    }
   ],
   "source": [
    "knn = KNeighborsClassifier(**best_params_knn)\n",
    "start_time = datetime.now()\n",
    "knn_train_score = cross_val_score(knn, X_train, Y_train, cv=5)\n",
    "knn_test_score = cross_val_score(knn, X_test, Y_test, cv=5)\n",
    "knn_roc_score = cross_val_score(knn, X_test, Y_test, cv=5,  scoring='roc_auc')\n",
    "\n",
    "print('Training Data Accuracy: %.2f +/- %.2f' % (knn_train_score.mean(), knn_train_score.std()))\n",
    "print('Test Data Accuracy: %.2f +/- %.2f' % (knn_test_score.mean(), knn_test_score.std()))\n",
    "print('ROC AUC Accuracy: %.2f +/- %.2f' % (knn_roc_score.mean(), knn_roc_score.std()))\n",
    "print()\n",
    "print(\"Duration : \", (datetime.now() - start_time))"
   ]
  },
  {
   "cell_type": "markdown",
   "metadata": {},
   "source": [
    "# Decsion Tree"
   ]
  },
  {
   "cell_type": "code",
   "execution_count": 48,
   "metadata": {
    "collapsed": true
   },
   "outputs": [],
   "source": [
    "X = df.iloc[:, 1:]\n",
    "Y = df['Diagnosis']\n",
    "X_train, X_test, Y_train, Y_test = train_test_split(X,Y,test_size=0.25, random_state=42)"
   ]
  },
  {
   "cell_type": "code",
   "execution_count": 49,
   "metadata": {},
   "outputs": [
    {
     "name": "stdout",
     "output_type": "stream",
     "text": [
      "Duration :  0:00:00.359399\n",
      "0.934272300469\n",
      "{'max_depth': None, 'max_features': 3}\n"
     ]
    }
   ],
   "source": [
    "start_time = datetime.now()\n",
    "params = {'max_depth': [3, 4, 5, 6, 7, None],\n",
    "          'max_features':[1,2,3,4]\n",
    "         }\n",
    "gs = GridSearchCV(estimator=DecisionTreeClassifier(random_state=0),\n",
    "                  param_grid=params,\n",
    "                  scoring='accuracy',\n",
    "                  cv=5)\n",
    "\n",
    "gs = gs.fit(X_train, Y_train)\n",
    "\n",
    "print(\"Duration : \", (datetime.now() - start_time))\n",
    "\n",
    "print(gs.best_score_)\n",
    "print(gs.best_params_)"
   ]
  },
  {
   "cell_type": "code",
   "execution_count": 50,
   "metadata": {},
   "outputs": [
    {
     "name": "stdout",
     "output_type": "stream",
     "text": [
      "Training Data Accuracy: 0.93 +/- 0.01\n",
      "Test Data Accuracy: 0.91 +/- 0.02\n",
      "ROC AUC Accuracy: 0.89 +/- 0.02\n",
      "\n",
      "Duration :  0:00:00.031252\n"
     ]
    }
   ],
   "source": [
    "decision_tree = DecisionTreeClassifier(**gs.best_params_ , random_state=0)\n",
    "start_time = datetime.now()\n",
    "decision_tree_train_score = cross_val_score(decision_tree, X_train, Y_train, cv=5)\n",
    "decision_tree_test_score = cross_val_score(decision_tree, X_test, Y_test, cv=5)\n",
    "decision_tree_roc_score = cross_val_score(decision_tree, X_test, Y_test, cv=5,  scoring='roc_auc')\n",
    "\n",
    "print('Training Data Accuracy: %.2f +/- %.2f' % (decision_tree_train_score.mean(), decision_tree_train_score.std()))\n",
    "print('Test Data Accuracy: %.2f +/- %.2f' % (decision_tree_test_score.mean(), decision_tree_test_score.std()))\n",
    "print('ROC AUC Accuracy: %.2f +/- %.2f' % (decision_tree_roc_score.mean(), decision_tree_roc_score.std()))\n",
    "print()\n",
    "print(\"Duration : \", (datetime.now() - start_time))"
   ]
  },
  {
   "cell_type": "markdown",
   "metadata": {},
   "source": [
    "# Try with RandomForest Classifier"
   ]
  },
  {
   "cell_type": "code",
   "execution_count": 53,
   "metadata": {},
   "outputs": [
    {
     "name": "stdout",
     "output_type": "stream",
     "text": [
      "Training Data Accuracy: 0.96 +/- 0.02\n",
      "Test Data Accuracy: 0.94 +/- 0.04\n",
      "ROC AUC Accuracy: 0.999 +/- 0.002\n",
      "\n",
      "Duration :  0:00:01.981804\n"
     ]
    }
   ],
   "source": [
    "forest = RandomForestClassifier(criterion='entropy',n_estimators=100,random_state=42)\n",
    "start_time = datetime.now()\n",
    "forest_train_score = cross_val_score(forest, X_train, Y_train, cv=5)\n",
    "forest_test_score = cross_val_score(forest, X_test, Y_test, cv=5)\n",
    "forest_roc_score = cross_val_score(forest, X_test, Y_test, cv=5,  scoring='roc_auc')\n",
    "#print(forest_score)\n",
    "print('Training Data Accuracy: %.2f +/- %.2f' % (forest_train_score.mean(), forest_train_score.std()))\n",
    "print('Test Data Accuracy: %.2f +/- %.2f' % (forest_test_score.mean(), forest_test_score.std()))\n",
    "print('ROC AUC Accuracy: %.3f +/- %.3f' % (forest_roc_score.mean(), forest_roc_score.std()))\n",
    "print()\n",
    "print(\"Duration : \", (datetime.now() - start_time))"
   ]
  },
  {
   "cell_type": "markdown",
   "metadata": {},
   "source": [
    "Now that we know what best parameters to use, let's use these parameters for a new random forest model and fit the model to the training data, then test the accuracy of the test set."
   ]
  },
  {
   "cell_type": "markdown",
   "metadata": {},
   "source": [
    "# Try with Gradient Boosting Classifier"
   ]
  },
  {
   "cell_type": "code",
   "execution_count": 62,
   "metadata": {},
   "outputs": [
    {
     "name": "stdout",
     "output_type": "stream",
     "text": [
      "0.969483568075\n",
      "{'learning_rate': 0.1, 'loss': 'deviance', 'max_depth': 4, 'n_estimators': 500, 'subsample': 0.6}\n"
     ]
    }
   ],
   "source": [
    "# Set of parameters to test for best score in Grid Search CV\n",
    "\n",
    "gbc_params = {\n",
    "    'loss':['deviance','exponential'] ,\n",
    "    'max_depth':[4, 6,7, 8, None],\n",
    "    'n_estimators':[50, 100,200, 500],\n",
    "    'subsample':[0.6,0.8],\n",
    "    'learning_rate':[0.05,0.1, 0.3]\n",
    "}\n",
    "gbc_grid = GridSearchCV(GradientBoostingClassifier(), param_grid=gbc_params)\n",
    "gbc_grid.fit(X_train, Y_train)\n",
    "\n",
    "print(gbc_grid.best_score_)\n",
    "print(gbc_grid.best_params_)"
   ]
  },
  {
   "cell_type": "markdown",
   "metadata": {},
   "source": [
    "\n",
    "Now that we know what best parameters to use, let's use these parameters for a new gradient boosting classifier model and fit the model to the training data, then test the accuracy of the test set."
   ]
  },
  {
   "cell_type": "code",
   "execution_count": 63,
   "metadata": {},
   "outputs": [
    {
     "name": "stdout",
     "output_type": "stream",
     "text": [
      "Training Data Accuracy: 0.96 +/- 0.02\n",
      "Test Data Accuracy: 0.94 +/- 0.03\n",
      "ROC AUC Accuracy: 0.99 +/- 0.00\n",
      "\n",
      "Duration :  0:00:03.567662\n"
     ]
    }
   ],
   "source": [
    "gbc2 = GradientBoostingClassifier(**gbc_grid.best_params_)\n",
    "gbc2.fit(X_train, Y_train)\n",
    "\n",
    "start_time = datetime.now()\n",
    "gbc_train_score = cross_val_score(gbc2, X_train, Y_train, cv=5)\n",
    "gbc_test_score = cross_val_score(gbc2, X_test, Y_test, cv=5)\n",
    "gbc_roc_score = cross_val_score(gbc2, X_test, Y_test, cv=5,  scoring='roc_auc')\n",
    "\n",
    "print('Training Data Accuracy: %.2f +/- %.2f' % (gbc_train_score.mean(), gbc_train_score.std()))\n",
    "print('Test Data Accuracy: %.2f +/- %.2f' % (gbc_test_score.mean(), gbc_test_score.std()))\n",
    "print('ROC AUC Accuracy: %.2f +/- %.2f' % (gbc_roc_score.mean(), gbc_roc_score.std()))\n",
    "print()\n",
    "print(\"Duration : \", (datetime.now() - start_time))"
   ]
  },
  {
   "cell_type": "code",
   "execution_count": null,
   "metadata": {
    "collapsed": true
   },
   "outputs": [],
   "source": []
  },
  {
   "cell_type": "markdown",
   "metadata": {},
   "source": [
    "# Model Analysis\n",
    "Let's take a look at all of the model accuracies in comparison to get a better sense of the best models and then take a closer look at the best model."
   ]
  },
  {
   "cell_type": "code",
   "execution_count": 64,
   "metadata": {},
   "outputs": [
    {
     "data": {
      "text/html": [
       "<div>\n",
       "<style>\n",
       "    .dataframe thead tr:only-child th {\n",
       "        text-align: right;\n",
       "    }\n",
       "\n",
       "    .dataframe thead th {\n",
       "        text-align: left;\n",
       "    }\n",
       "\n",
       "    .dataframe tbody tr th {\n",
       "        vertical-align: top;\n",
       "    }\n",
       "</style>\n",
       "<table border=\"1\" class=\"dataframe\">\n",
       "  <thead>\n",
       "    <tr style=\"text-align: right;\">\n",
       "      <th></th>\n",
       "      <th>Model</th>\n",
       "      <th>Train_Data_Average_Accuracy</th>\n",
       "      <th>Test_Data_Average_Accuracy</th>\n",
       "      <th>ROC_AUC_Score</th>\n",
       "    </tr>\n",
       "  </thead>\n",
       "  <tbody>\n",
       "    <tr>\n",
       "      <th>2</th>\n",
       "      <td>Random Forest</td>\n",
       "      <td>0.957586</td>\n",
       "      <td>0.936909</td>\n",
       "      <td>0.998990</td>\n",
       "    </tr>\n",
       "    <tr>\n",
       "      <th>3</th>\n",
       "      <td>Gradient_Boost</td>\n",
       "      <td>0.960022</td>\n",
       "      <td>0.937420</td>\n",
       "      <td>0.994617</td>\n",
       "    </tr>\n",
       "    <tr>\n",
       "      <th>1</th>\n",
       "      <td>KNN</td>\n",
       "      <td>0.962637</td>\n",
       "      <td>0.921212</td>\n",
       "      <td>0.993029</td>\n",
       "    </tr>\n",
       "    <tr>\n",
       "      <th>0</th>\n",
       "      <td>Logistic Regression</td>\n",
       "      <td>0.978022</td>\n",
       "      <td>0.956818</td>\n",
       "      <td>0.989021</td>\n",
       "    </tr>\n",
       "  </tbody>\n",
       "</table>\n",
       "</div>"
      ],
      "text/plain": [
       "                 Model  Train_Data_Average_Accuracy  \\\n",
       "2        Random Forest                     0.957586   \n",
       "3       Gradient_Boost                     0.960022   \n",
       "1                  KNN                     0.962637   \n",
       "0  Logistic Regression                     0.978022   \n",
       "\n",
       "   Test_Data_Average_Accuracy  ROC_AUC_Score  \n",
       "2                    0.936909       0.998990  \n",
       "3                    0.937420       0.994617  \n",
       "1                    0.921212       0.993029  \n",
       "0                    0.956818       0.989021  "
      ]
     },
     "execution_count": 64,
     "metadata": {},
     "output_type": "execute_result"
    }
   ],
   "source": [
    "score_list = [['Logistic Regression', logreg_train_score.mean() ,  logreg_test_score.mean(), logreg_roc_score.mean()],\n",
    "             ['KNN', knn_train_score.mean(), knn_test_score.mean(),  knn_roc_score.mean()],\n",
    "             ['Random Forest', forest_train_score.mean(),  forest_test_score.mean() , forest_roc_score.mean()],\n",
    "             ['Gradient_Boost', gbc_train_score.mean(), gbc_test_score.mean() , gbc_roc_score.mean()]\n",
    "             ]\n",
    "scores_overall = pd.DataFrame(score_list, columns=['Model','Train_Data_Average_Accuracy','Test_Data_Average_Accuracy', 'ROC_AUC_Score'])\n",
    "scores_overall.sort_values('ROC_AUC_Score', ascending=False)"
   ]
  },
  {
   "cell_type": "code",
   "execution_count": null,
   "metadata": {
    "collapsed": true
   },
   "outputs": [],
   "source": []
  },
  {
   "cell_type": "code",
   "execution_count": 65,
   "metadata": {},
   "outputs": [
    {
     "name": "stdout",
     "output_type": "stream",
     "text": [
      "             precision    recall  f1-score   support\n",
      "\n",
      "          0       0.97      0.99      0.98        89\n",
      "          1       0.98      0.94      0.96        54\n",
      "\n",
      "avg / total       0.97      0.97      0.97       143\n",
      "\n"
     ]
    },
    {
     "data": {
      "image/png": "[encoded data removed]",
      "text/plain": [
       "<matplotlib.figure.Figure at 0x199fd923d68>"
      ]
     },
     "metadata": {},
     "output_type": "display_data"
    }
   ],
   "source": [
    "rfc = RandomForestClassifier(criterion='entropy',n_estimators=100,random_state=42)\n",
    "rfc.fit(X_train, Y_train)\n",
    "Y_pred = rfc.predict(X_test)\n",
    "\n",
    "print(classification_report(Y_test, Y_pred))\n",
    "\n",
    "#Diagnosis_mapping = {'M':1, 'B':0}\n",
    "\n",
    "# Building confusion matrix\n",
    "conf_matrix_gbc_test = confusion_matrix(Y_test, Y_pred)\n",
    "# Creating heatmap of confusion matrix\n",
    "sns.heatmap(conf_matrix_gbc_test,\n",
    "           cmap='coolwarm_r',\n",
    "           annot=True,\n",
    "           linewidths=0.5)\n",
    "plt.title('RFC Confusion Matrix for Test Set')\n",
    "plt.xlabel('Predicted Class')\n",
    "plt.ylabel('Real Class')\n",
    "plt.show()"
   ]
  },
  {
   "cell_type": "markdown",
   "metadata": {},
   "source": [
    "The F1-score is the weighted average balance between precision and recall. This takes both the false positives and false negatives into account. Overall, the model was better able to predict for people with benign, though not bad with malignant"
   ]
  },
  {
   "cell_type": "markdown",
   "metadata": {},
   "source": [
    "# Let's Try the Multilayer perceptron Classifier on this dataset"
   ]
  },
  {
   "cell_type": "code",
   "execution_count": 9,
   "metadata": {},
   "outputs": [
    {
     "name": "stdout",
     "output_type": "stream",
     "text": [
      "(455, 30)\n",
      "(114, 30)\n"
     ]
    }
   ],
   "source": [
    "X_std = StandardScaler().fit_transform(X)\n",
    "\n",
    "X_train, X_test, Y_train , Y_test = train_test_split(X_std,Y,test_size=0.2, stratify = Y )\n",
    "print(X_train.shape)\n",
    "print(X_test.shape)"
   ]
  },
  {
   "cell_type": "code",
   "execution_count": 13,
   "metadata": {},
   "outputs": [
    {
     "name": "stdout",
     "output_type": "stream",
     "text": [
      "Training Data Accuracy: 0.96 +/- 0.01\n",
      "Test Data Accuracy: 0.97 +/- 0.02\n",
      "Adjusted Rand Index: 0.86 +/- 0.07\n",
      "\n",
      "Duration :  0:00:04.547777\n"
     ]
    }
   ],
   "source": [
    "start_time = datetime.now()\n",
    "# Establish and fit the model\n",
    "mlp = MLPClassifier(max_iter=500)\n",
    "mlp.fit(X_train, Y_train)\n",
    "\n",
    "mlp_train_score = cross_val_score(mlp, X_train, Y_train, cv=5)\n",
    "mlp_test_score = cross_val_score(mlp, X_test, Y_test, cv=5)\n",
    "mlp_ari_score = cross_val_score(mlp, X_test, Y_test, cv=5,  scoring='adjusted_rand_score')\n",
    "\n",
    "print('Training Data Accuracy: %.2f +/- %.2f' % (mlp_train_score.mean(), mlp_train_score.std()))\n",
    "print('Test Data Accuracy: %.2f +/- %.2f' % (mlp_test_score.mean(), mlp_test_score.std()))\n",
    "print('Adjusted Rand Index: %.2f +/- %.2f' % (mlp_ari_score.mean(), mlp_ari_score.std()))\n",
    "print()\n",
    "print(\"Duration : \", (datetime.now() - start_time))"
   ]
  },
  {
   "cell_type": "code",
   "execution_count": 16,
   "metadata": {},
   "outputs": [
    {
     "name": "stdout",
     "output_type": "stream",
     "text": [
      "col_0       0   1\n",
      "Diagnosis        \n",
      "0          72   0\n",
      "1           0  42\n"
     ]
    }
   ],
   "source": [
    "y_pred = mlp.predict(X_test)\n",
    "print(pd.crosstab(Y_test, y_pred))"
   ]
  },
  {
   "cell_type": "markdown",
   "metadata": {
    "collapsed": true
   },
   "source": [
    "Let's try Logistic activation function for the hidden layer. We'll keep all other default settings, except for the activation function."
   ]
  },
  {
   "cell_type": "code",
   "execution_count": 18,
   "metadata": {},
   "outputs": [
    {
     "name": "stdout",
     "output_type": "stream",
     "text": [
      "Training Data Accuracy: 0.98 +/- 0.02\n",
      "Test Data Accuracy: 0.98 +/- 0.02\n",
      "Adjusted Rand Index: 0.93 +/- 0.09\n",
      "\n",
      "Duration :  0:00:05.088152\n"
     ]
    }
   ],
   "source": [
    "start_time = datetime.now()\n",
    "mlp = MLPClassifier(activation='logistic', max_iter=500)\n",
    "mlp.fit(X_train, Y_train)\n",
    "\n",
    "mlp_train_score = cross_val_score(mlp, X_train, Y_train, cv=5)\n",
    "mlp_test_score = cross_val_score(mlp, X_test, Y_test, cv=5)\n",
    "mlp_ari_score = cross_val_score(mlp, X_test, Y_test, cv=5,  scoring='adjusted_rand_score')\n",
    "\n",
    "print('Training Data Accuracy: %.2f +/- %.2f' % (mlp_train_score.mean(), mlp_train_score.std()))\n",
    "print('Test Data Accuracy: %.2f +/- %.2f' % (mlp_test_score.mean(), mlp_test_score.std()))\n",
    "print('Adjusted Rand Index: %.2f +/- %.2f' % (mlp_ari_score.mean(), mlp_ari_score.std()))\n",
    "print()\n",
    "print(\"Duration : \", (datetime.now() - start_time))"
   ]
  },
  {
   "cell_type": "markdown",
   "metadata": {},
   "source": [
    "This adjusted rand score has increased.  let's take a look at the contingency table for the model."
   ]
  },
  {
   "cell_type": "code",
   "execution_count": 19,
   "metadata": {},
   "outputs": [
    {
     "name": "stdout",
     "output_type": "stream",
     "text": [
      "col_0       0   1\n",
      "Diagnosis        \n",
      "0          72   0\n",
      "1           1  41\n"
     ]
    }
   ],
   "source": [
    "y_pred = mlp.predict(X_test)\n",
    "print(pd.crosstab(Y_test, y_pred))"
   ]
  },
  {
   "cell_type": "markdown",
   "metadata": {},
   "source": [
    "The logistic activation of MLP classifier, though gave better scores, we see one misclassification here."
   ]
  },
  {
   "cell_type": "markdown",
   "metadata": {},
   "source": [
    "Let's try the gradient boosting classifier with scoring method as \"adjusted_rand_score\" instead of \"ROC AUC\""
   ]
  },
  {
   "cell_type": "code",
   "execution_count": 23,
   "metadata": {},
   "outputs": [
    {
     "name": "stdout",
     "output_type": "stream",
     "text": [
      "Training Data Accuracy: 0.95 +/- 0.03\n",
      "Test Data Accuracy: 0.92 +/- 0.04\n",
      "ARI Accuracy: 0.73 +/- 0.09\n",
      "\n",
      "Duration :  0:00:01.033832\n"
     ]
    }
   ],
   "source": [
    "gbc2 = GradientBoostingClassifier()\n",
    "gbc2.fit(X_train, Y_train)\n",
    "\n",
    "start_time = datetime.now()\n",
    "gbc_train_score = cross_val_score(gbc2, X_train, Y_train, cv=5)\n",
    "gbc_test_score = cross_val_score(gbc2, X_test, Y_test, cv=5)\n",
    "gbc_ari_score = cross_val_score(gbc2, X_test, Y_test, cv=5,  scoring='adjusted_rand_score')\n",
    "\n",
    "print('Training Data Accuracy: %.2f +/- %.2f' % (gbc_train_score.mean(), gbc_train_score.std()))\n",
    "print('Test Data Accuracy: %.2f +/- %.2f' % (gbc_test_score.mean(), gbc_test_score.std()))\n",
    "print('ARI Accuracy: %.2f +/- %.2f' % (gbc_ari_score.mean(), gbc_ari_score.std()))\n",
    "print()\n",
    "print(\"Duration : \", (datetime.now() - start_time))"
   ]
  },
  {
   "cell_type": "code",
   "execution_count": 33,
   "metadata": {},
   "outputs": [
    {
     "name": "stdout",
     "output_type": "stream",
     "text": [
      "Training Data Accuracy: 0.96 +/- 0.02\n",
      "Test Data Accuracy: 0.95 +/- 0.03\n",
      "ari Accuracy: 0.73 +/- 0.13\n",
      "\n",
      "Duration :  0:00:03.526960\n"
     ]
    }
   ],
   "source": [
    "gbc2 = GradientBoostingClassifier(learning_rate= 0.1, loss ='deviance', max_depth= 4, n_estimators= 500, subsample = 0.6)\n",
    "gbc2.fit(X_train, Y_train)\n",
    "\n",
    "start_time = datetime.now()\n",
    "gbc_train_score = cross_val_score(gbc2, X_train, Y_train, cv=5)\n",
    "gbc_test_score = cross_val_score(gbc2, X_test, Y_test, cv=5)\n",
    "gbc_ari_score = cross_val_score(gbc2, X_test, Y_test, cv=5,  scoring='adjusted_rand_score')\n",
    "\n",
    "print('Training Data Accuracy: %.2f +/- %.2f' % (gbc_train_score.mean(), gbc_train_score.std()))\n",
    "print('Test Data Accuracy: %.2f +/- %.2f' % (gbc_test_score.mean(), gbc_test_score.std()))\n",
    "print('ari Accuracy: %.2f +/- %.2f' % (gbc_ari_score.mean(), gbc_ari_score.std()))\n",
    "print()\n",
    "print(\"Duration : \", (datetime.now() - start_time))"
   ]
  },
  {
   "cell_type": "markdown",
   "metadata": {},
   "source": [
    "The ARI accuracy has decreased in gradient boosting"
   ]
  },
  {
   "cell_type": "markdown",
   "metadata": {},
   "source": [
    "# Conclusion"
   ]
  },
  {
   "cell_type": "markdown",
   "metadata": {},
   "source": [
    "Though more computationally intensive, the MLP classifier performed best, even without hyperparameter tuning. "
   ]
  }
 ],
 "metadata": {
  "kernelspec": {
   "display_name": "Python 3",
   "language": "python",
   "name": "python3"
  },
  "language_info": {
   "codemirror_mode": {
    "name": "ipython",
    "version": 3
   },
   "file_extension": ".py",
   "mimetype": "text/x-python",
   "name": "python",
   "nbconvert_exporter": "python",
   "pygments_lexer": "ipython3",
   "version": "3.6.3"
  }
 },
 "nbformat": 4,
 "nbformat_minor": 2
}
