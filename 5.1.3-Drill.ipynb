{
 "cells": [
  {
   "cell_type": "markdown",
   "metadata": {},
   "source": [
    "                                        100\n",
    "                                    /         \\\n",
    "                                   50           150\n",
    "                               /     \\        /     \\\n",
    "                              40     60      125    160\n",
    "                             /  \\    / \\     / \\     /  \\\n",
    "                            30  45  55 65  120 130  155  170"
   ]
  },
  {
   "cell_type": "code",
   "execution_count": 88,
   "metadata": {
    "collapsed": true
   },
   "outputs": [],
   "source": [
    "\n",
    "import queue\n",
    "\n",
    "class Node:\n",
    "\n",
    "    def __init__(self, data):\n",
    "\n",
    "        self.left = None\n",
    "        self.right = None\n",
    "        self.data = data\n",
    "\n",
    "    def insert(self, data):\n",
    "\n",
    "\n",
    "        if self.data:\n",
    "            \n",
    "            if data < self.data:\n",
    "                \n",
    "                if self.left is None:\n",
    "                    self.left = Node(data)\n",
    "                    \n",
    "                else:\n",
    "                    \n",
    "                    self.left.insert(data)\n",
    "            elif data > self.data:\n",
    "                \n",
    "                if self.right is None:\n",
    "                    self.right = Node(data)\n",
    "                    \n",
    "                else:\n",
    "                    \n",
    "                    self.right.insert(data)\n",
    "        else:\n",
    "            self.data = data\n",
    "\n",
    "\n",
    "            \n",
    "    def breadth_first_traversal(self):\n",
    "        q = queue.Queue(maxsize=0)\n",
    "        values = []\n",
    "        this = self\n",
    "        q.put(this)\n",
    "        while not q.empty():\n",
    "            this = q.get()\n",
    "            values.append(this.data)\n",
    "            if this.left != None:\n",
    "                q.put(this.left)\n",
    "            if this.right != None:\n",
    "                q.put(this.right)\n",
    "        print(values)\n",
    "    \n",
    "    def inorder_traverse(self):\n",
    "        values = []\n",
    "        \n",
    "        if self.left:\n",
    "            values.extend(self.left.inorder_traverse())\n",
    "        values.append(self.data)\n",
    "        if self.right:\n",
    "            values.extend(self.right.inorder_traverse())\n",
    "        return values\n",
    "\n",
    "    def preorder_traverse(self):\n",
    "        values = []\n",
    "        values.append(self.data)\n",
    "        if self.left:\n",
    "            values.extend(self.left.preorder_traverse())\n",
    "        \n",
    "        if self.right:\n",
    "            values.extend(self.right.preorder_traverse())\n",
    "        return values\n",
    "\n",
    "    def postorder_traverse(self):\n",
    "        values = []\n",
    "        \n",
    "        if self.left:\n",
    "            values.extend(self.left.postorder_traverse())\n",
    "        \n",
    "        if self.right:\n",
    "            values.extend(self.right.postorder_traverse())\n",
    "            \n",
    "        values.append(self.data)\n",
    "        \n",
    "        return values\n",
    "    "
   ]
  },
  {
   "cell_type": "code",
   "execution_count": 89,
   "metadata": {
    "collapsed": true
   },
   "outputs": [],
   "source": [
    "# Use the insert method to add nodes\n",
    "root = Node(100)\n",
    "root.insert(50)\n",
    "root.insert(150)\n",
    "root.insert(40)\n",
    "root.insert(60)\n",
    "root.insert(125)\n",
    "root.insert(160)\n",
    "\n",
    "root.insert(30)\n",
    "root.insert(45)\n",
    "root.insert(55)\n",
    "root.insert(65)\n",
    "root.insert(120)\n",
    "root.insert(130)\n",
    "root.insert(155)\n",
    "root.insert(170)\n"
   ]
  },
  {
   "cell_type": "code",
   "execution_count": 90,
   "metadata": {},
   "outputs": [
    {
     "name": "stdout",
     "output_type": "stream",
     "text": [
      "[100, 50, 150, 40, 60, 125, 160, 30, 45, 55, 65, 120, 130, 155, 170]\n"
     ]
    }
   ],
   "source": [
    "root.breadth_first_traversal()"
   ]
  },
  {
   "cell_type": "code",
   "execution_count": 91,
   "metadata": {},
   "outputs": [
    {
     "data": {
      "text/plain": [
       "[30, 40, 45, 50, 55, 60, 65, 100, 120, 125, 130, 150, 155, 160, 170]"
      ]
     },
     "execution_count": 91,
     "metadata": {},
     "output_type": "execute_result"
    }
   ],
   "source": [
    "root.inorder_traverse()"
   ]
  },
  {
   "cell_type": "code",
   "execution_count": 94,
   "metadata": {},
   "outputs": [
    {
     "data": {
      "text/plain": [
       "[30, 45, 40, 55, 65, 60, 50, 120, 130, 125, 155, 170, 160, 150, 100]"
      ]
     },
     "execution_count": 94,
     "metadata": {},
     "output_type": "execute_result"
    }
   ],
   "source": [
    "root.postorder_traverse()"
   ]
  },
  {
   "cell_type": "code",
   "execution_count": 95,
   "metadata": {},
   "outputs": [
    {
     "data": {
      "text/plain": [
       "[100, 50, 40, 30, 45, 60, 55, 65, 150, 125, 120, 130, 160, 155, 170]"
      ]
     },
     "execution_count": 95,
     "metadata": {},
     "output_type": "execute_result"
    }
   ],
   "source": [
    "root.preorder_traverse()"
   ]
  },
  {
   "cell_type": "code",
   "execution_count": null,
   "metadata": {
    "collapsed": true
   },
   "outputs": [],
   "source": []
  }
 ],
 "metadata": {
  "kernelspec": {
   "display_name": "Python 3",
   "language": "python",
   "name": "python3"
  },
  "language_info": {
   "codemirror_mode": {
    "name": "ipython",
    "version": 3
   },
   "file_extension": ".py",
   "mimetype": "text/x-python",
   "name": "python",
   "nbconvert_exporter": "python",
   "pygments_lexer": "ipython3",
   "version": "3.6.3"
  }
 },
 "nbformat": 4,
 "nbformat_minor": 2
}
