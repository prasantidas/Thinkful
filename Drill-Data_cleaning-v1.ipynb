{
 "cells": [
  {
   "cell_type": "code",
   "execution_count": 169,
   "metadata": {
    "collapsed": true
   },
   "outputs": [],
   "source": [
    "import numpy as np\n",
    "import pandas as pd\n",
    "import re"
   ]
  },
  {
   "cell_type": "code",
   "execution_count": 437,
   "metadata": {
    "collapsed": true
   },
   "outputs": [],
   "source": [
    "trust = pd.read_csv('WELLCOME_APCspend2013_forThinkful.csv', encoding = 'ISO-8859-1')"
   ]
  },
  {
   "cell_type": "code",
   "execution_count": 438,
   "metadata": {},
   "outputs": [
    {
     "data": {
      "text/html": [
       "<div>\n",
       "<style>\n",
       "    .dataframe thead tr:only-child th {\n",
       "        text-align: right;\n",
       "    }\n",
       "\n",
       "    .dataframe thead th {\n",
       "        text-align: left;\n",
       "    }\n",
       "\n",
       "    .dataframe tbody tr th {\n",
       "        vertical-align: top;\n",
       "    }\n",
       "</style>\n",
       "<table border=\"1\" class=\"dataframe\">\n",
       "  <thead>\n",
       "    <tr style=\"text-align: right;\">\n",
       "      <th></th>\n",
       "      <th>PMID/PMCID</th>\n",
       "      <th>Publisher</th>\n",
       "      <th>Journal title</th>\n",
       "      <th>Article title</th>\n",
       "      <th>COST (£) charged to Wellcome (inc VAT when charged)</th>\n",
       "    </tr>\n",
       "  </thead>\n",
       "  <tbody>\n",
       "    <tr>\n",
       "      <th>0</th>\n",
       "      <td>NaN</td>\n",
       "      <td>CUP</td>\n",
       "      <td>Psychological Medicine</td>\n",
       "      <td>Reduced parahippocampal cortical thickness in ...</td>\n",
       "      <td>£0.00</td>\n",
       "    </tr>\n",
       "    <tr>\n",
       "      <th>1</th>\n",
       "      <td>PMC3679557</td>\n",
       "      <td>ACS</td>\n",
       "      <td>Biomacromolecules</td>\n",
       "      <td>Structural characterization of a Model Gram-ne...</td>\n",
       "      <td>£2381.04</td>\n",
       "    </tr>\n",
       "    <tr>\n",
       "      <th>2</th>\n",
       "      <td>23043264  PMC3506128</td>\n",
       "      <td>ACS</td>\n",
       "      <td>J Med Chem</td>\n",
       "      <td>Fumaroylamino-4,5-epoxymorphinans and related ...</td>\n",
       "      <td>£642.56</td>\n",
       "    </tr>\n",
       "    <tr>\n",
       "      <th>3</th>\n",
       "      <td>23438330 PMC3646402</td>\n",
       "      <td>ACS</td>\n",
       "      <td>J Med Chem</td>\n",
       "      <td>Orvinols with mixed kappa/mu opioid receptor a...</td>\n",
       "      <td>£669.64</td>\n",
       "    </tr>\n",
       "    <tr>\n",
       "      <th>4</th>\n",
       "      <td>23438216 PMC3601604</td>\n",
       "      <td>ACS</td>\n",
       "      <td>J Org Chem</td>\n",
       "      <td>Regioselective opening of myo-inositol orthoes...</td>\n",
       "      <td>£685.88</td>\n",
       "    </tr>\n",
       "  </tbody>\n",
       "</table>\n",
       "</div>"
      ],
      "text/plain": [
       "              PMID/PMCID Publisher           Journal title  \\\n",
       "0                    NaN       CUP  Psychological Medicine   \n",
       "1             PMC3679557       ACS       Biomacromolecules   \n",
       "2  23043264  PMC3506128        ACS              J Med Chem   \n",
       "3    23438330 PMC3646402       ACS              J Med Chem   \n",
       "4   23438216 PMC3601604        ACS              J Org Chem   \n",
       "\n",
       "                                       Article title  \\\n",
       "0  Reduced parahippocampal cortical thickness in ...   \n",
       "1  Structural characterization of a Model Gram-ne...   \n",
       "2  Fumaroylamino-4,5-epoxymorphinans and related ...   \n",
       "3  Orvinols with mixed kappa/mu opioid receptor a...   \n",
       "4  Regioselective opening of myo-inositol orthoes...   \n",
       "\n",
       "  COST (£) charged to Wellcome (inc VAT when charged)  \n",
       "0                                              £0.00   \n",
       "1                                           £2381.04   \n",
       "2                                            £642.56   \n",
       "3                                            £669.64   \n",
       "4                                            £685.88   "
      ]
     },
     "execution_count": 438,
     "metadata": {},
     "output_type": "execute_result"
    }
   ],
   "source": [
    "trust.head()"
   ]
  },
  {
   "cell_type": "code",
   "execution_count": 439,
   "metadata": {},
   "outputs": [
    {
     "data": {
      "text/plain": [
       "array(['PMID/PMCID', 'Publisher', 'Journal title', 'Article title',\n",
       "       'COST (£) charged to Wellcome (inc VAT when charged)'], dtype=object)"
      ]
     },
     "execution_count": 439,
     "metadata": {},
     "output_type": "execute_result"
    }
   ],
   "source": [
    "trust.columns.values"
   ]
  },
  {
   "cell_type": "code",
   "execution_count": 440,
   "metadata": {
    "collapsed": true
   },
   "outputs": [],
   "source": [
    "trust.rename(columns={'COST (£) charged to Wellcome (inc VAT when charged)': 'Cost'}, inplace= True)"
   ]
  },
  {
   "cell_type": "code",
   "execution_count": 441,
   "metadata": {},
   "outputs": [
    {
     "data": {
      "text/plain": [
       "array(['PMID/PMCID', 'Publisher', 'Journal title', 'Article title', 'Cost'], dtype=object)"
      ]
     },
     "execution_count": 441,
     "metadata": {},
     "output_type": "execute_result"
    }
   ],
   "source": [
    "trust.columns.values"
   ]
  },
  {
   "cell_type": "code",
   "execution_count": 442,
   "metadata": {
    "collapsed": true
   },
   "outputs": [],
   "source": [
    "# this function obtains the 7-digit id that starts with 3 \n",
    "def get_pmcid(x):\n",
    "    pmcid = re.findall('3\\d{6}', str(x))\n",
    "    if len(pmcid) > 0:\n",
    "        return pmcid[- 1]\n",
    "\n",
    "# this function obtains the 8-digit id that starts with 2 \n",
    "def get_pmid(x):\n",
    "    pmid = re.findall('2\\d{7}', str(x))\n",
    "    if len(pmid) > 0:\n",
    "        return pmid[0]"
   ]
  },
  {
   "cell_type": "code",
   "execution_count": 443,
   "metadata": {
    "collapsed": true
   },
   "outputs": [],
   "source": [
    "trust['PMID'] = trust['PMID/PMCID'].apply(get_pmid)\n",
    "trust['PMCID'] = trust['PMID/PMCID'].apply(get_pmcid)"
   ]
  },
  {
   "cell_type": "code",
   "execution_count": 444,
   "metadata": {
    "scrolled": true
   },
   "outputs": [
    {
     "data": {
      "text/html": [
       "<div>\n",
       "<style>\n",
       "    .dataframe thead tr:only-child th {\n",
       "        text-align: right;\n",
       "    }\n",
       "\n",
       "    .dataframe thead th {\n",
       "        text-align: left;\n",
       "    }\n",
       "\n",
       "    .dataframe tbody tr th {\n",
       "        vertical-align: top;\n",
       "    }\n",
       "</style>\n",
       "<table border=\"1\" class=\"dataframe\">\n",
       "  <thead>\n",
       "    <tr style=\"text-align: right;\">\n",
       "      <th></th>\n",
       "      <th>PMID/PMCID</th>\n",
       "      <th>Publisher</th>\n",
       "      <th>Journal title</th>\n",
       "      <th>Article title</th>\n",
       "      <th>Cost</th>\n",
       "      <th>PMID</th>\n",
       "      <th>PMCID</th>\n",
       "    </tr>\n",
       "  </thead>\n",
       "  <tbody>\n",
       "    <tr>\n",
       "      <th>2122</th>\n",
       "      <td>2901593</td>\n",
       "      <td>Wolters Kluwer Health</td>\n",
       "      <td>Circulation Research</td>\n",
       "      <td>Mechanistic Links Between Na+ Channel (SCN5A) ...</td>\n",
       "      <td>£1334.15</td>\n",
       "      <td>None</td>\n",
       "      <td>None</td>\n",
       "    </tr>\n",
       "    <tr>\n",
       "      <th>2123</th>\n",
       "      <td>3748854</td>\n",
       "      <td>Wolters Kluwer Health</td>\n",
       "      <td>AIDS</td>\n",
       "      <td>Evaluation of an empiric risk screening score ...</td>\n",
       "      <td>£1834.77</td>\n",
       "      <td>None</td>\n",
       "      <td>3748854</td>\n",
       "    </tr>\n",
       "    <tr>\n",
       "      <th>2124</th>\n",
       "      <td>3785148</td>\n",
       "      <td>Wolters Kluwer Health</td>\n",
       "      <td>Pediatr Infect Dis J</td>\n",
       "      <td>Topical umbilical cord care for prevention of ...</td>\n",
       "      <td>£1834.77</td>\n",
       "      <td>None</td>\n",
       "      <td>3785148</td>\n",
       "    </tr>\n",
       "    <tr>\n",
       "      <th>2125</th>\n",
       "      <td>PMCID:\\n    PMC3647051\\n</td>\n",
       "      <td>Wolters Kluwer N.V./Lippinott</td>\n",
       "      <td>AIDS</td>\n",
       "      <td>Grassroots Community Organisations' Contributi...</td>\n",
       "      <td>£2374.52</td>\n",
       "      <td>None</td>\n",
       "      <td>3647051</td>\n",
       "    </tr>\n",
       "    <tr>\n",
       "      <th>2126</th>\n",
       "      <td>PMID: 23846567  (Epub July 2013)</td>\n",
       "      <td>Wolters Kluwers</td>\n",
       "      <td>Journal of Acquired Immune Deficiency Syndromes</td>\n",
       "      <td>A novel community health worker tool outperfor...</td>\n",
       "      <td>£2034.75</td>\n",
       "      <td>23846567</td>\n",
       "      <td>3846567</td>\n",
       "    </tr>\n",
       "  </tbody>\n",
       "</table>\n",
       "</div>"
      ],
      "text/plain": [
       "                            PMID/PMCID                      Publisher  \\\n",
       "2122                           2901593          Wolters Kluwer Health   \n",
       "2123                           3748854         Wolters Kluwer Health    \n",
       "2124                           3785148         Wolters Kluwer Health    \n",
       "2125          PMCID:\\n    PMC3647051\\n  Wolters Kluwer N.V./Lippinott   \n",
       "2126  PMID: 23846567  (Epub July 2013)                Wolters Kluwers   \n",
       "\n",
       "                                        Journal title  \\\n",
       "2122                             Circulation Research   \n",
       "2123                                             AIDS   \n",
       "2124                             Pediatr Infect Dis J   \n",
       "2125                                             AIDS   \n",
       "2126  Journal of Acquired Immune Deficiency Syndromes   \n",
       "\n",
       "                                          Article title      Cost      PMID  \\\n",
       "2122  Mechanistic Links Between Na+ Channel (SCN5A) ...  £1334.15      None   \n",
       "2123  Evaluation of an empiric risk screening score ...  £1834.77      None   \n",
       "2124  Topical umbilical cord care for prevention of ...  £1834.77      None   \n",
       "2125  Grassroots Community Organisations' Contributi...  £2374.52      None   \n",
       "2126  A novel community health worker tool outperfor...  £2034.75  23846567   \n",
       "\n",
       "        PMCID  \n",
       "2122     None  \n",
       "2123  3748854  \n",
       "2124  3785148  \n",
       "2125  3647051  \n",
       "2126  3846567  "
      ]
     },
     "execution_count": 444,
     "metadata": {},
     "output_type": "execute_result"
    }
   ],
   "source": [
    "trust.tail()"
   ]
  },
  {
   "cell_type": "code",
   "execution_count": 445,
   "metadata": {
    "collapsed": true
   },
   "outputs": [],
   "source": [
    "# now drop the old column\n",
    "del trust['PMID/PMCID']"
   ]
  },
  {
   "cell_type": "code",
   "execution_count": 406,
   "metadata": {
    "collapsed": true
   },
   "outputs": [],
   "source": [
    "# drop rows with NaN\n",
    "#trust.dropna(how='any', inplace=True)"
   ]
  },
  {
   "cell_type": "code",
   "execution_count": 446,
   "metadata": {},
   "outputs": [
    {
     "data": {
      "text/plain": [
       "PMID\n",
       "22735079    2\n",
       "Name: PMID, dtype: int64"
      ]
     },
     "execution_count": 446,
     "metadata": {},
     "output_type": "execute_result"
    }
   ],
   "source": [
    "# Find duplicate ID_PMC\n",
    "id_pm_count = trust.groupby('PMID')['PMID'].count()\n",
    "id_pm_count[id_pm_count > 1]"
   ]
  },
  {
   "cell_type": "code",
   "execution_count": 447,
   "metadata": {},
   "outputs": [
    {
     "data": {
      "text/plain": [
       "PMCID\n",
       "3173209    2\n",
       "3381227    2\n",
       "3401426    2\n",
       "3405234    2\n",
       "3413714    2\n",
       "3435256    2\n",
       "3528370    2\n",
       "3529206    2\n",
       "3597274    2\n",
       "3599138    2\n",
       "3599488    2\n",
       "3613719    2\n",
       "3647051    2\n",
       "3676342    2\n",
       "3708033    2\n",
       "3746156    2\n",
       "Name: PMCID, dtype: int64"
      ]
     },
     "execution_count": 447,
     "metadata": {},
     "output_type": "execute_result"
    }
   ],
   "source": [
    "# Find duplicate ID_PMC\n",
    "id_pmc_count = trust.groupby('PMCID')['PMCID'].count()\n",
    "id_pmc_count[id_pmc_count > 1]"
   ]
  },
  {
   "cell_type": "code",
   "execution_count": 391,
   "metadata": {
    "collapsed": true
   },
   "outputs": [],
   "source": [
    "trust.to_csv('trust.csv')"
   ]
  },
  {
   "cell_type": "code",
   "execution_count": 448,
   "metadata": {},
   "outputs": [
    {
     "name": "stdout",
     "output_type": "stream",
     "text": [
      "<class 'pandas.core.frame.DataFrame'>\n",
      "RangeIndex: 2127 entries, 0 to 2126\n",
      "Data columns (total 6 columns):\n",
      "Publisher        2127 non-null object\n",
      "Journal title    2126 non-null object\n",
      "Article title    2127 non-null object\n",
      "Cost             2127 non-null object\n",
      "PMID             452 non-null object\n",
      "PMCID            1788 non-null object\n",
      "dtypes: object(6)\n",
      "memory usage: 99.8+ KB\n"
     ]
    }
   ],
   "source": [
    "trust.info()"
   ]
  },
  {
   "cell_type": "code",
   "execution_count": 381,
   "metadata": {},
   "outputs": [],
   "source": [
    "# drop rows with duplicate ids\n",
    "# preserving NaNs\n",
    "#trust = trust[~(trust.duplicated('PMCID', keep='last') & trust['PMCID'].notnull())]\n"
   ]
  },
  {
   "cell_type": "code",
   "execution_count": 449,
   "metadata": {
    "collapsed": true
   },
   "outputs": [],
   "source": [
    "trust.drop_duplicates(subset=['PMID', 'PMCID'],  inplace=True)\n",
    "#trust.drop_duplicates(subset='PMID', keep=\"last\", inplace=True)\n",
    "#trust.drop_duplicates(subset='PMCID', keep=\"last\", inplace=True)"
   ]
  },
  {
   "cell_type": "code",
   "execution_count": 415,
   "metadata": {
    "collapsed": true
   },
   "outputs": [],
   "source": [
    "trust.to_csv('trust2.csv')"
   ]
  },
  {
   "cell_type": "code",
   "execution_count": 416,
   "metadata": {},
   "outputs": [
    {
     "name": "stdout",
     "output_type": "stream",
     "text": [
      "<class 'pandas.core.frame.DataFrame'>\n",
      "Int64Index: 1815 entries, 1 to 2126\n",
      "Data columns (total 6 columns):\n",
      "Publisher        1815 non-null object\n",
      "Journal title    1815 non-null object\n",
      "Article title    1815 non-null object\n",
      "Cost             1815 non-null object\n",
      "PMID             451 non-null object\n",
      "PMCID            1776 non-null object\n",
      "dtypes: object(6)\n",
      "memory usage: 99.3+ KB\n"
     ]
    }
   ],
   "source": [
    "trust.info()"
   ]
  },
  {
   "cell_type": "code",
   "execution_count": 450,
   "metadata": {},
   "outputs": [],
   "source": [
    "trust['Cost'] = trust['Cost'].astype(str)\n",
    "trust['Cost'] = trust['Cost'].str.strip('£')"
   ]
  },
  {
   "cell_type": "code",
   "execution_count": 451,
   "metadata": {
    "collapsed": true
   },
   "outputs": [],
   "source": [
    "trust['Cost'] = pd.to_numeric(trust['Cost'] , errors='coerce')"
   ]
  },
  {
   "cell_type": "code",
   "execution_count": 452,
   "metadata": {},
   "outputs": [
    {
     "name": "stdout",
     "output_type": "stream",
     "text": [
      "<class 'pandas.core.frame.DataFrame'>\n",
      "Int64Index: 1815 entries, 0 to 2126\n",
      "Data columns (total 6 columns):\n",
      "Publisher        1815 non-null object\n",
      "Journal title    1815 non-null object\n",
      "Article title    1815 non-null object\n",
      "Cost             1803 non-null float64\n",
      "PMID             451 non-null object\n",
      "PMCID            1776 non-null object\n",
      "dtypes: float64(1), object(5)\n",
      "memory usage: 99.3+ KB\n"
     ]
    }
   ],
   "source": [
    "trust.info()"
   ]
  },
  {
   "cell_type": "code",
   "execution_count": 453,
   "metadata": {},
   "outputs": [
    {
     "data": {
      "text/plain": [
       "Publisher        36\n",
       "Journal title    36\n",
       "Article title    36\n",
       "Cost             36\n",
       "PMID              6\n",
       "PMCID            35\n",
       "dtype: int64"
      ]
     },
     "execution_count": 453,
     "metadata": {},
     "output_type": "execute_result"
    }
   ],
   "source": [
    "trust[trust.Cost == 999999.00 ].count()"
   ]
  },
  {
   "cell_type": "code",
   "execution_count": 454,
   "metadata": {
    "collapsed": true
   },
   "outputs": [],
   "source": [
    "# There are few cost columns with value as 999999. drop the rows \n",
    "trust.drop(trust[trust.Cost == 999999.00 ].index, inplace=True)"
   ]
  },
  {
   "cell_type": "code",
   "execution_count": 455,
   "metadata": {},
   "outputs": [
    {
     "name": "stdout",
     "output_type": "stream",
     "text": [
      "<class 'pandas.core.frame.DataFrame'>\n",
      "Int64Index: 1779 entries, 0 to 2126\n",
      "Data columns (total 6 columns):\n",
      "Publisher        1779 non-null object\n",
      "Journal title    1779 non-null object\n",
      "Article title    1779 non-null object\n",
      "Cost             1767 non-null float64\n",
      "PMID             445 non-null object\n",
      "PMCID            1741 non-null object\n",
      "dtypes: float64(1), object(5)\n",
      "memory usage: 97.3+ KB\n"
     ]
    }
   ],
   "source": [
    "trust.info()"
   ]
  },
  {
   "cell_type": "code",
   "execution_count": 456,
   "metadata": {
    "collapsed": true
   },
   "outputs": [],
   "source": [
    "trust['Journal title'] = trust['Journal title'].str.lower()\n",
    "trust['Journal title'] = trust['Journal title'].apply(lambda x: str(x).replace('journal of ',''))\n",
    "trust['Journal title'] = trust['Journal title'].apply(lambda x: str(x).replace('journal',''))\n"
   ]
  },
  {
   "cell_type": "code",
   "execution_count": 457,
   "metadata": {
    "collapsed": true
   },
   "outputs": [],
   "source": [
    "def change_journal(x):\n",
    "    if str(x).replace(' ','') == 'plosone' :\n",
    "        return str(x).replace(' ','')\n",
    "    else:\n",
    "        return str(x)\n",
    "    "
   ]
  },
  {
   "cell_type": "code",
   "execution_count": 458,
   "metadata": {
    "collapsed": true
   },
   "outputs": [],
   "source": [
    "trust['Journal title'] = trust['Journal title'].apply(change_journal)"
   ]
  },
  {
   "cell_type": "markdown",
   "metadata": {},
   "source": [
    "# The five most common journals and the total articles for each:"
   ]
  },
  {
   "cell_type": "code",
   "execution_count": 459,
   "metadata": {},
   "outputs": [
    {
     "data": {
      "text/plain": [
       "plosone                   185\n",
       "biological chemistry       47\n",
       "neuroimage                 26\n",
       "nucleic acids research     22\n",
       "plos pathogens             22\n",
       "Name: Journal title, dtype: int64"
      ]
     },
     "execution_count": 459,
     "metadata": {},
     "output_type": "execute_result"
    }
   ],
   "source": [
    "trust['Journal title'].value_counts().head(5)"
   ]
  },
  {
   "cell_type": "code",
   "execution_count": 460,
   "metadata": {
    "collapsed": true
   },
   "outputs": [],
   "source": [
    "top_5_Journal = pd.DataFrame(trust['Journal title'].value_counts().head(5)).index.tolist()"
   ]
  },
  {
   "cell_type": "markdown",
   "metadata": {},
   "source": [
    "# calculate the mean, median, and standard deviation of the open-access cost  for Top 5 journal . "
   ]
  },
  {
   "cell_type": "code",
   "execution_count": 461,
   "metadata": {},
   "outputs": [
    {
     "data": {
      "text/plain": [
       "count       296.000000\n",
       "mean       1820.704696\n",
       "std       11139.066379\n",
       "min         122.310000\n",
       "25%         861.350000\n",
       "50%        1012.240000\n",
       "75%        1396.085000\n",
       "max      192645.000000\n",
       "Name: Cost, dtype: float64"
      ]
     },
     "execution_count": 461,
     "metadata": {},
     "output_type": "execute_result"
    }
   ],
   "source": [
    "trust[trust['Journal title'].isin(top_5_Journal) ].Cost.describe()"
   ]
  },
  {
   "cell_type": "code",
   "execution_count": 462,
   "metadata": {
    "collapsed": true
   },
   "outputs": [],
   "source": [
    "trust.to_csv('trust2.csv')"
   ]
  },
  {
   "cell_type": "code",
   "execution_count": 432,
   "metadata": {
    "collapsed": true
   },
   "outputs": [],
   "source": [
    "trust['Publisher'] = trust['Publisher'].str.upper()"
   ]
  },
  {
   "cell_type": "code",
   "execution_count": 433,
   "metadata": {
    "collapsed": true
   },
   "outputs": [],
   "source": [
    "def change_publisher(x):\n",
    "    first_letters = [ i[0] for i in str(x).split() ] \n",
    "    abbrev = \"\".join(first_letters)\n",
    "    if (str(x).startswith('ACS')) | (abbrev.startswith ('ACS')):\n",
    "        return 'American Chemical Society Publications'\n",
    "    elif ((abbrev.startswith('AS') | abbrev.startswith('TAS')) & (abbrev.endswith('MBI') | abbrev.endswith('MB')) )| (str(x)== 'ASBMB') :\n",
    "        return 'American Society for Biochemistry and Molecular Biology'\n",
    "    elif (abbrev.startswith('AS') & abbrev.endswith('M'))  | (str(x).startswith('ASM')):\n",
    "        return 'American Society for Microbiology'\n",
    "    elif abbrev.startswith('BC') | (str(x)== 'BMC'):\n",
    "        return 'BioMed Central Limited'\n",
    "    elif abbrev.startswith('AS') & abbrev.endswith('H'):\n",
    "        return 'American Society of Haematology'\n",
    "    elif abbrev.startswith('CJS'):\n",
    "        return 'Cadmus Journal Services'\n",
    "    elif abbrev.startswith('CUP') | str(x).startswith('CUP'):\n",
    "        return 'Cambridge University Press'\n",
    "    elif abbrev.startswith('CSHP'):\n",
    "        return 'Cold Spring Habour Press'\n",
    "    elif abbrev.startswith('COB'):\n",
    "        return 'Company of Biologist'\n",
    "    elif abbrev.startswith('DJ'):\n",
    "        return 'Dartmouth Journal Services'\n",
    "    elif (abbrev.startswith('F') & abbrev.endswith('EB')) |('FASEB' in str(x)): # FOASFEB\n",
    "        return 'Federation of American Societies for Experimental Biology'\n",
    "    elif abbrev.startswith('JW')  & (abbrev.endswith('S') | abbrev.endswith('SL') | abbrev.endswith('SI')):\n",
    "        return 'John Wiley & Sons'\n",
    "    elif abbrev =='LB':\n",
    "        return 'Landes Bioscience'\n",
    "    elif abbrev.startswith('MAL'):\n",
    "        return 'Mary Ann Liebert'\n",
    "    elif (abbrev =='OUP') | (str(x) == 'Oxford Journals') | ('OUP' in str(x)):\n",
    "        return 'Oxford University Press'\n",
    "    \n",
    "    elif (abbrev =='IUOC') | ('IUCR' in str(x)):\n",
    "        return  'International Union Of Crystallography'\n",
    "    elif str(x).startswith('FRONTIER'):\n",
    "        return 'Frontier'\n",
    "    elif str(x).startswith('HINDAWI'):\n",
    "        return 'Hindawi'\n",
    "    elif str(x).startswith('INFORMA HEALTHCARE'):\n",
    "        return 'Informa Healthcare'\n",
    "    elif str(x).startswith('ELSEV'):\n",
    "        return 'ELSEVIER'\n",
    "    elif ('PNAS' in str(x)):\n",
    "        return 'PNAS Author Publication'\n",
    "    \n",
    "    elif ('PLOS' in str(x)) | (abbrev == 'PLOS'):\n",
    "        return 'Public Library of Science'\n",
    "    elif str(x).startswith('PORTLAND PRESS'):\n",
    "        return 'Portland Press'\n",
    "    \n",
    "    elif str(x).replace(' ','').startswith('MYJOVECO'): \n",
    "        return 'MY JOVE CORP'\n",
    "    elif str(x).startswith('NATIONAL ACADEMY OF SCIENCE'): \n",
    "        return 'National Academy of Sciences'\n",
    "    \n",
    "    elif str(x).startswith('NATURE') | (abbrev =='NPG') | (str(x) == 'NPG') : \n",
    "        return 'Nature Publishing Group'\n",
    "    elif str(x).startswith('SAGE') : \n",
    "        return 'SAGE'\n",
    "    elif abbrev.startswith('S') & abbrev.endswith('GM') :\n",
    "        return 'Society for General Microbiology'\n",
    "    elif (abbrev =='SFN') | abbrev.startswith('SON') :\n",
    "        return 'Society for Neuroscience'\n",
    "    elif ('SPRING' in str(x)) & ('GMBH' in str(x)):\n",
    "        return 'Springer - Verlag GMBH'\n",
    "    elif abbrev.startswith('T&F') | abbrev.startswith('TAF') | (str(x)=='T&F'):\n",
    "        return 'Taylor & Francis'\n",
    "    elif abbrev.startswith('TCOB'):\n",
    "        return 'The Company of Biologists'\n",
    "    elif abbrev.startswith('WSS'):\n",
    "        return 'Wiley Subscription Services'\n",
    "    elif str(x).startswith('BMJ') : \n",
    "        return 'BMJ Group'\n",
    "    elif str(x).startswith('CADMUS') : \n",
    "        return 'Cadmus Journal Services'\n",
    "    elif str(x).startswith('COLD SPRING HAR') : \n",
    "        return 'Cold Spring Habour Press'\n",
    "    elif str(x).startswith('FUTURE MED'):\n",
    "        return 'Future Medicine'  \n",
    "    elif abbrev.startswith('S') & abbrev.endswith('LB'):\n",
    "        return 'Society Of Leukocyte Biology'\n",
    "    elif abbrev.startswith('TES'):\n",
    "        return 'The Endrocrine Society'\n",
    "    elif abbrev.startswith('W') & ('BLACKWELL' in str(x)):\n",
    "        return  'WILEY-BLACKWELL'   \n",
    "    else:\n",
    "        return str(x)#.title()\n",
    "    \n",
    "trust['Publisher'] = trust['Publisher'].apply(change_publisher)\n"
   ]
  },
  {
   "cell_type": "code",
   "execution_count": 434,
   "metadata": {},
   "outputs": [
    {
     "name": "stdout",
     "output_type": "stream",
     "text": [
      "ELSEVIER                                                     336\n",
      "Public Library of Science                                    273\n",
      "Oxford University Press                                      191\n",
      "WILEY                                                         96\n",
      "BioMed Central Limited                                        83\n",
      "SPRINGER                                                      65\n",
      "WILEY-BLACKWELL                                               60\n",
      "American Society for Biochemistry and Molecular Biology       60\n",
      "American Chemical Society Publications                        29\n",
      "Nature Publishing Group                                       26\n",
      "National Academy of Sciences                                  24\n",
      "Frontier                                                      24\n",
      "Wiley Subscription Services                                   23\n",
      "American Society for Microbiology                             22\n",
      "BMJ Group                                                     21\n",
      "Portland Press                                                20\n",
      "ROYAL SOCIETY                                                 20\n",
      "Dartmouth Journal Services                                    20\n",
      "Cambridge University Press                                    19\n",
      "John Wiley & Sons                                             17\n",
      "Company of Biologist                                          16\n",
      "Society for General Microbiology                              16\n",
      "Landes Bioscience                                             15\n",
      "OXFORD JOURNALS                                               13\n",
      "AMERICAN PSYCHOLOGICAL ASSOCIATION                            13\n",
      "Cadmus Journal Services                                       11\n",
      "Society for Neuroscience                                      11\n",
      "SAGE                                                          11\n",
      "Springer - Verlag GMBH                                        10\n",
      "Federation of American Societies for Experimental Biology     10\n",
      "                                                            ... \n",
      "RESEARCH MEDIA LTD                                             1\n",
      "AMERICAN SOCIETY FOR INVESTIGATIVE PATHOLOGY                   1\n",
      "RSC PUBLISHING                                                 1\n",
      "SPRINGER                                                       1\n",
      "IVYSPRING INTERNATIONAL PUBLISHER                              1\n",
      "BENTHAM SCIENCE PUBLISHERS                                     1\n",
      "ASBMB/CENVEO PUBLISHER SERVICES                                1\n",
      "THE BOULEVARD                                                  1\n",
      "ROYAL SOCIETY FOR CHEMISTRY                                    1\n",
      "AMERICAN PUBLIC HEALTH ASSOCIATION                             1\n",
      "CENVEO PUBLISHER SERVICES/ASM JV1                              1\n",
      "CENVEO PUBLISHER SERVICES                                      1\n",
      "WOLTERS KLUWER N.V./LIPPINOTT                                  1\n",
      "HUMANA PRESS (SPRINGER IMPRINT)                                1\n",
      "PION                                                           1\n",
      "ASBMB CADMUS                                                   1\n",
      "BYOPHYSICAL SOCIETY                                            1\n",
      "WILEY VCH                                                      1\n",
      "AGA INSTITUTE                                                  1\n",
      "AMERICAN SOCIETY OF HUMAN GENETICS (ELSEVIER)                  1\n",
      "UNIVERSITY OF THE BASQUE COUNTRY PRESS                         1\n",
      "THE AMERICAN PHYSIOLOGICAL SOCIETY                             1\n",
      "THE SHERIDAN PRESS                                             1\n",
      "CAMBRIDGE JOURNALS                                             1\n",
      "WOLTERS KLUWER HEALTH                                          1\n",
      "WILEY & SON                                                    1\n",
      "OPEN ACCESS REG LTD                                            1\n",
      "SOCIETY FOR PUBLICATION OF ACTA DERMATO-VENEREOLOGICA          1\n",
      "CSHLP                                                          1\n",
      "SPRINGER SCIENCE + BUSINESS MEDIA                              1\n",
      "Name: Publisher, Length: 126, dtype: int64\n"
     ]
    }
   ],
   "source": [
    "print(trust['Publisher'].value_counts())"
   ]
  },
  {
   "cell_type": "code",
   "execution_count": null,
   "metadata": {
    "collapsed": true
   },
   "outputs": [],
   "source": []
  }
 ],
 "metadata": {
  "kernelspec": {
   "display_name": "Python 3",
   "language": "python",
   "name": "python3"
  },
  "language_info": {
   "codemirror_mode": {
    "name": "ipython",
    "version": 3
   },
   "file_extension": ".py",
   "mimetype": "text/x-python",
   "name": "python",
   "nbconvert_exporter": "python",
   "pygments_lexer": "ipython3",
   "version": "3.6.3"
  }
 },
 "nbformat": 4,
 "nbformat_minor": 2
}
