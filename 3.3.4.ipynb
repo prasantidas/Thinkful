{
 "cells": [
  {
   "cell_type": "markdown",
   "metadata": {},
   "source": [
    "The Dataset is about Wisconsin Diagnostic Breast Cancer (WDBC).\n",
    "Number of instances: 569 \n",
    "\n",
    "Number of attributes: 32 (ID, diagnosis, 30 real-valued input features)\n",
    "\n",
    "Attribute information\n",
    "\n",
    "columns 3-32 \n",
    "Ten real-valued features are computed for each cell nucleus:\n",
    "\n",
    "\ta) radius (mean of distances from center to points on the perimeter)\n",
    "\tb) texture (standard deviation of gray-scale values)\n",
    "\tc) perimeter\n",
    "\td) area\n",
    "\te) smoothness (local variation in radius lengths)\n",
    "\tf) compactness (perimeter^2 / area - 1.0)\n",
    "\tg) concavity (severity of concave portions of the contour)\n",
    "\th) concave points (number of concave portions of the contour)\n",
    "\ti) symmetry \n",
    "\tj) fractal dimension (\"coastline approximation\" - 1)\n",
    " Class distribution: 357 benign, 212 malignant"
   ]
  },
  {
   "cell_type": "code",
   "execution_count": 1,
   "metadata": {
    "collapsed": true
   },
   "outputs": [],
   "source": [
    "import numpy as np\n",
    "import pandas as pd\n",
    "import matplotlib.pyplot as plt\n",
    "import seaborn as sns\n",
    "from sklearn.model_selection import KFold\n",
    "from sklearn import model_selection\n",
    "from sklearn.linear_model import LinearRegression\n",
    "from sklearn.linear_model import LogisticRegression\n",
    "from sklearn.linear_model import LogisticRegressionCV\n",
    "from sklearn.preprocessing  import StandardScaler\n",
    "\n",
    "\n",
    "pd.set_option('display.max_columns', None)"
   ]
  },
  {
   "cell_type": "code",
   "execution_count": 2,
   "metadata": {
    "collapsed": true
   },
   "outputs": [],
   "source": [
    "df = pd.read_csv('https://archive.ics.uci.edu/ml/machine-learning-databases/breast-cancer-wisconsin/wdbc.data', header=None)"
   ]
  },
  {
   "cell_type": "code",
   "execution_count": 3,
   "metadata": {
    "collapsed": true
   },
   "outputs": [],
   "source": [
    "df.columns = ['ID number', 'Diagnosis','mean radius', 'mean texture', 'mean perimeter', 'mean area',\n",
    "       'mean smoothness', 'mean compactness', 'mean concavity',\n",
    "       'mean concave points', 'mean symmetry', 'mean fractal dimension',\n",
    "       'radius error', 'texture error', 'perimeter error', 'area error',\n",
    "       'smoothness error', 'compactness error', 'concavity error',\n",
    "       'concave points error', 'symmetry error', 'fractal dimension error',\n",
    "       'worst radius', 'worst texture', 'worst perimeter', 'worst area',\n",
    "       'worst smoothness', 'worst compactness', 'worst concavity',\n",
    "       'worst concave points', 'worst symmetry', 'worst fractal dimension']"
   ]
  },
  {
   "cell_type": "code",
   "execution_count": 5,
   "metadata": {},
   "outputs": [
    {
     "data": {
      "text/html": [
       "<div>\n",
       "<style>\n",
       "    .dataframe thead tr:only-child th {\n",
       "        text-align: right;\n",
       "    }\n",
       "\n",
       "    .dataframe thead th {\n",
       "        text-align: left;\n",
       "    }\n",
       "\n",
       "    .dataframe tbody tr th {\n",
       "        vertical-align: top;\n",
       "    }\n",
       "</style>\n",
       "<table border=\"1\" class=\"dataframe\">\n",
       "  <thead>\n",
       "    <tr style=\"text-align: right;\">\n",
       "      <th></th>\n",
       "      <th>ID number</th>\n",
       "      <th>Diagnosis</th>\n",
       "      <th>mean radius</th>\n",
       "      <th>mean texture</th>\n",
       "      <th>mean perimeter</th>\n",
       "      <th>mean area</th>\n",
       "      <th>mean smoothness</th>\n",
       "      <th>mean compactness</th>\n",
       "      <th>mean concavity</th>\n",
       "      <th>mean concave points</th>\n",
       "      <th>mean symmetry</th>\n",
       "      <th>mean fractal dimension</th>\n",
       "      <th>radius error</th>\n",
       "      <th>texture error</th>\n",
       "      <th>perimeter error</th>\n",
       "      <th>area error</th>\n",
       "      <th>smoothness error</th>\n",
       "      <th>compactness error</th>\n",
       "      <th>concavity error</th>\n",
       "      <th>concave points error</th>\n",
       "      <th>symmetry error</th>\n",
       "      <th>fractal dimension error</th>\n",
       "      <th>worst radius</th>\n",
       "      <th>worst texture</th>\n",
       "      <th>worst perimeter</th>\n",
       "      <th>worst area</th>\n",
       "      <th>worst smoothness</th>\n",
       "      <th>worst compactness</th>\n",
       "      <th>worst concavity</th>\n",
       "      <th>worst concave points</th>\n",
       "      <th>worst symmetry</th>\n",
       "      <th>worst fractal dimension</th>\n",
       "    </tr>\n",
       "  </thead>\n",
       "  <tbody>\n",
       "    <tr>\n",
       "      <th>0</th>\n",
       "      <td>842302</td>\n",
       "      <td>M</td>\n",
       "      <td>17.99</td>\n",
       "      <td>10.38</td>\n",
       "      <td>122.80</td>\n",
       "      <td>1001.0</td>\n",
       "      <td>0.11840</td>\n",
       "      <td>0.27760</td>\n",
       "      <td>0.3001</td>\n",
       "      <td>0.14710</td>\n",
       "      <td>0.2419</td>\n",
       "      <td>0.07871</td>\n",
       "      <td>1.0950</td>\n",
       "      <td>0.9053</td>\n",
       "      <td>8.589</td>\n",
       "      <td>153.40</td>\n",
       "      <td>0.006399</td>\n",
       "      <td>0.04904</td>\n",
       "      <td>0.05373</td>\n",
       "      <td>0.01587</td>\n",
       "      <td>0.03003</td>\n",
       "      <td>0.006193</td>\n",
       "      <td>25.38</td>\n",
       "      <td>17.33</td>\n",
       "      <td>184.60</td>\n",
       "      <td>2019.0</td>\n",
       "      <td>0.1622</td>\n",
       "      <td>0.6656</td>\n",
       "      <td>0.7119</td>\n",
       "      <td>0.2654</td>\n",
       "      <td>0.4601</td>\n",
       "      <td>0.11890</td>\n",
       "    </tr>\n",
       "    <tr>\n",
       "      <th>1</th>\n",
       "      <td>842517</td>\n",
       "      <td>M</td>\n",
       "      <td>20.57</td>\n",
       "      <td>17.77</td>\n",
       "      <td>132.90</td>\n",
       "      <td>1326.0</td>\n",
       "      <td>0.08474</td>\n",
       "      <td>0.07864</td>\n",
       "      <td>0.0869</td>\n",
       "      <td>0.07017</td>\n",
       "      <td>0.1812</td>\n",
       "      <td>0.05667</td>\n",
       "      <td>0.5435</td>\n",
       "      <td>0.7339</td>\n",
       "      <td>3.398</td>\n",
       "      <td>74.08</td>\n",
       "      <td>0.005225</td>\n",
       "      <td>0.01308</td>\n",
       "      <td>0.01860</td>\n",
       "      <td>0.01340</td>\n",
       "      <td>0.01389</td>\n",
       "      <td>0.003532</td>\n",
       "      <td>24.99</td>\n",
       "      <td>23.41</td>\n",
       "      <td>158.80</td>\n",
       "      <td>1956.0</td>\n",
       "      <td>0.1238</td>\n",
       "      <td>0.1866</td>\n",
       "      <td>0.2416</td>\n",
       "      <td>0.1860</td>\n",
       "      <td>0.2750</td>\n",
       "      <td>0.08902</td>\n",
       "    </tr>\n",
       "    <tr>\n",
       "      <th>2</th>\n",
       "      <td>84300903</td>\n",
       "      <td>M</td>\n",
       "      <td>19.69</td>\n",
       "      <td>21.25</td>\n",
       "      <td>130.00</td>\n",
       "      <td>1203.0</td>\n",
       "      <td>0.10960</td>\n",
       "      <td>0.15990</td>\n",
       "      <td>0.1974</td>\n",
       "      <td>0.12790</td>\n",
       "      <td>0.2069</td>\n",
       "      <td>0.05999</td>\n",
       "      <td>0.7456</td>\n",
       "      <td>0.7869</td>\n",
       "      <td>4.585</td>\n",
       "      <td>94.03</td>\n",
       "      <td>0.006150</td>\n",
       "      <td>0.04006</td>\n",
       "      <td>0.03832</td>\n",
       "      <td>0.02058</td>\n",
       "      <td>0.02250</td>\n",
       "      <td>0.004571</td>\n",
       "      <td>23.57</td>\n",
       "      <td>25.53</td>\n",
       "      <td>152.50</td>\n",
       "      <td>1709.0</td>\n",
       "      <td>0.1444</td>\n",
       "      <td>0.4245</td>\n",
       "      <td>0.4504</td>\n",
       "      <td>0.2430</td>\n",
       "      <td>0.3613</td>\n",
       "      <td>0.08758</td>\n",
       "    </tr>\n",
       "    <tr>\n",
       "      <th>3</th>\n",
       "      <td>84348301</td>\n",
       "      <td>M</td>\n",
       "      <td>11.42</td>\n",
       "      <td>20.38</td>\n",
       "      <td>77.58</td>\n",
       "      <td>386.1</td>\n",
       "      <td>0.14250</td>\n",
       "      <td>0.28390</td>\n",
       "      <td>0.2414</td>\n",
       "      <td>0.10520</td>\n",
       "      <td>0.2597</td>\n",
       "      <td>0.09744</td>\n",
       "      <td>0.4956</td>\n",
       "      <td>1.1560</td>\n",
       "      <td>3.445</td>\n",
       "      <td>27.23</td>\n",
       "      <td>0.009110</td>\n",
       "      <td>0.07458</td>\n",
       "      <td>0.05661</td>\n",
       "      <td>0.01867</td>\n",
       "      <td>0.05963</td>\n",
       "      <td>0.009208</td>\n",
       "      <td>14.91</td>\n",
       "      <td>26.50</td>\n",
       "      <td>98.87</td>\n",
       "      <td>567.7</td>\n",
       "      <td>0.2098</td>\n",
       "      <td>0.8663</td>\n",
       "      <td>0.6869</td>\n",
       "      <td>0.2575</td>\n",
       "      <td>0.6638</td>\n",
       "      <td>0.17300</td>\n",
       "    </tr>\n",
       "    <tr>\n",
       "      <th>4</th>\n",
       "      <td>84358402</td>\n",
       "      <td>M</td>\n",
       "      <td>20.29</td>\n",
       "      <td>14.34</td>\n",
       "      <td>135.10</td>\n",
       "      <td>1297.0</td>\n",
       "      <td>0.10030</td>\n",
       "      <td>0.13280</td>\n",
       "      <td>0.1980</td>\n",
       "      <td>0.10430</td>\n",
       "      <td>0.1809</td>\n",
       "      <td>0.05883</td>\n",
       "      <td>0.7572</td>\n",
       "      <td>0.7813</td>\n",
       "      <td>5.438</td>\n",
       "      <td>94.44</td>\n",
       "      <td>0.011490</td>\n",
       "      <td>0.02461</td>\n",
       "      <td>0.05688</td>\n",
       "      <td>0.01885</td>\n",
       "      <td>0.01756</td>\n",
       "      <td>0.005115</td>\n",
       "      <td>22.54</td>\n",
       "      <td>16.67</td>\n",
       "      <td>152.20</td>\n",
       "      <td>1575.0</td>\n",
       "      <td>0.1374</td>\n",
       "      <td>0.2050</td>\n",
       "      <td>0.4000</td>\n",
       "      <td>0.1625</td>\n",
       "      <td>0.2364</td>\n",
       "      <td>0.07678</td>\n",
       "    </tr>\n",
       "  </tbody>\n",
       "</table>\n",
       "</div>"
      ],
      "text/plain": [
       "   ID number Diagnosis  mean radius  mean texture  mean perimeter  mean area  \\\n",
       "0     842302         M        17.99         10.38          122.80     1001.0   \n",
       "1     842517         M        20.57         17.77          132.90     1326.0   \n",
       "2   84300903         M        19.69         21.25          130.00     1203.0   \n",
       "3   84348301         M        11.42         20.38           77.58      386.1   \n",
       "4   84358402         M        20.29         14.34          135.10     1297.0   \n",
       "\n",
       "   mean smoothness  mean compactness  mean concavity  mean concave points  \\\n",
       "0          0.11840           0.27760          0.3001              0.14710   \n",
       "1          0.08474           0.07864          0.0869              0.07017   \n",
       "2          0.10960           0.15990          0.1974              0.12790   \n",
       "3          0.14250           0.28390          0.2414              0.10520   \n",
       "4          0.10030           0.13280          0.1980              0.10430   \n",
       "\n",
       "   mean symmetry  mean fractal dimension  radius error  texture error  \\\n",
       "0         0.2419                 0.07871        1.0950         0.9053   \n",
       "1         0.1812                 0.05667        0.5435         0.7339   \n",
       "2         0.2069                 0.05999        0.7456         0.7869   \n",
       "3         0.2597                 0.09744        0.4956         1.1560   \n",
       "4         0.1809                 0.05883        0.7572         0.7813   \n",
       "\n",
       "   perimeter error  area error  smoothness error  compactness error  \\\n",
       "0            8.589      153.40          0.006399            0.04904   \n",
       "1            3.398       74.08          0.005225            0.01308   \n",
       "2            4.585       94.03          0.006150            0.04006   \n",
       "3            3.445       27.23          0.009110            0.07458   \n",
       "4            5.438       94.44          0.011490            0.02461   \n",
       "\n",
       "   concavity error  concave points error  symmetry error  \\\n",
       "0          0.05373               0.01587         0.03003   \n",
       "1          0.01860               0.01340         0.01389   \n",
       "2          0.03832               0.02058         0.02250   \n",
       "3          0.05661               0.01867         0.05963   \n",
       "4          0.05688               0.01885         0.01756   \n",
       "\n",
       "   fractal dimension error  worst radius  worst texture  worst perimeter  \\\n",
       "0                 0.006193         25.38          17.33           184.60   \n",
       "1                 0.003532         24.99          23.41           158.80   \n",
       "2                 0.004571         23.57          25.53           152.50   \n",
       "3                 0.009208         14.91          26.50            98.87   \n",
       "4                 0.005115         22.54          16.67           152.20   \n",
       "\n",
       "   worst area  worst smoothness  worst compactness  worst concavity  \\\n",
       "0      2019.0            0.1622             0.6656           0.7119   \n",
       "1      1956.0            0.1238             0.1866           0.2416   \n",
       "2      1709.0            0.1444             0.4245           0.4504   \n",
       "3       567.7            0.2098             0.8663           0.6869   \n",
       "4      1575.0            0.1374             0.2050           0.4000   \n",
       "\n",
       "   worst concave points  worst symmetry  worst fractal dimension  \n",
       "0                0.2654          0.4601                  0.11890  \n",
       "1                0.1860          0.2750                  0.08902  \n",
       "2                0.2430          0.3613                  0.08758  \n",
       "3                0.2575          0.6638                  0.17300  \n",
       "4                0.1625          0.2364                  0.07678  "
      ]
     },
     "execution_count": 5,
     "metadata": {},
     "output_type": "execute_result"
    }
   ],
   "source": [
    "df.head()"
   ]
  },
  {
   "cell_type": "code",
   "execution_count": 4,
   "metadata": {
    "collapsed": true
   },
   "outputs": [],
   "source": [
    "Diagnosis_mapping = {'M':1, 'B':0}\n",
    "df.Diagnosis = df.Diagnosis.map(Diagnosis_mapping)"
   ]
  },
  {
   "cell_type": "code",
   "execution_count": 7,
   "metadata": {},
   "outputs": [
    {
     "data": {
      "text/plain": [
       "0    357\n",
       "1    212\n",
       "Name: Diagnosis, dtype: int64"
      ]
     },
     "execution_count": 7,
     "metadata": {},
     "output_type": "execute_result"
    }
   ],
   "source": [
    "df.Diagnosis.value_counts()"
   ]
  },
  {
   "cell_type": "code",
   "execution_count": 5,
   "metadata": {
    "collapsed": true
   },
   "outputs": [],
   "source": [
    "df.drop('ID number', axis=1 , inplace=True)"
   ]
  },
  {
   "cell_type": "code",
   "execution_count": 6,
   "metadata": {
    "collapsed": true
   },
   "outputs": [],
   "source": [
    "df_wide = df[['Diagnosis','mean radius', 'mean texture', 'mean perimeter', 'mean area',\n",
    "       'mean smoothness', 'mean compactness', 'mean concavity',\n",
    "       'mean concave points', 'mean symmetry', 'mean fractal dimension']]\n",
    "df_long = pd.melt(df_wide, id_vars = 'Diagnosis')\n"
   ]
  },
  {
   "cell_type": "code",
   "execution_count": 91,
   "metadata": {},
   "outputs": [
    {
     "data": {
      "image/png": "[encoded data removed]",
      "text/plain": [
       "<matplotlib.figure.Figure at 0x1930fa537b8>"
      ]
     },
     "metadata": {},
     "output_type": "display_data"
    }
   ],
   "source": [
    "sns.lmplot(data = df_long, x ='value', y = 'Diagnosis', col=  'variable', sharex= False)\n",
    "plt.show()"
   ]
  },
  {
   "cell_type": "code",
   "execution_count": 82,
   "metadata": {},
   "outputs": [
    {
     "data": {
      "image/png": "[encoded data removed]",
      "text/plain": [
       "<matplotlib.figure.Figure at 0x1930e94f668>"
      ]
     },
     "metadata": {},
     "output_type": "display_data"
    }
   ],
   "source": [
    "sns.heatmap(df.corr())\n",
    "plt.show()"
   ]
  },
  {
   "cell_type": "code",
   "execution_count": 8,
   "metadata": {
    "collapsed": true
   },
   "outputs": [],
   "source": [
    "X = df.iloc[:, 1:]\n",
    "Y = df['Diagnosis']"
   ]
  },
  {
   "cell_type": "code",
   "execution_count": 7,
   "metadata": {},
   "outputs": [
    {
     "name": "stdout",
     "output_type": "stream",
     "text": [
      "[('mean radius', array([ -9.57191051e-01,   1.42579762e-01,  -1.18793217e-01,\n",
      "         7.33567757e-03,   0.00000000e+00,   0.00000000e+00,\n",
      "         6.72117597e+00,   2.30809129e+00,   0.00000000e+00,\n",
      "         0.00000000e+00,   0.00000000e+00,  -1.98794161e+00,\n",
      "         6.45938769e-01,   1.07033785e-01,   0.00000000e+00,\n",
      "        -5.82455432e-01,  -1.28232466e+01,   0.00000000e+00,\n",
      "         0.00000000e+00,   0.00000000e+00,   5.50578906e-03,\n",
      "         3.36500562e-01,  -2.65592254e-02,   1.98869476e-02,\n",
      "         3.39191471e+01,  -5.39686426e+00,   3.20749564e+00,\n",
      "         4.18528259e+01,   1.00228118e+01,   0.00000000e+00]))]\n"
     ]
    }
   ],
   "source": [
    "compare_df = pd.DataFrame(columns=[ 'Regular Logistic','Ridge','Lasso'])\n",
    "\n",
    "#REGULAR LOGISTIC REGRESSION\n",
    "\n",
    "#Set the C value verY high such that there is essentiallY no regularization taking place (C set to verY high value)\n",
    "logreg = LogisticRegression(C = 1e9)\n",
    "fit = logreg.fit(X, Y)\n",
    "#RIDGE REGRESSION (L2)\n",
    "ridge = LogisticRegressionCV(penalty='l2', solver = 'liblinear', cv = 10)\n",
    "fit = ridge.fit(X, Y)\n",
    "# LASSO REGRESSION(L1)\n",
    "lasso = LogisticRegressionCV(penalty='l1', solver = 'liblinear', cv = 10)\n",
    "fit = lasso.fit(X, Y)\n",
    "\n",
    "compare_df.loc[0, ['Regular Logistic']] = logreg.score(X, Y)\n",
    "compare_df.loc[0, ['Ridge']] = ridge.score(X, Y)\n",
    "compare_df.loc[0, ['Lasso']] = lasso.score(X, Y)\n",
    "test_no = 1\n",
    "kf = KFold(n_splits=10) \n",
    "\n",
    "for train_index, test_index in kf.split(X, Y):\n",
    "    X_train, X_test = X.iloc[train_index], X.iloc[test_index]\n",
    "    Y_train, Y_test = Y.iloc[train_index], Y.iloc[test_index]\n",
    "    #Use model defined above\n",
    "    logreg.fit(X_train, Y_train)\n",
    "    score = logreg.score(X_test, Y_test)\n",
    "    #all_log_score.append(score)  \n",
    "    \n",
    "    ridge.fit(X_train, Y_train)\n",
    "    ridge_score = ridge.score(X_test, Y_test)\n",
    "    #all_ridge_score.append(ridge_score)\n",
    "\n",
    "    lasso.fit(X_train, Y_train)\n",
    "    lasso_score = lasso.score(X_test, Y_test)\n",
    "    #all_lasso_score.append(lasso_score)\n",
    "    compare_df.loc[test_no, ['Regular Logistic']] = score\n",
    "    compare_df.loc[test_no, ['Ridge']] = ridge_score\n",
    "    compare_df.loc[test_no, ['Lasso']] = lasso_score\n",
    "    \n",
    "    \n",
    "    test_no = test_no + 1\n",
    "\n",
    "compare_df.loc[test_no, ['Regular Logistic']] = score.mean()\n",
    "compare_df.loc[test_no, ['Ridge']] = ridge_score.mean()\n",
    "compare_df.loc[test_no, ['Lasso']] = lasso_score.mean()\n",
    "\n",
    "#Store the parameter estimates.\n",
    "origparams = np.append(logreg.coef_, logreg.intercept_)\n",
    "ridge_params = np.append(ridge.coef_, ridge.intercept_)\n",
    "lasso_params = np.append(lasso.coef_, lasso.intercept_)\n",
    "print(list(zip(X_train.columns, lasso.coef_ )))"
   ]
  },
  {
   "cell_type": "code",
   "execution_count": 14,
   "metadata": {},
   "outputs": [
    {
     "name": "stdout",
     "output_type": "stream",
     "text": [
      "[[ -9.88235725e-01   2.32193876e-01  -1.30541593e-01   4.18585668e-04\n",
      "    0.00000000e+00  -3.88224307e+01   1.67885510e+01   8.35082864e+01\n",
      "   -1.42049171e+01   0.00000000e+00   3.80292782e+00  -1.59856300e+00\n",
      "   -5.61407127e-02   1.45882721e-01   0.00000000e+00  -2.31995915e+01\n",
      "   -3.65079313e+01   6.49236040e+01  -2.19481936e+01   0.00000000e+00\n",
      "   -3.61514558e-02   3.13656916e-01   1.28970050e-02   2.29957290e-02\n",
      "    4.24731430e+01  -2.97702616e+00   7.64565114e+00   3.60107935e+01\n",
      "    2.07335555e+01   0.00000000e+00]]\n"
     ]
    }
   ],
   "source": [
    "print(lasso.coef_)"
   ]
  },
  {
   "cell_type": "code",
   "execution_count": 15,
   "metadata": {},
   "outputs": [
    {
     "name": "stdout",
     "output_type": "stream",
     "text": [
      "[-0.9882357251084174, 0.23219387647380504, -0.13054159283079134, 0.00041858566784010604, 0.0, -38.822430717173994, 16.78855097812092, 83.508286370816151, -14.204917136968245, 0.0, 3.8029278170545751, -1.5985629962699388, -0.056140712713792354, 0.1458827208126684, 0.0, -23.199591470489825, -36.507931318841045, 64.923603980177063, -21.948193556125833, 0.0, -0.036151455803256231, 0.31365691551608249, 0.012897004974137564, 0.022995729047196184, 42.473143027241036, -2.9770261613344173, 7.6456511406428334, 36.010793455148608, 20.733555540787918, 0.0]\n"
     ]
    }
   ],
   "source": [
    "flat_list = [item for sublist in lasso.coef_ for item in sublist]\n",
    "print(flat_list)"
   ]
  },
  {
   "cell_type": "code",
   "execution_count": 17,
   "metadata": {},
   "outputs": [
    {
     "name": "stdout",
     "output_type": "stream",
     "text": [
      "[('mean radius', -0.9882357251084174), ('mean texture', 0.23219387647380504), ('mean perimeter', -0.13054159283079134), ('mean area', 0.00041858566784010604), ('mean smoothness', 0.0), ('mean compactness', -38.822430717173994), ('mean concavity', 16.78855097812092), ('mean concave points', 83.508286370816151), ('mean symmetry', -14.204917136968245), ('mean fractal dimension', 0.0), ('radius error', 3.8029278170545751), ('texture error', -1.5985629962699388), ('perimeter error', -0.056140712713792354), ('area error', 0.1458827208126684), ('smoothness error', 0.0), ('compactness error', -23.199591470489825), ('concavity error', -36.507931318841045), ('concave points error', 64.923603980177063), ('symmetry error', -21.948193556125833), ('fractal dimension error', 0.0), ('worst radius', -0.036151455803256231), ('worst texture', 0.31365691551608249), ('worst perimeter', 0.012897004974137564), ('worst area', 0.022995729047196184), ('worst smoothness', 42.473143027241036), ('worst compactness', -2.9770261613344173), ('worst concavity', 7.6456511406428334), ('worst concave points', 36.010793455148608), ('worst symmetry', 20.733555540787918), ('worst fractal dimension', 0.0)]\n"
     ]
    }
   ],
   "source": [
    "print( list(zip(X_train.columns, flat_list)))"
   ]
  },
  {
   "cell_type": "code",
   "execution_count": 56,
   "metadata": {
    "collapsed": true
   },
   "outputs": [],
   "source": [
    "new_index=  {0: 'overall',  1:'fold 1', 2:'fold 2', 3:'fold 3', 4:'fold 4',5:'fold 5',\n",
    "             6:'fold 6',7:'fold 7',8:'fold 8',9:'fold 9',10:'fold 10',11:'Average Score'}\n",
    "compare_df.rename(index = new_index, inplace=True)"
   ]
  },
  {
   "cell_type": "code",
   "execution_count": 57,
   "metadata": {},
   "outputs": [
    {
     "data": {
      "text/html": [
       "<div>\n",
       "<style>\n",
       "    .dataframe thead tr:only-child th {\n",
       "        text-align: right;\n",
       "    }\n",
       "\n",
       "    .dataframe thead th {\n",
       "        text-align: left;\n",
       "    }\n",
       "\n",
       "    .dataframe tbody tr th {\n",
       "        vertical-align: top;\n",
       "    }\n",
       "</style>\n",
       "<table border=\"1\" class=\"dataframe\">\n",
       "  <thead>\n",
       "    <tr style=\"text-align: right;\">\n",
       "      <th></th>\n",
       "      <th>Regular Logistic</th>\n",
       "      <th>Ridge</th>\n",
       "      <th>Lasso</th>\n",
       "    </tr>\n",
       "  </thead>\n",
       "  <tbody>\n",
       "    <tr>\n",
       "      <th>overall</th>\n",
       "      <td>0.970123</td>\n",
       "      <td>0.964851</td>\n",
       "      <td>0.989455</td>\n",
       "    </tr>\n",
       "    <tr>\n",
       "      <th>fold 1</th>\n",
       "      <td>0.947368</td>\n",
       "      <td>0.947368</td>\n",
       "      <td>0.947368</td>\n",
       "    </tr>\n",
       "    <tr>\n",
       "      <th>fold 2</th>\n",
       "      <td>0.912281</td>\n",
       "      <td>0.912281</td>\n",
       "      <td>0.947368</td>\n",
       "    </tr>\n",
       "    <tr>\n",
       "      <th>fold 3</th>\n",
       "      <td>0.964912</td>\n",
       "      <td>0.947368</td>\n",
       "      <td>0.982456</td>\n",
       "    </tr>\n",
       "    <tr>\n",
       "      <th>fold 4</th>\n",
       "      <td>0.964912</td>\n",
       "      <td>0.982456</td>\n",
       "      <td>0.877193</td>\n",
       "    </tr>\n",
       "    <tr>\n",
       "      <th>fold 5</th>\n",
       "      <td>0.964912</td>\n",
       "      <td>0.982456</td>\n",
       "      <td>0.964912</td>\n",
       "    </tr>\n",
       "    <tr>\n",
       "      <th>fold 6</th>\n",
       "      <td>0.964912</td>\n",
       "      <td>0.964912</td>\n",
       "      <td>0.964912</td>\n",
       "    </tr>\n",
       "    <tr>\n",
       "      <th>fold 7</th>\n",
       "      <td>0.982456</td>\n",
       "      <td>0.982456</td>\n",
       "      <td>1.000000</td>\n",
       "    </tr>\n",
       "    <tr>\n",
       "      <th>fold 8</th>\n",
       "      <td>0.947368</td>\n",
       "      <td>0.947368</td>\n",
       "      <td>0.964912</td>\n",
       "    </tr>\n",
       "    <tr>\n",
       "      <th>fold 9</th>\n",
       "      <td>0.947368</td>\n",
       "      <td>0.947368</td>\n",
       "      <td>0.964912</td>\n",
       "    </tr>\n",
       "    <tr>\n",
       "      <th>fold 10</th>\n",
       "      <td>0.964286</td>\n",
       "      <td>0.964286</td>\n",
       "      <td>0.982143</td>\n",
       "    </tr>\n",
       "    <tr>\n",
       "      <th>Average Score</th>\n",
       "      <td>0.964286</td>\n",
       "      <td>0.964286</td>\n",
       "      <td>0.982143</td>\n",
       "    </tr>\n",
       "  </tbody>\n",
       "</table>\n",
       "</div>"
      ],
      "text/plain": [
       "               Regular Logistic     Ridge     Lasso\n",
       "overall                0.970123  0.964851  0.989455\n",
       "fold 1                 0.947368  0.947368  0.947368\n",
       "fold 2                 0.912281  0.912281  0.947368\n",
       "fold 3                 0.964912  0.947368  0.982456\n",
       "fold 4                 0.964912  0.982456  0.877193\n",
       "fold 5                 0.964912  0.982456  0.964912\n",
       "fold 6                 0.964912  0.964912  0.964912\n",
       "fold 7                 0.982456  0.982456  1.000000\n",
       "fold 8                 0.947368  0.947368  0.964912\n",
       "fold 9                 0.947368  0.947368  0.964912\n",
       "fold 10                0.964286  0.964286  0.982143\n",
       "Average Score          0.964286  0.964286  0.982143"
      ]
     },
     "execution_count": 57,
     "metadata": {},
     "output_type": "execute_result"
    }
   ],
   "source": [
    "compare_df"
   ]
  },
  {
   "cell_type": "markdown",
   "metadata": {},
   "source": [
    "I have chosen to use the LogisiticRegressionCV function because it has a built-in solver that finds the optimal C-value to use for the regularization parameter. The accuracy score for Lasso regression was better than other two.\n"
   ]
  },
  {
   "cell_type": "code",
   "execution_count": 60,
   "metadata": {},
   "outputs": [
    {
     "name": "stdout",
     "output_type": "stream",
     "text": [
      "Logostic Regression parameters:\n",
      " [ -7.45059971e+00   1.29311125e-02   4.60477743e-01   3.75718158e-02\n",
      "   3.75335617e+00   9.57719271e-02   3.50809576e+00   6.56295943e+00\n",
      "   4.48368217e+00  -6.23852196e-01   4.82833173e-02  -2.61255625e+00\n",
      "   9.89286113e-01   6.76389975e-02   6.81076283e-01  -5.44810405e+00\n",
      "  -6.59669445e+00   6.07172314e-01  -5.04425016e-01  -9.68869497e-01\n",
      "   1.92757037e+00   4.25099645e-01  -9.85249939e-02   5.59118719e-03\n",
      "   8.44977551e+00  -1.92243629e+00   3.27428097e+00   1.32886901e+01\n",
      "   8.23794341e+00  -6.64520012e-01  -5.82476400e+00]\n",
      "\n",
      "Ridge Regression parameters:\n",
      " [ -7.36349931e+00   1.20925378e-01   3.43597790e-01   4.21299753e-02\n",
      "   3.58815707e+00   1.29503130e-01   3.34061086e+00   6.28532306e+00\n",
      "   4.33567433e+00  -5.98977383e-01   4.23987124e-02  -1.16359581e+00\n",
      "   3.22994211e-01   7.97586069e-02   6.54601510e-01  -5.19278380e+00\n",
      "  -6.34254033e+00   5.77655558e-01  -4.55230722e-01  -9.21468560e-01\n",
      "   2.09854294e+00   2.59157772e-01   5.75531484e-03  -6.63243421e-04\n",
      "   8.06116929e+00  -2.03277195e+00   2.63702759e+00   1.26575327e+01\n",
      "   7.91694824e+00  -6.65034166e-01  -5.59762691e+00]\n",
      "\n",
      "Lasso Regression parameters:\n",
      " [ -2.19218366e+00   2.56543341e-01  -1.79141564e-01   1.63627408e-02\n",
      "   0.00000000e+00  -3.87128223e+01   4.64928823e+00   9.56382242e+01\n",
      "  -6.64956381e+00   0.00000000e+00   6.59394152e+00  -1.60191109e+00\n",
      "  -8.73699202e-01   1.84693878e-01   0.00000000e+00  -3.58685305e+01\n",
      "  -2.74134948e+01   4.03356596e+01  -4.35171600e+00   0.00000000e+00\n",
      "   4.39891214e-01   3.34632779e-01   1.65480835e-01   9.56134595e-03\n",
      "   5.01576931e+01  -4.09236756e+00   1.00101361e+01   3.57260876e+01\n",
      "   1.67498512e+01   4.99773696e+00  -2.90806883e+01]\n"
     ]
    }
   ],
   "source": [
    "print('Logostic Regression parameters:\\n',origparams)\n",
    "print('\\nRidge Regression parameters:\\n',ridge_params)\n",
    "print('\\nLasso Regression parameters:\\n', lasso_params)"
   ]
  },
  {
   "cell_type": "code",
   "execution_count": 70,
   "metadata": {},
   "outputs": [
    {
     "data": {
      "text/plain": [
       "27"
      ]
     },
     "execution_count": 70,
     "metadata": {},
     "output_type": "execute_result"
    }
   ],
   "source": [
    "len(lasso_params[lasso_params !=0])"
   ]
  },
  {
   "cell_type": "markdown",
   "metadata": {
    "collapsed": true
   },
   "source": [
    "We see here the Lasso regression considered only 27 features from 31 features."
   ]
  },
  {
   "cell_type": "markdown",
   "metadata": {},
   "source": [
    "Strenths and limitations:\n",
    "\n",
    "Ridge regression keeps all predictor variables. Good if you they're all relevant for predicting target variable. Otherwise, makes model more complicated than it needs to be.\n",
    "LASSO regression performs feature selection, which reduces model complexity. Undesireable if you want to keep all features in model."
   ]
  },
  {
   "cell_type": "code",
   "execution_count": 16,
   "metadata": {
    "collapsed": true
   },
   "outputs": [],
   "source": [
    "df_std = pd.DataFrame(StandardScaler().fit_transform(df), columns= df.columns)\n",
    "\n",
    "X = df_std.iloc[:, 1:]\n",
    "Y = df['Diagnosis']"
   ]
  },
  {
   "cell_type": "code",
   "execution_count": 17,
   "metadata": {},
   "outputs": [
    {
     "data": {
      "text/plain": [
       "0    1\n",
       "1    1\n",
       "2    1\n",
       "3    1\n",
       "4    1\n",
       "Name: Diagnosis, dtype: int64"
      ]
     },
     "execution_count": 17,
     "metadata": {},
     "output_type": "execute_result"
    }
   ],
   "source": [
    "Y.head()"
   ]
  },
  {
   "cell_type": "code",
   "execution_count": 18,
   "metadata": {},
   "outputs": [
    {
     "name": "stdout",
     "output_type": "stream",
     "text": [
      "[('mean radius', array([ 0.        ,  0.62830616,  0.        ,  0.        ,  0.        ,\n",
      "        0.        ,  0.        ,  0.22307149,  0.        ,  0.        ,\n",
      "        1.45194904,  0.        ,  0.        ,  0.        ,  0.        ,\n",
      "        0.        ,  0.        ,  0.        ,  0.        , -0.16907869,\n",
      "        1.65235501,  0.63608954,  0.        ,  2.2578272 ,  0.75509842,\n",
      "        0.        ,  0.08946649,  1.39256489,  0.43537044,  0.        ]))]\n"
     ]
    }
   ],
   "source": [
    "compare_df_2 = pd.DataFrame(columns=[ 'Regular Logistic','Ridge','Lasso'])\n",
    "\n",
    "#REGULAR LOGISTIC REGRESSION\n",
    "logreg = LogisticRegression(C = 1e9)\n",
    "fit = logreg.fit(X, Y)\n",
    "#RIDGE REGRESSION (L2)\n",
    "ridge = LogisticRegressionCV(penalty='l2', solver = 'liblinear', cv = 10)\n",
    "fit = ridge.fit(X, Y)\n",
    "# LASSO REGRESSION(L1)\n",
    "lasso = LogisticRegressionCV(penalty='l1', solver = 'liblinear', cv = 10)\n",
    "fit = lasso.fit(X, Y)\n",
    "\n",
    "compare_df_2.loc[0, ['Regular Logistic']] = logreg.score(X, Y)\n",
    "compare_df_2.loc[0, ['Ridge']] = ridge.score(X, Y)\n",
    "compare_df_2.loc[0, ['Lasso']] = lasso.score(X, Y)\n",
    "test_no = 1\n",
    "kf = KFold(n_splits=10) \n",
    "\n",
    "for train_index, test_index in kf.split(X, Y):\n",
    "    X_train, X_test = X.iloc[train_index], X.iloc[test_index]\n",
    "    Y_train, Y_test = Y.iloc[train_index], Y.iloc[test_index]\n",
    "    #Use model defined above\n",
    "    logreg.fit(X_train, Y_train)\n",
    "    score = logreg.score(X_test, Y_test)\n",
    "\n",
    "    \n",
    "    ridge.fit(X_train, Y_train)\n",
    "    ridge_score = ridge.score(X_test, Y_test)\n",
    "\n",
    "\n",
    "    lasso.fit(X_train, Y_train)\n",
    "    lasso_score = lasso.score(X_test, Y_test)\n",
    "\n",
    "    compare_df_2.loc[test_no, ['Regular Logistic']] = score\n",
    "    compare_df_2.loc[test_no, ['Ridge']] = ridge_score\n",
    "    compare_df_2.loc[test_no, ['Lasso']] = lasso_score\n",
    "    \n",
    "    \n",
    "    test_no = test_no + 1\n",
    "\n",
    "\n",
    "compare_df_2.loc[test_no, ['Regular Logistic']] = score.mean()\n",
    "compare_df_2.loc[test_no, ['Ridge']] = ridge_score.mean()\n",
    "compare_df_2.loc[test_no, ['Lasso']] = lasso_score.mean()\n",
    "\n",
    "#Store the parameter estimates.\n",
    "origparams = np.append(logreg.coef_, logreg.intercept_)\n",
    "ridge_params = np.append(ridge.coef_, ridge.intercept_)\n",
    "lasso_params = np.append(lasso.coef_, lasso.intercept_)\n"
   ]
  },
  {
   "cell_type": "code",
   "execution_count": 19,
   "metadata": {},
   "outputs": [
    {
     "data": {
      "text/html": [
       "<div>\n",
       "<style>\n",
       "    .dataframe thead tr:only-child th {\n",
       "        text-align: right;\n",
       "    }\n",
       "\n",
       "    .dataframe thead th {\n",
       "        text-align: left;\n",
       "    }\n",
       "\n",
       "    .dataframe tbody tr th {\n",
       "        vertical-align: top;\n",
       "    }\n",
       "</style>\n",
       "<table border=\"1\" class=\"dataframe\">\n",
       "  <thead>\n",
       "    <tr style=\"text-align: right;\">\n",
       "      <th></th>\n",
       "      <th>Regular Logistic</th>\n",
       "      <th>Ridge</th>\n",
       "      <th>Lasso</th>\n",
       "    </tr>\n",
       "  </thead>\n",
       "  <tbody>\n",
       "    <tr>\n",
       "      <th>0</th>\n",
       "      <td>0.998243</td>\n",
       "      <td>0.984183</td>\n",
       "      <td>0.98594</td>\n",
       "    </tr>\n",
       "    <tr>\n",
       "      <th>1</th>\n",
       "      <td>0.964912</td>\n",
       "      <td>0.947368</td>\n",
       "      <td>0.947368</td>\n",
       "    </tr>\n",
       "    <tr>\n",
       "      <th>2</th>\n",
       "      <td>0.894737</td>\n",
       "      <td>0.982456</td>\n",
       "      <td>0.947368</td>\n",
       "    </tr>\n",
       "    <tr>\n",
       "      <th>3</th>\n",
       "      <td>0.982456</td>\n",
       "      <td>0.982456</td>\n",
       "      <td>0.982456</td>\n",
       "    </tr>\n",
       "    <tr>\n",
       "      <th>4</th>\n",
       "      <td>0.894737</td>\n",
       "      <td>0.929825</td>\n",
       "      <td>0.964912</td>\n",
       "    </tr>\n",
       "    <tr>\n",
       "      <th>5</th>\n",
       "      <td>0.912281</td>\n",
       "      <td>0.964912</td>\n",
       "      <td>0.964912</td>\n",
       "    </tr>\n",
       "    <tr>\n",
       "      <th>6</th>\n",
       "      <td>0.929825</td>\n",
       "      <td>0.982456</td>\n",
       "      <td>0.982456</td>\n",
       "    </tr>\n",
       "    <tr>\n",
       "      <th>7</th>\n",
       "      <td>0.982456</td>\n",
       "      <td>1</td>\n",
       "      <td>0.982456</td>\n",
       "    </tr>\n",
       "    <tr>\n",
       "      <th>8</th>\n",
       "      <td>0.947368</td>\n",
       "      <td>0.982456</td>\n",
       "      <td>0.982456</td>\n",
       "    </tr>\n",
       "    <tr>\n",
       "      <th>9</th>\n",
       "      <td>1</td>\n",
       "      <td>1</td>\n",
       "      <td>0.982456</td>\n",
       "    </tr>\n",
       "    <tr>\n",
       "      <th>10</th>\n",
       "      <td>0.982143</td>\n",
       "      <td>0.964286</td>\n",
       "      <td>0.982143</td>\n",
       "    </tr>\n",
       "    <tr>\n",
       "      <th>11</th>\n",
       "      <td>0.982143</td>\n",
       "      <td>0.964286</td>\n",
       "      <td>0.982143</td>\n",
       "    </tr>\n",
       "  </tbody>\n",
       "</table>\n",
       "</div>"
      ],
      "text/plain": [
       "   Regular Logistic     Ridge     Lasso\n",
       "0          0.998243  0.984183   0.98594\n",
       "1          0.964912  0.947368  0.947368\n",
       "2          0.894737  0.982456  0.947368\n",
       "3          0.982456  0.982456  0.982456\n",
       "4          0.894737  0.929825  0.964912\n",
       "5          0.912281  0.964912  0.964912\n",
       "6          0.929825  0.982456  0.982456\n",
       "7          0.982456         1  0.982456\n",
       "8          0.947368  0.982456  0.982456\n",
       "9                 1         1  0.982456\n",
       "10         0.982143  0.964286  0.982143\n",
       "11         0.982143  0.964286  0.982143"
      ]
     },
     "execution_count": 19,
     "metadata": {},
     "output_type": "execute_result"
    }
   ],
   "source": [
    "compare_df_2"
   ]
  },
  {
   "cell_type": "code",
   "execution_count": 22,
   "metadata": {},
   "outputs": [
    {
     "data": {
      "text/plain": [
       "array([ 0.        ,  0.62830616,  0.        ,  0.        ,  0.        ,\n",
       "        0.        ,  0.        ,  0.22307149,  0.        ,  0.        ,\n",
       "        1.45194904,  0.        ,  0.        ,  0.        ,  0.        ,\n",
       "        0.        ,  0.        ,  0.        ,  0.        , -0.16907869,\n",
       "        1.65235501,  0.63608954,  0.        ,  2.2578272 ,  0.75509842,\n",
       "        0.        ,  0.08946649,  1.39256489,  0.43537044,  0.        ,  0.        ])"
      ]
     },
     "execution_count": 22,
     "metadata": {},
     "output_type": "execute_result"
    }
   ],
   "source": [
    "lasso_params"
   ]
  },
  {
   "cell_type": "code",
   "execution_count": 20,
   "metadata": {},
   "outputs": [
    {
     "data": {
      "text/plain": [
       "11"
      ]
     },
     "execution_count": 20,
     "metadata": {},
     "output_type": "execute_result"
    }
   ],
   "source": [
    "len(lasso_params[lasso_params !=0])"
   ]
  },
  {
   "cell_type": "markdown",
   "metadata": {},
   "source": [
    "When Tried the similar after standardizing the features, The Logistic Regression and Lasso Regression performed similar.\n",
    "We see here the Lasso regression considered only 11 features from 31 features. It considered 27 Features before standardization.\n"
   ]
  },
  {
   "cell_type": "code",
   "execution_count": null,
   "metadata": {
    "collapsed": true
   },
   "outputs": [],
   "source": []
  }
 ],
 "metadata": {
  "kernelspec": {
   "display_name": "Python 3",
   "language": "python",
   "name": "python3"
  },
  "language_info": {
   "codemirror_mode": {
    "name": "ipython",
    "version": 3
   },
   "file_extension": ".py",
   "mimetype": "text/x-python",
   "name": "python",
   "nbconvert_exporter": "python",
   "pygments_lexer": "ipython3",
   "version": "3.6.3"
  }
 },
 "nbformat": 4,
 "nbformat_minor": 2
}
