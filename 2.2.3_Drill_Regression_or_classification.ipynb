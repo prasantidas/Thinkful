{
 "cells": [
  {
   "cell_type": "markdown",
   "metadata": {},
   "source": [
    "For each of the following situations, decide if you would model using a regression or classification model. "
   ]
  },
  {
   "cell_type": "markdown",
   "metadata": {},
   "source": [
    "\n",
    "#1.\tThe amount a person will spend on a given site in the next 24 months.\n",
    "\n",
    "Regression model. \n",
    "Because the outcome variable is a continuous variable.\n",
    "\n",
    "#2.\tWhat color car someone is going to buy.\n",
    "\n",
    "Classification\n",
    "Because the outcome variable can be a categorical variable.\n",
    "\n",
    "#3.\tHow many children a family will have.\n",
    "\n",
    "Regression will be better – because can’t limit the upper bound for number of children. \n",
    "\n",
    "#4.\tIf someone will sign up for a service.\n",
    "\n",
    "Classification- because the outcome variable will be either yes or no.\n",
    "\n",
    "#5.\tThe number of times someone will get sick in a year.\n",
    "\n",
    "Either can be used .\n",
    "\n",
    "#6.\tThe probability someone will get sick in the next month.\n",
    "\n",
    "Classification. Because be sick or not are the only two categories and it is asking to find some probability measure for each category.\n",
    "\n",
    "#7.\tWhich medicine will work best for a given patient.\n",
    "\n",
    "Classification. Because this can’t be a continuous variable. \n"
   ]
  },
  {
   "cell_type": "code",
   "execution_count": null,
   "metadata": {
    "collapsed": true
   },
   "outputs": [],
   "source": []
  }
 ],
 "metadata": {
  "kernelspec": {
   "display_name": "Python 3",
   "language": "python",
   "name": "python3"
  },
  "language_info": {
   "codemirror_mode": {
    "name": "ipython",
    "version": 3
   },
   "file_extension": ".py",
   "mimetype": "text/x-python",
   "name": "python",
   "nbconvert_exporter": "python",
   "pygments_lexer": "ipython3",
   "version": "3.6.3"
  }
 },
 "nbformat": 4,
 "nbformat_minor": 2
}
