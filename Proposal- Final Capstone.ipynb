{
 "cells": [
  {
   "cell_type": "markdown",
   "metadata": {},
   "source": [
    "# What is the problem you are attempting to solve?\n",
    "\n",
    "I have choosen Time series as the specialization.\n",
    "I want to Predicting exchange rate for INR to USD , and I am interested in finding the best model for it.\n",
    "\n",
    "# How is your solution valuable?\n",
    "\n",
    "The foreign exchange market is the largest financial market in the world and forecasting exchange rates are not solely an important task for investors, but also for policy makers. The exchange rate has direct impact on nations' international trade, economic growth as well as on their interest rate. As a result, investors and policy makers constantly try to forecast the change of the exchange rate in an attempt to minimize the risk of holding currency.\n",
    "\n",
    "# What is your data source and how will you access it?\n",
    "\n",
    "The data source is https://fred.stlouisfed.org/series/DEXINUS\n",
    "This has daily exchange rate information from the year 1973 till date.\n",
    "This has 11885 observations. \n",
    "\n",
    "# What techniques from the course do you anticipate using?\n",
    "\n",
    "I am planning to use \n",
    "\n",
    "•\tAugmented Dickey-Fuller (ADF) test - to check for stationarity. \n",
    "\n",
    "•\tACF and PACF plot - to check for order of AR and MA models.\n",
    "\n",
    "•\tintegrated autoregressive moving average model (ARIMA). \n",
    "\n",
    "•\tThe Akaike Information Criterion (AIC) and Mean squared error (MSE) - for models selection. \n",
    "\n",
    "•\tThe ACF plot for the residual's normality check along with histogram.\n",
    "\n",
    "•   Seasonal integrated autoregressive moving average model - SARIMA\n",
    "\n",
    "•   AUTO ARIMA\n",
    "\n",
    "•   Prophet developed by Facebook Research Team\n",
    "\n",
    "•   Long Short Term Memory Neural Network - LSTM Network\n",
    "\n"
   ]
  },
  {
   "cell_type": "code",
   "execution_count": null,
   "metadata": {
    "collapsed": true
   },
   "outputs": [],
   "source": []
  }
 ],
 "metadata": {
  "kernelspec": {
   "display_name": "Python 3",
   "language": "python",
   "name": "python3"
  },
  "language_info": {
   "codemirror_mode": {
    "name": "ipython",
    "version": 3
   },
   "file_extension": ".py",
   "mimetype": "text/x-python",
   "name": "python",
   "nbconvert_exporter": "python",
   "pygments_lexer": "ipython3",
   "version": "3.6.3"
  }
 },
 "nbformat": 4,
 "nbformat_minor": 2
}
