{
 "cells": [
  {
   "cell_type": "markdown",
   "metadata": {},
   "source": [
    "# What is the problem you are attempting to solve?\n",
    "\n",
    "I have choosen Time series as the specialization.\n",
    "I want to Predicting unemployment rate for short term or may be for long term if feasible, and I am interested in finding the best model for it.\n",
    "\n",
    "# How is your solution valuable?\n",
    "\n",
    "The unemployment rate is one of the most important macroeconomic factors. The ability to predict it accurately could help policy makers make sound decisions about which policies to implement regarding the future state of the economy.\n",
    "It helps economists to have a better idea of what the future economy holds. Besides, it is also important for the government in terms of decision and policy making. \n",
    "\n",
    "# What is your data source and how will you access it?\n",
    "\n",
    "The data source is https://fred.stlouisfed.org/categories/32447?t=bls%3Bindustry&ob=pv&od=desc\n",
    "I would like to use dataset from different industries like manufacturing, construction etc.\n",
    "\n",
    "# What techniques from the course do you anticipate using?\n",
    "\n",
    "I am planning to use \n",
    "\n",
    "•\tAugmented Dickey-Fuller (ADF) test - to check for stationarity. \n",
    "\n",
    "•\tACF and PACF plot - to check for order of AR and MA models.\n",
    "\n",
    "•\tintegrated autoregressive moving average model (ARIMA). \n",
    "\n",
    "•\tThe Akaike Information Criterion (AIC) and the Bayesian Information Criterion (BIC) - for models selection. \n",
    "\n",
    "•\tThe Shapiro-Wilk test - for the residuals normality check along with QQ plot and histogram.\n",
    "\n",
    "•   Seasonal integrated autoregressive moving average model - SARIMA\n",
    "\n",
    "•   AUTO ARIMA\n",
    "\n",
    "•   Prophet developed by Facebook Research Team\n",
    "\n",
    "•   Long Short Term Memory Neural Network - LSTM Network\n",
    "\n",
    "\n",
    "\n",
    "# What do you anticipate to be the biggest challenge you’ll face?\n",
    "\n",
    "predicting unemployment rate for different industries by using one model may be a challenge. If that is not feasible, I would like to do it separately for every industry. "
   ]
  },
  {
   "cell_type": "code",
   "execution_count": null,
   "metadata": {
    "collapsed": true
   },
   "outputs": [],
   "source": []
  }
 ],
 "metadata": {
  "kernelspec": {
   "display_name": "Python 3",
   "language": "python",
   "name": "python3"
  },
  "language_info": {
   "codemirror_mode": {
    "name": "ipython",
    "version": 3
   },
   "file_extension": ".py",
   "mimetype": "text/x-python",
   "name": "python",
   "nbconvert_exporter": "python",
   "pygments_lexer": "ipython3",
   "version": "3.6.3"
  }
 },
 "nbformat": 4,
 "nbformat_minor": 2
}
