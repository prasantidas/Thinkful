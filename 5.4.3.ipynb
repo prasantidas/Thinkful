{
 "cells": [
  {
   "cell_type": "markdown",
   "metadata": {},
   "source": [
    "# 1\n",
    "\n",
    "Popularity of various Uber Drivers :\n",
    "\n",
    "Survey would be the best option. This is  how Uber ratings are done.\n",
    "\n",
    "\n",
    "# 2\n",
    "\n",
    "A grocery store wants to know how much people like strawberry, chocolate, and vanilla ice cream.\n",
    "\n",
    "This can be found by analysing the sales record for the items. Survey is not a good option.\n",
    "\n",
    "\n",
    "# 3\n",
    "\n",
    "Trojan wants to know whether their condoms are more popular among straight people or gay people.\n",
    "\n",
    "Survey may be the best option. But the survey in this case would be a biased one as people may not choose to answer few questions. \n",
    "\n",
    "\n",
    "# 4\n",
    "\n",
    "Recently, rental rates for HappyCars have increased by 30%, which is quite unusual. You want to find out why this is happening and how to keep the increase going.\n",
    "\n",
    "This sounds more like data analysis than a survey\n",
    "\n",
    "# 5\n",
    "\n",
    "Assessing the success rate of a new advertising campaign.\n",
    "\n",
    "we can look at changes in sales before/after launch, and compare this for different regions that had different campaigns.\n",
    "\n",
    "\n",
    "# 6\n",
    "\n",
    "Measuring the effect of nurse/patient ratio on patient recovery rates in hospital wards.\n",
    "\n",
    "This sounds more like data analysis than a survey."
   ]
  },
  {
   "cell_type": "code",
   "execution_count": null,
   "metadata": {
    "collapsed": true
   },
   "outputs": [],
   "source": []
  }
 ],
 "metadata": {
  "kernelspec": {
   "display_name": "Python 3",
   "language": "python",
   "name": "python3"
  },
  "language_info": {
   "codemirror_mode": {
    "name": "ipython",
    "version": 3
   },
   "file_extension": ".py",
   "mimetype": "text/x-python",
   "name": "python",
   "nbconvert_exporter": "python",
   "pygments_lexer": "ipython3",
   "version": "3.6.3"
  }
 },
 "nbformat": 4,
 "nbformat_minor": 2
}
