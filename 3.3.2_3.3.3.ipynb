{
 "cells": [
  {
   "cell_type": "code",
   "execution_count": 10,
   "metadata": {
    "collapsed": true
   },
   "outputs": [],
   "source": [
    "import pandas as pd\n",
    "from matplotlib import pyplot as plt\n",
    "import numpy as np\n",
    "import math\n",
    "import seaborn as sns\n",
    "import sklearn\n",
    "from sklearn import linear_model\n",
    "from sklearn import preprocessing\n",
    "from sklearn.preprocessing  import StandardScaler\n",
    "%matplotlib inline\n",
    "sns.set_style('white')"
   ]
  },
  {
   "cell_type": "code",
   "execution_count": 2,
   "metadata": {
    "collapsed": true
   },
   "outputs": [],
   "source": [
    "df = pd.read_csv(\n",
    "    'https://vincentarelbundock.github.io/Rdatasets/csv/ISLR/Default.csv'\n",
    ").iloc[:, 1:].dropna()"
   ]
  },
  {
   "cell_type": "code",
   "execution_count": 3,
   "metadata": {},
   "outputs": [
    {
     "data": {
      "text/html": [
       "<div>\n",
       "<style>\n",
       "    .dataframe thead tr:only-child th {\n",
       "        text-align: right;\n",
       "    }\n",
       "\n",
       "    .dataframe thead th {\n",
       "        text-align: left;\n",
       "    }\n",
       "\n",
       "    .dataframe tbody tr th {\n",
       "        vertical-align: top;\n",
       "    }\n",
       "</style>\n",
       "<table border=\"1\" class=\"dataframe\">\n",
       "  <thead>\n",
       "    <tr style=\"text-align: right;\">\n",
       "      <th></th>\n",
       "      <th>default</th>\n",
       "      <th>student</th>\n",
       "      <th>balance</th>\n",
       "      <th>income</th>\n",
       "    </tr>\n",
       "  </thead>\n",
       "  <tbody>\n",
       "    <tr>\n",
       "      <th>0</th>\n",
       "      <td>No</td>\n",
       "      <td>No</td>\n",
       "      <td>729.526495</td>\n",
       "      <td>44361.625074</td>\n",
       "    </tr>\n",
       "    <tr>\n",
       "      <th>1</th>\n",
       "      <td>No</td>\n",
       "      <td>Yes</td>\n",
       "      <td>817.180407</td>\n",
       "      <td>12106.134700</td>\n",
       "    </tr>\n",
       "    <tr>\n",
       "      <th>2</th>\n",
       "      <td>No</td>\n",
       "      <td>No</td>\n",
       "      <td>1073.549164</td>\n",
       "      <td>31767.138947</td>\n",
       "    </tr>\n",
       "    <tr>\n",
       "      <th>3</th>\n",
       "      <td>No</td>\n",
       "      <td>No</td>\n",
       "      <td>529.250605</td>\n",
       "      <td>35704.493935</td>\n",
       "    </tr>\n",
       "    <tr>\n",
       "      <th>4</th>\n",
       "      <td>No</td>\n",
       "      <td>No</td>\n",
       "      <td>785.655883</td>\n",
       "      <td>38463.495879</td>\n",
       "    </tr>\n",
       "  </tbody>\n",
       "</table>\n",
       "</div>"
      ],
      "text/plain": [
       "  default student      balance        income\n",
       "0      No      No   729.526495  44361.625074\n",
       "1      No     Yes   817.180407  12106.134700\n",
       "2      No      No  1073.549164  31767.138947\n",
       "3      No      No   529.250605  35704.493935\n",
       "4      No      No   785.655883  38463.495879"
      ]
     },
     "execution_count": 3,
     "metadata": {},
     "output_type": "execute_result"
    }
   ],
   "source": [
    "df.head()"
   ]
  },
  {
   "cell_type": "code",
   "execution_count": 5,
   "metadata": {},
   "outputs": [
    {
     "data": {
      "text/plain": [
       "No     9667\n",
       "Yes     333\n",
       "Name: default, dtype: int64"
      ]
     },
     "execution_count": 5,
     "metadata": {},
     "output_type": "execute_result"
    }
   ],
   "source": [
    "df.default.value_counts()"
   ]
  },
  {
   "cell_type": "code",
   "execution_count": 6,
   "metadata": {},
   "outputs": [
    {
     "data": {
      "text/plain": [
       "No     7056\n",
       "Yes    2944\n",
       "Name: student, dtype: int64"
      ]
     },
     "execution_count": 6,
     "metadata": {},
     "output_type": "execute_result"
    }
   ],
   "source": [
    "df.student.value_counts()"
   ]
  },
  {
   "cell_type": "code",
   "execution_count": 7,
   "metadata": {
    "collapsed": true
   },
   "outputs": [],
   "source": [
    "df['default'] = np.where(df['default'] == 'Yes', 1, 0)\n",
    "df['student'] = np.where(df['student'] == 'Yes', 1, 0)"
   ]
  },
  {
   "cell_type": "code",
   "execution_count": 12,
   "metadata": {
    "collapsed": true
   },
   "outputs": [],
   "source": [
    "df = pd.DataFrame(StandardScaler().fit_transform(df), columns= df.columns)"
   ]
  },
  {
   "cell_type": "code",
   "execution_count": 13,
   "metadata": {},
   "outputs": [
    {
     "data": {
      "text/html": [
       "<div>\n",
       "<style>\n",
       "    .dataframe thead tr:only-child th {\n",
       "        text-align: right;\n",
       "    }\n",
       "\n",
       "    .dataframe thead th {\n",
       "        text-align: left;\n",
       "    }\n",
       "\n",
       "    .dataframe tbody tr th {\n",
       "        vertical-align: top;\n",
       "    }\n",
       "</style>\n",
       "<table border=\"1\" class=\"dataframe\">\n",
       "  <thead>\n",
       "    <tr style=\"text-align: right;\">\n",
       "      <th></th>\n",
       "      <th>default</th>\n",
       "      <th>student</th>\n",
       "      <th>balance</th>\n",
       "      <th>income</th>\n",
       "    </tr>\n",
       "  </thead>\n",
       "  <tbody>\n",
       "    <tr>\n",
       "      <th>0</th>\n",
       "      <td>-0.185599</td>\n",
       "      <td>-0.645936</td>\n",
       "      <td>-0.218835</td>\n",
       "      <td>0.813187</td>\n",
       "    </tr>\n",
       "    <tr>\n",
       "      <th>1</th>\n",
       "      <td>-0.185599</td>\n",
       "      <td>1.548141</td>\n",
       "      <td>-0.037616</td>\n",
       "      <td>-1.605496</td>\n",
       "    </tr>\n",
       "    <tr>\n",
       "      <th>2</th>\n",
       "      <td>-0.185599</td>\n",
       "      <td>-0.645936</td>\n",
       "      <td>0.492410</td>\n",
       "      <td>-0.131212</td>\n",
       "    </tr>\n",
       "    <tr>\n",
       "      <th>3</th>\n",
       "      <td>-0.185599</td>\n",
       "      <td>-0.645936</td>\n",
       "      <td>-0.632893</td>\n",
       "      <td>0.164031</td>\n",
       "    </tr>\n",
       "    <tr>\n",
       "      <th>4</th>\n",
       "      <td>-0.185599</td>\n",
       "      <td>-0.645936</td>\n",
       "      <td>-0.102791</td>\n",
       "      <td>0.370915</td>\n",
       "    </tr>\n",
       "  </tbody>\n",
       "</table>\n",
       "</div>"
      ],
      "text/plain": [
       "    default   student   balance    income\n",
       "0 -0.185599 -0.645936 -0.218835  0.813187\n",
       "1 -0.185599  1.548141 -0.037616 -1.605496\n",
       "2 -0.185599 -0.645936  0.492410 -0.131212\n",
       "3 -0.185599 -0.645936 -0.632893  0.164031\n",
       "4 -0.185599 -0.645936 -0.102791  0.370915"
      ]
     },
     "execution_count": 13,
     "metadata": {},
     "output_type": "execute_result"
    }
   ],
   "source": [
    "df.head()"
   ]
  },
  {
   "cell_type": "code",
   "execution_count": 14,
   "metadata": {},
   "outputs": [
    {
     "name": "stdout",
     "output_type": "stream",
     "text": [
      "\n",
      "R-squared simple model:\n",
      "0.573878496272\n"
     ]
    }
   ],
   "source": [
    "trainsize = int(df.shape[0] / 2)\n",
    "df_test = df.iloc[trainsize:, :].copy()\n",
    "df_train = df.iloc[:trainsize, :].copy()\n",
    "\n",
    "# Set up the regression model to predict defaults using all other\n",
    "# variables as features.\n",
    "regr1 = linear_model.LinearRegression()\n",
    "Y_train = df_train['income'].values.reshape(-1, 1)\n",
    "X_train = df_train.loc[:, ~(df_train.columns).isin(['income'])]\n",
    "regr1.fit(X_train, Y_train)\n",
    "print('\\nR-squared simple model:')\n",
    "print(regr1.score(X_train, Y_train))\n",
    "origparams = np.append(regr1.coef_, regr1.intercept_)"
   ]
  },
  {
   "cell_type": "code",
   "execution_count": 15,
   "metadata": {},
   "outputs": [
    {
     "data": {
      "image/png": "[encoded data removed]",
      "text/plain": [
       "<matplotlib.figure.Figure at 0x2055ae263c8>"
      ]
     },
     "metadata": {},
     "output_type": "display_data"
    }
   ],
   "source": [
    "df.hist()\n",
    "plt.show()"
   ]
  },
  {
   "cell_type": "code",
   "execution_count": 16,
   "metadata": {
    "collapsed": true
   },
   "outputs": [],
   "source": [
    "df_train['balance_sqrt'] = (df_train['balance'] + 100) ** .5\n",
    "df_train['balance2'] = (df_train['balance'] + 100) ** 2\n",
    "df_train['balance3'] = (df_train['balance'] + 100) ** 3"
   ]
  },
  {
   "cell_type": "code",
   "execution_count": 18,
   "metadata": {
    "collapsed": true
   },
   "outputs": [],
   "source": [
    "df_train['balance_student'] = df_train['balance'] * df_train['student']\n",
    "df_train['balance_default'] = df_train['balance'] * df_train['default']\n",
    "df_train['student_default'] = df_train['student'] * df_train['default']"
   ]
  },
  {
   "cell_type": "code",
   "execution_count": 20,
   "metadata": {},
   "outputs": [
    {
     "data": {
      "image/png": "[encoded data removed]",
      "text/plain": [
       "<matplotlib.figure.Figure at 0x2055bb41dd8>"
      ]
     },
     "metadata": {},
     "output_type": "display_data"
    }
   ],
   "source": [
    "df_train.hist()\n",
    "plt.tight_layout()\n",
    "plt.show()"
   ]
  },
  {
   "cell_type": "code",
   "execution_count": 21,
   "metadata": {},
   "outputs": [
    {
     "data": {
      "text/plain": [
       "array([  1.36873063e-02,  -7.59472350e-01,   2.21504775e-05,\n",
       "        -1.46121929e-03])"
      ]
     },
     "execution_count": 21,
     "metadata": {},
     "output_type": "execute_result"
    }
   ],
   "source": [
    "origparams"
   ]
  },
  {
   "cell_type": "code",
   "execution_count": 26,
   "metadata": {},
   "outputs": [
    {
     "name": "stdout",
     "output_type": "stream",
     "text": [
      "\n",
      "R-squared complex model:\n",
      "0.573973445207\n"
     ]
    }
   ],
   "source": [
    "# Re-run the model with the new features.\n",
    "regrBig = linear_model.LinearRegression()\n",
    "X_train2 = df_train.loc[:, ~(df_train.columns).isin(['income'])]\n",
    "regrBig.fit(X_train2, Y_train)\n",
    "print('\\nR-squared complex model:')\n",
    "print(regrBig.score(X_train2, Y_train))\n",
    "\n",
    "# Store the new parameter estimates for the same features.\n",
    "newparams = np.append(\n",
    "    regrBig.coef_[0,0:(len(origparams)-1)],\n",
    "    regrBig.intercept_)"
   ]
  },
  {
   "cell_type": "code",
   "execution_count": 27,
   "metadata": {},
   "outputs": [
    {
     "data": {
      "text/plain": [
       "array([ -3.96993983e-03,  -7.58973694e-01,   4.15786637e+03,\n",
       "         5.53434550e+05])"
      ]
     },
     "execution_count": 27,
     "metadata": {},
     "output_type": "execute_result"
    }
   ],
   "source": [
    "newparams"
   ]
  },
  {
   "cell_type": "code",
   "execution_count": 30,
   "metadata": {},
   "outputs": [
    {
     "name": "stdout",
     "output_type": "stream",
     "text": [
      "\n",
      "Parameter Estimates for the same predictors for the small model and large model:\n",
      "\n",
      " array1 \n",
      "[  1.36873063e-02  -7.59472350e-01   2.21504775e-05  -1.46121929e-03]\n",
      "\n",
      " array2 \n",
      "[ -3.96993983e-03  -7.58973694e-01   4.15786637e+03   5.53434550e+05]\n",
      "\n",
      " both \n",
      "[[  1.36873063e-02  -3.96993983e-03]\n",
      " [ -7.59472350e-01  -7.58973694e-01]\n",
      " [  2.21504775e-05   4.15786637e+03]\n",
      " [ -1.46121929e-03   5.53434550e+05]]\n",
      "\n",
      " compare \n",
      "[[0.014 -0.004]\n",
      " [-0.759 -0.759]\n",
      " [0.000 4157.866]\n",
      " [-0.001 553434.550]]\n"
     ]
    }
   ],
   "source": [
    "print('\\nParameter Estimates for the same predictors for the small model '\n",
    "      'and large model:')\n",
    "compare = np.column_stack((origparams, newparams))\n",
    "prettycompare = np.array2string(\n",
    "    compare,\n",
    "    formatter={'float_kind':'{0:.3f}'.format})\n",
    "\n",
    "\n",
    "print('\\n array1 ')\n",
    "print(origparams)\n",
    "print('\\n array2 ')\n",
    "print(newparams)\n",
    "print('\\n both ')\n",
    "print(compare)\n",
    "print('\\n compare ')\n",
    "print(prettycompare)"
   ]
  },
  {
   "cell_type": "code",
   "execution_count": 31,
   "metadata": {},
   "outputs": [
    {
     "name": "stdout",
     "output_type": "stream",
     "text": [
      "0.57387391644\n",
      "0.573946428961\n",
      "\n",
      "Parameter Estimates for the same predictors for the small modeland large model:\n",
      "original params : [  1.36988466e-02  -7.57859433e-01  -3.25298557e-04]\n",
      "\n",
      " New params : [-0.00218345 -0.75715689  0.047705  ]\n",
      "\n",
      " compare :  [[0.014 -0.002]\n",
      " [-0.758 -0.757]\n",
      " [-0.000 0.048]]\n"
     ]
    }
   ],
   "source": [
    "# Fitting a ridge regression model. Alpha is the regularization\n",
    "# parameter (usually called lambda). As alpha gets larger, parameter\n",
    "# shrinkage grows more pronounced. Note that by convention, the\n",
    "# intercept is not regularized. Since we standardized the data\n",
    "# earlier, the intercept should be equal to zero and can be dropped.\n",
    "\n",
    "ridgeregr = linear_model.Ridge(alpha=10, fit_intercept=False) \n",
    "ridgeregr.fit(X_train, Y_train)\n",
    "print(ridgeregr.score(X_train, Y_train))\n",
    "origparams = ridgeregr.coef_[0]\n",
    "\n",
    "\n",
    "ridgeregrBig = linear_model.Ridge(alpha=10, fit_intercept=False)\n",
    "ridgeregrBig.fit(X_train2, Y_train)\n",
    "print(ridgeregrBig.score(X_train2, Y_train))\n",
    "newparams = ridgeregrBig.coef_[0, 0:len(origparams)]\n",
    "\n",
    "print('\\nParameter Estimates for the same predictors for the small model'\n",
    "      'and large model:')\n",
    "compare = np.column_stack((origparams, newparams))\n",
    "prettycompare = np.array2string(\n",
    "    compare,\n",
    "    formatter={'float_kind':'{0:.3f}'.format})\n",
    "print('original params :' , origparams)\n",
    "print('\\n New params :' , newparams)\n",
    "\n",
    "print('\\n compare : ', prettycompare)"
   ]
  },
  {
   "cell_type": "code",
   "execution_count": 32,
   "metadata": {},
   "outputs": [
    {
     "data": {
      "text/html": [
       "<div>\n",
       "<style>\n",
       "    .dataframe thead tr:only-child th {\n",
       "        text-align: right;\n",
       "    }\n",
       "\n",
       "    .dataframe thead th {\n",
       "        text-align: left;\n",
       "    }\n",
       "\n",
       "    .dataframe tbody tr th {\n",
       "        vertical-align: top;\n",
       "    }\n",
       "</style>\n",
       "<table border=\"1\" class=\"dataframe\">\n",
       "  <thead>\n",
       "    <tr style=\"text-align: right;\">\n",
       "      <th></th>\n",
       "      <th>default</th>\n",
       "      <th>student</th>\n",
       "      <th>balance</th>\n",
       "    </tr>\n",
       "  </thead>\n",
       "  <tbody>\n",
       "    <tr>\n",
       "      <th>default</th>\n",
       "      <td>1.000000</td>\n",
       "      <td>0.045608</td>\n",
       "      <td>0.359896</td>\n",
       "    </tr>\n",
       "    <tr>\n",
       "      <th>student</th>\n",
       "      <td>0.045608</td>\n",
       "      <td>1.000000</td>\n",
       "      <td>0.222489</td>\n",
       "    </tr>\n",
       "    <tr>\n",
       "      <th>balance</th>\n",
       "      <td>0.359896</td>\n",
       "      <td>0.222489</td>\n",
       "      <td>1.000000</td>\n",
       "    </tr>\n",
       "  </tbody>\n",
       "</table>\n",
       "</div>"
      ],
      "text/plain": [
       "          default   student   balance\n",
       "default  1.000000  0.045608  0.359896\n",
       "student  0.045608  1.000000  0.222489\n",
       "balance  0.359896  0.222489  1.000000"
      ]
     },
     "execution_count": 32,
     "metadata": {},
     "output_type": "execute_result"
    }
   ],
   "source": [
    "X_train.corr()"
   ]
  },
  {
   "cell_type": "code",
   "execution_count": 33,
   "metadata": {},
   "outputs": [
    {
     "data": {
      "text/html": [
       "<div>\n",
       "<style>\n",
       "    .dataframe thead tr:only-child th {\n",
       "        text-align: right;\n",
       "    }\n",
       "\n",
       "    .dataframe thead th {\n",
       "        text-align: left;\n",
       "    }\n",
       "\n",
       "    .dataframe tbody tr th {\n",
       "        vertical-align: top;\n",
       "    }\n",
       "</style>\n",
       "<table border=\"1\" class=\"dataframe\">\n",
       "  <thead>\n",
       "    <tr style=\"text-align: right;\">\n",
       "      <th></th>\n",
       "      <th>default</th>\n",
       "      <th>student</th>\n",
       "      <th>balance</th>\n",
       "      <th>balance_sqrt</th>\n",
       "      <th>balance2</th>\n",
       "      <th>balance3</th>\n",
       "      <th>balance_student</th>\n",
       "      <th>balance_default</th>\n",
       "      <th>student_default</th>\n",
       "    </tr>\n",
       "  </thead>\n",
       "  <tbody>\n",
       "    <tr>\n",
       "      <th>default</th>\n",
       "      <td>1.000000</td>\n",
       "      <td>0.045608</td>\n",
       "      <td>0.359896</td>\n",
       "      <td>0.358669</td>\n",
       "      <td>0.362352</td>\n",
       "      <td>0.364813</td>\n",
       "      <td>0.082268</td>\n",
       "      <td>0.934609</td>\n",
       "      <td>0.203987</td>\n",
       "    </tr>\n",
       "    <tr>\n",
       "      <th>student</th>\n",
       "      <td>0.045608</td>\n",
       "      <td>1.000000</td>\n",
       "      <td>0.222489</td>\n",
       "      <td>0.222404</td>\n",
       "      <td>0.222655</td>\n",
       "      <td>0.222814</td>\n",
       "      <td>0.191496</td>\n",
       "      <td>0.045258</td>\n",
       "      <td>0.046272</td>\n",
       "    </tr>\n",
       "    <tr>\n",
       "      <th>balance</th>\n",
       "      <td>0.359896</td>\n",
       "      <td>0.222489</td>\n",
       "      <td>1.000000</td>\n",
       "      <td>0.999995</td>\n",
       "      <td>0.999980</td>\n",
       "      <td>0.999920</td>\n",
       "      <td>0.077130</td>\n",
       "      <td>0.300658</td>\n",
       "      <td>0.078068</td>\n",
       "    </tr>\n",
       "    <tr>\n",
       "      <th>balance_sqrt</th>\n",
       "      <td>0.358669</td>\n",
       "      <td>0.222404</td>\n",
       "      <td>0.999995</td>\n",
       "      <td>1.000000</td>\n",
       "      <td>0.999955</td>\n",
       "      <td>0.999875</td>\n",
       "      <td>0.076103</td>\n",
       "      <td>0.299092</td>\n",
       "      <td>0.077479</td>\n",
       "    </tr>\n",
       "    <tr>\n",
       "      <th>balance2</th>\n",
       "      <td>0.362352</td>\n",
       "      <td>0.222655</td>\n",
       "      <td>0.999980</td>\n",
       "      <td>0.999955</td>\n",
       "      <td>1.000000</td>\n",
       "      <td>0.999980</td>\n",
       "      <td>0.079190</td>\n",
       "      <td>0.303802</td>\n",
       "      <td>0.079254</td>\n",
       "    </tr>\n",
       "    <tr>\n",
       "      <th>balance3</th>\n",
       "      <td>0.364813</td>\n",
       "      <td>0.222814</td>\n",
       "      <td>0.999920</td>\n",
       "      <td>0.999875</td>\n",
       "      <td>0.999980</td>\n",
       "      <td>1.000000</td>\n",
       "      <td>0.081258</td>\n",
       "      <td>0.306964</td>\n",
       "      <td>0.080452</td>\n",
       "    </tr>\n",
       "    <tr>\n",
       "      <th>balance_student</th>\n",
       "      <td>0.082268</td>\n",
       "      <td>0.191496</td>\n",
       "      <td>0.077130</td>\n",
       "      <td>0.076103</td>\n",
       "      <td>0.079190</td>\n",
       "      <td>0.081258</td>\n",
       "      <td>1.000000</td>\n",
       "      <td>0.124622</td>\n",
       "      <td>0.385656</td>\n",
       "    </tr>\n",
       "    <tr>\n",
       "      <th>balance_default</th>\n",
       "      <td>0.934609</td>\n",
       "      <td>0.045258</td>\n",
       "      <td>0.300658</td>\n",
       "      <td>0.299092</td>\n",
       "      <td>0.303802</td>\n",
       "      <td>0.306964</td>\n",
       "      <td>0.124622</td>\n",
       "      <td>1.000000</td>\n",
       "      <td>0.294818</td>\n",
       "    </tr>\n",
       "    <tr>\n",
       "      <th>student_default</th>\n",
       "      <td>0.203987</td>\n",
       "      <td>0.046272</td>\n",
       "      <td>0.078068</td>\n",
       "      <td>0.077479</td>\n",
       "      <td>0.079254</td>\n",
       "      <td>0.080452</td>\n",
       "      <td>0.385656</td>\n",
       "      <td>0.294818</td>\n",
       "      <td>1.000000</td>\n",
       "    </tr>\n",
       "  </tbody>\n",
       "</table>\n",
       "</div>"
      ],
      "text/plain": [
       "                  default   student   balance  balance_sqrt  balance2  \\\n",
       "default          1.000000  0.045608  0.359896      0.358669  0.362352   \n",
       "student          0.045608  1.000000  0.222489      0.222404  0.222655   \n",
       "balance          0.359896  0.222489  1.000000      0.999995  0.999980   \n",
       "balance_sqrt     0.358669  0.222404  0.999995      1.000000  0.999955   \n",
       "balance2         0.362352  0.222655  0.999980      0.999955  1.000000   \n",
       "balance3         0.364813  0.222814  0.999920      0.999875  0.999980   \n",
       "balance_student  0.082268  0.191496  0.077130      0.076103  0.079190   \n",
       "balance_default  0.934609  0.045258  0.300658      0.299092  0.303802   \n",
       "student_default  0.203987  0.046272  0.078068      0.077479  0.079254   \n",
       "\n",
       "                 balance3  balance_student  balance_default  student_default  \n",
       "default          0.364813         0.082268         0.934609         0.203987  \n",
       "student          0.222814         0.191496         0.045258         0.046272  \n",
       "balance          0.999920         0.077130         0.300658         0.078068  \n",
       "balance_sqrt     0.999875         0.076103         0.299092         0.077479  \n",
       "balance2         0.999980         0.079190         0.303802         0.079254  \n",
       "balance3         1.000000         0.081258         0.306964         0.080452  \n",
       "balance_student  0.081258         1.000000         0.124622         0.385656  \n",
       "balance_default  0.306964         0.124622         1.000000         0.294818  \n",
       "student_default  0.080452         0.385656         0.294818         1.000000  "
      ]
     },
     "execution_count": 33,
     "metadata": {},
     "output_type": "execute_result"
    }
   ],
   "source": [
    "X_train2.corr()"
   ]
  },
  {
   "cell_type": "code",
   "execution_count": 36,
   "metadata": {
    "collapsed": true
   },
   "outputs": [],
   "source": [
    "# Store estimates.\n",
    "estimates = np.append(ridgeregrBig.coef_, [10])\n",
    "\n",
    "# Storing legend information.\n",
    "labels = []\n",
    "\n",
    "#Run the model for many alphas.\n",
    "for lambd in range(1, 50, 2):\n",
    "    ridgeregrBig = linear_model.Ridge(alpha=lambd, fit_intercept=False)\n",
    "    ridgeregrBig.fit(X_train2, Y_train)\n",
    "    estimates = np.row_stack((\n",
    "        estimates,\n",
    "        np.append(ridgeregrBig.coef_,[lambd])))\n",
    "    \n"
   ]
  },
  {
   "cell_type": "code",
   "execution_count": 37,
   "metadata": {},
   "outputs": [
    {
     "data": {
      "text/html": [
       "<div>\n",
       "<style>\n",
       "    .dataframe thead tr:only-child th {\n",
       "        text-align: right;\n",
       "    }\n",
       "\n",
       "    .dataframe thead th {\n",
       "        text-align: left;\n",
       "    }\n",
       "\n",
       "    .dataframe tbody tr th {\n",
       "        vertical-align: top;\n",
       "    }\n",
       "</style>\n",
       "<table border=\"1\" class=\"dataframe\">\n",
       "  <thead>\n",
       "    <tr style=\"text-align: right;\">\n",
       "      <th></th>\n",
       "      <th>default</th>\n",
       "      <th>student</th>\n",
       "      <th>balance</th>\n",
       "      <th>balance_sqrt</th>\n",
       "      <th>balance2</th>\n",
       "      <th>balance3</th>\n",
       "      <th>balance_student</th>\n",
       "      <th>balance_default</th>\n",
       "      <th>student_default</th>\n",
       "      <th>lambda</th>\n",
       "    </tr>\n",
       "  </thead>\n",
       "  <tbody>\n",
       "    <tr>\n",
       "      <th>1</th>\n",
       "      <td>-0.004278</td>\n",
       "      <td>-0.758735</td>\n",
       "      <td>0.191749</td>\n",
       "      <td>-0.017950</td>\n",
       "      <td>0.001952</td>\n",
       "      <td>-0.000019</td>\n",
       "      <td>-0.002308</td>\n",
       "      <td>0.011487</td>\n",
       "      <td>-0.004209</td>\n",
       "      <td>1.0</td>\n",
       "    </tr>\n",
       "    <tr>\n",
       "      <th>2</th>\n",
       "      <td>-0.003228</td>\n",
       "      <td>-0.758358</td>\n",
       "      <td>0.115052</td>\n",
       "      <td>-0.010782</td>\n",
       "      <td>0.001169</td>\n",
       "      <td>-0.000012</td>\n",
       "      <td>-0.002949</td>\n",
       "      <td>0.010465</td>\n",
       "      <td>-0.004002</td>\n",
       "      <td>3.0</td>\n",
       "    </tr>\n",
       "    <tr>\n",
       "      <th>3</th>\n",
       "      <td>-0.002750</td>\n",
       "      <td>-0.758007</td>\n",
       "      <td>0.082093</td>\n",
       "      <td>-0.007695</td>\n",
       "      <td>0.000833</td>\n",
       "      <td>-0.000008</td>\n",
       "      <td>-0.003258</td>\n",
       "      <td>0.010015</td>\n",
       "      <td>-0.003904</td>\n",
       "      <td>5.0</td>\n",
       "    </tr>\n",
       "    <tr>\n",
       "      <th>4</th>\n",
       "      <td>-0.002464</td>\n",
       "      <td>-0.757664</td>\n",
       "      <td>0.063760</td>\n",
       "      <td>-0.005977</td>\n",
       "      <td>0.000646</td>\n",
       "      <td>-0.000006</td>\n",
       "      <td>-0.003457</td>\n",
       "      <td>0.009758</td>\n",
       "      <td>-0.003844</td>\n",
       "      <td>7.0</td>\n",
       "    </tr>\n",
       "    <tr>\n",
       "      <th>5</th>\n",
       "      <td>-0.002264</td>\n",
       "      <td>-0.757325</td>\n",
       "      <td>0.052085</td>\n",
       "      <td>-0.004883</td>\n",
       "      <td>0.000528</td>\n",
       "      <td>-0.000005</td>\n",
       "      <td>-0.003606</td>\n",
       "      <td>0.009587</td>\n",
       "      <td>-0.003800</td>\n",
       "      <td>9.0</td>\n",
       "    </tr>\n",
       "  </tbody>\n",
       "</table>\n",
       "</div>"
      ],
      "text/plain": [
       "    default   student   balance  balance_sqrt  balance2  balance3  \\\n",
       "1 -0.004278 -0.758735  0.191749     -0.017950  0.001952 -0.000019   \n",
       "2 -0.003228 -0.758358  0.115052     -0.010782  0.001169 -0.000012   \n",
       "3 -0.002750 -0.758007  0.082093     -0.007695  0.000833 -0.000008   \n",
       "4 -0.002464 -0.757664  0.063760     -0.005977  0.000646 -0.000006   \n",
       "5 -0.002264 -0.757325  0.052085     -0.004883  0.000528 -0.000005   \n",
       "\n",
       "   balance_student  balance_default  student_default  lambda  \n",
       "1        -0.002308         0.011487        -0.004209     1.0  \n",
       "2        -0.002949         0.010465        -0.004002     3.0  \n",
       "3        -0.003258         0.010015        -0.003904     5.0  \n",
       "4        -0.003457         0.009758        -0.003844     7.0  \n",
       "5        -0.003606         0.009587        -0.003800     9.0  "
      ]
     },
     "execution_count": 37,
     "metadata": {},
     "output_type": "execute_result"
    }
   ],
   "source": [
    "# Make the data pretty.\n",
    "estimates_df = pd.DataFrame(\n",
    "    estimates,\n",
    "    columns=list(X_train2.columns) + ['lambda'])\n",
    "estimates_df.sort_values(by='lambda', inplace=True, ascending=True)\n",
    "estimates_df.head()"
   ]
  },
  {
   "cell_type": "code",
   "execution_count": 38,
   "metadata": {},
   "outputs": [
    {
     "name": "stdout",
     "output_type": "stream",
     "text": [
      "['default', 'student', 'balance', 'balance_sqrt', 'balance2', 'balance3', 'balance_student', 'balance_default', 'student_default']\n"
     ]
    },
    {
     "data": {
      "image/png": "[encoded data removed]",
      "text/plain": [
       "<matplotlib.figure.Figure at 0x2055b52ebe0>"
      ]
     },
     "metadata": {},
     "output_type": "display_data"
    }
   ],
   "source": [
    "\n",
    "# Leave out the 'student' variable.\n",
    "# It has very high values and throws off our plot's scale.\n",
    "varstoplot = list(estimates_df.columns[:9,])\n",
    "print(varstoplot)\n",
    "varstoplot.remove('student')\n",
    "\n",
    "# Plot a line for each parameter.\n",
    "for var in varstoplot:\n",
    "    plt.plot(estimates_df['lambda'], estimates_df[var])\n",
    "    labels.append(var)\n",
    "plt.xlabel('lambda')\n",
    "plt.ylabel('Parameter estimate size')\n",
    "plt.legend(labels)\n",
    "plt.show()"
   ]
  },
  {
   "cell_type": "code",
   "execution_count": 39,
   "metadata": {},
   "outputs": [
    {
     "name": "stdout",
     "output_type": "stream",
     "text": [
      "['default', 'student', 'balance', 'balance_sqrt', 'balance2', 'balance3', 'balance_student', 'balance_default', 'student_default']\n"
     ]
    },
    {
     "data": {
      "image/png": "[encoded data removed]",
      "text/plain": [
       "<matplotlib.figure.Figure at 0x2055af09978>"
      ]
     },
     "metadata": {},
     "output_type": "display_data"
    }
   ],
   "source": [
    "# Leave out the 'student' variable.\n",
    "# It has very high values and throws off our plot's scale.\n",
    "varstoplot = list(estimates_df.columns[:9,])\n",
    "print(varstoplot)\n",
    "#varstoplot.remove('student')\n",
    "\n",
    "# Plot a line for each parameter.\n",
    "for var in varstoplot:\n",
    "    plt.plot(estimates_df['lambda'], estimates_df[var])\n",
    "    labels.append(var)\n",
    "plt.xlabel('lambda')\n",
    "plt.ylabel('Parameter estimate size')\n",
    "plt.legend(labels)\n",
    "plt.show()"
   ]
  },
  {
   "cell_type": "markdown",
   "metadata": {},
   "source": [
    "# 3.3.3"
   ]
  },
  {
   "cell_type": "code",
   "execution_count": 47,
   "metadata": {},
   "outputs": [
    {
     "name": "stdout",
     "output_type": "stream",
     "text": [
      "(10000, 10)\n"
     ]
    }
   ],
   "source": [
    "df2= df.loc[:,:]\n",
    "df2['balance_sqrt'] = (df['balance'] + 100) ** .5\n",
    "df2['balance2'] = (df['balance'] + 100) ** 2\n",
    "df2['balance3'] = (df['balance'] + 100) ** 3\n",
    "df2['balance_student'] = df['balance'] * df['student']\n",
    "df2['balance_default'] = df['balance'] * df['default']\n",
    "df2['student_default'] = df['student'] * df['default']\n",
    "print(df2.shape)"
   ]
  },
  {
   "cell_type": "code",
   "execution_count": 48,
   "metadata": {
    "collapsed": true
   },
   "outputs": [],
   "source": [
    "trainsize = int(df2.shape[0] / 2)\n",
    "df2_test = df2.iloc[trainsize:, :].copy()\n",
    "df2_train = df2.iloc[:trainsize, :].copy()\n",
    "\n",
    "Y_train = df2_train['income'].values.reshape(-1, 1)\n",
    "X_train = df2_train.loc[:, ~(df2_train.columns).isin(['income'])]\n",
    "Y_test = df2_test['income'].values.reshape(-1, 1)\n",
    "X_test = df2_test.loc[:, ~(df2_test.columns).isin(['income'])]"
   ]
  },
  {
   "cell_type": "code",
   "execution_count": 49,
   "metadata": {},
   "outputs": [
    {
     "name": "stdout",
     "output_type": "stream",
     "text": [
      "shape of train data :  (5000, 9)\n",
      "shape of test data :  (5000, 9)\n"
     ]
    }
   ],
   "source": [
    "print('shape of train data : ',X_train.shape )\n",
    "print('shape of test data : ',X_test.shape )"
   ]
  },
  {
   "cell_type": "code",
   "execution_count": 62,
   "metadata": {},
   "outputs": [
    {
     "name": "stderr",
     "output_type": "stream",
     "text": [
      "C:\\Users\\gyans\\Anaconda3\\lib\\site-packages\\sklearn\\linear_model\\coordinate_descent.py:491: ConvergenceWarning: Objective did not converge. You might want to increase the number of iterations. Fitting data with very small alpha may cause precision problems.\n",
      "  ConvergenceWarning)\n"
     ]
    },
    {
     "data": {
      "image/png": "[encoded data removed]",
      "text/plain": [
       "<matplotlib.figure.Figure at 0x2055b68bc50>"
      ]
     },
     "metadata": {},
     "output_type": "display_data"
    }
   ],
   "source": [
    "ridge_alpha = []\n",
    "ridge_r2 = []\n",
    "lasso_alpha = []\n",
    "lasso_r2 = []\n",
    "for lambd in np.linspace(0.01, 0.99, 100):\n",
    "    ridgeregrBig = linear_model.Ridge(alpha=lambd, fit_intercept=False)\n",
    "    ridgeregrBig.fit(X_train, Y_train)\n",
    "    ridge_alpha.append(lambd)\n",
    "    ridge_r2.append(ridgeregrBig.score(X_test, Y_test))\n",
    "    \n",
    "    lassoregrBig = linear_model.Lasso(alpha=lambd, fit_intercept=False)\n",
    "    lassoregrBig.fit(X_train, Y_train)\n",
    "    lasso_alpha.append(lambd)\n",
    "    lasso_r2.append(lassoregrBig.score(X_test, Y_test))\n",
    "\n",
    "plt.plot(ridge_alpha, ridge_r2, label = 'ridge')\n",
    "plt.plot(lasso_alpha, lasso_r2, label = 'lasso')\n",
    "plt.title('R^2 as a function of lambda')\n",
    "plt.legend()\n",
    "plt.show()"
   ]
  },
  {
   "cell_type": "markdown",
   "metadata": {
    "collapsed": true
   },
   "source": [
    "# The R2 value differs for different range of Lambda in Ridge and Lasso when compared the above plot with the below plot. What to estimate from this ? What should be the Optimum Value of Lambda for Ridge and Lasso ?"
   ]
  },
  {
   "cell_type": "code",
   "execution_count": 75,
   "metadata": {},
   "outputs": [
    {
     "name": "stderr",
     "output_type": "stream",
     "text": [
      "C:\\Users\\gyans\\Anaconda3\\lib\\site-packages\\sklearn\\linear_model\\coordinate_descent.py:491: ConvergenceWarning: Objective did not converge. You might want to increase the number of iterations. Fitting data with very small alpha may cause precision problems.\n",
      "  ConvergenceWarning)\n"
     ]
    },
    {
     "data": {
      "image/png": "[encoded data removed]",
      "text/plain": [
       "<matplotlib.figure.Figure at 0x2055b6b8898>"
      ]
     },
     "metadata": {},
     "output_type": "display_data"
    }
   ],
   "source": [
    "ridge_alpha = []\n",
    "ridge_r2 = []\n",
    "lasso_alpha = []\n",
    "lasso_r2 = []\n",
    "for lambd in np.linspace(1, 10000, 10000):\n",
    "    ridgeregrBig = linear_model.Ridge(alpha=lambd, fit_intercept=False)\n",
    "    ridgeregrBig.fit(X_train, Y_train)\n",
    "    ridge_alpha.append(lambd)\n",
    "    ridge_r2.append(ridgeregrBig.score(X_test, Y_test))\n",
    "    \n",
    "    lassoregrBig = linear_model.Lasso(alpha=lambd, fit_intercept=False)\n",
    "    lassoregrBig.fit(X_train, Y_train)\n",
    "    lasso_alpha.append(lambd)\n",
    "    lasso_r2.append(lassoregrBig.score(X_test, Y_test))\n",
    "\n",
    "plt.plot(ridge_alpha, ridge_r2, label = 'ridge')\n",
    "plt.plot(lasso_alpha, lasso_r2, label = 'lasso')\n",
    "plt.title('R^2 as a function of lambda')\n",
    "plt.legend()\n",
    "plt.show()"
   ]
  },
  {
   "cell_type": "code",
   "execution_count": 65,
   "metadata": {},
   "outputs": [
    {
     "data": {
      "image/png": "[encoded data removed]",
      "text/plain": [
       "<matplotlib.figure.Figure at 0x2055ae36f60>"
      ]
     },
     "metadata": {},
     "output_type": "display_data"
    }
   ],
   "source": [
    "compare_df = pd.DataFrame(columns=['lambda', 'ridge-R2','lasso-R2'])\n",
    "\n",
    "lams = [0.01,.1,.2,.3,.4,.5,.6,.7,.8,.9,1.0]\n",
    "\n",
    "for lam in lams:\n",
    "    ridge = linear_model.Ridge(alpha=lam, fit_intercept=False)\n",
    "    ridge.fit(X_train, Y_train)\n",
    "    \n",
    "    lasso = linear_model.Lasso(alpha=lam)\n",
    "    lasso.fit(X_train, Y_train)\n",
    "    \n",
    "    new_row = pd.DataFrame([[lam, ridge.score(X_train, Y_train), lasso.score(X_train, Y_train)]],\n",
    "                           columns=['lambda', 'ridge-R2','lasso-R2'])\n",
    "    compare_df = compare_df.append(new_row, ignore_index=True)\n",
    "    \n",
    "    \n",
    "plt.plot(compare_df['lambda'], compare_df['ridge-R2'], c='g', label='Ridge-R2 by lambda')\n",
    "plt.plot(compare_df['lambda'], compare_df['lasso-R2'], c='r', label='Lasso-R2 by lambda')\n",
    "plt.xlabel('lambda')\n",
    "plt.ylabel('R-squared')\n",
    "plt.legend()\n",
    "plt.show()"
   ]
  },
  {
   "cell_type": "code",
   "execution_count": null,
   "metadata": {
    "collapsed": true
   },
   "outputs": [],
   "source": []
  },
  {
   "cell_type": "code",
   "execution_count": 74,
   "metadata": {},
   "outputs": [
    {
     "data": {
      "image/png": "[encoded data removed]",
      "text/plain": [
       "<matplotlib.figure.Figure at 0x2055b8624e0>"
      ]
     },
     "metadata": {},
     "output_type": "display_data"
    }
   ],
   "source": [
    "from sklearn.metrics import mean_squared_error\n",
    "ridge_alpha = []\n",
    "ridge_r2 = []\n",
    "ridge_errors = []\n",
    "for lambd in np.arange(1, 1000, 10):\n",
    "    ridgeregrBig = linear_model.Ridge(alpha=lambd, fit_intercept=False)\n",
    "    ridgeregrBig.fit(X_train, Y_train)\n",
    "    y_pred = ridgeregrBig.predict(X_train)\n",
    "    ridge_alpha.append(lambd)\n",
    "    ridge_r2.append(ridgeregrBig.score(X_test, Y_test))\n",
    "    ridge_errors.append(mean_squared_error(y_pred, Y_train))\n",
    "\n",
    "    \n",
    "plt.plot(ridge_alpha, ridge_r2, label = 'ridge R2', color='b')\n",
    "plt.plot(ridge_alpha, ridge_errors, label = 'ridge MSE', color='r')\n",
    "plt.title('R^2 as a function of lambda')\n",
    "plt.legend()\n",
    "plt.show()\n",
    "\n",
    "\n"
   ]
  },
  {
   "cell_type": "markdown",
   "metadata": {},
   "source": [
    "# How to decide on optimum value of regularization param C?\n",
    "Low MSE ???"
   ]
  }
 ],
 "metadata": {
  "kernelspec": {
   "display_name": "Python 3",
   "language": "python",
   "name": "python3"
  },
  "language_info": {
   "codemirror_mode": {
    "name": "ipython",
    "version": 3
   },
   "file_extension": ".py",
   "mimetype": "text/x-python",
   "name": "python",
   "nbconvert_exporter": "python",
   "pygments_lexer": "ipython3",
   "version": "3.6.3"
  }
 },
 "nbformat": 4,
 "nbformat_minor": 2
}
