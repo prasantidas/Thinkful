{
 "cells": [
  {
   "cell_type": "markdown",
   "metadata": {},
   "source": [
    "# About the Data\n",
    "\n",
    "The dataset is the Average temperature of New York City from 1870-1916. The Dataset is taken from National Oceanic and Atmospheric Administration (NOAA)."
   ]
  },
  {
   "cell_type": "code",
   "execution_count": 31,
   "metadata": {},
   "outputs": [],
   "source": [
    "import pandas as pd\n",
    "import matplotlib.pyplot as plt\n",
    "\n",
    "from statsmodels.tsa.stattools import adfuller, acf, pacf\n",
    "\n",
    "%matplotlib inline"
   ]
  },
  {
   "cell_type": "code",
   "execution_count": 32,
   "metadata": {
    "collapsed": true
   },
   "outputs": [],
   "source": [
    "df = pd.read_csv('NewYorkTemperature.csv')"
   ]
  },
  {
   "cell_type": "code",
   "execution_count": 33,
   "metadata": {},
   "outputs": [
    {
     "data": {
      "text/plain": [
       "(147, 2)"
      ]
     },
     "execution_count": 33,
     "metadata": {},
     "output_type": "execute_result"
    }
   ],
   "source": [
    "df.shape"
   ]
  },
  {
   "cell_type": "code",
   "execution_count": 34,
   "metadata": {},
   "outputs": [
    {
     "data": {
      "text/html": [
       "<div>\n",
       "<style>\n",
       "    .dataframe thead tr:only-child th {\n",
       "        text-align: right;\n",
       "    }\n",
       "\n",
       "    .dataframe thead th {\n",
       "        text-align: left;\n",
       "    }\n",
       "\n",
       "    .dataframe tbody tr th {\n",
       "        vertical-align: top;\n",
       "    }\n",
       "</style>\n",
       "<table border=\"1\" class=\"dataframe\">\n",
       "  <thead>\n",
       "    <tr style=\"text-align: right;\">\n",
       "      <th></th>\n",
       "      <th>DATE</th>\n",
       "      <th>TAVG</th>\n",
       "    </tr>\n",
       "  </thead>\n",
       "  <tbody>\n",
       "    <tr>\n",
       "      <th>0</th>\n",
       "      <td>1870</td>\n",
       "      <td>53.8</td>\n",
       "    </tr>\n",
       "    <tr>\n",
       "      <th>1</th>\n",
       "      <td>1871</td>\n",
       "      <td>51.3</td>\n",
       "    </tr>\n",
       "    <tr>\n",
       "      <th>2</th>\n",
       "      <td>1872</td>\n",
       "      <td>51.3</td>\n",
       "    </tr>\n",
       "    <tr>\n",
       "      <th>3</th>\n",
       "      <td>1873</td>\n",
       "      <td>50.9</td>\n",
       "    </tr>\n",
       "    <tr>\n",
       "      <th>4</th>\n",
       "      <td>1874</td>\n",
       "      <td>51.3</td>\n",
       "    </tr>\n",
       "  </tbody>\n",
       "</table>\n",
       "</div>"
      ],
      "text/plain": [
       "   DATE  TAVG\n",
       "0  1870  53.8\n",
       "1  1871  51.3\n",
       "2  1872  51.3\n",
       "3  1873  50.9\n",
       "4  1874  51.3"
      ]
     },
     "execution_count": 34,
     "metadata": {},
     "output_type": "execute_result"
    }
   ],
   "source": [
    "df.head()"
   ]
  },
  {
   "cell_type": "code",
   "execution_count": 35,
   "metadata": {},
   "outputs": [
    {
     "data": {
      "text/plain": [
       "DATE      int64\n",
       "TAVG    float64\n",
       "dtype: object"
      ]
     },
     "execution_count": 35,
     "metadata": {},
     "output_type": "execute_result"
    }
   ],
   "source": [
    "df.dtypes"
   ]
  },
  {
   "cell_type": "code",
   "execution_count": 36,
   "metadata": {
    "collapsed": true
   },
   "outputs": [],
   "source": [
    "df.DATE = pd.to_datetime(df.DATE, format='%Y')\n",
    "df = df.set_index(df.DATE)"
   ]
  },
  {
   "cell_type": "code",
   "execution_count": 37,
   "metadata": {},
   "outputs": [
    {
     "data": {
      "text/html": [
       "<div>\n",
       "<style>\n",
       "    .dataframe thead tr:only-child th {\n",
       "        text-align: right;\n",
       "    }\n",
       "\n",
       "    .dataframe thead th {\n",
       "        text-align: left;\n",
       "    }\n",
       "\n",
       "    .dataframe tbody tr th {\n",
       "        vertical-align: top;\n",
       "    }\n",
       "</style>\n",
       "<table border=\"1\" class=\"dataframe\">\n",
       "  <thead>\n",
       "    <tr style=\"text-align: right;\">\n",
       "      <th></th>\n",
       "      <th>DATE</th>\n",
       "      <th>TAVG</th>\n",
       "    </tr>\n",
       "    <tr>\n",
       "      <th>DATE</th>\n",
       "      <th></th>\n",
       "      <th></th>\n",
       "    </tr>\n",
       "  </thead>\n",
       "  <tbody>\n",
       "    <tr>\n",
       "      <th>1870-01-01</th>\n",
       "      <td>1870-01-01</td>\n",
       "      <td>53.8</td>\n",
       "    </tr>\n",
       "    <tr>\n",
       "      <th>1871-01-01</th>\n",
       "      <td>1871-01-01</td>\n",
       "      <td>51.3</td>\n",
       "    </tr>\n",
       "    <tr>\n",
       "      <th>1872-01-01</th>\n",
       "      <td>1872-01-01</td>\n",
       "      <td>51.3</td>\n",
       "    </tr>\n",
       "    <tr>\n",
       "      <th>1873-01-01</th>\n",
       "      <td>1873-01-01</td>\n",
       "      <td>50.9</td>\n",
       "    </tr>\n",
       "    <tr>\n",
       "      <th>1874-01-01</th>\n",
       "      <td>1874-01-01</td>\n",
       "      <td>51.3</td>\n",
       "    </tr>\n",
       "  </tbody>\n",
       "</table>\n",
       "</div>"
      ],
      "text/plain": [
       "                 DATE  TAVG\n",
       "DATE                       \n",
       "1870-01-01 1870-01-01  53.8\n",
       "1871-01-01 1871-01-01  51.3\n",
       "1872-01-01 1872-01-01  51.3\n",
       "1873-01-01 1873-01-01  50.9\n",
       "1874-01-01 1874-01-01  51.3"
      ]
     },
     "execution_count": 37,
     "metadata": {},
     "output_type": "execute_result"
    }
   ],
   "source": [
    "df.head()"
   ]
  },
  {
   "cell_type": "code",
   "execution_count": 38,
   "metadata": {
    "collapsed": true
   },
   "outputs": [],
   "source": [
    "df.drop('DATE', axis = 1, inplace=True)"
   ]
  },
  {
   "cell_type": "code",
   "execution_count": 39,
   "metadata": {},
   "outputs": [
    {
     "data": {
      "text/html": [
       "<div>\n",
       "<style>\n",
       "    .dataframe thead tr:only-child th {\n",
       "        text-align: right;\n",
       "    }\n",
       "\n",
       "    .dataframe thead th {\n",
       "        text-align: left;\n",
       "    }\n",
       "\n",
       "    .dataframe tbody tr th {\n",
       "        vertical-align: top;\n",
       "    }\n",
       "</style>\n",
       "<table border=\"1\" class=\"dataframe\">\n",
       "  <thead>\n",
       "    <tr style=\"text-align: right;\">\n",
       "      <th></th>\n",
       "      <th>TAVG</th>\n",
       "    </tr>\n",
       "    <tr>\n",
       "      <th>DATE</th>\n",
       "      <th></th>\n",
       "    </tr>\n",
       "  </thead>\n",
       "  <tbody>\n",
       "    <tr>\n",
       "      <th>1870-01-01</th>\n",
       "      <td>53.8</td>\n",
       "    </tr>\n",
       "    <tr>\n",
       "      <th>1871-01-01</th>\n",
       "      <td>51.3</td>\n",
       "    </tr>\n",
       "    <tr>\n",
       "      <th>1872-01-01</th>\n",
       "      <td>51.3</td>\n",
       "    </tr>\n",
       "    <tr>\n",
       "      <th>1873-01-01</th>\n",
       "      <td>50.9</td>\n",
       "    </tr>\n",
       "    <tr>\n",
       "      <th>1874-01-01</th>\n",
       "      <td>51.3</td>\n",
       "    </tr>\n",
       "  </tbody>\n",
       "</table>\n",
       "</div>"
      ],
      "text/plain": [
       "            TAVG\n",
       "DATE            \n",
       "1870-01-01  53.8\n",
       "1871-01-01  51.3\n",
       "1872-01-01  51.3\n",
       "1873-01-01  50.9\n",
       "1874-01-01  51.3"
      ]
     },
     "execution_count": 39,
     "metadata": {},
     "output_type": "execute_result"
    }
   ],
   "source": [
    "df.head()"
   ]
  },
  {
   "cell_type": "markdown",
   "metadata": {},
   "source": [
    "# 1. Plot the time series "
   ]
  },
  {
   "cell_type": "code",
   "execution_count": 40,
   "metadata": {},
   "outputs": [
    {
     "data": {
      "image/png": "[encoded data removed]",
      "text/plain": [
       "<matplotlib.figure.Figure at 0x269aa486470>"
      ]
     },
     "metadata": {},
     "output_type": "display_data"
    }
   ],
   "source": [
    "df.plot()\n",
    "plt.title('Yearly Average Temperature')\n",
    "plt.xlabel('YEAR')\n",
    "plt.show()"
   ]
  },
  {
   "cell_type": "code",
   "execution_count": 41,
   "metadata": {},
   "outputs": [
    {
     "name": "stdout",
     "output_type": "stream",
     "text": [
      "The p-value for the ADF test is  0.583293898787\n"
     ]
    }
   ],
   "source": [
    "result = adfuller(df.TAVG)\n",
    "print(\"The p-value for the ADF test is \", result[1])"
   ]
  },
  {
   "cell_type": "markdown",
   "metadata": {},
   "source": [
    "The data seems to be non stationary.\n"
   ]
  },
  {
   "cell_type": "markdown",
   "metadata": {},
   "source": [
    "# 2. Make data set stationary by differencing."
   ]
  },
  {
   "cell_type": "code",
   "execution_count": 42,
   "metadata": {
    "collapsed": true
   },
   "outputs": [],
   "source": [
    "#To take first differences, \n",
    "df['diff_1'] = df.TAVG- df.TAVG.shift(1)"
   ]
  },
  {
   "cell_type": "code",
   "execution_count": 43,
   "metadata": {},
   "outputs": [
    {
     "data": {
      "text/html": [
       "<div>\n",
       "<style>\n",
       "    .dataframe thead tr:only-child th {\n",
       "        text-align: right;\n",
       "    }\n",
       "\n",
       "    .dataframe thead th {\n",
       "        text-align: left;\n",
       "    }\n",
       "\n",
       "    .dataframe tbody tr th {\n",
       "        vertical-align: top;\n",
       "    }\n",
       "</style>\n",
       "<table border=\"1\" class=\"dataframe\">\n",
       "  <thead>\n",
       "    <tr style=\"text-align: right;\">\n",
       "      <th></th>\n",
       "      <th>TAVG</th>\n",
       "      <th>diff_1</th>\n",
       "    </tr>\n",
       "    <tr>\n",
       "      <th>DATE</th>\n",
       "      <th></th>\n",
       "      <th></th>\n",
       "    </tr>\n",
       "  </thead>\n",
       "  <tbody>\n",
       "    <tr>\n",
       "      <th>1870-01-01</th>\n",
       "      <td>53.8</td>\n",
       "      <td>NaN</td>\n",
       "    </tr>\n",
       "    <tr>\n",
       "      <th>1871-01-01</th>\n",
       "      <td>51.3</td>\n",
       "      <td>-2.5</td>\n",
       "    </tr>\n",
       "    <tr>\n",
       "      <th>1872-01-01</th>\n",
       "      <td>51.3</td>\n",
       "      <td>0.0</td>\n",
       "    </tr>\n",
       "    <tr>\n",
       "      <th>1873-01-01</th>\n",
       "      <td>50.9</td>\n",
       "      <td>-0.4</td>\n",
       "    </tr>\n",
       "    <tr>\n",
       "      <th>1874-01-01</th>\n",
       "      <td>51.3</td>\n",
       "      <td>0.4</td>\n",
       "    </tr>\n",
       "  </tbody>\n",
       "</table>\n",
       "</div>"
      ],
      "text/plain": [
       "            TAVG  diff_1\n",
       "DATE                    \n",
       "1870-01-01  53.8     NaN\n",
       "1871-01-01  51.3    -2.5\n",
       "1872-01-01  51.3     0.0\n",
       "1873-01-01  50.9    -0.4\n",
       "1874-01-01  51.3     0.4"
      ]
     },
     "execution_count": 43,
     "metadata": {},
     "output_type": "execute_result"
    }
   ],
   "source": [
    "df.head()"
   ]
  },
  {
   "cell_type": "code",
   "execution_count": 44,
   "metadata": {},
   "outputs": [
    {
     "data": {
      "image/png": "[encoded data removed]",
      "text/plain": [
       "<matplotlib.figure.Figure at 0x269aa522198>"
      ]
     },
     "metadata": {},
     "output_type": "display_data"
    }
   ],
   "source": [
    "df.plot(y='diff_1')\n",
    "plt.show()"
   ]
  },
  {
   "cell_type": "code",
   "execution_count": 45,
   "metadata": {},
   "outputs": [
    {
     "name": "stdout",
     "output_type": "stream",
     "text": [
      "\n",
      "Differenced Data:\n",
      "ADF Statistic -8.540297\n",
      "p-value: 0.000000\n"
     ]
    }
   ],
   "source": [
    "# differenced data\n",
    "x_diff = df['diff_1'].iloc[1:]\n",
    "result = adfuller(x_diff)\n",
    "print('\\nDifferenced Data:')\n",
    "print('ADF Statistic %f' % result[0])\n",
    "print('p-value: %f' % result[1])"
   ]
  },
  {
   "cell_type": "markdown",
   "metadata": {},
   "source": [
    "This confirms the time series data to be stationary now."
   ]
  },
  {
   "cell_type": "markdown",
   "metadata": {},
   "source": [
    "# 3. Generate and Interpret an autocorrelation function (ACF) and PACF."
   ]
  },
  {
   "cell_type": "code",
   "execution_count": 46,
   "metadata": {
    "collapsed": true
   },
   "outputs": [],
   "source": [
    "x_acf = pd.DataFrame(acf(x_diff))\n",
    "x_pacf = pd.DataFrame(pacf(x_diff))"
   ]
  },
  {
   "cell_type": "code",
   "execution_count": 47,
   "metadata": {},
   "outputs": [
    {
     "data": {
      "image/png": "[encoded data removed]",
      "text/plain": [
       "<matplotlib.figure.Figure at 0x269aa5e90f0>"
      ]
     },
     "metadata": {},
     "output_type": "display_data"
    },
    {
     "data": {
      "image/png": "[encoded data removed]",
      "text/plain": [
       "<matplotlib.figure.Figure at 0x269aa5e9c88>"
      ]
     },
     "metadata": {},
     "output_type": "display_data"
    }
   ],
   "source": [
    "from statsmodels.graphics.tsaplots import plot_acf, plot_pacf\n",
    "\n",
    "plot_acf(x_acf, lags=40)\n",
    "\n",
    "plot_pacf(x_pacf, lags=40)\n",
    "\n",
    "\n",
    "plt.show()"
   ]
  },
  {
   "cell_type": "markdown",
   "metadata": {},
   "source": [
    "There is no clear pattern in the ACF and PACF except the negative lag-1 autocorrelation in the ACF."
   ]
  },
  {
   "cell_type": "code",
   "execution_count": 48,
   "metadata": {},
   "outputs": [
    {
     "data": {
      "image/png": "[encoded data removed]",
      "text/plain": [
       "<matplotlib.figure.Figure at 0x269aa665f60>"
      ]
     },
     "metadata": {},
     "output_type": "display_data"
    },
    {
     "data": {
      "image/png": "[encoded data removed]",
      "text/plain": [
       "<matplotlib.figure.Figure at 0x269aa638278>"
      ]
     },
     "metadata": {},
     "output_type": "display_data"
    }
   ],
   "source": [
    "x_acf.plot(kind='bar')\n",
    "plt.title('ACF for Differenced Series')\n",
    "plt.show()\n",
    "\n",
    "x_pacf.plot(kind='bar')\n",
    "plt.title('PACF for Differenced Series')\n",
    "plt.show()"
   ]
  },
  {
   "cell_type": "markdown",
   "metadata": {},
   "source": [
    "# 4. Generate 5 ARIMA specifications (p, d, q) and evaluate their efficacy at modeling the data."
   ]
  },
  {
   "cell_type": "code",
   "execution_count": 19,
   "metadata": {
    "collapsed": true
   },
   "outputs": [],
   "source": [
    "from statsmodels.tsa.arima_model import ARIMA"
   ]
  },
  {
   "cell_type": "code",
   "execution_count": 20,
   "metadata": {},
   "outputs": [
    {
     "data": {
      "text/plain": [
       "TAVG      0\n",
       "diff_1    1\n",
       "dtype: int64"
      ]
     },
     "execution_count": 20,
     "metadata": {},
     "output_type": "execute_result"
    }
   ],
   "source": [
    "df.isnull().sum()"
   ]
  },
  {
   "cell_type": "code",
   "execution_count": 64,
   "metadata": {
    "collapsed": true
   },
   "outputs": [],
   "source": [
    "df = df.dropna()"
   ]
  },
  {
   "cell_type": "markdown",
   "metadata": {},
   "source": [
    "# 4.1\n",
    "AR and MA of order 1 and first order difference"
   ]
  },
  {
   "cell_type": "code",
   "execution_count": 49,
   "metadata": {},
   "outputs": [
    {
     "name": "stdout",
     "output_type": "stream",
     "text": [
      "                             ARIMA Model Results                              \n",
      "==============================================================================\n",
      "Dep. Variable:                 D.TAVG   No. Observations:                  146\n",
      "Model:                 ARIMA(1, 1, 1)   Log Likelihood                -230.536\n",
      "Method:                       css-mle   S.D. of innovations              1.155\n",
      "Date:                Thu, 12 Jul 2018   AIC                            469.073\n",
      "Time:                        14:26:46   BIC                            481.007\n",
      "Sample:                    01-01-1871   HQIC                           473.922\n",
      "                         - 01-01-2016                                         \n",
      "================================================================================\n",
      "                   coef    std err          z      P>|z|      [0.025      0.975]\n",
      "--------------------------------------------------------------------------------\n",
      "const            0.0280      0.003     10.918      0.000       0.023       0.033\n",
      "ar.L1.D.TAVG     0.1272      0.083      1.527      0.129      -0.036       0.291\n",
      "ma.L1.D.TAVG    -1.0000      0.023    -43.961      0.000      -1.045      -0.955\n",
      "                                    Roots                                    \n",
      "=============================================================================\n",
      "                 Real           Imaginary           Modulus         Frequency\n",
      "-----------------------------------------------------------------------------\n",
      "AR.1            7.8591           +0.0000j            7.8591            0.0000\n",
      "MA.1            1.0000           +0.0000j            1.0000            0.0000\n",
      "-----------------------------------------------------------------------------\n",
      "Residuals Description\n",
      "count    146.000000\n",
      "mean       0.015441\n",
      "std        1.184257\n",
      "min       -2.527995\n",
      "25%       -0.848553\n",
      "50%        0.101421\n",
      "75%        0.910609\n",
      "max        2.779093\n",
      "dtype: float64\n"
     ]
    }
   ],
   "source": [
    "model_111 = ARIMA(df.TAVG, order=(1,1,1))\n",
    "model_111_fit = model_111.fit()\n",
    "print(model_111_fit.summary())\n",
    "print('Residuals Description')\n",
    "print(model_111_fit.resid.describe())"
   ]
  },
  {
   "cell_type": "markdown",
   "metadata": {},
   "source": [
    "# 4.2\n",
    "MA of order 1 and first order difference"
   ]
  },
  {
   "cell_type": "code",
   "execution_count": 50,
   "metadata": {},
   "outputs": [
    {
     "name": "stdout",
     "output_type": "stream",
     "text": [
      "                             ARIMA Model Results                              \n",
      "==============================================================================\n",
      "Dep. Variable:                 D.TAVG   No. Observations:                  146\n",
      "Model:                 ARIMA(0, 1, 1)   Log Likelihood                -231.695\n",
      "Method:                       css-mle   S.D. of innovations              1.163\n",
      "Date:                Thu, 12 Jul 2018   AIC                            469.391\n",
      "Time:                        14:26:51   BIC                            478.342\n",
      "Sample:                    01-01-1871   HQIC                           473.028\n",
      "                         - 01-01-2016                                         \n",
      "================================================================================\n",
      "                   coef    std err          z      P>|z|      [0.025      0.975]\n",
      "--------------------------------------------------------------------------------\n",
      "const            0.0280      0.002     12.398      0.000       0.024       0.032\n",
      "ma.L1.D.TAVG    -0.9999      0.027    -37.060      0.000      -1.053      -0.947\n",
      "                                    Roots                                    \n",
      "=============================================================================\n",
      "                 Real           Imaginary           Modulus         Frequency\n",
      "-----------------------------------------------------------------------------\n",
      "MA.1            1.0001           +0.0000j            1.0001            0.0000\n",
      "-----------------------------------------------------------------------------\n",
      "Residuals Description\n",
      "count    146.000000\n",
      "mean       0.025126\n",
      "std        1.194992\n",
      "min       -2.555105\n",
      "25%       -0.708787\n",
      "50%        0.078988\n",
      "75%        0.807642\n",
      "max        2.767697\n",
      "dtype: float64\n"
     ]
    }
   ],
   "source": [
    "model_011 = ARIMA(df.TAVG, order=(0,1,1))\n",
    "model_011_fit = model_011.fit()\n",
    "print(model_011_fit.summary())\n",
    "print('Residuals Description')\n",
    "print(model_011_fit.resid.describe())"
   ]
  },
  {
   "cell_type": "markdown",
   "metadata": {},
   "source": [
    "# 4.3\n",
    "AR of order 2 , MA of order 1 and first order difference"
   ]
  },
  {
   "cell_type": "code",
   "execution_count": 51,
   "metadata": {},
   "outputs": [
    {
     "name": "stdout",
     "output_type": "stream",
     "text": [
      "                             ARIMA Model Results                              \n",
      "==============================================================================\n",
      "Dep. Variable:                 D.TAVG   No. Observations:                  146\n",
      "Model:                 ARIMA(2, 1, 1)   Log Likelihood                -230.348\n",
      "Method:                       css-mle   S.D. of innovations              1.154\n",
      "Date:                Thu, 12 Jul 2018   AIC                            470.697\n",
      "Time:                        14:27:00   BIC                            485.615\n",
      "Sample:                    01-01-1871   HQIC                           476.758\n",
      "                         - 01-01-2016                                         \n",
      "================================================================================\n",
      "                   coef    std err          z      P>|z|      [0.025      0.975]\n",
      "--------------------------------------------------------------------------------\n",
      "const            0.0280      0.003     10.389      0.000       0.023       0.033\n",
      "ar.L1.D.TAVG     0.1214      0.084      1.448      0.150      -0.043       0.286\n",
      "ar.L2.D.TAVG     0.0514      0.084      0.614      0.540      -0.113       0.216\n",
      "ma.L1.D.TAVG    -1.0000      0.022    -45.976      0.000      -1.043      -0.957\n",
      "                                    Roots                                    \n",
      "=============================================================================\n",
      "                 Real           Imaginary           Modulus         Frequency\n",
      "-----------------------------------------------------------------------------\n",
      "AR.1            3.3856           +0.0000j            3.3856            0.0000\n",
      "AR.2           -5.7469           +0.0000j            5.7469            0.5000\n",
      "MA.1            1.0000           +0.0000j            1.0000            0.0000\n",
      "-----------------------------------------------------------------------------\n",
      "Residuals Description\n",
      "count    146.000000\n",
      "mean       0.011797\n",
      "std        1.182766\n",
      "min       -2.528005\n",
      "25%       -0.863458\n",
      "50%        0.105795\n",
      "75%        0.902987\n",
      "max        2.797080\n",
      "dtype: float64\n"
     ]
    }
   ],
   "source": [
    "model_211 = ARIMA(df.TAVG, order=(2,1,1))\n",
    "model_211_fit = model_211.fit()\n",
    "print(model_211_fit.summary())\n",
    "print('Residuals Description')\n",
    "print(model_211_fit.resid.describe())"
   ]
  },
  {
   "cell_type": "markdown",
   "metadata": {},
   "source": [
    "# 4.4\n",
    "AR of order 3, MA of order 1 and first order difference"
   ]
  },
  {
   "cell_type": "code",
   "execution_count": 53,
   "metadata": {},
   "outputs": [
    {
     "name": "stdout",
     "output_type": "stream",
     "text": [
      "                             ARIMA Model Results                              \n",
      "==============================================================================\n",
      "Dep. Variable:                 D.TAVG   No. Observations:                  146\n",
      "Model:                 ARIMA(3, 1, 1)   Log Likelihood                -230.334\n",
      "Method:                       css-mle   S.D. of innovations              1.153\n",
      "Date:                Thu, 12 Jul 2018   AIC                            472.668\n",
      "Time:                        14:27:34   BIC                            490.569\n",
      "Sample:                    01-01-1871   HQIC                           479.942\n",
      "                         - 01-01-2016                                         \n",
      "================================================================================\n",
      "                   coef    std err          z      P>|z|      [0.025      0.975]\n",
      "--------------------------------------------------------------------------------\n",
      "const            0.0280      0.003     10.532      0.000       0.023       0.033\n",
      "ar.L1.D.TAVG     0.1221      0.084      1.455      0.148      -0.042       0.287\n",
      "ar.L2.D.TAVG     0.0530      0.084      0.629      0.531      -0.112       0.218\n",
      "ar.L3.D.TAVG    -0.0144      0.084     -0.171      0.864      -0.179       0.151\n",
      "ma.L1.D.TAVG    -0.9999      0.022    -45.488      0.000      -1.043      -0.957\n",
      "                                    Roots                                    \n",
      "=============================================================================\n",
      "                 Real           Imaginary           Modulus         Frequency\n",
      "-----------------------------------------------------------------------------\n",
      "AR.1           -3.6970           -0.0000j            3.6970           -0.5000\n",
      "AR.2            3.6878           -2.2776j            4.3345           -0.0881\n",
      "AR.3            3.6878           +2.2776j            4.3345            0.0881\n",
      "MA.1            1.0001           +0.0000j            1.0001            0.0000\n",
      "-----------------------------------------------------------------------------\n",
      "Residuals Description\n",
      "count    146.000000\n",
      "mean       0.012672\n",
      "std        1.182598\n",
      "min       -2.528007\n",
      "25%       -0.873951\n",
      "50%        0.102916\n",
      "75%        0.904024\n",
      "max        2.815922\n",
      "dtype: float64\n"
     ]
    },
    {
     "name": "stderr",
     "output_type": "stream",
     "text": [
      "C:\\Users\\gyans\\Anaconda3\\lib\\site-packages\\statsmodels\\base\\model.py:496: ConvergenceWarning: Maximum Likelihood optimization failed to converge. Check mle_retvals\n",
      "  \"Check mle_retvals\", ConvergenceWarning)\n"
     ]
    }
   ],
   "source": [
    "model_311 = ARIMA(df.TAVG, order=(3,1,1))\n",
    "model_311_fit = model_311.fit()\n",
    "print(model_311_fit.summary())\n",
    "print('Residuals Description')\n",
    "print(model_311_fit.resid.describe())"
   ]
  },
  {
   "cell_type": "markdown",
   "metadata": {},
   "source": [
    "# 4.5\n",
    "AR of order 4, MA of order 1 and first order difference"
   ]
  },
  {
   "cell_type": "code",
   "execution_count": 54,
   "metadata": {},
   "outputs": [
    {
     "name": "stdout",
     "output_type": "stream",
     "text": [
      "                             ARIMA Model Results                              \n",
      "==============================================================================\n",
      "Dep. Variable:                 D.TAVG   No. Observations:                  146\n",
      "Model:                 ARIMA(4, 1, 1)   Log Likelihood                -230.251\n",
      "Method:                       css-mle   S.D. of innovations              1.153\n",
      "Date:                Thu, 12 Jul 2018   AIC                            474.502\n",
      "Time:                        14:28:21   BIC                            495.388\n",
      "Sample:                    01-01-1871   HQIC                           482.989\n",
      "                         - 01-01-2016                                         \n",
      "================================================================================\n",
      "                   coef    std err          z      P>|z|      [0.025      0.975]\n",
      "--------------------------------------------------------------------------------\n",
      "const            0.0280      0.003     10.202      0.000       0.023       0.033\n",
      "ar.L1.D.TAVG     0.1226      0.084      1.461      0.146      -0.042       0.287\n",
      "ar.L2.D.TAVG     0.0511      0.084      0.606      0.546      -0.114       0.216\n",
      "ar.L3.D.TAVG    -0.0179      0.085     -0.212      0.833      -0.184       0.148\n",
      "ar.L4.D.TAVG     0.0342      0.084      0.407      0.685      -0.131       0.199\n",
      "ma.L1.D.TAVG    -0.9999      0.021    -46.535      0.000      -1.042      -0.958\n",
      "                                    Roots                                    \n",
      "=============================================================================\n",
      "                 Real           Imaginary           Modulus         Frequency\n",
      "-----------------------------------------------------------------------------\n",
      "AR.1           -2.2160           -0.0000j            2.2160           -0.5000\n",
      "AR.2            2.1125           -0.0000j            2.1125           -0.0000\n",
      "AR.3            0.3134           -2.4777j            2.4975           -0.2300\n",
      "AR.4            0.3134           +2.4777j            2.4975            0.2300\n",
      "MA.1            1.0001           +0.0000j            1.0001            0.0000\n",
      "-----------------------------------------------------------------------------\n",
      "Residuals Description\n",
      "count    146.000000\n",
      "mean       0.010758\n",
      "std        1.182013\n",
      "min       -2.528011\n",
      "25%       -0.803504\n",
      "50%        0.119811\n",
      "75%        0.905168\n",
      "max        2.816750\n",
      "dtype: float64\n"
     ]
    },
    {
     "name": "stderr",
     "output_type": "stream",
     "text": [
      "C:\\Users\\gyans\\Anaconda3\\lib\\site-packages\\statsmodels\\base\\model.py:496: ConvergenceWarning: Maximum Likelihood optimization failed to converge. Check mle_retvals\n",
      "  \"Check mle_retvals\", ConvergenceWarning)\n"
     ]
    }
   ],
   "source": [
    "model_411 = ARIMA(df.TAVG, order=(4,1,1))\n",
    "model_411_fit = model_411.fit()\n",
    "print(model_411_fit.summary())\n",
    "print('Residuals Description')\n",
    "print(model_411_fit.resid.describe())"
   ]
  },
  {
   "cell_type": "code",
   "execution_count": 55,
   "metadata": {
    "collapsed": true
   },
   "outputs": [],
   "source": [
    "comp = pd.DataFrame(\n",
    "    {'Model' : ['model_111','model_011', 'model_211', 'model_311', 'model_411'],\n",
    "     'AIC' : [model_111_fit.aic, model_011_fit.aic, model_211_fit.aic, model_311_fit.aic, model_411_fit.aic],\n",
    "     'BIC' : [model_111_fit.bic, model_011_fit.bic, model_211_fit.bic, model_311_fit.bic, model_411_fit.bic]\n",
    "    }\n",
    "     )"
   ]
  },
  {
   "cell_type": "code",
   "execution_count": 56,
   "metadata": {},
   "outputs": [
    {
     "data": {
      "text/html": [
       "<div>\n",
       "<style>\n",
       "    .dataframe thead tr:only-child th {\n",
       "        text-align: right;\n",
       "    }\n",
       "\n",
       "    .dataframe thead th {\n",
       "        text-align: left;\n",
       "    }\n",
       "\n",
       "    .dataframe tbody tr th {\n",
       "        vertical-align: top;\n",
       "    }\n",
       "</style>\n",
       "<table border=\"1\" class=\"dataframe\">\n",
       "  <thead>\n",
       "    <tr style=\"text-align: right;\">\n",
       "      <th></th>\n",
       "      <th>AIC</th>\n",
       "      <th>BIC</th>\n",
       "      <th>Model</th>\n",
       "    </tr>\n",
       "  </thead>\n",
       "  <tbody>\n",
       "    <tr>\n",
       "      <th>0</th>\n",
       "      <td>469.072911</td>\n",
       "      <td>481.007338</td>\n",
       "      <td>model_111</td>\n",
       "    </tr>\n",
       "    <tr>\n",
       "      <th>1</th>\n",
       "      <td>469.390974</td>\n",
       "      <td>478.341794</td>\n",
       "      <td>model_011</td>\n",
       "    </tr>\n",
       "    <tr>\n",
       "      <th>2</th>\n",
       "      <td>470.696710</td>\n",
       "      <td>485.614743</td>\n",
       "      <td>model_211</td>\n",
       "    </tr>\n",
       "    <tr>\n",
       "      <th>3</th>\n",
       "      <td>472.667790</td>\n",
       "      <td>490.569430</td>\n",
       "      <td>model_311</td>\n",
       "    </tr>\n",
       "    <tr>\n",
       "      <th>4</th>\n",
       "      <td>474.502377</td>\n",
       "      <td>495.387624</td>\n",
       "      <td>model_411</td>\n",
       "    </tr>\n",
       "  </tbody>\n",
       "</table>\n",
       "</div>"
      ],
      "text/plain": [
       "          AIC         BIC      Model\n",
       "0  469.072911  481.007338  model_111\n",
       "1  469.390974  478.341794  model_011\n",
       "2  470.696710  485.614743  model_211\n",
       "3  472.667790  490.569430  model_311\n",
       "4  474.502377  495.387624  model_411"
      ]
     },
     "execution_count": 56,
     "metadata": {},
     "output_type": "execute_result"
    }
   ],
   "source": [
    "comp.sort_values(by= ['AIC', 'BIC'], ascending = [True, True])"
   ]
  },
  {
   "cell_type": "markdown",
   "metadata": {},
   "source": [
    "Best model = AR and MA of  order 1 with first order difference."
   ]
  },
  {
   "cell_type": "code",
   "execution_count": 57,
   "metadata": {},
   "outputs": [
    {
     "data": {
      "image/png": "[encoded data removed]",
      "text/plain": [
       "<matplotlib.figure.Figure at 0x269acaa96d8>"
      ]
     },
     "metadata": {},
     "output_type": "display_data"
    },
    {
     "data": {
      "image/png": "[encoded data removed]",
      "text/plain": [
       "<matplotlib.figure.Figure at 0x269acaa9390>"
      ]
     },
     "metadata": {},
     "output_type": "display_data"
    }
   ],
   "source": [
    "residuals_111 = pd.DataFrame(model_111_fit.resid)\n",
    "residuals_111.plot(legend=False)\n",
    "plt.title('3, 1, 1 Time Series Residuals')\n",
    "\n",
    "residuals_111.hist(bins=20)\n",
    "plt.title('3, 1, 1 Residuals Histogram')\n",
    "\n",
    "plt.show()"
   ]
  },
  {
   "cell_type": "markdown",
   "metadata": {},
   "source": [
    "# 5. Chose best specification and make the case for it as the logical model.¶"
   ]
  },
  {
   "cell_type": "code",
   "execution_count": 58,
   "metadata": {},
   "outputs": [
    {
     "name": "stdout",
     "output_type": "stream",
     "text": [
      "0.444014020369\n",
      "0.165722714773\n",
      "0.0662226364128\n"
     ]
    }
   ],
   "source": [
    "import numpy as np\n",
    "\n",
    "AIC111 =  model_111_fit.aic\n",
    "AIC211 =  model_211_fit.aic\n",
    "AIC311 =  model_311_fit.aic\n",
    "AIC411 =  model_411_fit.aic\n",
    "\n",
    "loss_211 = np.exp((AIC111 - AIC211) / 2)\n",
    "print(loss_211)\n",
    "\n",
    "loss_311 = np.exp((AIC111 - AIC311) / 2)\n",
    "print(loss_311)\n",
    "\n",
    "loss_411 = np.exp((AIC111 - AIC411) / 2)\n",
    "print(loss_411)\n",
    "\n"
   ]
  },
  {
   "cell_type": "markdown",
   "metadata": {},
   "source": [
    "# Conclusion\n",
    "AR and MA of order 1 with first order difference , ARIMA(1,1,1) is the Best model for this dataset."
   ]
  },
  {
   "cell_type": "code",
   "execution_count": null,
   "metadata": {
    "collapsed": true
   },
   "outputs": [],
   "source": []
  }
 ],
 "metadata": {
  "kernelspec": {
   "display_name": "Python 3",
   "language": "python",
   "name": "python3"
  },
  "language_info": {
   "codemirror_mode": {
    "name": "ipython",
    "version": 3
   },
   "file_extension": ".py",
   "mimetype": "text/x-python",
   "name": "python",
   "nbconvert_exporter": "python",
   "pygments_lexer": "ipython3",
   "version": "3.6.3"
  }
 },
 "nbformat": 4,
 "nbformat_minor": 2
}
