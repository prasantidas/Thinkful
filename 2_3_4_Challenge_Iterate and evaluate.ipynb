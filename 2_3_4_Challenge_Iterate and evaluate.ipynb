{
 "cells": [
  {
   "cell_type": "code",
   "execution_count": 104,
   "metadata": {
    "collapsed": true
   },
   "outputs": [],
   "source": [
    "import numpy as np\n",
    "import pandas as pd\n",
    "import matplotlib.pyplot as plt\n",
    "import seaborn as sns\n",
    "import scipy\n",
    "import sklearn\n",
    "from sklearn.naive_bayes import BernoulliNB\n",
    "\n",
    "from sklearn.naive_bayes import MultinomialNB\n",
    "\n",
    "from sklearn.model_selection import train_test_split, cross_val_score\n",
    "from sklearn.metrics import confusion_matrix\n",
    "from collections import Counter\n",
    "%matplotlib inline"
   ]
  },
  {
   "cell_type": "markdown",
   "metadata": {},
   "source": [
    "# Analyze the amazon reviews"
   ]
  },
  {
   "cell_type": "code",
   "execution_count": 38,
   "metadata": {
    "collapsed": true
   },
   "outputs": [],
   "source": [
    "amazon = pd.read_csv(\"amazon_cells_labelled.txt\", delimiter = '\\t', header = None)\n",
    "amazon.columns = ['sentence', 'score']"
   ]
  },
  {
   "cell_type": "code",
   "execution_count": 133,
   "metadata": {},
   "outputs": [
    {
     "data": {
      "text/html": [
       "<div>\n",
       "<style>\n",
       "    .dataframe thead tr:only-child th {\n",
       "        text-align: right;\n",
       "    }\n",
       "\n",
       "    .dataframe thead th {\n",
       "        text-align: left;\n",
       "    }\n",
       "\n",
       "    .dataframe tbody tr th {\n",
       "        vertical-align: top;\n",
       "    }\n",
       "</style>\n",
       "<table border=\"1\" class=\"dataframe\">\n",
       "  <thead>\n",
       "    <tr style=\"text-align: right;\">\n",
       "      <th></th>\n",
       "      <th>sentence</th>\n",
       "      <th>score</th>\n",
       "    </tr>\n",
       "  </thead>\n",
       "  <tbody>\n",
       "    <tr>\n",
       "      <th>995</th>\n",
       "      <td>the screen does get smudged easily because it ...</td>\n",
       "      <td>0</td>\n",
       "    </tr>\n",
       "    <tr>\n",
       "      <th>996</th>\n",
       "      <td>what a piece of junk.. i lose more calls on th...</td>\n",
       "      <td>0</td>\n",
       "    </tr>\n",
       "    <tr>\n",
       "      <th>997</th>\n",
       "      <td>item does not match picture.</td>\n",
       "      <td>0</td>\n",
       "    </tr>\n",
       "    <tr>\n",
       "      <th>998</th>\n",
       "      <td>the only thing that disappoint me is the infra...</td>\n",
       "      <td>0</td>\n",
       "    </tr>\n",
       "    <tr>\n",
       "      <th>999</th>\n",
       "      <td>you can not answer calls with the unit, never ...</td>\n",
       "      <td>0</td>\n",
       "    </tr>\n",
       "  </tbody>\n",
       "</table>\n",
       "</div>"
      ],
      "text/plain": [
       "                                              sentence  score\n",
       "995  the screen does get smudged easily because it ...      0\n",
       "996  what a piece of junk.. i lose more calls on th...      0\n",
       "997                       item does not match picture.      0\n",
       "998  the only thing that disappoint me is the infra...      0\n",
       "999  you can not answer calls with the unit, never ...      0"
      ]
     },
     "execution_count": 133,
     "metadata": {},
     "output_type": "execute_result"
    }
   ],
   "source": [
    "amazon.tail()"
   ]
  },
  {
   "cell_type": "code",
   "execution_count": 47,
   "metadata": {},
   "outputs": [
    {
     "data": {
      "text/plain": [
       "1    500\n",
       "0    500\n",
       "Name: score, dtype: int64"
      ]
     },
     "execution_count": 47,
     "metadata": {},
     "output_type": "execute_result"
    }
   ],
   "source": [
    "amazon.score.value_counts()"
   ]
  },
  {
   "cell_type": "markdown",
   "metadata": {},
   "source": [
    " There are 500 positive and 500 negative reviews in the dataset."
   ]
  },
  {
   "cell_type": "markdown",
   "metadata": {},
   "source": [
    "There are few sentences which has mixed case letters. Let's convert all to lower case"
   ]
  },
  {
   "cell_type": "code",
   "execution_count": 48,
   "metadata": {},
   "outputs": [],
   "source": [
    "amazon['sentence'] = amazon['sentence'].str.lower()"
   ]
  },
  {
   "cell_type": "code",
   "execution_count": 49,
   "metadata": {},
   "outputs": [
    {
     "name": "stdout",
     "output_type": "stream",
     "text": [
      "\n"
     ]
    }
   ],
   "source": [
    "# To analyze the frequently used negative words\n",
    "all_sent = ''.join(amazon[amazon.score==0].sentence.values)\n",
    "all_sent_list = all_sent.replace(',','').split(' ')\n",
    "d= Counter(all_sent_list)\n",
    "print()\n",
    "count_df = pd.DataFrame.from_dict(d,orient='index').reset_index().rename(columns={'index':'event', 0:'count'})\n",
    "count_df.sort_values(by='count', ascending=False).to_csv('neg_word_list_amazon.csv')"
   ]
  },
  {
   "cell_type": "markdown",
   "metadata": {},
   "source": [
    "From the above step we filtered few keywords for our use:"
   ]
  },
  {
   "cell_type": "code",
   "execution_count": 57,
   "metadata": {
    "collapsed": true
   },
   "outputs": [],
   "source": [
    "neg_keywords= ['worst','cheap','problem','disappoint','hate','mistake','useless','horrible','terrible','trouble',\n",
    "           'awful','waste','lack','uncomfortable','unreliable','embarrassing','flimsy','poor','unhappy',\n",
    "          'suck','flaw','pain','nightmare','warning','hurt']\n",
    "#'frustrat','distract','crap','worthless','avoid',"
   ]
  },
  {
   "cell_type": "markdown",
   "metadata": {},
   "source": [
    "# Analyse based on Negative Keywords"
   ]
  },
  {
   "cell_type": "markdown",
   "metadata": {},
   "source": [
    "# Iteration 1:\n",
    "Appying BernoulliNB on full dataset"
   ]
  },
  {
   "cell_type": "markdown",
   "metadata": {},
   "source": [
    "Checking that variables are independent from each other using a correlation heatmap."
   ]
  },
  {
   "cell_type": "code",
   "execution_count": 74,
   "metadata": {},
   "outputs": [
    {
     "data": {
      "text/plain": [
       "<matplotlib.axes._subplots.AxesSubplot at 0x17e018e6080>"
      ]
     },
     "execution_count": 74,
     "metadata": {},
     "output_type": "execute_result"
    },
    {
     "data": {
      "image/png": "[encoded data removed]",
      "text/plain": [
       "<matplotlib.figure.Figure at 0x17e7ff510f0>"
      ]
     },
     "metadata": {},
     "output_type": "display_data"
    }
   ],
   "source": [
    "# create columns for every keyword\n",
    "data = pd.DataFrame()\n",
    "for key in neg_keywords:\n",
    "    \n",
    "    data[str(key)] = amazon.sentence.str.contains(str(key)  ,case=False    )\n",
    "\n",
    "target = amazon['score']\n",
    "plt.title('Negative Words Correlation Matrix for Amazon')\n",
    "corrmat = data.corr()\n",
    "corrmat[corrmat>0.2].to_csv('corrmat.csv')\n",
    "sns.heatmap(data.corr())\n"
   ]
  },
  {
   "cell_type": "code",
   "execution_count": 128,
   "metadata": {},
   "outputs": [
    {
     "name": "stdout",
     "output_type": "stream",
     "text": [
      "The accuracy of the model is:  0.623\n",
      "The sensitivity of the model is: 0.974\n",
      "The specificity of the model is: 0.272\n"
     ]
    }
   ],
   "source": [
    "bnb = BernoulliNB()\n",
    "\n",
    "# Fit our model to the data.\n",
    "bnb.fit(data, target)\n",
    "\n",
    "# Classify, storing the result in a new variable.\n",
    "y_pred = bnb.predict(data)\n",
    "\n",
    "#Test the accuracy, sensitivity, and specificity\n",
    "c = confusion_matrix(target, y_pred)\n",
    "\n",
    "#Accuracy\n",
    "print('The accuracy of the model is: ', (data.shape[0] - (target != y_pred).sum())/data.shape[0])\n",
    "\n",
    "#Sensitivity\n",
    "print('The sensitivity of the model is: {}'.format((c[1][1])/(c[1][1] + c[1][0])))\n",
    "\n",
    "#Specificity\n",
    "print('The specificity of the model is: {}'.format((c[0][0])/(c[0][0] + c[0][1])))"
   ]
  },
  {
   "cell_type": "markdown",
   "metadata": {},
   "source": [
    "# Iteration 2:\n",
    "#1. Using holdout group and Appying BernoulliNB"
   ]
  },
  {
   "cell_type": "code",
   "execution_count": 88,
   "metadata": {},
   "outputs": [
    {
     "name": "stdout",
     "output_type": "stream",
     "text": [
      "With 20% Holdout: 0.65\n"
     ]
    }
   ],
   "source": [
    "X_train, X_test, y_train, y_test = train_test_split(data, target, test_size=0.2, random_state=20)\n",
    "print('With 20% Holdout: ' + str(bnb.fit(X_train, y_train).score(X_test, y_test)))"
   ]
  },
  {
   "cell_type": "markdown",
   "metadata": {},
   "source": [
    "When the data is splitted, we see the accuracy is increased."
   ]
  },
  {
   "cell_type": "markdown",
   "metadata": {},
   "source": [
    "#2. Using Cross validation and Appying BernoulliNB"
   ]
  },
  {
   "cell_type": "code",
   "execution_count": 90,
   "metadata": {},
   "outputs": [
    {
     "data": {
      "text/plain": [
       "array([ 0.6 ,  0.61,  0.69,  0.67,  0.59,  0.57,  0.57,  0.56,  0.62,  0.57])"
      ]
     },
     "execution_count": 90,
     "metadata": {},
     "output_type": "execute_result"
    }
   ],
   "source": [
    "cross_val_score(bnb, data, target, cv=10)"
   ]
  },
  {
   "cell_type": "markdown",
   "metadata": {},
   "source": [
    "# Here the scores are fluctuating from 0.56 to 0.69. i.e from 56% to 69%. So our model seems overfitting? "
   ]
  },
  {
   "cell_type": "markdown",
   "metadata": {},
   "source": [
    "# Iteration 3\n",
    "Applying MultinomialNB on full dataset"
   ]
  },
  {
   "cell_type": "code",
   "execution_count": 101,
   "metadata": {},
   "outputs": [
    {
     "data": {
      "text/plain": [
       "<matplotlib.axes._subplots.AxesSubplot at 0x17e01b2fef0>"
      ]
     },
     "execution_count": 101,
     "metadata": {},
     "output_type": "execute_result"
    },
    {
     "data": {
      "image/png": "[encoded data removed]",
      "text/plain": [
       "<matplotlib.figure.Figure at 0x17e004fac50>"
      ]
     },
     "metadata": {},
     "output_type": "display_data"
    }
   ],
   "source": [
    "import re\n",
    "data = pd.DataFrame()\n",
    "for key in neg_keywords:\n",
    "    \n",
    "    data[str(key)] = amazon.sentence.str.count(str(key)  ,flags=re.IGNORECASE    )\n",
    "\n",
    "target = amazon['score']\n",
    "plt.title('Negative Words Correlation Matrix for Amazon')\n",
    "corrmat = data.corr()\n",
    "corrmat[corrmat>0.2].to_csv('corrmat.csv')\n",
    "sns.heatmap(data.corr())"
   ]
  },
  {
   "cell_type": "code",
   "execution_count": 106,
   "metadata": {},
   "outputs": [
    {
     "data": {
      "text/html": [
       "<div>\n",
       "<style>\n",
       "    .dataframe thead tr:only-child th {\n",
       "        text-align: right;\n",
       "    }\n",
       "\n",
       "    .dataframe thead th {\n",
       "        text-align: left;\n",
       "    }\n",
       "\n",
       "    .dataframe tbody tr th {\n",
       "        vertical-align: top;\n",
       "    }\n",
       "</style>\n",
       "<table border=\"1\" class=\"dataframe\">\n",
       "  <thead>\n",
       "    <tr style=\"text-align: right;\">\n",
       "      <th></th>\n",
       "      <th>worst</th>\n",
       "      <th>cheap</th>\n",
       "      <th>problem</th>\n",
       "      <th>disappoint</th>\n",
       "      <th>hate</th>\n",
       "      <th>mistake</th>\n",
       "      <th>useless</th>\n",
       "      <th>horrible</th>\n",
       "      <th>terrible</th>\n",
       "      <th>trouble</th>\n",
       "      <th>...</th>\n",
       "      <th>embarrassing</th>\n",
       "      <th>flimsy</th>\n",
       "      <th>poor</th>\n",
       "      <th>unhappy</th>\n",
       "      <th>suck</th>\n",
       "      <th>flaw</th>\n",
       "      <th>pain</th>\n",
       "      <th>nightmare</th>\n",
       "      <th>warning</th>\n",
       "      <th>hurt</th>\n",
       "    </tr>\n",
       "  </thead>\n",
       "  <tbody>\n",
       "    <tr>\n",
       "      <th>0</th>\n",
       "      <td>0</td>\n",
       "      <td>0</td>\n",
       "      <td>0</td>\n",
       "      <td>0</td>\n",
       "      <td>0</td>\n",
       "      <td>0</td>\n",
       "      <td>0</td>\n",
       "      <td>0</td>\n",
       "      <td>0</td>\n",
       "      <td>0</td>\n",
       "      <td>...</td>\n",
       "      <td>0</td>\n",
       "      <td>0</td>\n",
       "      <td>0</td>\n",
       "      <td>0</td>\n",
       "      <td>0</td>\n",
       "      <td>0</td>\n",
       "      <td>0</td>\n",
       "      <td>0</td>\n",
       "      <td>0</td>\n",
       "      <td>0</td>\n",
       "    </tr>\n",
       "    <tr>\n",
       "      <th>1</th>\n",
       "      <td>0</td>\n",
       "      <td>0</td>\n",
       "      <td>0</td>\n",
       "      <td>0</td>\n",
       "      <td>0</td>\n",
       "      <td>0</td>\n",
       "      <td>0</td>\n",
       "      <td>0</td>\n",
       "      <td>0</td>\n",
       "      <td>0</td>\n",
       "      <td>...</td>\n",
       "      <td>0</td>\n",
       "      <td>0</td>\n",
       "      <td>0</td>\n",
       "      <td>0</td>\n",
       "      <td>0</td>\n",
       "      <td>0</td>\n",
       "      <td>0</td>\n",
       "      <td>0</td>\n",
       "      <td>0</td>\n",
       "      <td>0</td>\n",
       "    </tr>\n",
       "    <tr>\n",
       "      <th>2</th>\n",
       "      <td>0</td>\n",
       "      <td>0</td>\n",
       "      <td>0</td>\n",
       "      <td>0</td>\n",
       "      <td>0</td>\n",
       "      <td>0</td>\n",
       "      <td>0</td>\n",
       "      <td>0</td>\n",
       "      <td>0</td>\n",
       "      <td>0</td>\n",
       "      <td>...</td>\n",
       "      <td>0</td>\n",
       "      <td>0</td>\n",
       "      <td>0</td>\n",
       "      <td>0</td>\n",
       "      <td>0</td>\n",
       "      <td>0</td>\n",
       "      <td>0</td>\n",
       "      <td>0</td>\n",
       "      <td>0</td>\n",
       "      <td>0</td>\n",
       "    </tr>\n",
       "    <tr>\n",
       "      <th>3</th>\n",
       "      <td>0</td>\n",
       "      <td>0</td>\n",
       "      <td>1</td>\n",
       "      <td>0</td>\n",
       "      <td>0</td>\n",
       "      <td>0</td>\n",
       "      <td>0</td>\n",
       "      <td>0</td>\n",
       "      <td>0</td>\n",
       "      <td>0</td>\n",
       "      <td>...</td>\n",
       "      <td>0</td>\n",
       "      <td>0</td>\n",
       "      <td>0</td>\n",
       "      <td>0</td>\n",
       "      <td>0</td>\n",
       "      <td>0</td>\n",
       "      <td>0</td>\n",
       "      <td>0</td>\n",
       "      <td>0</td>\n",
       "      <td>0</td>\n",
       "    </tr>\n",
       "    <tr>\n",
       "      <th>4</th>\n",
       "      <td>0</td>\n",
       "      <td>0</td>\n",
       "      <td>0</td>\n",
       "      <td>0</td>\n",
       "      <td>0</td>\n",
       "      <td>0</td>\n",
       "      <td>0</td>\n",
       "      <td>0</td>\n",
       "      <td>0</td>\n",
       "      <td>0</td>\n",
       "      <td>...</td>\n",
       "      <td>0</td>\n",
       "      <td>0</td>\n",
       "      <td>0</td>\n",
       "      <td>0</td>\n",
       "      <td>0</td>\n",
       "      <td>0</td>\n",
       "      <td>0</td>\n",
       "      <td>0</td>\n",
       "      <td>0</td>\n",
       "      <td>0</td>\n",
       "    </tr>\n",
       "  </tbody>\n",
       "</table>\n",
       "<p>5 rows × 25 columns</p>\n",
       "</div>"
      ],
      "text/plain": [
       "   worst  cheap  problem  disappoint  hate  mistake  useless  horrible  \\\n",
       "0      0      0        0           0     0        0        0         0   \n",
       "1      0      0        0           0     0        0        0         0   \n",
       "2      0      0        0           0     0        0        0         0   \n",
       "3      0      0        1           0     0        0        0         0   \n",
       "4      0      0        0           0     0        0        0         0   \n",
       "\n",
       "   terrible  trouble  ...   embarrassing  flimsy  poor  unhappy  suck  flaw  \\\n",
       "0         0        0  ...              0       0     0        0     0     0   \n",
       "1         0        0  ...              0       0     0        0     0     0   \n",
       "2         0        0  ...              0       0     0        0     0     0   \n",
       "3         0        0  ...              0       0     0        0     0     0   \n",
       "4         0        0  ...              0       0     0        0     0     0   \n",
       "\n",
       "   pain  nightmare  warning  hurt  \n",
       "0     0          0        0     0  \n",
       "1     0          0        0     0  \n",
       "2     0          0        0     0  \n",
       "3     0          0        0     0  \n",
       "4     0          0        0     0  \n",
       "\n",
       "[5 rows x 25 columns]"
      ]
     },
     "execution_count": 106,
     "metadata": {},
     "output_type": "execute_result"
    }
   ],
   "source": [
    "data.head()"
   ]
  },
  {
   "cell_type": "code",
   "execution_count": 129,
   "metadata": {},
   "outputs": [
    {
     "name": "stdout",
     "output_type": "stream",
     "text": [
      "The accuracy of the model is:  0.482\n",
      "The sensitivity of the model is: 0.056\n",
      "The specificity of the model is: 0.908\n"
     ]
    }
   ],
   "source": [
    "multi_nb = MultinomialNB()\n",
    "# Fit our model to the data.\n",
    "multi_nb.fit(data, target)\n",
    "\n",
    "# Classify, storing the result in a new variable.\n",
    "y_pred = multi_nb.predict(data)\n",
    "\n",
    "#Test the accuracy, sensitivity, and specificity\n",
    "c = confusion_matrix(target, y_pred)\n",
    "\n",
    "#Accuracy\n",
    "print('The accuracy of the model is: ', (data.shape[0] - (target != y_pred).sum())/data.shape[0])\n",
    "\n",
    "#Sensitivity\n",
    "print('The sensitivity of the model is: {}'.format((c[1][1])/(c[1][1] + c[1][0])))\n",
    "\n",
    "#Specificity\n",
    "print('The specificity of the model is: {}'.format((c[0][0])/(c[0][0] + c[0][1])))"
   ]
  },
  {
   "cell_type": "markdown",
   "metadata": {},
   "source": [
    "# Iteration 4:\n",
    "#1. applying MultinomialNB with holdout group"
   ]
  },
  {
   "cell_type": "code",
   "execution_count": 107,
   "metadata": {},
   "outputs": [
    {
     "name": "stdout",
     "output_type": "stream",
     "text": [
      "With 20% Holdout: 0.46\n"
     ]
    }
   ],
   "source": [
    "X_train, X_test, y_train, y_test = train_test_split(data, target, test_size=0.2, random_state=20)\n",
    "print('With 20% Holdout: ' + str(multi_nb.fit(X_train, y_train).score(X_test, y_test)))"
   ]
  },
  {
   "cell_type": "markdown",
   "metadata": {},
   "source": [
    "#2. Using Cross validation and Appying  MultinomialNB"
   ]
  },
  {
   "cell_type": "code",
   "execution_count": 108,
   "metadata": {},
   "outputs": [
    {
     "data": {
      "text/plain": [
       "array([ 0.48,  0.46,  0.45,  0.42,  0.47,  0.53,  0.5 ,  0.47,  0.46,  0.49])"
      ]
     },
     "execution_count": 108,
     "metadata": {},
     "output_type": "execute_result"
    }
   ],
   "source": [
    "cross_val_score(multi_nb, data, target, cv=10)"
   ]
  },
  {
   "cell_type": "markdown",
   "metadata": {},
   "source": [
    "When applied Multinomial Naive Bayes classifier on entire dataset the accuracy was 48%. When applied with 20% holdout group, the accuracy was 46%. With cross validation the accuracy fluctuated between 42% to 53%.\n",
    "# More fluctuation ???"
   ]
  },
  {
   "cell_type": "markdown",
   "metadata": {},
   "source": [
    "# Analyse based on positive words"
   ]
  },
  {
   "cell_type": "markdown",
   "metadata": {
    "collapsed": true
   },
   "source": [
    "# Iteration :\n",
    "Appying BernoulliNB on full dataset"
   ]
  },
  {
   "cell_type": "code",
   "execution_count": 113,
   "metadata": {
    "collapsed": true
   },
   "outputs": [],
   "source": [
    "pos_keywords = ['great','good','love','recommend','nice','excellent', 'best','simple', 'beautiful'\n",
    "            ,'satisfied','quality','easy','well', 'must have','happy', 'sturdy','fast','pleased',\n",
    "           'superb',   'incredible','helpful','fine','fit','comfortable','deal']\n",
    "# 'reasonable',"
   ]
  },
  {
   "cell_type": "code",
   "execution_count": 114,
   "metadata": {},
   "outputs": [
    {
     "data": {
      "text/plain": [
       "<matplotlib.axes._subplots.AxesSubplot at 0x17e01cba860>"
      ]
     },
     "execution_count": 114,
     "metadata": {},
     "output_type": "execute_result"
    },
    {
     "data": {
      "image/png": "[encoded data removed]",
      "text/plain": [
       "<matplotlib.figure.Figure at 0x17e01ce4cf8>"
      ]
     },
     "metadata": {},
     "output_type": "display_data"
    }
   ],
   "source": [
    "# create columns for every keyword\n",
    "pos_data = pd.DataFrame()\n",
    "for key in pos_keywords:\n",
    "    \n",
    "    pos_data[str(key)] = amazon.sentence.str.contains(str(key)  ,case=False    )\n",
    "\n",
    "pos_target = amazon['score']\n",
    "plt.title('Negative Words Correlation Matrix for Amazon')\n",
    "sns.heatmap(pos_data.corr())\n"
   ]
  },
  {
   "cell_type": "code",
   "execution_count": 130,
   "metadata": {},
   "outputs": [
    {
     "name": "stdout",
     "output_type": "stream",
     "text": [
      "The accuracy of the model is:  0.775\n",
      "The sensitivity of the model is: 0.658\n",
      "The specificity of the model is: 0.892\n"
     ]
    }
   ],
   "source": [
    "bnb = BernoulliNB()\n",
    "\n",
    "# Fit our model to the data.\n",
    "bnb.fit(pos_data, pos_target)\n",
    "\n",
    "# Classify, storing the result in a new variable.\n",
    "pos_y_pred = bnb.predict(pos_data)\n",
    "#Test the accuracy, sensitivity, and specificity\n",
    "\n",
    "from sklearn.metrics import confusion_matrix\n",
    "c = confusion_matrix(pos_target, pos_y_pred)\n",
    "\n",
    "#Accuracy\n",
    "print('The accuracy of the model is: ', (pos_data.shape[0] - (pos_target != pos_y_pred).sum())/pos_data.shape[0]) \n",
    "\n",
    "#Sensitivity\n",
    "print('The sensitivity of the model is: {}'.format((c[1][1])/(c[1][1] + c[1][0])))\n",
    "\n",
    "#Specificity\n",
    "print('The specificity of the model is: {}'.format((c[0][0])/(c[0][0] + c[0][1])))\n"
   ]
  },
  {
   "cell_type": "markdown",
   "metadata": {},
   "source": [
    "When analysed based on positive keywords and applied BernoulliNB on full dataset, the accuracy is 77%."
   ]
  },
  {
   "cell_type": "markdown",
   "metadata": {},
   "source": [
    "# Iteration :\n",
    "#1. Using holdout group and Appying BernoulliNB"
   ]
  },
  {
   "cell_type": "code",
   "execution_count": 121,
   "metadata": {},
   "outputs": [
    {
     "name": "stdout",
     "output_type": "stream",
     "text": [
      "With 20% Holdout: 0.75\n"
     ]
    }
   ],
   "source": [
    "X_train, X_test, y_train, y_test = train_test_split(pos_data, pos_target, test_size=0.2, random_state=20)\n",
    "print('With 20% Holdout: ' + str(bnb.fit(X_train, y_train).score(X_test, y_test)))"
   ]
  },
  {
   "cell_type": "markdown",
   "metadata": {},
   "source": [
    "With 20 % holdout, the accuracy is 75% which is less than the accuracy which we got when same classifier applied on full dataset."
   ]
  },
  {
   "cell_type": "markdown",
   "metadata": {},
   "source": [
    "#2. Using Cross validation and Appying BernoulliNB"
   ]
  },
  {
   "cell_type": "code",
   "execution_count": 122,
   "metadata": {},
   "outputs": [
    {
     "data": {
      "text/plain": [
       "array([ 0.88,  0.74,  0.8 ,  0.74,  0.75,  0.74,  0.75,  0.71,  0.8 ,  0.73])"
      ]
     },
     "execution_count": 122,
     "metadata": {},
     "output_type": "execute_result"
    }
   ],
   "source": [
    "cross_val_score(bnb, pos_data, pos_target, cv=10)"
   ]
  },
  {
   "cell_type": "markdown",
   "metadata": {},
   "source": [
    "The accuracy scores are fluctuating from 71% to 88% which is a high fluctuation. \n",
    "# overfitting?"
   ]
  },
  {
   "cell_type": "markdown",
   "metadata": {},
   "source": [
    "# Iteration :\n",
    "Applying MultinomialNB on full dataset"
   ]
  },
  {
   "cell_type": "code",
   "execution_count": 123,
   "metadata": {},
   "outputs": [
    {
     "data": {
      "text/plain": [
       "<matplotlib.axes._subplots.AxesSubplot at 0x17e01d496a0>"
      ]
     },
     "execution_count": 123,
     "metadata": {},
     "output_type": "execute_result"
    },
    {
     "data": {
      "image/png": "[encoded data removed]",
      "text/plain": [
       "<matplotlib.figure.Figure at 0x17e01d9dac8>"
      ]
     },
     "metadata": {},
     "output_type": "display_data"
    }
   ],
   "source": [
    "import re\n",
    "pos_data = pd.DataFrame()\n",
    "for key in pos_keywords:\n",
    "    \n",
    "    pos_data[str(key)] = amazon.sentence.str.count(str(key)  ,flags=re.IGNORECASE    )\n",
    "\n",
    "pos_target = amazon['score']\n",
    "plt.title('Negative Words Correlation Matrix for Amazon')\n",
    "sns.heatmap(pos_data.corr())"
   ]
  },
  {
   "cell_type": "code",
   "execution_count": 131,
   "metadata": {},
   "outputs": [
    {
     "name": "stdout",
     "output_type": "stream",
     "text": [
      "The accuracy of the model is:  0.712\n",
      "The sensitivity of the model is: 0.482\n",
      "The specificity of the model is: 0.942\n"
     ]
    }
   ],
   "source": [
    "multi_nb = MultinomialNB()\n",
    "# Fit our model to the data.\n",
    "multi_nb.fit(pos_data, pos_target)\n",
    "\n",
    "# Classify, storing the result in a new variable.\n",
    "pos_y_pred = multi_nb.predict(pos_data)\n",
    "#Test the accuracy, sensitivity, and specificity\n",
    "\n",
    "from sklearn.metrics import confusion_matrix\n",
    "c = confusion_matrix(pos_target, pos_y_pred)\n",
    "\n",
    "#Accuracy\n",
    "print('The accuracy of the model is: ', (pos_data.shape[0] - (pos_target != pos_y_pred).sum())/pos_data.shape[0]) \n",
    "\n",
    "#Sensitivity\n",
    "print('The sensitivity of the model is: {}'.format((c[1][1])/(c[1][1] + c[1][0])))\n",
    "\n",
    "#Specificity\n",
    "print('The specificity of the model is: {}'.format((c[0][0])/(c[0][0] + c[0][1])))\n"
   ]
  },
  {
   "cell_type": "code",
   "execution_count": null,
   "metadata": {
    "collapsed": true
   },
   "outputs": [],
   "source": [
    "When analysed based on positive keywords and applied BernoulliNB on full dataset, the accuracy was 77%.\n",
    "But with multinomialNB, the accuracy of the model reduced to 71%. "
   ]
  },
  {
   "cell_type": "markdown",
   "metadata": {},
   "source": [
    "# Iteration \n",
    "#1. applying MultinomialNB with holdout group"
   ]
  },
  {
   "cell_type": "code",
   "execution_count": 126,
   "metadata": {},
   "outputs": [
    {
     "name": "stdout",
     "output_type": "stream",
     "text": [
      "With 20% Holdout: 0.64\n"
     ]
    }
   ],
   "source": [
    "X_train, X_test, y_train, y_test = train_test_split(pos_data, pos_target, test_size=0.2, random_state=20)\n",
    "print('With 20% Holdout: ' + str(multi_nb.fit(X_train, y_train).score(X_test, y_test)))\n"
   ]
  },
  {
   "cell_type": "markdown",
   "metadata": {},
   "source": [
    "When applied BernoulliNB with holdout group, the accuracy was 75%, now when MultinomialNB is applied, the accuracy reduced to 64%"
   ]
  },
  {
   "cell_type": "markdown",
   "metadata": {},
   "source": [
    "#2. Using Cross validation and Appying MultinomialNB"
   ]
  },
  {
   "cell_type": "code",
   "execution_count": 127,
   "metadata": {},
   "outputs": [
    {
     "data": {
      "text/plain": [
       "array([ 0.77,  0.64,  0.68,  0.68,  0.66,  0.65,  0.65,  0.63,  0.69,  0.64])"
      ]
     },
     "execution_count": 127,
     "metadata": {},
     "output_type": "execute_result"
    }
   ],
   "source": [
    "cross_val_score(multi_nb, pos_data, pos_target, cv=10)"
   ]
  },
  {
   "cell_type": "markdown",
   "metadata": {},
   "source": [
    "The accuracy scores are fluctuating from 63% to 77% which is a high fluctuation. \n",
    "# overfitting?\n"
   ]
  },
  {
   "cell_type": "code",
   "execution_count": null,
   "metadata": {
    "collapsed": true
   },
   "outputs": [],
   "source": []
  }
 ],
 "metadata": {
  "kernelspec": {
   "display_name": "Python 3",
   "language": "python",
   "name": "python3"
  },
  "language_info": {
   "codemirror_mode": {
    "name": "ipython",
    "version": 3
   },
   "file_extension": ".py",
   "mimetype": "text/x-python",
   "name": "python",
   "nbconvert_exporter": "python",
   "pygments_lexer": "ipython3",
   "version": "3.6.3"
  }
 },
 "nbformat": 4,
 "nbformat_minor": 2
}
