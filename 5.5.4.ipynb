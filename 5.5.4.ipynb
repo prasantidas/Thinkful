{
 "cells": [
  {
   "cell_type": "code",
   "execution_count": 86,
   "metadata": {
    "collapsed": true
   },
   "outputs": [],
   "source": [
    "import numpy as np\n",
    "import pandas as pd\n",
    "import matplotlib.pyplot as plt\n",
    "import seaborn as sns\n",
    "\n",
    "from scipy.stats import ttest_ind, f_oneway, ttest_rel, shapiro\n",
    "from scipy.stats import kruskal, wilcoxon, mannwhitneyu, median_test\n",
    "\n",
    "from statsmodels.stats.multicomp import pairwise_tukeyhsd\n",
    "\n",
    "%matplotlib inline"
   ]
  },
  {
   "cell_type": "code",
   "execution_count": 56,
   "metadata": {
    "collapsed": true
   },
   "outputs": [],
   "source": [
    "df = pd.read_csv('ESS_data.csv')"
   ]
  },
  {
   "cell_type": "code",
   "execution_count": 3,
   "metadata": {},
   "outputs": [
    {
     "data": {
      "text/html": [
       "<div>\n",
       "<style>\n",
       "    .dataframe thead tr:only-child th {\n",
       "        text-align: right;\n",
       "    }\n",
       "\n",
       "    .dataframe thead th {\n",
       "        text-align: left;\n",
       "    }\n",
       "\n",
       "    .dataframe tbody tr th {\n",
       "        vertical-align: top;\n",
       "    }\n",
       "</style>\n",
       "<table border=\"1\" class=\"dataframe\">\n",
       "  <thead>\n",
       "    <tr style=\"text-align: right;\">\n",
       "      <th></th>\n",
       "      <th>cntry</th>\n",
       "      <th>idno</th>\n",
       "      <th>year</th>\n",
       "      <th>tvtot</th>\n",
       "      <th>ppltrst</th>\n",
       "      <th>pplfair</th>\n",
       "      <th>pplhlp</th>\n",
       "      <th>happy</th>\n",
       "      <th>sclmeet</th>\n",
       "      <th>sclact</th>\n",
       "      <th>gndr</th>\n",
       "      <th>agea</th>\n",
       "      <th>partner</th>\n",
       "    </tr>\n",
       "  </thead>\n",
       "  <tbody>\n",
       "    <tr>\n",
       "      <th>0</th>\n",
       "      <td>CH</td>\n",
       "      <td>5</td>\n",
       "      <td>6</td>\n",
       "      <td>3.0</td>\n",
       "      <td>3.0</td>\n",
       "      <td>10.0</td>\n",
       "      <td>5.0</td>\n",
       "      <td>8.0</td>\n",
       "      <td>5.0</td>\n",
       "      <td>4.0</td>\n",
       "      <td>2.0</td>\n",
       "      <td>60.0</td>\n",
       "      <td>1.0</td>\n",
       "    </tr>\n",
       "    <tr>\n",
       "      <th>1</th>\n",
       "      <td>CH</td>\n",
       "      <td>25</td>\n",
       "      <td>6</td>\n",
       "      <td>6.0</td>\n",
       "      <td>5.0</td>\n",
       "      <td>7.0</td>\n",
       "      <td>5.0</td>\n",
       "      <td>9.0</td>\n",
       "      <td>3.0</td>\n",
       "      <td>2.0</td>\n",
       "      <td>2.0</td>\n",
       "      <td>59.0</td>\n",
       "      <td>1.0</td>\n",
       "    </tr>\n",
       "    <tr>\n",
       "      <th>2</th>\n",
       "      <td>CH</td>\n",
       "      <td>26</td>\n",
       "      <td>6</td>\n",
       "      <td>1.0</td>\n",
       "      <td>8.0</td>\n",
       "      <td>8.0</td>\n",
       "      <td>8.0</td>\n",
       "      <td>7.0</td>\n",
       "      <td>6.0</td>\n",
       "      <td>3.0</td>\n",
       "      <td>1.0</td>\n",
       "      <td>24.0</td>\n",
       "      <td>2.0</td>\n",
       "    </tr>\n",
       "    <tr>\n",
       "      <th>3</th>\n",
       "      <td>CH</td>\n",
       "      <td>28</td>\n",
       "      <td>6</td>\n",
       "      <td>4.0</td>\n",
       "      <td>6.0</td>\n",
       "      <td>6.0</td>\n",
       "      <td>7.0</td>\n",
       "      <td>10.0</td>\n",
       "      <td>6.0</td>\n",
       "      <td>2.0</td>\n",
       "      <td>2.0</td>\n",
       "      <td>64.0</td>\n",
       "      <td>1.0</td>\n",
       "    </tr>\n",
       "    <tr>\n",
       "      <th>4</th>\n",
       "      <td>CH</td>\n",
       "      <td>29</td>\n",
       "      <td>6</td>\n",
       "      <td>5.0</td>\n",
       "      <td>6.0</td>\n",
       "      <td>7.0</td>\n",
       "      <td>5.0</td>\n",
       "      <td>8.0</td>\n",
       "      <td>7.0</td>\n",
       "      <td>2.0</td>\n",
       "      <td>2.0</td>\n",
       "      <td>55.0</td>\n",
       "      <td>1.0</td>\n",
       "    </tr>\n",
       "  </tbody>\n",
       "</table>\n",
       "</div>"
      ],
      "text/plain": [
       "  cntry  idno  year  tvtot  ppltrst  pplfair  pplhlp  happy  sclmeet  sclact  \\\n",
       "0    CH     5     6    3.0      3.0     10.0     5.0    8.0      5.0     4.0   \n",
       "1    CH    25     6    6.0      5.0      7.0     5.0    9.0      3.0     2.0   \n",
       "2    CH    26     6    1.0      8.0      8.0     8.0    7.0      6.0     3.0   \n",
       "3    CH    28     6    4.0      6.0      6.0     7.0   10.0      6.0     2.0   \n",
       "4    CH    29     6    5.0      6.0      7.0     5.0    8.0      7.0     2.0   \n",
       "\n",
       "   gndr  agea  partner  \n",
       "0   2.0  60.0      1.0  \n",
       "1   2.0  59.0      1.0  \n",
       "2   1.0  24.0      2.0  \n",
       "3   2.0  64.0      1.0  \n",
       "4   2.0  55.0      1.0  "
      ]
     },
     "execution_count": 3,
     "metadata": {},
     "output_type": "execute_result"
    }
   ],
   "source": [
    "df.head()"
   ]
  },
  {
   "cell_type": "code",
   "execution_count": 12,
   "metadata": {},
   "outputs": [
    {
     "data": {
      "text/plain": [
       "(8594, 13)"
      ]
     },
     "execution_count": 12,
     "metadata": {},
     "output_type": "execute_result"
    }
   ],
   "source": [
    "df.shape"
   ]
  },
  {
   "cell_type": "code",
   "execution_count": 11,
   "metadata": {},
   "outputs": [
    {
     "data": {
      "text/plain": [
       "cntry        0\n",
       "idno         0\n",
       "year         0\n",
       "tvtot        8\n",
       "ppltrst     14\n",
       "pplfair     39\n",
       "pplhlp      25\n",
       "happy       31\n",
       "sclmeet     15\n",
       "sclact      94\n",
       "gndr        10\n",
       "agea       239\n",
       "partner     17\n",
       "dtype: int64"
      ]
     },
     "execution_count": 11,
     "metadata": {},
     "output_type": "execute_result"
    }
   ],
   "source": [
    "df.isnull().sum()"
   ]
  },
  {
   "cell_type": "code",
   "execution_count": 57,
   "metadata": {
    "collapsed": true
   },
   "outputs": [],
   "source": [
    "df.dropna(how= 'any', inplace=True)"
   ]
  },
  {
   "cell_type": "markdown",
   "metadata": {},
   "source": [
    "# Question 1. \n",
    "Did people become less trusting from 2012 to 2014? Compute results for each country in the sample.\n",
    "\n",
    "\n",
    "To determine which distribution comparison test to use, I must determine if the distribution of the variables follows any known distribution or if it is a non-parametric distribution. To do this, I will plot the histograms of trust for each country in each year."
   ]
  },
  {
   "cell_type": "code",
   "execution_count": 21,
   "metadata": {},
   "outputs": [
    {
     "data": {
      "image/png": "[encoded data removed]",
      "text/plain": [
       "<matplotlib.figure.Figure at 0x2c8ec61fbe0>"
      ]
     },
     "metadata": {},
     "output_type": "display_data"
    }
   ],
   "source": [
    "g = sns.FacetGrid(data = df, row = 'year', col=\"cntry\")\n",
    "g = g.map(sns.distplot, \"ppltrst\")\n",
    "plt.show()"
   ]
  },
  {
   "cell_type": "markdown",
   "metadata": {},
   "source": [
    "Let's do the normality test using Shapiro-Wilk test statistic"
   ]
  },
  {
   "cell_type": "code",
   "execution_count": 42,
   "metadata": {},
   "outputs": [
    {
     "name": "stdout",
     "output_type": "stream",
     "text": [
      "CH\n",
      "6 (0.9517108201980591, 9.511383786695374e-15)\n",
      "7 (0.9547930955886841, 2.4654701498145852e-14)\n",
      "\n",
      "CZ\n",
      "6 (0.9680074453353882, 3.6126571179018185e-10)\n",
      "7 (0.9715777039527893, 1.8779569010973773e-09)\n",
      "\n",
      "DE\n",
      "6 (0.8929170966148376, 0.1069343090057373)\n",
      "7 (0.9425466060638428, 0.4519253373146057)\n",
      "\n",
      "ES\n",
      "6 (0.949491024017334, 1.6942651933374377e-19)\n",
      "7 (0.9663601517677307, 1.5275811452092943e-15)\n",
      "\n",
      "NO\n",
      "6 (0.9211018085479736, 8.881221102071063e-19)\n",
      "7 (0.9292042255401611, 7.92943027973029e-18)\n",
      "\n",
      "SE\n",
      "6 (0.9367397427558899, 1.2586250953636158e-18)\n",
      "7 (0.9376322627067566, 1.3852298444033788e-18)\n",
      "\n"
     ]
    }
   ],
   "source": [
    "for country in df.cntry.unique():\n",
    "    print(country)\n",
    "    for yr in df.year.unique():\n",
    "        print( yr, shapiro(df[(df.cntry == country) & (df.year == yr) ].ppltrst))\n",
    "    print()\n"
   ]
  },
  {
   "cell_type": "markdown",
   "metadata": {},
   "source": [
    "The P values are below 0.05 for all countries except Denmark. For Denmark, data is approximately normally distributed.\n",
    "But for all other counties, the data is not normally distributed. \n",
    "Since there are very few entries for Denmark, we might not be able to trust the results of parametric distribution tests. For these reasons, I will use non-parametric distribution tests to determine if trust has changed from 2012 to 2014.\n",
    "\n",
    "Since this comparison is for the same group of people and the distributions are non-parametric, I will use the Wilcoxon signed-rank test to determine if there are differences between the distributions over the years."
   ]
  },
  {
   "cell_type": "code",
   "execution_count": 41,
   "metadata": {},
   "outputs": [
    {
     "data": {
      "text/plain": [
       "cntry  year\n",
       "CH     6        732\n",
       "       7        743\n",
       "CZ     6        601\n",
       "       7        606\n",
       "DE     6         13\n",
       "       7         14\n",
       "ES     6       1158\n",
       "       7       1134\n",
       "NO     6        708\n",
       "       7        712\n",
       "SE     6        859\n",
       "       7        867\n",
       "dtype: int64"
      ]
     },
     "execution_count": 41,
     "metadata": {},
     "output_type": "execute_result"
    }
   ],
   "source": [
    "df.groupby(['cntry','year']).size()"
   ]
  },
  {
   "cell_type": "markdown",
   "metadata": {},
   "source": [
    "We have slightly different numbers of responders in 2012 and 2014, so we now need to make sure we're only inlcuding\n",
    "idnos where the person responded for both years"
   ]
  },
  {
   "cell_type": "code",
   "execution_count": 61,
   "metadata": {},
   "outputs": [
    {
     "name": "stdout",
     "output_type": "stream",
     "text": [
      "4071\n",
      "4076\n"
     ]
    }
   ],
   "source": [
    "\n",
    "df_12 = df[df['year'] == 6]\n",
    "df_14 = df[df['year'] == 7]\n",
    "\n",
    "print(len(df_12))\n",
    "print(len(df_14))"
   ]
  },
  {
   "cell_type": "code",
   "execution_count": 62,
   "metadata": {
    "collapsed": true
   },
   "outputs": [],
   "source": [
    "result = df_12.merge(df_14, on = ['cntry', 'idno'], how = 'inner')"
   ]
  },
  {
   "cell_type": "code",
   "execution_count": 64,
   "metadata": {},
   "outputs": [
    {
     "data": {
      "text/plain": [
       "(3877, 24)"
      ]
     },
     "execution_count": 64,
     "metadata": {},
     "output_type": "execute_result"
    }
   ],
   "source": [
    "result.shape"
   ]
  },
  {
   "cell_type": "code",
   "execution_count": 65,
   "metadata": {},
   "outputs": [
    {
     "data": {
      "text/html": [
       "<div>\n",
       "<style>\n",
       "    .dataframe thead tr:only-child th {\n",
       "        text-align: right;\n",
       "    }\n",
       "\n",
       "    .dataframe thead th {\n",
       "        text-align: left;\n",
       "    }\n",
       "\n",
       "    .dataframe tbody tr th {\n",
       "        vertical-align: top;\n",
       "    }\n",
       "</style>\n",
       "<table border=\"1\" class=\"dataframe\">\n",
       "  <thead>\n",
       "    <tr style=\"text-align: right;\">\n",
       "      <th></th>\n",
       "      <th>cntry</th>\n",
       "      <th>idno</th>\n",
       "      <th>year_x</th>\n",
       "      <th>tvtot_x</th>\n",
       "      <th>ppltrst_x</th>\n",
       "      <th>pplfair_x</th>\n",
       "      <th>pplhlp_x</th>\n",
       "      <th>happy_x</th>\n",
       "      <th>sclmeet_x</th>\n",
       "      <th>sclact_x</th>\n",
       "      <th>...</th>\n",
       "      <th>tvtot_y</th>\n",
       "      <th>ppltrst_y</th>\n",
       "      <th>pplfair_y</th>\n",
       "      <th>pplhlp_y</th>\n",
       "      <th>happy_y</th>\n",
       "      <th>sclmeet_y</th>\n",
       "      <th>sclact_y</th>\n",
       "      <th>gndr_y</th>\n",
       "      <th>agea_y</th>\n",
       "      <th>partner_y</th>\n",
       "    </tr>\n",
       "  </thead>\n",
       "  <tbody>\n",
       "    <tr>\n",
       "      <th>0</th>\n",
       "      <td>CH</td>\n",
       "      <td>5</td>\n",
       "      <td>6</td>\n",
       "      <td>3.0</td>\n",
       "      <td>3.0</td>\n",
       "      <td>10.0</td>\n",
       "      <td>5.0</td>\n",
       "      <td>8.0</td>\n",
       "      <td>5.0</td>\n",
       "      <td>4.0</td>\n",
       "      <td>...</td>\n",
       "      <td>2.0</td>\n",
       "      <td>8.0</td>\n",
       "      <td>9.0</td>\n",
       "      <td>7.0</td>\n",
       "      <td>9.0</td>\n",
       "      <td>6.0</td>\n",
       "      <td>4.0</td>\n",
       "      <td>1.0</td>\n",
       "      <td>69.0</td>\n",
       "      <td>1.0</td>\n",
       "    </tr>\n",
       "    <tr>\n",
       "      <th>1</th>\n",
       "      <td>CH</td>\n",
       "      <td>25</td>\n",
       "      <td>6</td>\n",
       "      <td>6.0</td>\n",
       "      <td>5.0</td>\n",
       "      <td>7.0</td>\n",
       "      <td>5.0</td>\n",
       "      <td>9.0</td>\n",
       "      <td>3.0</td>\n",
       "      <td>2.0</td>\n",
       "      <td>...</td>\n",
       "      <td>4.0</td>\n",
       "      <td>4.0</td>\n",
       "      <td>2.0</td>\n",
       "      <td>5.0</td>\n",
       "      <td>6.0</td>\n",
       "      <td>5.0</td>\n",
       "      <td>3.0</td>\n",
       "      <td>1.0</td>\n",
       "      <td>30.0</td>\n",
       "      <td>1.0</td>\n",
       "    </tr>\n",
       "    <tr>\n",
       "      <th>2</th>\n",
       "      <td>CH</td>\n",
       "      <td>26</td>\n",
       "      <td>6</td>\n",
       "      <td>1.0</td>\n",
       "      <td>8.0</td>\n",
       "      <td>8.0</td>\n",
       "      <td>8.0</td>\n",
       "      <td>7.0</td>\n",
       "      <td>6.0</td>\n",
       "      <td>3.0</td>\n",
       "      <td>...</td>\n",
       "      <td>3.0</td>\n",
       "      <td>8.0</td>\n",
       "      <td>8.0</td>\n",
       "      <td>6.0</td>\n",
       "      <td>8.0</td>\n",
       "      <td>7.0</td>\n",
       "      <td>5.0</td>\n",
       "      <td>2.0</td>\n",
       "      <td>49.0</td>\n",
       "      <td>2.0</td>\n",
       "    </tr>\n",
       "    <tr>\n",
       "      <th>3</th>\n",
       "      <td>CH</td>\n",
       "      <td>28</td>\n",
       "      <td>6</td>\n",
       "      <td>4.0</td>\n",
       "      <td>6.0</td>\n",
       "      <td>6.0</td>\n",
       "      <td>7.0</td>\n",
       "      <td>10.0</td>\n",
       "      <td>6.0</td>\n",
       "      <td>2.0</td>\n",
       "      <td>...</td>\n",
       "      <td>2.0</td>\n",
       "      <td>7.0</td>\n",
       "      <td>7.0</td>\n",
       "      <td>5.0</td>\n",
       "      <td>9.0</td>\n",
       "      <td>6.0</td>\n",
       "      <td>2.0</td>\n",
       "      <td>1.0</td>\n",
       "      <td>51.0</td>\n",
       "      <td>1.0</td>\n",
       "    </tr>\n",
       "    <tr>\n",
       "      <th>4</th>\n",
       "      <td>CH</td>\n",
       "      <td>29</td>\n",
       "      <td>6</td>\n",
       "      <td>5.0</td>\n",
       "      <td>6.0</td>\n",
       "      <td>7.0</td>\n",
       "      <td>5.0</td>\n",
       "      <td>8.0</td>\n",
       "      <td>7.0</td>\n",
       "      <td>2.0</td>\n",
       "      <td>...</td>\n",
       "      <td>2.0</td>\n",
       "      <td>4.0</td>\n",
       "      <td>7.0</td>\n",
       "      <td>0.0</td>\n",
       "      <td>8.0</td>\n",
       "      <td>6.0</td>\n",
       "      <td>2.0</td>\n",
       "      <td>2.0</td>\n",
       "      <td>32.0</td>\n",
       "      <td>2.0</td>\n",
       "    </tr>\n",
       "  </tbody>\n",
       "</table>\n",
       "<p>5 rows × 24 columns</p>\n",
       "</div>"
      ],
      "text/plain": [
       "  cntry  idno  year_x  tvtot_x  ppltrst_x  pplfair_x  pplhlp_x  happy_x  \\\n",
       "0    CH     5       6      3.0        3.0       10.0       5.0      8.0   \n",
       "1    CH    25       6      6.0        5.0        7.0       5.0      9.0   \n",
       "2    CH    26       6      1.0        8.0        8.0       8.0      7.0   \n",
       "3    CH    28       6      4.0        6.0        6.0       7.0     10.0   \n",
       "4    CH    29       6      5.0        6.0        7.0       5.0      8.0   \n",
       "\n",
       "   sclmeet_x  sclact_x    ...      tvtot_y  ppltrst_y  pplfair_y  pplhlp_y  \\\n",
       "0        5.0       4.0    ...          2.0        8.0        9.0       7.0   \n",
       "1        3.0       2.0    ...          4.0        4.0        2.0       5.0   \n",
       "2        6.0       3.0    ...          3.0        8.0        8.0       6.0   \n",
       "3        6.0       2.0    ...          2.0        7.0        7.0       5.0   \n",
       "4        7.0       2.0    ...          2.0        4.0        7.0       0.0   \n",
       "\n",
       "   happy_y  sclmeet_y  sclact_y  gndr_y  agea_y  partner_y  \n",
       "0      9.0        6.0       4.0     1.0    69.0        1.0  \n",
       "1      6.0        5.0       3.0     1.0    30.0        1.0  \n",
       "2      8.0        7.0       5.0     2.0    49.0        2.0  \n",
       "3      9.0        6.0       2.0     1.0    51.0        1.0  \n",
       "4      8.0        6.0       2.0     2.0    32.0        2.0  \n",
       "\n",
       "[5 rows x 24 columns]"
      ]
     },
     "execution_count": 65,
     "metadata": {},
     "output_type": "execute_result"
    }
   ],
   "source": [
    "result.head()"
   ]
  },
  {
   "cell_type": "markdown",
   "metadata": {},
   "source": [
    "So now the var_x data corresponds to 2012 and var_y corresponds to 2014.\n",
    "\n",
    "We have 3,877 responders who responded to all questions in both 2012 and 2014."
   ]
  },
  {
   "cell_type": "code",
   "execution_count": 70,
   "metadata": {},
   "outputs": [
    {
     "name": "stdout",
     "output_type": "stream",
     "text": [
      "Country CZ\n",
      "Avg Trust in 2012: 4.39748201438849\n",
      "Avg Trust in 2014: 4.368705035971223\n",
      "\n",
      "WilcoxonResult(statistic=61723.5, pvalue=0.83906007718038333) \n",
      "\n",
      "Country NO\n",
      "Avg Trust in 2012: 6.637155297532656\n",
      "Avg Trust in 2014: 6.5747460087082725\n",
      "\n",
      "WilcoxonResult(statistic=75026.5, pvalue=0.62214464151967219) \n",
      "\n",
      "Country CH\n",
      "Avg Trust in 2012: 5.691654879773692\n",
      "Avg Trust in 2014: 5.724186704384724\n",
      "\n",
      "WilcoxonResult(statistic=88744.5, pvalue=0.68708262982731094) \n",
      "\n",
      "Country ES\n",
      "Avg Trust in 2012: 5.121658986175115\n",
      "Avg Trust in 2014: 4.941013824884792\n",
      "\n",
      "WilcoxonResult(statistic=197976.0, pvalue=0.03498230453843465) \n",
      "\n",
      "Country SE\n",
      "Avg Trust in 2012: 6.03627569528416\n",
      "Avg Trust in 2014: 6.259975816203144\n",
      "\n",
      "WilcoxonResult(statistic=104619.5, pvalue=0.020616883287247222) \n",
      "\n"
     ]
    }
   ],
   "source": [
    "for cntry in set(result['cntry']) :\n",
    "    if cntry != 'DE':\n",
    "        trust_2012 = result[result['cntry'] == cntry]['ppltrst_x']\n",
    "        trust_2014 = result[result['cntry'] == cntry]['ppltrst_y']\n",
    "\n",
    "        print('Country',cntry)\n",
    "    \n",
    "        print('Avg Trust in 2012: {}'.format(np.mean(trust_2012)))\n",
    "        print('Avg Trust in 2014: {}\\n'.format(np.mean(trust_2014)))\n",
    "        print(stats.wilcoxon(trust_2012, trust_2014), '\\n')"
   ]
  },
  {
   "cell_type": "markdown",
   "metadata": {},
   "source": [
    "Here the Null Hypothesis is that the distributions have the same median. \n",
    "Only for countries ES and SE, the p value is < 0.05. \n",
    "so we CAN reject the null hypothesis for ES (Spain) and SE (Sweden). \n"
   ]
  },
  {
   "cell_type": "code",
   "execution_count": 73,
   "metadata": {},
   "outputs": [
    {
     "name": "stdout",
     "output_type": "stream",
     "text": [
      "Ttest_relResult(statistic=-0.1834682235710276, pvalue=0.85749416625851327)\n"
     ]
    }
   ],
   "source": [
    "print(ttest_rel(result[result['cntry'] == 'DE']['ppltrst_x'], result[result['cntry'] == 'DE']['ppltrst_y']))"
   ]
  },
  {
   "cell_type": "markdown",
   "metadata": {},
   "source": [
    "the p value is > 0.05, so we can say that for Denmark, there is no change in trust between 2012 and 2014."
   ]
  },
  {
   "cell_type": "markdown",
   "metadata": {},
   "source": [
    "From Wilcoxon and t-test rel results, We can say that \n",
    "people's trust decreased in Spain and increased in Sweden between 2012 and 2014. \n",
    "We cannot say that trust levels changed in the other countries during this time."
   ]
  },
  {
   "cell_type": "markdown",
   "metadata": {},
   "source": [
    "# Question 2. \n",
    "Did people become happier from 2012 to 2014? Compute results for each country in the sample."
   ]
  },
  {
   "cell_type": "code",
   "execution_count": 75,
   "metadata": {},
   "outputs": [
    {
     "data": {
      "text/html": [
       "<div>\n",
       "<style>\n",
       "    .dataframe thead tr:only-child th {\n",
       "        text-align: right;\n",
       "    }\n",
       "\n",
       "    .dataframe thead th {\n",
       "        text-align: left;\n",
       "    }\n",
       "\n",
       "    .dataframe tbody tr th {\n",
       "        vertical-align: top;\n",
       "    }\n",
       "</style>\n",
       "<table border=\"1\" class=\"dataframe\">\n",
       "  <thead>\n",
       "    <tr style=\"text-align: right;\">\n",
       "      <th></th>\n",
       "      <th>cntry</th>\n",
       "      <th>idno</th>\n",
       "      <th>year</th>\n",
       "      <th>tvtot</th>\n",
       "      <th>ppltrst</th>\n",
       "      <th>pplfair</th>\n",
       "      <th>pplhlp</th>\n",
       "      <th>happy</th>\n",
       "      <th>sclmeet</th>\n",
       "      <th>sclact</th>\n",
       "      <th>gndr</th>\n",
       "      <th>agea</th>\n",
       "      <th>partner</th>\n",
       "    </tr>\n",
       "  </thead>\n",
       "  <tbody>\n",
       "    <tr>\n",
       "      <th>0</th>\n",
       "      <td>CH</td>\n",
       "      <td>5</td>\n",
       "      <td>6</td>\n",
       "      <td>3.0</td>\n",
       "      <td>3.0</td>\n",
       "      <td>10.0</td>\n",
       "      <td>5.0</td>\n",
       "      <td>8.0</td>\n",
       "      <td>5.0</td>\n",
       "      <td>4.0</td>\n",
       "      <td>2.0</td>\n",
       "      <td>60.0</td>\n",
       "      <td>1.0</td>\n",
       "    </tr>\n",
       "    <tr>\n",
       "      <th>1</th>\n",
       "      <td>CH</td>\n",
       "      <td>25</td>\n",
       "      <td>6</td>\n",
       "      <td>6.0</td>\n",
       "      <td>5.0</td>\n",
       "      <td>7.0</td>\n",
       "      <td>5.0</td>\n",
       "      <td>9.0</td>\n",
       "      <td>3.0</td>\n",
       "      <td>2.0</td>\n",
       "      <td>2.0</td>\n",
       "      <td>59.0</td>\n",
       "      <td>1.0</td>\n",
       "    </tr>\n",
       "    <tr>\n",
       "      <th>2</th>\n",
       "      <td>CH</td>\n",
       "      <td>26</td>\n",
       "      <td>6</td>\n",
       "      <td>1.0</td>\n",
       "      <td>8.0</td>\n",
       "      <td>8.0</td>\n",
       "      <td>8.0</td>\n",
       "      <td>7.0</td>\n",
       "      <td>6.0</td>\n",
       "      <td>3.0</td>\n",
       "      <td>1.0</td>\n",
       "      <td>24.0</td>\n",
       "      <td>2.0</td>\n",
       "    </tr>\n",
       "    <tr>\n",
       "      <th>3</th>\n",
       "      <td>CH</td>\n",
       "      <td>28</td>\n",
       "      <td>6</td>\n",
       "      <td>4.0</td>\n",
       "      <td>6.0</td>\n",
       "      <td>6.0</td>\n",
       "      <td>7.0</td>\n",
       "      <td>10.0</td>\n",
       "      <td>6.0</td>\n",
       "      <td>2.0</td>\n",
       "      <td>2.0</td>\n",
       "      <td>64.0</td>\n",
       "      <td>1.0</td>\n",
       "    </tr>\n",
       "    <tr>\n",
       "      <th>4</th>\n",
       "      <td>CH</td>\n",
       "      <td>29</td>\n",
       "      <td>6</td>\n",
       "      <td>5.0</td>\n",
       "      <td>6.0</td>\n",
       "      <td>7.0</td>\n",
       "      <td>5.0</td>\n",
       "      <td>8.0</td>\n",
       "      <td>7.0</td>\n",
       "      <td>2.0</td>\n",
       "      <td>2.0</td>\n",
       "      <td>55.0</td>\n",
       "      <td>1.0</td>\n",
       "    </tr>\n",
       "  </tbody>\n",
       "</table>\n",
       "</div>"
      ],
      "text/plain": [
       "  cntry  idno  year  tvtot  ppltrst  pplfair  pplhlp  happy  sclmeet  sclact  \\\n",
       "0    CH     5     6    3.0      3.0     10.0     5.0    8.0      5.0     4.0   \n",
       "1    CH    25     6    6.0      5.0      7.0     5.0    9.0      3.0     2.0   \n",
       "2    CH    26     6    1.0      8.0      8.0     8.0    7.0      6.0     3.0   \n",
       "3    CH    28     6    4.0      6.0      6.0     7.0   10.0      6.0     2.0   \n",
       "4    CH    29     6    5.0      6.0      7.0     5.0    8.0      7.0     2.0   \n",
       "\n",
       "   gndr  agea  partner  \n",
       "0   2.0  60.0      1.0  \n",
       "1   2.0  59.0      1.0  \n",
       "2   1.0  24.0      2.0  \n",
       "3   2.0  64.0      1.0  \n",
       "4   2.0  55.0      1.0  "
      ]
     },
     "execution_count": 75,
     "metadata": {},
     "output_type": "execute_result"
    }
   ],
   "source": [
    "df.head()"
   ]
  },
  {
   "cell_type": "code",
   "execution_count": 76,
   "metadata": {},
   "outputs": [
    {
     "data": {
      "image/png": "[encoded data removed]",
      "text/plain": [
       "<matplotlib.figure.Figure at 0x2c8ee0052b0>"
      ]
     },
     "metadata": {},
     "output_type": "display_data"
    }
   ],
   "source": [
    "g = sns.FacetGrid(data = df, row = 'year', col=\"cntry\")\n",
    "g = g.map(sns.distplot, \"happy\")\n",
    "plt.show()"
   ]
  },
  {
   "cell_type": "code",
   "execution_count": 77,
   "metadata": {},
   "outputs": [
    {
     "name": "stdout",
     "output_type": "stream",
     "text": [
      "CH\n",
      "6 (0.8773602843284607, 1.4611401593361174e-23)\n",
      "7 (0.8950787782669067, 4.273768685964887e-22)\n",
      "\n",
      "CZ\n",
      "6 (0.9462587833404541, 5.939277796787254e-14)\n",
      "7 (0.944864809513092, 3.1645106863707403e-14)\n",
      "\n",
      "DE\n",
      "6 (0.9160984754562378, 0.22211012244224548)\n",
      "7 (0.9213663339614868, 0.23006466031074524)\n",
      "\n",
      "ES\n",
      "6 (0.9052610397338867, 3.4151276945678624e-26)\n",
      "7 (0.9136462211608887, 6.898763644671094e-25)\n",
      "\n",
      "NO\n",
      "6 (0.8498518466949463, 2.291937245544563e-25)\n",
      "7 (0.8795286417007446, 4.680781911775775e-23)\n",
      "\n",
      "SE\n",
      "6 (0.9025380611419678, 5.918160728712866e-23)\n",
      "7 (0.9121034145355225, 5.600535793318595e-22)\n",
      "\n"
     ]
    }
   ],
   "source": [
    "for country in df.cntry.unique():\n",
    "    print(country)\n",
    "    for yr in df.year.unique():\n",
    "        print( yr, shapiro(df[(df.cntry == country) & (df.year == yr) ].happy))\n",
    "    print()\n"
   ]
  },
  {
   "cell_type": "markdown",
   "metadata": {},
   "source": [
    "For the same reasons as above question, we will do wilcoxon test on all countries except denmark."
   ]
  },
  {
   "cell_type": "code",
   "execution_count": 78,
   "metadata": {},
   "outputs": [
    {
     "name": "stdout",
     "output_type": "stream",
     "text": [
      "Country CZ\n",
      "Avg happy in 2012: 6.780575539568345\n",
      "Avg happy in 2014: 6.9352517985611515\n",
      "\n",
      "WilcoxonResult(statistic=55932.0, pvalue=0.22849644123659796) \n",
      "\n",
      "Country NO\n",
      "Avg happy in 2012: 8.253991291727141\n",
      "Avg happy in 2014: 7.90566037735849\n",
      "\n",
      "WilcoxonResult(statistic=60547.0, pvalue=1.4306917852645772e-05) \n",
      "\n",
      "Country CH\n",
      "Avg happy in 2012: 8.074964639321076\n",
      "Avg happy in 2014: 8.123055162659123\n",
      "\n",
      "WilcoxonResult(statistic=75726.5, pvalue=0.75756074356396752) \n",
      "\n",
      "Country ES\n",
      "Avg happy in 2012: 7.545622119815668\n",
      "Avg happy in 2014: 7.450691244239631\n",
      "\n",
      "WilcoxonResult(statistic=190064.5, pvalue=0.15739932727037309) \n",
      "\n",
      "Country SE\n",
      "Avg happy in 2012: 7.894800483675938\n",
      "Avg happy in 2014: 7.94074969770254\n",
      "\n",
      "WilcoxonResult(statistic=103562.0, pvalue=0.58959412298418135) \n",
      "\n",
      "Ttest_relResult(statistic=-1.144805749801318, pvalue=0.27461012937559681)\n"
     ]
    }
   ],
   "source": [
    "for cntry in set(result['cntry']) :\n",
    "    if cntry != 'DE':\n",
    "        happy_2012 = result[result['cntry'] == cntry]['happy_x']\n",
    "        happy_2014 = result[result['cntry'] == cntry]['happy_y']\n",
    "\n",
    "        print('Country',cntry)\n",
    "    \n",
    "        print('Avg happy in 2012: {}'.format(np.mean(happy_2012)))\n",
    "        print('Avg happy in 2014: {}\\n'.format(np.mean(happy_2014)))\n",
    "        print(stats.wilcoxon(happy_2012, happy_2014), '\\n')\n",
    "        \n",
    "print(ttest_rel(result[result['cntry'] == 'DE']['happy_x'], result[result['cntry'] == 'DE']['happy_y']))        "
   ]
  },
  {
   "cell_type": "markdown",
   "metadata": {},
   "source": [
    "From these results we can conclude that people in Norway (NO) became less happy from 2012 to 2014. We cannot claim that happiness levels changed significantly in other countries during this time."
   ]
  },
  {
   "cell_type": "markdown",
   "metadata": {},
   "source": [
    "# Question 3 \n",
    "Who reported watching more TV in 2012, men or women?"
   ]
  },
  {
   "cell_type": "code",
   "execution_count": 83,
   "metadata": {},
   "outputs": [
    {
     "data": {
      "image/png": "[encoded data removed]",
      "text/plain": [
       "<matplotlib.figure.Figure at 0x2c8ec4a5cc0>"
      ]
     },
     "metadata": {},
     "output_type": "display_data"
    }
   ],
   "source": [
    "g = sns.FacetGrid(data = df[df.year==6], col=\"gndr\")\n",
    "g = g.map(sns.distplot, \"tvtot\")\n",
    "plt.show()"
   ]
  },
  {
   "cell_type": "code",
   "execution_count": 89,
   "metadata": {},
   "outputs": [
    {
     "name": "stdout",
     "output_type": "stream",
     "text": [
      "(0.9443334937095642, 3.718612884828085e-27)\n",
      "(0.9407297372817993, 1.0867231118970029e-27)\n"
     ]
    }
   ],
   "source": [
    "tv_tot_male = df[(df.year == 6) & (df.gndr == 1.0)].tvtot\n",
    "tv_tot_female = df[(df.year == 6) & (df.gndr == 2.0)].tvtot\n",
    "print(shapiro(tv_tot_male))\n",
    "print(shapiro(tv_tot_female))"
   ]
  },
  {
   "cell_type": "markdown",
   "metadata": {},
   "source": [
    "For year 2012, p value is < 0.05 for both groups, so we reject the null hypothesis that the data is normally distributed.\n",
    "\n",
    "This tells us we have to use non-parametric tests. \n",
    "\n",
    "In this case, we have two independent samples, so we can use any of scipy.stats.mannwhitneyu , scipy.stats.median_test or scipy.stats.kruskal\n"
   ]
  },
  {
   "cell_type": "code",
   "execution_count": 90,
   "metadata": {},
   "outputs": [
    {
     "name": "stdout",
     "output_type": "stream",
     "text": [
      "3.8592303945445687\n",
      "3.9053518334985133\n"
     ]
    }
   ],
   "source": [
    "print(tv_tot_male.mean())\n",
    "print(tv_tot_female.mean())"
   ]
  },
  {
   "cell_type": "code",
   "execution_count": 91,
   "metadata": {},
   "outputs": [
    {
     "data": {
      "text/plain": [
       "MannwhitneyuResult(statistic=2042391.5, pvalue=0.21654019333228419)"
      ]
     },
     "execution_count": 91,
     "metadata": {},
     "output_type": "execute_result"
    }
   ],
   "source": [
    "mannwhitneyu(tv_tot_male , tv_tot_female)"
   ]
  },
  {
   "cell_type": "markdown",
   "metadata": {},
   "source": [
    "The p value is > 0.05. So we accept the null hypothesis.\n",
    "Men and women did not watch measurably different amounts of TV in 2012."
   ]
  },
  {
   "cell_type": "markdown",
   "metadata": {},
   "source": [
    "# Question 4\n",
    "Who was more likely to believe people were fair in 2012, people with a partner or people living alone?"
   ]
  },
  {
   "cell_type": "code",
   "execution_count": 92,
   "metadata": {},
   "outputs": [
    {
     "data": {
      "image/png": "[encoded data removed]",
      "text/plain": [
       "<matplotlib.figure.Figure at 0x2c8eb6f0b00>"
      ]
     },
     "metadata": {},
     "output_type": "display_data"
    }
   ],
   "source": [
    "g = sns.FacetGrid(data = df[df.year==6], col=\"partner\")\n",
    "g = g.map(sns.distplot, \"pplfair\")\n",
    "plt.show()"
   ]
  },
  {
   "cell_type": "code",
   "execution_count": 93,
   "metadata": {},
   "outputs": [
    {
     "name": "stdout",
     "output_type": "stream",
     "text": [
      "(0.9396088123321533, 5.344745707680362e-31)\n",
      "(0.9547916650772095, 2.436869843664993e-21)\n"
     ]
    }
   ],
   "source": [
    "with_part_fair = df[(df.year == 6) & (df.partner == 1.0)].pplfair\n",
    "single_fair = df[(df.year == 6) & (df.partner == 2.0)].pplfair\n",
    "print(shapiro(with_part_fair))\n",
    "print(shapiro(single_fair))"
   ]
  },
  {
   "cell_type": "markdown",
   "metadata": {},
   "source": [
    "For 2012, p < 0.05 for both groups, so we reject the null hypothesis that the data is normally distributed. This tells us we have to use non-parametric tests. \n",
    "In this case, we have independent samples, so we can use the same tests we used for question 3."
   ]
  },
  {
   "cell_type": "code",
   "execution_count": 95,
   "metadata": {},
   "outputs": [
    {
     "name": "stdout",
     "output_type": "stream",
     "text": [
      "Avg Fairness with Partner 6.0743509047993705\n",
      "Avg Fairness without Partner 5.86592544146501\n",
      "MannwhitneyuResult(statistic=1819821.5, pvalue=0.00028258143613772957)\n"
     ]
    }
   ],
   "source": [
    "print('Avg Fairness with Partner',with_part_fair.mean())\n",
    "print('Avg Fairness without Partner',single_fair.mean())\n",
    "print(mannwhitneyu(with_part_fair, single_fair))"
   ]
  },
  {
   "cell_type": "markdown",
   "metadata": {},
   "source": [
    "The Mann-Whitney U test suggests that people living with a partner are more likely to think people are fair to them in 2012. "
   ]
  },
  {
   "cell_type": "markdown",
   "metadata": {},
   "source": [
    "\n",
    "# Question 5\n",
    "Pick three or four of the countries in the sample and compare how often people met socially in 2014. \n",
    "Are there differences, and if so, which countries stand out?\n"
   ]
  },
  {
   "cell_type": "code",
   "execution_count": 96,
   "metadata": {},
   "outputs": [
    {
     "data": {
      "image/png": "[encoded data removed]",
      "text/plain": [
       "<matplotlib.figure.Figure at 0x2c8ee0db940>"
      ]
     },
     "metadata": {},
     "output_type": "display_data"
    }
   ],
   "source": [
    "g = sns.FacetGrid(data = df[df.year== 7 ], col=\"cntry\")\n",
    "g = g.map(sns.distplot, \"sclmeet\")\n",
    "plt.show()"
   ]
  },
  {
   "cell_type": "code",
   "execution_count": 97,
   "metadata": {},
   "outputs": [
    {
     "name": "stdout",
     "output_type": "stream",
     "text": [
      "(0.9442529678344727, 2.5792776660142624e-14)\n",
      "(0.887718915939331, 2.5375396023327397e-22)\n",
      "(0.8927679657936096, 2.280180298346974e-27)\n"
     ]
    }
   ],
   "source": [
    "cz_meet = df[((df['year'] == 7) & (df['cntry'] == 'CZ'))]['sclmeet']\n",
    "No_meet = df[((df['year'] == 7) & (df['cntry'] == 'NO'))]['sclmeet']\n",
    "es_meet = df[((df['year'] == 7) & (df['cntry'] == 'ES'))]['sclmeet']\n",
    "print(shapiro(cz_meet))\n",
    "print(shapiro(No_meet))\n",
    "print(shapiro(es_meet))"
   ]
  },
  {
   "cell_type": "markdown",
   "metadata": {},
   "source": [
    "Once again, it appears that we cannot assume a normal distribution and need to use non-parametric tests. Because we have more than two groups, and the samples are independent, we can use the Kruskal–Wallis and Median tests to see if any one of the 3 countries has a different median"
   ]
  },
  {
   "cell_type": "code",
   "execution_count": 98,
   "metadata": {},
   "outputs": [
    {
     "data": {
      "text/plain": [
       "KruskalResult(statistic=137.99764626257269, pvalue=1.0819117969111045e-30)"
      ]
     },
     "execution_count": 98,
     "metadata": {},
     "output_type": "execute_result"
    }
   ],
   "source": [
    "kruskal(cz_meet,No_meet, es_meet )"
   ]
  },
  {
   "cell_type": "markdown",
   "metadata": {},
   "source": [
    "The p-value < 0.05, which means we reject the null hypothesis that the medians of all groups are equal"
   ]
  },
  {
   "cell_type": "markdown",
   "metadata": {},
   "source": [
    "To compare two countries , in non parametric test, we can use either kruskal or mannwhitneyu"
   ]
  },
  {
   "cell_type": "code",
   "execution_count": 100,
   "metadata": {},
   "outputs": [
    {
     "name": "stdout",
     "output_type": "stream",
     "text": [
      "Compare CZ with NO :\n",
      " MannwhitneyuResult(statistic=147801.0, pvalue=2.4170120935752383e-24)\n",
      "Compare NO with ES : \n",
      " MannwhitneyuResult(statistic=400483.5, pvalue=0.38301876951707503)\n",
      "Compare CZ with ES :\n",
      " MannwhitneyuResult(statistic=238281.0, pvalue=2.119303290451085e-27)\n"
     ]
    }
   ],
   "source": [
    "print('Compare CZ with NO :\\n',mannwhitneyu(cz_meet,No_meet))\n",
    "print('Compare NO with ES : \\n', mannwhitneyu(No_meet, es_meet))\n",
    "print('Compare CZ with ES :\\n',mannwhitneyu(cz_meet,es_meet ))"
   ]
  },
  {
   "cell_type": "markdown",
   "metadata": {},
   "source": [
    "When Compared CZ with NO, the p value is < 0.05, So we can reject null hypothesis. Same when Compared CZ with ES.\n",
    "\n",
    "The above results show that A (CZ) is different than both NO and ES with respect to the median Social Meet score. There is no significant difference between the medians of NO and ES, though.\n",
    "    "
   ]
  },
  {
   "cell_type": "markdown",
   "metadata": {},
   "source": [
    "# Question 6\n",
    "\n",
    "Pick three or four of the countries in the sample and compare how often people took part in social activities, relative to others their age, in 2014. Are there differences, and if so, which countries stand out?\n"
   ]
  },
  {
   "cell_type": "code",
   "execution_count": 146,
   "metadata": {},
   "outputs": [],
   "source": [
    "age_sclact = df.loc[(df.year == 7) & (df.cntry.isin (['CZ','NO','ES'])), ['cntry','agea','sclact']].sort_values(by = 'agea')"
   ]
  },
  {
   "cell_type": "code",
   "execution_count": 147,
   "metadata": {},
   "outputs": [
    {
     "data": {
      "text/plain": [
       "ES    1134\n",
       "NO     712\n",
       "CZ     606\n",
       "Name: cntry, dtype: int64"
      ]
     },
     "execution_count": 147,
     "metadata": {},
     "output_type": "execute_result"
    }
   ],
   "source": [
    "age_sclact.cntry.value_counts()"
   ]
  },
  {
   "cell_type": "code",
   "execution_count": 148,
   "metadata": {},
   "outputs": [
    {
     "data": {
      "text/plain": [
       "cntry  agea\n",
       "CZ     15.0    4.000000\n",
       "       16.0    2.400000\n",
       "       17.0    2.750000\n",
       "       18.0    2.571429\n",
       "       19.0    3.625000\n",
       "       20.0    3.307692\n",
       "       21.0    3.000000\n",
       "       22.0    3.166667\n",
       "       23.0    2.555556\n",
       "       24.0    2.866667\n",
       "       25.0    2.714286\n",
       "       26.0    3.000000\n",
       "       27.0    3.000000\n",
       "       28.0    3.000000\n",
       "       29.0    3.000000\n",
       "       30.0    2.800000\n",
       "       31.0    2.666667\n",
       "       32.0    2.250000\n",
       "       33.0    2.222222\n",
       "       34.0    2.700000\n",
       "       35.0    2.687500\n",
       "       36.0    2.692308\n",
       "       37.0    2.800000\n",
       "       38.0    2.500000\n",
       "       39.0    2.615385\n",
       "       40.0    2.473684\n",
       "       41.0    2.933333\n",
       "       42.0    2.384615\n",
       "       43.0    2.315789\n",
       "       44.0    3.000000\n",
       "                 ...   \n",
       "NO     61.0    2.800000\n",
       "       62.0    2.727273\n",
       "       63.0    3.000000\n",
       "       64.0    2.900000\n",
       "       65.0    3.083333\n",
       "       67.0    2.937500\n",
       "       68.0    2.636364\n",
       "       69.0    3.272727\n",
       "       70.0    2.777778\n",
       "       71.0    2.833333\n",
       "       72.0    2.833333\n",
       "       73.0    3.142857\n",
       "       74.0    3.222222\n",
       "       75.0    3.000000\n",
       "       76.0    3.000000\n",
       "       78.0    2.400000\n",
       "       79.0    4.000000\n",
       "       80.0    3.333333\n",
       "       81.0    3.000000\n",
       "       82.0    2.833333\n",
       "       83.0    3.500000\n",
       "       84.0    2.250000\n",
       "       85.0    3.000000\n",
       "       86.0    3.500000\n",
       "       87.0    3.000000\n",
       "       89.0    3.000000\n",
       "       91.0    1.000000\n",
       "       92.0    3.000000\n",
       "       93.0    3.000000\n",
       "       94.0    3.000000\n",
       "Name: sclact, Length: 214, dtype: float64"
      ]
     },
     "execution_count": 148,
     "metadata": {},
     "output_type": "execute_result"
    }
   ],
   "source": [
    "age_sclact.groupby(['cntry','agea']).sclact.mean()"
   ]
  },
  {
   "cell_type": "code",
   "execution_count": 166,
   "metadata": {
    "collapsed": true
   },
   "outputs": [],
   "source": [
    "age_bins = [0,20,39,59,79,200]\n",
    "age_labels = ['<= 20', '20-39','40-59','60-79','80-200']\n",
    "age_bin_df = pd.cut(age_sclact.agea ,age_bins, labels = age_labels )"
   ]
  },
  {
   "cell_type": "code",
   "execution_count": 167,
   "metadata": {},
   "outputs": [],
   "source": [
    "age_sclact['age_bucket'] = age_bin_df"
   ]
  },
  {
   "cell_type": "code",
   "execution_count": 168,
   "metadata": {},
   "outputs": [
    {
     "data": {
      "text/html": [
       "<div>\n",
       "<style>\n",
       "    .dataframe thead tr:only-child th {\n",
       "        text-align: right;\n",
       "    }\n",
       "\n",
       "    .dataframe thead th {\n",
       "        text-align: left;\n",
       "    }\n",
       "\n",
       "    .dataframe tbody tr th {\n",
       "        vertical-align: top;\n",
       "    }\n",
       "</style>\n",
       "<table border=\"1\" class=\"dataframe\">\n",
       "  <thead>\n",
       "    <tr style=\"text-align: right;\">\n",
       "      <th></th>\n",
       "      <th>cntry</th>\n",
       "      <th>agea</th>\n",
       "      <th>sclact</th>\n",
       "      <th>age_bucket</th>\n",
       "    </tr>\n",
       "  </thead>\n",
       "  <tbody>\n",
       "    <tr>\n",
       "      <th>4160</th>\n",
       "      <td>ES</td>\n",
       "      <td>38.0</td>\n",
       "      <td>3.0</td>\n",
       "      <td>20-39</td>\n",
       "    </tr>\n",
       "    <tr>\n",
       "      <th>2852</th>\n",
       "      <td>CZ</td>\n",
       "      <td>73.0</td>\n",
       "      <td>3.0</td>\n",
       "      <td>60-79</td>\n",
       "    </tr>\n",
       "    <tr>\n",
       "      <th>2641</th>\n",
       "      <td>CZ</td>\n",
       "      <td>65.0</td>\n",
       "      <td>4.0</td>\n",
       "      <td>60-79</td>\n",
       "    </tr>\n",
       "    <tr>\n",
       "      <th>6249</th>\n",
       "      <td>NO</td>\n",
       "      <td>18.0</td>\n",
       "      <td>2.0</td>\n",
       "      <td>&lt;= 20</td>\n",
       "    </tr>\n",
       "    <tr>\n",
       "      <th>4972</th>\n",
       "      <td>ES</td>\n",
       "      <td>49.0</td>\n",
       "      <td>3.0</td>\n",
       "      <td>40-59</td>\n",
       "    </tr>\n",
       "    <tr>\n",
       "      <th>6596</th>\n",
       "      <td>NO</td>\n",
       "      <td>55.0</td>\n",
       "      <td>3.0</td>\n",
       "      <td>40-59</td>\n",
       "    </tr>\n",
       "    <tr>\n",
       "      <th>5035</th>\n",
       "      <td>ES</td>\n",
       "      <td>27.0</td>\n",
       "      <td>3.0</td>\n",
       "      <td>20-39</td>\n",
       "    </tr>\n",
       "    <tr>\n",
       "      <th>4744</th>\n",
       "      <td>ES</td>\n",
       "      <td>89.0</td>\n",
       "      <td>2.0</td>\n",
       "      <td>80-200</td>\n",
       "    </tr>\n",
       "    <tr>\n",
       "      <th>6409</th>\n",
       "      <td>NO</td>\n",
       "      <td>44.0</td>\n",
       "      <td>3.0</td>\n",
       "      <td>40-59</td>\n",
       "    </tr>\n",
       "    <tr>\n",
       "      <th>6395</th>\n",
       "      <td>NO</td>\n",
       "      <td>42.0</td>\n",
       "      <td>3.0</td>\n",
       "      <td>40-59</td>\n",
       "    </tr>\n",
       "    <tr>\n",
       "      <th>2616</th>\n",
       "      <td>CZ</td>\n",
       "      <td>27.0</td>\n",
       "      <td>2.0</td>\n",
       "      <td>20-39</td>\n",
       "    </tr>\n",
       "    <tr>\n",
       "      <th>6725</th>\n",
       "      <td>NO</td>\n",
       "      <td>44.0</td>\n",
       "      <td>3.0</td>\n",
       "      <td>40-59</td>\n",
       "    </tr>\n",
       "    <tr>\n",
       "      <th>2686</th>\n",
       "      <td>CZ</td>\n",
       "      <td>57.0</td>\n",
       "      <td>3.0</td>\n",
       "      <td>40-59</td>\n",
       "    </tr>\n",
       "    <tr>\n",
       "      <th>4759</th>\n",
       "      <td>ES</td>\n",
       "      <td>65.0</td>\n",
       "      <td>3.0</td>\n",
       "      <td>60-79</td>\n",
       "    </tr>\n",
       "    <tr>\n",
       "      <th>2649</th>\n",
       "      <td>CZ</td>\n",
       "      <td>69.0</td>\n",
       "      <td>3.0</td>\n",
       "      <td>60-79</td>\n",
       "    </tr>\n",
       "    <tr>\n",
       "      <th>6330</th>\n",
       "      <td>NO</td>\n",
       "      <td>46.0</td>\n",
       "      <td>3.0</td>\n",
       "      <td>40-59</td>\n",
       "    </tr>\n",
       "    <tr>\n",
       "      <th>2558</th>\n",
       "      <td>CZ</td>\n",
       "      <td>40.0</td>\n",
       "      <td>3.0</td>\n",
       "      <td>40-59</td>\n",
       "    </tr>\n",
       "    <tr>\n",
       "      <th>6369</th>\n",
       "      <td>NO</td>\n",
       "      <td>46.0</td>\n",
       "      <td>3.0</td>\n",
       "      <td>40-59</td>\n",
       "    </tr>\n",
       "    <tr>\n",
       "      <th>4315</th>\n",
       "      <td>ES</td>\n",
       "      <td>63.0</td>\n",
       "      <td>2.0</td>\n",
       "      <td>60-79</td>\n",
       "    </tr>\n",
       "    <tr>\n",
       "      <th>2239</th>\n",
       "      <td>CZ</td>\n",
       "      <td>62.0</td>\n",
       "      <td>3.0</td>\n",
       "      <td>60-79</td>\n",
       "    </tr>\n",
       "  </tbody>\n",
       "</table>\n",
       "</div>"
      ],
      "text/plain": [
       "     cntry  agea  sclact age_bucket\n",
       "4160    ES  38.0     3.0      20-39\n",
       "2852    CZ  73.0     3.0      60-79\n",
       "2641    CZ  65.0     4.0      60-79\n",
       "6249    NO  18.0     2.0      <= 20\n",
       "4972    ES  49.0     3.0      40-59\n",
       "6596    NO  55.0     3.0      40-59\n",
       "5035    ES  27.0     3.0      20-39\n",
       "4744    ES  89.0     2.0     80-200\n",
       "6409    NO  44.0     3.0      40-59\n",
       "6395    NO  42.0     3.0      40-59\n",
       "2616    CZ  27.0     2.0      20-39\n",
       "6725    NO  44.0     3.0      40-59\n",
       "2686    CZ  57.0     3.0      40-59\n",
       "4759    ES  65.0     3.0      60-79\n",
       "2649    CZ  69.0     3.0      60-79\n",
       "6330    NO  46.0     3.0      40-59\n",
       "2558    CZ  40.0     3.0      40-59\n",
       "6369    NO  46.0     3.0      40-59\n",
       "4315    ES  63.0     2.0      60-79\n",
       "2239    CZ  62.0     3.0      60-79"
      ]
     },
     "execution_count": 168,
     "metadata": {},
     "output_type": "execute_result"
    }
   ],
   "source": [
    "age_sclact.sample(20)"
   ]
  },
  {
   "cell_type": "code",
   "execution_count": 169,
   "metadata": {},
   "outputs": [
    {
     "name": "stdout",
     "output_type": "stream",
     "text": [
      "Group: <= 20\n",
      "\n",
      "CZ  (0.8572293519973755, 4.76399072795175e-05)\n",
      "NO  (0.8225530982017517, 8.551379693244598e-08)\n",
      "ES  (0.8558431267738342, 2.2334506866172887e-07)\n",
      "\n",
      "\n",
      "Group: 20-39\n",
      "\n",
      "CZ  (0.8130676746368408, 1.2970401391376035e-13)\n",
      "NO  (0.8680525422096252, 1.357791743622494e-11)\n",
      "ES  (0.868541419506073, 7.695431968659247e-16)\n",
      "\n",
      "\n",
      "Group: 40-59\n",
      "\n",
      "CZ  (0.8354586362838745, 5.487512477907641e-16)\n",
      "NO  (0.8420251607894897, 8.776898754120712e-16)\n",
      "ES  (0.8964386582374573, 1.6883361136671194e-16)\n",
      "\n",
      "\n",
      "Group: 60-79\n",
      "\n",
      "CZ  (0.8878298401832581, 4.913890450097824e-08)\n",
      "NO  (0.8809428215026855, 3.9390801731542524e-10)\n",
      "ES  (0.9008080959320068, 1.606724475688992e-11)\n",
      "\n",
      "\n",
      "Group: 80-200\n",
      "\n",
      "CZ  (0.8810377717018127, 0.31404030323028564)\n",
      "NO  (0.9132986664772034, 0.023761596530675888)\n",
      "ES  (0.8353597521781921, 8.35388277664606e-07)\n",
      "\n",
      "\n"
     ]
    }
   ],
   "source": [
    "for grp in age_sclact['age_bucket'].unique():\n",
    "    cz_sclact = age_sclact[(age_sclact['cntry'] == 'CZ') & (age_sclact['age_bucket'] == grp)]['sclact']\n",
    "    no_sclact = age_sclact[(age_sclact['cntry'] == 'NO') & (age_sclact['age_bucket'] == grp)]['sclact']\n",
    "    es_sclact = age_sclact[(age_sclact['cntry'] == 'ES') & (age_sclact['age_bucket'] == grp)]['sclact']\n",
    "    print('Group: {}\\n'.format(grp))\n",
    "    print('CZ ',shapiro(cz_sclact))\n",
    "    print('NO ',shapiro(no_sclact))\n",
    "    print('ES ',shapiro(es_sclact))\n",
    "    print('\\n')"
   ]
  },
  {
   "cell_type": "markdown",
   "metadata": {},
   "source": [
    "Once again, it appears that we cannot assume a normal distribution and need to use non-parametric tests. Because we have more than two groups, and the samples are independent, we can use the Kruskal–Wallis"
   ]
  },
  {
   "cell_type": "code",
   "execution_count": 196,
   "metadata": {},
   "outputs": [
    {
     "name": "stdout",
     "output_type": "stream",
     "text": [
      "Group \t\t CZ avg \t NO avg \t ES avg \t Kruskal p value\n",
      "----------------------------------------------------------------------------------------------------\n",
      "<= 20             3.021739        2.985915        2.691358 \t 0.041011111104415326 \n",
      "20-39             2.768786        2.858696        2.705329 \t  0.23400379352020742 \n",
      "40-59             2.652672        2.804511        2.682135 \t  0.08933111373973088 \n",
      "60-79             2.725000        2.895706        2.589212 \t  0.00995955511407214 \n",
      "80-200            2.800000        2.892857        1.983871 \t 0.00036270204364256093 \n"
     ]
    }
   ],
   "source": [
    "print('Group','\\t\\t' ,'CZ avg','\\t' ,'NO avg','\\t' , 'ES avg' ,'\\t', 'Kruskal p value')\n",
    "print('-'*100)\n",
    "for grp in age_sclact['age_bucket'].unique():\n",
    "    cz_sclact = age_sclact[(age_sclact['cntry'] == 'CZ') & (age_sclact['age_bucket'] == grp)]['sclact']\n",
    "    no_sclact = age_sclact[(age_sclact['cntry'] == 'NO') & (age_sclact['age_bucket'] == grp)]['sclact']\n",
    "    es_sclact = age_sclact[(age_sclact['cntry'] == 'ES') & (age_sclact['age_bucket'] == grp)]['sclact']\n",
    "    h, p = kruskal(cz_sclact, no_sclact, es_sclact)\n",
    "\n",
    "    print('{0:10} {1:15f} {2:15f} {3:15f} \\t {4:20} '.format( grp, np.mean(cz_sclact),np.mean(no_sclact),np.mean(es_sclact), p ))\n",
    "    #     print(p)"
   ]
  },
  {
   "cell_type": "markdown",
   "metadata": {},
   "source": [
    "for age group 20 to 59, the p value from kruskal test is > 0.05 , means we accept the null hypothesis, i.e. for all three countries (CZ, NO and ES) the people of age group 20 to 59 don't differ in social activities.\n",
    "check for rest age group:"
   ]
  },
  {
   "cell_type": "code",
   "execution_count": 199,
   "metadata": {},
   "outputs": [
    {
     "name": "stdout",
     "output_type": "stream",
     "text": [
      "Age Group :  <= 20\n",
      "CZ vs NO :  MannwhitneyuResult(statistic=1502.5, pvalue=0.2094694610737548)\n",
      "CZ vs ES :  MannwhitneyuResult(statistic=1446.5, pvalue=0.012034285032599443)\n",
      "NO vs ES :  MannwhitneyuResult(statistic=2419.0, pvalue=0.031557900857670698)\n",
      "\n",
      "Age Group :  60-79\n",
      "CZ vs NO :  MannwhitneyuResult(statistic=8906.0, pvalue=0.084045936566812585)\n",
      "CZ vs ES :  MannwhitneyuResult(statistic=13309.5, pvalue=0.098367702470163854)\n",
      "NO vs ES :  MannwhitneyuResult(statistic=16345.0, pvalue=0.001272633729838197)\n",
      "\n",
      "Age Group :  80-200\n",
      "CZ vs NO :  MannwhitneyuResult(statistic=65.5, pvalue=0.41664396815030763)\n",
      "CZ vs ES :  MannwhitneyuResult(statistic=81.0, pvalue=0.03255864121425206)\n",
      "NO vs ES :  MannwhitneyuResult(statistic=452.5, pvalue=8.3942686699403521e-05)\n",
      "\n"
     ]
    }
   ],
   "source": [
    "age = ['<= 20', '60-79', '80-200']\n",
    "\n",
    "for grp in age:\n",
    "    print('Age Group : ', grp)\n",
    "    cz_sclact = age_sclact[(age_sclact['cntry'] == 'CZ') & (age_sclact['age_bucket'] == grp)]['sclact']\n",
    "    no_sclact = age_sclact[(age_sclact['cntry'] == 'NO') & (age_sclact['age_bucket'] == grp)]['sclact']\n",
    "    es_sclact = age_sclact[(age_sclact['cntry'] == 'ES') & (age_sclact['age_bucket'] == grp)]['sclact']\n",
    "    print('CZ vs NO : ',mannwhitneyu(cz_sclact, no_sclact))\n",
    "    print('CZ vs ES : ',mannwhitneyu(cz_sclact, es_sclact))\n",
    "    print('NO vs ES : ',mannwhitneyu(no_sclact, es_sclact))\n",
    "    print()\n"
   ]
  },
  {
   "cell_type": "markdown",
   "metadata": {},
   "source": [
    "age group <= 20 and 80 to 200, CZ and NO - both have same level of social activities, both being higher than Spain counterpart. for age group 20 to 59,  all three countries (CZ, NO and ES) show same level in social activities."
   ]
  },
  {
   "cell_type": "code",
   "execution_count": null,
   "metadata": {
    "collapsed": true
   },
   "outputs": [],
   "source": []
  }
 ],
 "metadata": {
  "kernelspec": {
   "display_name": "Python 3",
   "language": "python",
   "name": "python3"
  },
  "language_info": {
   "codemirror_mode": {
    "name": "ipython",
    "version": 3
   },
   "file_extension": ".py",
   "mimetype": "text/x-python",
   "name": "python",
   "nbconvert_exporter": "python",
   "pygments_lexer": "ipython3",
   "version": "3.6.3"
  }
 },
 "nbformat": 4,
 "nbformat_minor": 2
}
