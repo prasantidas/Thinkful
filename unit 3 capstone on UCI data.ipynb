{
 "cells": [
  {
   "cell_type": "markdown",
   "metadata": {},
   "source": [
    "# About the Data"
   ]
  },
  {
   "cell_type": "markdown",
   "metadata": {},
   "source": [
    "This data was extracted from the 1994 Census bureau database. This dataset contains census data for approximately 48,000 working people over the age of 16, who made over 100 dollars that year, and who are representative of the larger population. For each of these people, the dataset tracks a person's age, employment,education,marital status, race, gender, capital gains and losses along with native country and whether or not the person's income was over 50,000 for that year."
   ]
  },
  {
   "cell_type": "markdown",
   "metadata": {},
   "source": [
    "# Research Questions\n",
    "    . Determine whether a person earns over $50K a year.\n",
    "    . Which features are the best determinant for a person's income to be over \\$50K a year?\n",
    "    "
   ]
  },
  {
   "cell_type": "markdown",
   "metadata": {},
   "source": [
    "# Loading and Cleaning the Data"
   ]
  },
  {
   "cell_type": "code",
   "execution_count": 1,
   "metadata": {
    "collapsed": true
   },
   "outputs": [],
   "source": [
    "import numpy as np\n",
    "import pandas as pd\n",
    "import matplotlib.pyplot as plt\n",
    "import seaborn as sns\n",
    "import scipy.stats as stats\n",
    "from sklearn.utils import resample\n",
    "\n",
    "%matplotlib inline"
   ]
  },
  {
   "cell_type": "code",
   "execution_count": 2,
   "metadata": {
    "collapsed": true
   },
   "outputs": [],
   "source": [
    "df = pd.read_csv('adult_income_census_UCI.csv', header = None)"
   ]
  },
  {
   "cell_type": "code",
   "execution_count": 177,
   "metadata": {},
   "outputs": [
    {
     "data": {
      "text/html": [
       "<div>\n",
       "<style>\n",
       "    .dataframe thead tr:only-child th {\n",
       "        text-align: right;\n",
       "    }\n",
       "\n",
       "    .dataframe thead th {\n",
       "        text-align: left;\n",
       "    }\n",
       "\n",
       "    .dataframe tbody tr th {\n",
       "        vertical-align: top;\n",
       "    }\n",
       "</style>\n",
       "<table border=\"1\" class=\"dataframe\">\n",
       "  <thead>\n",
       "    <tr style=\"text-align: right;\">\n",
       "      <th></th>\n",
       "      <th>0</th>\n",
       "      <th>1</th>\n",
       "      <th>2</th>\n",
       "      <th>3</th>\n",
       "      <th>4</th>\n",
       "      <th>5</th>\n",
       "      <th>6</th>\n",
       "      <th>7</th>\n",
       "      <th>8</th>\n",
       "      <th>9</th>\n",
       "      <th>10</th>\n",
       "      <th>11</th>\n",
       "      <th>12</th>\n",
       "      <th>13</th>\n",
       "      <th>14</th>\n",
       "    </tr>\n",
       "  </thead>\n",
       "  <tbody>\n",
       "    <tr>\n",
       "      <th>0</th>\n",
       "      <td>39</td>\n",
       "      <td>State-gov</td>\n",
       "      <td>77516</td>\n",
       "      <td>Bachelors</td>\n",
       "      <td>13</td>\n",
       "      <td>Never-married</td>\n",
       "      <td>Adm-clerical</td>\n",
       "      <td>Not-in-family</td>\n",
       "      <td>White</td>\n",
       "      <td>Male</td>\n",
       "      <td>2174</td>\n",
       "      <td>0</td>\n",
       "      <td>40</td>\n",
       "      <td>United-States</td>\n",
       "      <td>&lt;=50K</td>\n",
       "    </tr>\n",
       "    <tr>\n",
       "      <th>1</th>\n",
       "      <td>50</td>\n",
       "      <td>Self-emp-not-inc</td>\n",
       "      <td>83311</td>\n",
       "      <td>Bachelors</td>\n",
       "      <td>13</td>\n",
       "      <td>Married-civ-spouse</td>\n",
       "      <td>Exec-managerial</td>\n",
       "      <td>Husband</td>\n",
       "      <td>White</td>\n",
       "      <td>Male</td>\n",
       "      <td>0</td>\n",
       "      <td>0</td>\n",
       "      <td>13</td>\n",
       "      <td>United-States</td>\n",
       "      <td>&lt;=50K</td>\n",
       "    </tr>\n",
       "    <tr>\n",
       "      <th>2</th>\n",
       "      <td>38</td>\n",
       "      <td>Private</td>\n",
       "      <td>215646</td>\n",
       "      <td>HS-grad</td>\n",
       "      <td>9</td>\n",
       "      <td>Divorced</td>\n",
       "      <td>Handlers-cleaners</td>\n",
       "      <td>Not-in-family</td>\n",
       "      <td>White</td>\n",
       "      <td>Male</td>\n",
       "      <td>0</td>\n",
       "      <td>0</td>\n",
       "      <td>40</td>\n",
       "      <td>United-States</td>\n",
       "      <td>&lt;=50K</td>\n",
       "    </tr>\n",
       "    <tr>\n",
       "      <th>3</th>\n",
       "      <td>53</td>\n",
       "      <td>Private</td>\n",
       "      <td>234721</td>\n",
       "      <td>11th</td>\n",
       "      <td>7</td>\n",
       "      <td>Married-civ-spouse</td>\n",
       "      <td>Handlers-cleaners</td>\n",
       "      <td>Husband</td>\n",
       "      <td>Black</td>\n",
       "      <td>Male</td>\n",
       "      <td>0</td>\n",
       "      <td>0</td>\n",
       "      <td>40</td>\n",
       "      <td>United-States</td>\n",
       "      <td>&lt;=50K</td>\n",
       "    </tr>\n",
       "    <tr>\n",
       "      <th>4</th>\n",
       "      <td>28</td>\n",
       "      <td>Private</td>\n",
       "      <td>338409</td>\n",
       "      <td>Bachelors</td>\n",
       "      <td>13</td>\n",
       "      <td>Married-civ-spouse</td>\n",
       "      <td>Prof-specialty</td>\n",
       "      <td>Wife</td>\n",
       "      <td>Black</td>\n",
       "      <td>Female</td>\n",
       "      <td>0</td>\n",
       "      <td>0</td>\n",
       "      <td>40</td>\n",
       "      <td>Cuba</td>\n",
       "      <td>&lt;=50K</td>\n",
       "    </tr>\n",
       "  </tbody>\n",
       "</table>\n",
       "</div>"
      ],
      "text/plain": [
       "   0                  1       2           3   4                    5   \\\n",
       "0  39          State-gov   77516   Bachelors  13        Never-married   \n",
       "1  50   Self-emp-not-inc   83311   Bachelors  13   Married-civ-spouse   \n",
       "2  38            Private  215646     HS-grad   9             Divorced   \n",
       "3  53            Private  234721        11th   7   Married-civ-spouse   \n",
       "4  28            Private  338409   Bachelors  13   Married-civ-spouse   \n",
       "\n",
       "                   6               7       8        9     10  11  12  \\\n",
       "0        Adm-clerical   Not-in-family   White     Male  2174   0  40   \n",
       "1     Exec-managerial         Husband   White     Male     0   0  13   \n",
       "2   Handlers-cleaners   Not-in-family   White     Male     0   0  40   \n",
       "3   Handlers-cleaners         Husband   Black     Male     0   0  40   \n",
       "4      Prof-specialty            Wife   Black   Female     0   0  40   \n",
       "\n",
       "               13      14  \n",
       "0   United-States   <=50K  \n",
       "1   United-States   <=50K  \n",
       "2   United-States   <=50K  \n",
       "3   United-States   <=50K  \n",
       "4            Cuba   <=50K  "
      ]
     },
     "execution_count": 177,
     "metadata": {},
     "output_type": "execute_result"
    }
   ],
   "source": [
    "df.head()"
   ]
  },
  {
   "cell_type": "code",
   "execution_count": 3,
   "metadata": {
    "collapsed": true
   },
   "outputs": [],
   "source": [
    "df.columns = ['age', 'workclass', 'fnlwgt', 'education', 'education_num',\n",
    "       'marital_status', 'occupation', 'relationship', 'race', 'sex',\n",
    "       'capital_gain', 'capital_loss', 'hours_per_week', 'native_country',\n",
    "       'income']"
   ]
  },
  {
   "cell_type": "code",
   "execution_count": 179,
   "metadata": {},
   "outputs": [
    {
     "data": {
      "text/html": [
       "<div>\n",
       "<style>\n",
       "    .dataframe thead tr:only-child th {\n",
       "        text-align: right;\n",
       "    }\n",
       "\n",
       "    .dataframe thead th {\n",
       "        text-align: left;\n",
       "    }\n",
       "\n",
       "    .dataframe tbody tr th {\n",
       "        vertical-align: top;\n",
       "    }\n",
       "</style>\n",
       "<table border=\"1\" class=\"dataframe\">\n",
       "  <thead>\n",
       "    <tr style=\"text-align: right;\">\n",
       "      <th></th>\n",
       "      <th>age</th>\n",
       "      <th>workclass</th>\n",
       "      <th>fnlwgt</th>\n",
       "      <th>education</th>\n",
       "      <th>education_num</th>\n",
       "      <th>marital_status</th>\n",
       "      <th>occupation</th>\n",
       "      <th>relationship</th>\n",
       "      <th>race</th>\n",
       "      <th>sex</th>\n",
       "      <th>capital_gain</th>\n",
       "      <th>capital_loss</th>\n",
       "      <th>hours_per_week</th>\n",
       "      <th>native_country</th>\n",
       "      <th>income</th>\n",
       "    </tr>\n",
       "  </thead>\n",
       "  <tbody>\n",
       "    <tr>\n",
       "      <th>48832</th>\n",
       "      <td>61</td>\n",
       "      <td>Private</td>\n",
       "      <td>89686</td>\n",
       "      <td>HS-grad</td>\n",
       "      <td>9</td>\n",
       "      <td>Married-civ-spouse</td>\n",
       "      <td>Sales</td>\n",
       "      <td>Husband</td>\n",
       "      <td>White</td>\n",
       "      <td>Male</td>\n",
       "      <td>0</td>\n",
       "      <td>0</td>\n",
       "      <td>48</td>\n",
       "      <td>United-States</td>\n",
       "      <td>&lt;=50K.</td>\n",
       "    </tr>\n",
       "    <tr>\n",
       "      <th>48833</th>\n",
       "      <td>31</td>\n",
       "      <td>Private</td>\n",
       "      <td>440129</td>\n",
       "      <td>HS-grad</td>\n",
       "      <td>9</td>\n",
       "      <td>Married-civ-spouse</td>\n",
       "      <td>Craft-repair</td>\n",
       "      <td>Husband</td>\n",
       "      <td>White</td>\n",
       "      <td>Male</td>\n",
       "      <td>0</td>\n",
       "      <td>0</td>\n",
       "      <td>40</td>\n",
       "      <td>United-States</td>\n",
       "      <td>&lt;=50K.</td>\n",
       "    </tr>\n",
       "    <tr>\n",
       "      <th>48834</th>\n",
       "      <td>25</td>\n",
       "      <td>Private</td>\n",
       "      <td>350977</td>\n",
       "      <td>HS-grad</td>\n",
       "      <td>9</td>\n",
       "      <td>Never-married</td>\n",
       "      <td>Other-service</td>\n",
       "      <td>Own-child</td>\n",
       "      <td>White</td>\n",
       "      <td>Female</td>\n",
       "      <td>0</td>\n",
       "      <td>0</td>\n",
       "      <td>40</td>\n",
       "      <td>United-States</td>\n",
       "      <td>&lt;=50K.</td>\n",
       "    </tr>\n",
       "    <tr>\n",
       "      <th>48835</th>\n",
       "      <td>48</td>\n",
       "      <td>Local-gov</td>\n",
       "      <td>349230</td>\n",
       "      <td>Masters</td>\n",
       "      <td>14</td>\n",
       "      <td>Divorced</td>\n",
       "      <td>Other-service</td>\n",
       "      <td>Not-in-family</td>\n",
       "      <td>White</td>\n",
       "      <td>Male</td>\n",
       "      <td>0</td>\n",
       "      <td>0</td>\n",
       "      <td>40</td>\n",
       "      <td>United-States</td>\n",
       "      <td>&lt;=50K.</td>\n",
       "    </tr>\n",
       "    <tr>\n",
       "      <th>48836</th>\n",
       "      <td>33</td>\n",
       "      <td>Private</td>\n",
       "      <td>245211</td>\n",
       "      <td>Bachelors</td>\n",
       "      <td>13</td>\n",
       "      <td>Never-married</td>\n",
       "      <td>Prof-specialty</td>\n",
       "      <td>Own-child</td>\n",
       "      <td>White</td>\n",
       "      <td>Male</td>\n",
       "      <td>0</td>\n",
       "      <td>0</td>\n",
       "      <td>40</td>\n",
       "      <td>United-States</td>\n",
       "      <td>&lt;=50K.</td>\n",
       "    </tr>\n",
       "    <tr>\n",
       "      <th>48837</th>\n",
       "      <td>39</td>\n",
       "      <td>Private</td>\n",
       "      <td>215419</td>\n",
       "      <td>Bachelors</td>\n",
       "      <td>13</td>\n",
       "      <td>Divorced</td>\n",
       "      <td>Prof-specialty</td>\n",
       "      <td>Not-in-family</td>\n",
       "      <td>White</td>\n",
       "      <td>Female</td>\n",
       "      <td>0</td>\n",
       "      <td>0</td>\n",
       "      <td>36</td>\n",
       "      <td>United-States</td>\n",
       "      <td>&lt;=50K.</td>\n",
       "    </tr>\n",
       "    <tr>\n",
       "      <th>48838</th>\n",
       "      <td>64</td>\n",
       "      <td>?</td>\n",
       "      <td>321403</td>\n",
       "      <td>HS-grad</td>\n",
       "      <td>9</td>\n",
       "      <td>Widowed</td>\n",
       "      <td>?</td>\n",
       "      <td>Other-relative</td>\n",
       "      <td>Black</td>\n",
       "      <td>Male</td>\n",
       "      <td>0</td>\n",
       "      <td>0</td>\n",
       "      <td>40</td>\n",
       "      <td>United-States</td>\n",
       "      <td>&lt;=50K.</td>\n",
       "    </tr>\n",
       "    <tr>\n",
       "      <th>48839</th>\n",
       "      <td>38</td>\n",
       "      <td>Private</td>\n",
       "      <td>374983</td>\n",
       "      <td>Bachelors</td>\n",
       "      <td>13</td>\n",
       "      <td>Married-civ-spouse</td>\n",
       "      <td>Prof-specialty</td>\n",
       "      <td>Husband</td>\n",
       "      <td>White</td>\n",
       "      <td>Male</td>\n",
       "      <td>0</td>\n",
       "      <td>0</td>\n",
       "      <td>50</td>\n",
       "      <td>United-States</td>\n",
       "      <td>&lt;=50K.</td>\n",
       "    </tr>\n",
       "    <tr>\n",
       "      <th>48840</th>\n",
       "      <td>44</td>\n",
       "      <td>Private</td>\n",
       "      <td>83891</td>\n",
       "      <td>Bachelors</td>\n",
       "      <td>13</td>\n",
       "      <td>Divorced</td>\n",
       "      <td>Adm-clerical</td>\n",
       "      <td>Own-child</td>\n",
       "      <td>Asian-Pac-Islander</td>\n",
       "      <td>Male</td>\n",
       "      <td>5455</td>\n",
       "      <td>0</td>\n",
       "      <td>40</td>\n",
       "      <td>United-States</td>\n",
       "      <td>&lt;=50K.</td>\n",
       "    </tr>\n",
       "    <tr>\n",
       "      <th>48841</th>\n",
       "      <td>35</td>\n",
       "      <td>Self-emp-inc</td>\n",
       "      <td>182148</td>\n",
       "      <td>Bachelors</td>\n",
       "      <td>13</td>\n",
       "      <td>Married-civ-spouse</td>\n",
       "      <td>Exec-managerial</td>\n",
       "      <td>Husband</td>\n",
       "      <td>White</td>\n",
       "      <td>Male</td>\n",
       "      <td>0</td>\n",
       "      <td>0</td>\n",
       "      <td>60</td>\n",
       "      <td>United-States</td>\n",
       "      <td>&gt;50K.</td>\n",
       "    </tr>\n",
       "  </tbody>\n",
       "</table>\n",
       "</div>"
      ],
      "text/plain": [
       "       age      workclass  fnlwgt   education  education_num  \\\n",
       "48832   61        Private   89686     HS-grad              9   \n",
       "48833   31        Private  440129     HS-grad              9   \n",
       "48834   25        Private  350977     HS-grad              9   \n",
       "48835   48      Local-gov  349230     Masters             14   \n",
       "48836   33        Private  245211   Bachelors             13   \n",
       "48837   39        Private  215419   Bachelors             13   \n",
       "48838   64              ?  321403     HS-grad              9   \n",
       "48839   38        Private  374983   Bachelors             13   \n",
       "48840   44        Private   83891   Bachelors             13   \n",
       "48841   35   Self-emp-inc  182148   Bachelors             13   \n",
       "\n",
       "            marital_status        occupation     relationship  \\\n",
       "48832   Married-civ-spouse             Sales          Husband   \n",
       "48833   Married-civ-spouse      Craft-repair          Husband   \n",
       "48834        Never-married     Other-service        Own-child   \n",
       "48835             Divorced     Other-service    Not-in-family   \n",
       "48836        Never-married    Prof-specialty        Own-child   \n",
       "48837             Divorced    Prof-specialty    Not-in-family   \n",
       "48838              Widowed                 ?   Other-relative   \n",
       "48839   Married-civ-spouse    Prof-specialty          Husband   \n",
       "48840             Divorced      Adm-clerical        Own-child   \n",
       "48841   Married-civ-spouse   Exec-managerial          Husband   \n",
       "\n",
       "                      race      sex  capital_gain  capital_loss  \\\n",
       "48832                White     Male             0             0   \n",
       "48833                White     Male             0             0   \n",
       "48834                White   Female             0             0   \n",
       "48835                White     Male             0             0   \n",
       "48836                White     Male             0             0   \n",
       "48837                White   Female             0             0   \n",
       "48838                Black     Male             0             0   \n",
       "48839                White     Male             0             0   \n",
       "48840   Asian-Pac-Islander     Male          5455             0   \n",
       "48841                White     Male             0             0   \n",
       "\n",
       "       hours_per_week  native_country   income  \n",
       "48832              48   United-States   <=50K.  \n",
       "48833              40   United-States   <=50K.  \n",
       "48834              40   United-States   <=50K.  \n",
       "48835              40   United-States   <=50K.  \n",
       "48836              40   United-States   <=50K.  \n",
       "48837              36   United-States   <=50K.  \n",
       "48838              40   United-States   <=50K.  \n",
       "48839              50   United-States   <=50K.  \n",
       "48840              40   United-States   <=50K.  \n",
       "48841              60   United-States    >50K.  "
      ]
     },
     "execution_count": 179,
     "metadata": {},
     "output_type": "execute_result"
    }
   ],
   "source": [
    "df.tail(10)"
   ]
  },
  {
   "cell_type": "code",
   "execution_count": 15,
   "metadata": {},
   "outputs": [
    {
     "data": {
      "text/plain": [
       "(48842, 15)"
      ]
     },
     "execution_count": 15,
     "metadata": {},
     "output_type": "execute_result"
    }
   ],
   "source": [
    "df.shape"
   ]
  },
  {
   "cell_type": "code",
   "execution_count": 33,
   "metadata": {},
   "outputs": [
    {
     "data": {
      "text/plain": [
       "age                int64\n",
       "workclass         object\n",
       "fnlwgt             int64\n",
       "education         object\n",
       "education.num      int64\n",
       "marital_status    object\n",
       "occupation        object\n",
       "relationship      object\n",
       "race              object\n",
       "sex               object\n",
       "capital_gain       int64\n",
       "capital_loss       int64\n",
       "hours_per_week     int64\n",
       "native_country    object\n",
       "income            object\n",
       "dtype: object"
      ]
     },
     "execution_count": 33,
     "metadata": {},
     "output_type": "execute_result"
    }
   ],
   "source": [
    "df.dtypes"
   ]
  },
  {
   "cell_type": "markdown",
   "metadata": {},
   "source": [
    "In the income column, I see few observations have a period at the ending. lets remove that"
   ]
  },
  {
   "cell_type": "code",
   "execution_count": 4,
   "metadata": {
    "collapsed": true
   },
   "outputs": [],
   "source": [
    "df['income'] = df.income.str.strip('.')"
   ]
  },
  {
   "cell_type": "markdown",
   "metadata": {},
   "source": [
    "I see few columns have '?' as the value. Let's find how many columns have this"
   ]
  },
  {
   "cell_type": "code",
   "execution_count": 182,
   "metadata": {},
   "outputs": [
    {
     "name": "stdout",
     "output_type": "stream",
     "text": [
      "workclass             2799\n",
      "education                0\n",
      "marital_status           0\n",
      "occupation            2809\n",
      "relationship             0\n",
      "race                     0\n",
      "sex                      0\n",
      "native_country         857\n",
      "income                   0\n"
     ]
    }
   ],
   "source": [
    "for column in df.select_dtypes(['object']):\n",
    "    print('{0:20} {1:5d}'.format(column,df[df[column].str.contains('\\?')].shape[0]))\n"
   ]
  },
  {
   "cell_type": "markdown",
   "metadata": {},
   "source": [
    "I see here the column 'workclass' has '?' for 2799 rows, 'occupation' has '?' for 2809 rows and 'native_country' has '?' for 857 rows."
   ]
  },
  {
   "cell_type": "code",
   "execution_count": 88,
   "metadata": {},
   "outputs": [
    {
     "data": {
      "text/plain": [
       "0"
      ]
     },
     "execution_count": 88,
     "metadata": {},
     "output_type": "execute_result"
    }
   ],
   "source": [
    "df[(df.occupation == '?')].shape[0]"
   ]
  },
  {
   "cell_type": "markdown",
   "metadata": {},
   "source": [
    "looks like the data contains a space after or before the '?'. So strip it first and then go ahead."
   ]
  },
  {
   "cell_type": "code",
   "execution_count": 5,
   "metadata": {
    "collapsed": true
   },
   "outputs": [],
   "source": [
    "df_obj = df.select_dtypes(['object'])\n",
    "df[df_obj.columns] = df_obj.apply(lambda x: x.str.strip())"
   ]
  },
  {
   "cell_type": "code",
   "execution_count": 184,
   "metadata": {},
   "outputs": [
    {
     "data": {
      "text/plain": [
       "2809"
      ]
     },
     "execution_count": 184,
     "metadata": {},
     "output_type": "execute_result"
    }
   ],
   "source": [
    "df[(df.occupation == '?')].shape[0]"
   ]
  },
  {
   "cell_type": "code",
   "execution_count": 91,
   "metadata": {},
   "outputs": [
    {
     "name": "stdout",
     "output_type": "stream",
     "text": [
      "5.751197739650301\n"
     ]
    }
   ],
   "source": [
    "no_occ = df[df.occupation == '?'].shape[0]\n",
    "print(no_occ * 100 / df.shape[0])"
   ]
  },
  {
   "cell_type": "markdown",
   "metadata": {},
   "source": [
    "There is about 6% of the data that has unknown occupation. These make up a small portion of the data, and dropping them should not impact the overall analysis."
   ]
  },
  {
   "cell_type": "code",
   "execution_count": 6,
   "metadata": {
    "collapsed": true
   },
   "outputs": [],
   "source": [
    "df = df[df.occupation != '?']"
   ]
  },
  {
   "cell_type": "code",
   "execution_count": 186,
   "metadata": {},
   "outputs": [
    {
     "name": "stdout",
     "output_type": "stream",
     "text": [
      "workclass                0\n",
      "education                0\n",
      "marital_status           0\n",
      "occupation               0\n",
      "relationship             0\n",
      "race                     0\n",
      "sex                      0\n",
      "native_country         811\n",
      "income                   0\n"
     ]
    }
   ],
   "source": [
    "for column in df.select_dtypes(['object']):\n",
    "    print('{0:20} {1:5d}'.format(column,df[df[column].str.contains('\\?')].shape[0]))"
   ]
  },
  {
   "cell_type": "markdown",
   "metadata": {},
   "source": [
    "After removing the observations with unknown occupation, all the columns are ok now except native country which we will handle later."
   ]
  },
  {
   "cell_type": "code",
   "execution_count": 187,
   "metadata": {},
   "outputs": [
    {
     "data": {
      "text/plain": [
       "(46033, 15)"
      ]
     },
     "execution_count": 187,
     "metadata": {},
     "output_type": "execute_result"
    }
   ],
   "source": [
    "df.shape"
   ]
  },
  {
   "cell_type": "markdown",
   "metadata": {},
   "source": [
    "Let's analyse the other categorical columns."
   ]
  },
  {
   "cell_type": "code",
   "execution_count": 94,
   "metadata": {},
   "outputs": [
    {
     "data": {
      "text/plain": [
       "Prof-specialty       6172\n",
       "Craft-repair         6112\n",
       "Exec-managerial      6086\n",
       "Adm-clerical         5611\n",
       "Sales                5504\n",
       "Other-service        4923\n",
       "Machine-op-inspct    3022\n",
       "Transport-moving     2355\n",
       "Handlers-cleaners    2072\n",
       "Farming-fishing      1490\n",
       "Tech-support         1446\n",
       "Protective-serv       983\n",
       "Priv-house-serv       242\n",
       "Armed-Forces           15\n",
       "Name: occupation, dtype: int64"
      ]
     },
     "execution_count": 94,
     "metadata": {},
     "output_type": "execute_result"
    }
   ],
   "source": [
    "df.occupation.value_counts()"
   ]
  },
  {
   "cell_type": "code",
   "execution_count": 96,
   "metadata": {},
   "outputs": [
    {
     "data": {
      "text/plain": [
       "Private             33906\n",
       "Self-emp-not-inc     3862\n",
       "Local-gov            3136\n",
       "State-gov            1981\n",
       "Self-emp-inc         1695\n",
       "Federal-gov          1432\n",
       "Without-pay            21\n",
       "Name: workclass, dtype: int64"
      ]
     },
     "execution_count": 96,
     "metadata": {},
     "output_type": "execute_result"
    }
   ],
   "source": [
    "df.workclass.value_counts()"
   ]
  },
  {
   "cell_type": "markdown",
   "metadata": {},
   "source": [
    "As we see here,the number of employees in the private sector is much more than others. There are also a good number of people employed by various governmnent entities, self-employed, and a small number without pay. \n",
    "I will combine the different sub categories into one category as below:\n",
    "\n",
    "    •\tcombine Self-emp-not-inc and Self-emp-inc into category 'Self Employment'\n",
    "    •\tLocal, State, and Federal Governments into category 'Government'\n"
   ]
  },
  {
   "cell_type": "code",
   "execution_count": 7,
   "metadata": {
    "collapsed": true
   },
   "outputs": [],
   "source": [
    "df.workclass = df.workclass.map({\n",
    "    'Private' : 'Private',\n",
    "    'Self-emp-not-inc':'Self_employed',\n",
    "    'Self-emp-inc':'Self_employed',\n",
    "    'Local-gov':'Government',\n",
    "    'State-gov':'Government', \n",
    "    'Federal-gov':'Government',\n",
    "'Without-pay' : 'Without-pay'})"
   ]
  },
  {
   "cell_type": "code",
   "execution_count": 119,
   "metadata": {},
   "outputs": [
    {
     "data": {
      "text/plain": [
       "Private          33906\n",
       "Government        6549\n",
       "Self_employed     5557\n",
       "Name: workclass, dtype: int64"
      ]
     },
     "execution_count": 119,
     "metadata": {},
     "output_type": "execute_result"
    }
   ],
   "source": [
    "df.workclass.value_counts()"
   ]
  },
  {
   "cell_type": "markdown",
   "metadata": {},
   "source": [
    "In our dataset, we have columns 'education', 'education_num'. \n",
    "let's check if the column education number has any relation with the categorical education column."
   ]
  },
  {
   "cell_type": "code",
   "execution_count": 139,
   "metadata": {},
   "outputs": [
    {
     "data": {
      "text/html": [
       "<div>\n",
       "<style>\n",
       "    .dataframe thead tr:only-child th {\n",
       "        text-align: right;\n",
       "    }\n",
       "\n",
       "    .dataframe thead th {\n",
       "        text-align: left;\n",
       "    }\n",
       "\n",
       "    .dataframe tbody tr th {\n",
       "        vertical-align: top;\n",
       "    }\n",
       "</style>\n",
       "<table border=\"1\" class=\"dataframe\">\n",
       "  <thead>\n",
       "    <tr style=\"text-align: right;\">\n",
       "      <th></th>\n",
       "      <th>education</th>\n",
       "      <th>education_num</th>\n",
       "    </tr>\n",
       "  </thead>\n",
       "  <tbody>\n",
       "    <tr>\n",
       "      <th>21722</th>\n",
       "      <td>Preschool</td>\n",
       "      <td>1</td>\n",
       "    </tr>\n",
       "    <tr>\n",
       "      <th>8753</th>\n",
       "      <td>1st-4th</td>\n",
       "      <td>2</td>\n",
       "    </tr>\n",
       "    <tr>\n",
       "      <th>44164</th>\n",
       "      <td>5th-6th</td>\n",
       "      <td>3</td>\n",
       "    </tr>\n",
       "    <tr>\n",
       "      <th>21133</th>\n",
       "      <td>7th-8th</td>\n",
       "      <td>4</td>\n",
       "    </tr>\n",
       "    <tr>\n",
       "      <th>38489</th>\n",
       "      <td>9th</td>\n",
       "      <td>5</td>\n",
       "    </tr>\n",
       "    <tr>\n",
       "      <th>13538</th>\n",
       "      <td>10th</td>\n",
       "      <td>6</td>\n",
       "    </tr>\n",
       "    <tr>\n",
       "      <th>27669</th>\n",
       "      <td>11th</td>\n",
       "      <td>7</td>\n",
       "    </tr>\n",
       "    <tr>\n",
       "      <th>29016</th>\n",
       "      <td>12th</td>\n",
       "      <td>8</td>\n",
       "    </tr>\n",
       "    <tr>\n",
       "      <th>19006</th>\n",
       "      <td>HS-grad</td>\n",
       "      <td>9</td>\n",
       "    </tr>\n",
       "    <tr>\n",
       "      <th>795</th>\n",
       "      <td>Some-college</td>\n",
       "      <td>10</td>\n",
       "    </tr>\n",
       "    <tr>\n",
       "      <th>19119</th>\n",
       "      <td>Assoc-voc</td>\n",
       "      <td>11</td>\n",
       "    </tr>\n",
       "    <tr>\n",
       "      <th>29406</th>\n",
       "      <td>Assoc-acdm</td>\n",
       "      <td>12</td>\n",
       "    </tr>\n",
       "    <tr>\n",
       "      <th>48714</th>\n",
       "      <td>Bachelors</td>\n",
       "      <td>13</td>\n",
       "    </tr>\n",
       "    <tr>\n",
       "      <th>8832</th>\n",
       "      <td>Masters</td>\n",
       "      <td>14</td>\n",
       "    </tr>\n",
       "    <tr>\n",
       "      <th>24067</th>\n",
       "      <td>Prof-school</td>\n",
       "      <td>15</td>\n",
       "    </tr>\n",
       "    <tr>\n",
       "      <th>10184</th>\n",
       "      <td>Doctorate</td>\n",
       "      <td>16</td>\n",
       "    </tr>\n",
       "  </tbody>\n",
       "</table>\n",
       "</div>"
      ],
      "text/plain": [
       "          education  education_num\n",
       "21722     Preschool              1\n",
       "8753        1st-4th              2\n",
       "44164       5th-6th              3\n",
       "21133       7th-8th              4\n",
       "38489           9th              5\n",
       "13538          10th              6\n",
       "27669          11th              7\n",
       "29016          12th              8\n",
       "19006       HS-grad              9\n",
       "795    Some-college             10\n",
       "19119     Assoc-voc             11\n",
       "29406    Assoc-acdm             12\n",
       "48714     Bachelors             13\n",
       "8832        Masters             14\n",
       "24067   Prof-school             15\n",
       "10184     Doctorate             16"
      ]
     },
     "execution_count": 139,
     "metadata": {},
     "output_type": "execute_result"
    }
   ],
   "source": [
    "df_edu = df[['education', 'education_num']].sort_values(by = 'education_num')\n",
    "df_edu.drop_duplicates()"
   ]
  },
  {
   "cell_type": "markdown",
   "metadata": {},
   "source": [
    "As we see here , Education number is an ordinal scale representing level of education because it doesn't indicate number of years of schooling. For our analyses, we will drop the education number column and create dummies later assuming we want this as a feature in our models."
   ]
  },
  {
   "cell_type": "code",
   "execution_count": 8,
   "metadata": {
    "collapsed": true
   },
   "outputs": [],
   "source": [
    "df.drop('education_num', axis = 1, inplace = True )"
   ]
  },
  {
   "cell_type": "code",
   "execution_count": 141,
   "metadata": {},
   "outputs": [
    {
     "data": {
      "text/plain": [
       "HS-grad         14972\n",
       "Some-college    10036\n",
       "Bachelors        7772\n",
       "Masters          2590\n",
       "Assoc-voc        1978\n",
       "11th             1631\n",
       "Assoc-acdm       1529\n",
       "10th             1239\n",
       "7th-8th           844\n",
       "Prof-school       810\n",
       "9th               687\n",
       "12th              599\n",
       "Doctorate         576\n",
       "5th-6th           468\n",
       "1st-4th           229\n",
       "Preschool          73\n",
       "Name: education, dtype: int64"
      ]
     },
     "execution_count": 141,
     "metadata": {},
     "output_type": "execute_result"
    }
   ],
   "source": [
    "df.education.value_counts()"
   ]
  },
  {
   "cell_type": "markdown",
   "metadata": {},
   "source": [
    "Now there are a lot of categories with few categories having less people in them. \n",
    "Let's generalize these categories to be the following:   \n",
    "\n",
    "    •\tMiddle_School - Till 9th Grade    \n",
    "    •\tHigh_School - From 10th to HS-grad\n",
    "    •\tBachelors_Degree - Some-college,'Assoc-voc','Assoc-acdm', 'Bachelors' \n",
    "        - people who attended college, and those who earned Associates Degrees or Bachelors Degree\n",
    "    •\tAdvanced_Degree    - all people who earned Masters, Professional Degrees, or Doctorates\n"
   ]
  },
  {
   "cell_type": "code",
   "execution_count": 9,
   "metadata": {},
   "outputs": [
    {
     "data": {
      "text/plain": [
       "Bachelors_Degree    21315\n",
       "High_School         17842\n",
       "Advanced_Degree      3976\n",
       "Middle_School        2301\n",
       "Name: education, dtype: int64"
      ]
     },
     "execution_count": 9,
     "metadata": {},
     "output_type": "execute_result"
    }
   ],
   "source": [
    "df.education = df.education.map({'Preschool':'Middle_School',\n",
    "                                   '1st-4th':'Middle_School',\n",
    "                                   '5th-6th':'Middle_School',\n",
    "                                   '7th-8th':'Middle_School',\n",
    "                                   '9th':'Middle_School',\n",
    "                                   '10th':'High_School',\n",
    "                                   '11th':'High_School',\n",
    "                                   'HS-grad':'High_School',\n",
    "                                   'Some-college':'Bachelors_Degree',\n",
    "                                   'Assoc-voc':'Bachelors_Degree',\n",
    "                                   'Assoc-acdm':'Bachelors_Degree',\n",
    "                                   'Bachelors':'Bachelors_Degree',\n",
    "                                   'Masters':'Advanced_Degree',\n",
    "                                   'Prof-school':'Advanced_Degree',\n",
    "                                   'Doctorate':'Advanced_Degree'})\n",
    "\n",
    "\n",
    "df.education.value_counts()"
   ]
  },
  {
   "cell_type": "code",
   "execution_count": 152,
   "metadata": {},
   "outputs": [
    {
     "data": {
      "text/plain": [
       "Married-civ-spouse       21451\n",
       "Never-married            14875\n",
       "Divorced                  6363\n",
       "Separated                 1433\n",
       "Widowed                   1296\n",
       "Married-spouse-absent      583\n",
       "Married-AF-spouse           32\n",
       "Name: marital_status, dtype: int64"
      ]
     },
     "execution_count": 152,
     "metadata": {},
     "output_type": "execute_result"
    }
   ],
   "source": [
    "df.marital_status.value_counts()"
   ]
  },
  {
   "cell_type": "code",
   "execution_count": 10,
   "metadata": {
    "collapsed": true
   },
   "outputs": [],
   "source": [
    "\n",
    "df.marital_status = df.marital_status.map({\n",
    "   'Never-married' : 'Never_married',\n",
    "    'Married-civ-spouse' : 'Married_living_with_spouse' ,\n",
    "    'Married-AF-spouse' : 'Married_living_with_spouse',\n",
    "    'Divorced' : 'Married_living_alone' ,\n",
    "    'Separated' : 'Married_living_alone' ,\n",
    "    'Widowed' : 'Married_living_alone',\n",
    "    'Married-spouse-absent' : 'Married_living_alone'\n",
    "})\n"
   ]
  },
  {
   "cell_type": "code",
   "execution_count": 158,
   "metadata": {},
   "outputs": [
    {
     "data": {
      "text/plain": [
       "Married_living_with_spouse    21483\n",
       "Never_married                 14875\n",
       "Married_living_alone           9675\n",
       "Name: marital_status, dtype: int64"
      ]
     },
     "execution_count": 158,
     "metadata": {},
     "output_type": "execute_result"
    }
   ],
   "source": [
    "df.marital_status.value_counts()"
   ]
  },
  {
   "cell_type": "code",
   "execution_count": 100,
   "metadata": {},
   "outputs": [
    {
     "data": {
      "text/plain": [
       "Husband           19005\n",
       "Not-in-family     11916\n",
       "Own-child          6706\n",
       "Unmarried          4867\n",
       "Wife               2139\n",
       "Other-relative     1400\n",
       "Name: relationship, dtype: int64"
      ]
     },
     "execution_count": 100,
     "metadata": {},
     "output_type": "execute_result"
    }
   ],
   "source": [
    "df.relationship.value_counts()"
   ]
  },
  {
   "cell_type": "markdown",
   "metadata": {},
   "source": [
    "There is already a Marital Status column in the dataset, which can have mapping with relationship column,  I will drop this column from the data set."
   ]
  },
  {
   "cell_type": "code",
   "execution_count": 11,
   "metadata": {
    "collapsed": true
   },
   "outputs": [],
   "source": [
    "df.drop('relationship', axis = 1, inplace = True)"
   ]
  },
  {
   "cell_type": "code",
   "execution_count": 101,
   "metadata": {},
   "outputs": [
    {
     "data": {
      "text/plain": [
       "White                 39444\n",
       "Black                  4356\n",
       "Asian-Pac-Islander     1423\n",
       "Amer-Indian-Eskimo      435\n",
       "Other                   375\n",
       "Name: race, dtype: int64"
      ]
     },
     "execution_count": 101,
     "metadata": {},
     "output_type": "execute_result"
    }
   ],
   "source": [
    "df.race.value_counts()"
   ]
  },
  {
   "cell_type": "markdown",
   "metadata": {},
   "source": [
    "There is a higher number of people who are white than other races. "
   ]
  },
  {
   "cell_type": "code",
   "execution_count": 102,
   "metadata": {},
   "outputs": [
    {
     "data": {
      "text/plain": [
       "Male      31114\n",
       "Female    14919\n",
       "Name: sex, dtype: int64"
      ]
     },
     "execution_count": 102,
     "metadata": {},
     "output_type": "execute_result"
    }
   ],
   "source": [
    "df.sex.value_counts()"
   ]
  },
  {
   "cell_type": "code",
   "execution_count": 103,
   "metadata": {},
   "outputs": [
    {
     "data": {
      "text/plain": [
       "United-States                 41292\n",
       "Mexico                          903\n",
       "?                               811\n",
       "Philippines                     283\n",
       "Germany                         193\n",
       "Puerto-Rico                     175\n",
       "Canada                          163\n",
       "India                           147\n",
       "El-Salvador                     147\n",
       "Cuba                            133\n",
       "England                         119\n",
       "China                           113\n",
       "Jamaica                         103\n",
       "South                           101\n",
       "Italy                           100\n",
       "Dominican-Republic               97\n",
       "Japan                            89\n",
       "Guatemala                        86\n",
       "Vietnam                          83\n",
       "Columbia                         82\n",
       "Poland                           81\n",
       "Haiti                            69\n",
       "Portugal                         62\n",
       "Iran                             56\n",
       "Taiwan                           55\n",
       "Greece                           49\n",
       "Nicaragua                        48\n",
       "Peru                             45\n",
       "Ecuador                          43\n",
       "France                           36\n",
       "Ireland                          36\n",
       "Thailand                         29\n",
       "Hong                             28\n",
       "Cambodia                         26\n",
       "Trinadad&Tobago                  26\n",
       "Yugoslavia                       23\n",
       "Outlying-US(Guam-USVI-etc)       22\n",
       "Laos                             21\n",
       "Scotland                         20\n",
       "Honduras                         19\n",
       "Hungary                          18\n",
       "Holand-Netherlands                1\n",
       "Name: native_country, dtype: int64"
      ]
     },
     "execution_count": 103,
     "metadata": {},
     "output_type": "execute_result"
    }
   ],
   "source": [
    "df.native_country.value_counts()"
   ]
  },
  {
   "cell_type": "code",
   "execution_count": 207,
   "metadata": {},
   "outputs": [
    {
     "data": {
      "text/plain": [
       "(41292, 13)"
      ]
     },
     "execution_count": 207,
     "metadata": {},
     "output_type": "execute_result"
    }
   ],
   "source": [
    "df[df.native_country == 'United-States'].shape"
   ]
  },
  {
   "cell_type": "markdown",
   "metadata": {},
   "source": [
    "I see here the majority of people in this census data are native to the United States. So I can continue with the data only for one country."
   ]
  },
  {
   "cell_type": "code",
   "execution_count": 12,
   "metadata": {
    "collapsed": true
   },
   "outputs": [],
   "source": [
    "df = df[df.native_country == 'United-States']"
   ]
  },
  {
   "cell_type": "markdown",
   "metadata": {},
   "source": [
    "Let's analyse the continuous variables."
   ]
  },
  {
   "cell_type": "code",
   "execution_count": 209,
   "metadata": {},
   "outputs": [
    {
     "data": {
      "text/plain": [
       "count    41292.000000\n",
       "mean        38.597210\n",
       "std         13.272337\n",
       "min         17.000000\n",
       "25%         28.000000\n",
       "50%         37.000000\n",
       "75%         47.000000\n",
       "max         90.000000\n",
       "Name: age, dtype: float64"
      ]
     },
     "execution_count": 209,
     "metadata": {},
     "output_type": "execute_result"
    }
   ],
   "source": [
    "df.age.describe()"
   ]
  },
  {
   "cell_type": "markdown",
   "metadata": {},
   "source": [
    "The Average age of people is 38, with minimum age as 17 years and maximum age is 90 years. \n",
    "The 25% of people are at or below  28 years"
   ]
  },
  {
   "cell_type": "code",
   "execution_count": 210,
   "metadata": {},
   "outputs": [
    {
     "data": {
      "text/plain": [
       "count    4.129200e+04\n",
       "mean     1.872429e+05\n",
       "std      1.050282e+05\n",
       "min      1.349200e+04\n",
       "25%      1.157840e+05\n",
       "50%      1.767250e+05\n",
       "75%      2.346400e+05\n",
       "max      1.490400e+06\n",
       "Name: fnlwgt, dtype: float64"
      ]
     },
     "execution_count": 210,
     "metadata": {},
     "output_type": "execute_result"
    }
   ],
   "source": [
    "df.fnlwgt.describe()"
   ]
  },
  {
   "cell_type": "code",
   "execution_count": 211,
   "metadata": {},
   "outputs": [
    {
     "name": "stdout",
     "output_type": "stream",
     "text": [
      "Summary of Capital Gains:\n",
      "count    41292.000000\n",
      "mean      1126.758888\n",
      "std       7602.228995\n",
      "min          0.000000\n",
      "25%          0.000000\n",
      "50%          0.000000\n",
      "75%          0.000000\n",
      "max      99999.000000\n",
      "Name: capital_gain, dtype: float64\n",
      "\n",
      "Summary of Capital Losses:\n",
      "count    41292.000000\n",
      "mean        90.065291\n",
      "std        407.794060\n",
      "min          0.000000\n",
      "25%          0.000000\n",
      "50%          0.000000\n",
      "75%          0.000000\n",
      "max       4356.000000\n",
      "Name: capital_loss, dtype: float64\n"
     ]
    }
   ],
   "source": [
    "print('Summary of Capital Gains:' )\n",
    "print(df.capital_gain.describe())\n",
    "print('\\nSummary of Capital Losses:')\n",
    "print(df.capital_loss.describe())"
   ]
  },
  {
   "cell_type": "markdown",
   "metadata": {},
   "source": [
    "The Average value for capital loss and capital gain are low. Looks like many people did not report these values. And there are few outliers also."
   ]
  },
  {
   "cell_type": "code",
   "execution_count": 214,
   "metadata": {},
   "outputs": [
    {
     "data": {
      "text/plain": [
       ">50K    215\n",
       "Name: income, dtype: int64"
      ]
     },
     "execution_count": 214,
     "metadata": {},
     "output_type": "execute_result"
    }
   ],
   "source": [
    "df[df.capital_gain == max(df.capital_gain) ]['income'].value_counts()"
   ]
  },
  {
   "cell_type": "markdown",
   "metadata": {},
   "source": [
    "There are 215 observations with capital_gain as \\$99999. And all are with the income of over $50K"
   ]
  },
  {
   "cell_type": "code",
   "execution_count": 215,
   "metadata": {},
   "outputs": [
    {
     "data": {
      "text/plain": [
       "count    41292.000000\n",
       "mean        40.975903\n",
       "std         12.079892\n",
       "min          1.000000\n",
       "25%         40.000000\n",
       "50%         40.000000\n",
       "75%         45.000000\n",
       "max         99.000000\n",
       "Name: hours_per_week, dtype: float64"
      ]
     },
     "execution_count": 215,
     "metadata": {},
     "output_type": "execute_result"
    }
   ],
   "source": [
    "df.hours_per_week.describe()"
   ]
  },
  {
   "cell_type": "markdown",
   "metadata": {},
   "source": [
    "The average hours per week is just over 40 hours per week. Interestingly, the minimum is 1 hour per week, and the maximum is 99 hours per week. Let's take a look at those two cases."
   ]
  },
  {
   "cell_type": "code",
   "execution_count": 216,
   "metadata": {},
   "outputs": [
    {
     "data": {
      "text/plain": [
       "<=50K    8\n",
       ">50K     2\n",
       "Name: income, dtype: int64"
      ]
     },
     "execution_count": 216,
     "metadata": {},
     "output_type": "execute_result"
    }
   ],
   "source": [
    "df[df.hours_per_week == min(df.hours_per_week)]['income'].value_counts()"
   ]
  },
  {
   "cell_type": "markdown",
   "metadata": {},
   "source": [
    "The number of people who work 1 hour per week is 10 and all are earning <=50K except 2 people."
   ]
  },
  {
   "cell_type": "code",
   "execution_count": 217,
   "metadata": {},
   "outputs": [
    {
     "data": {
      "text/plain": [
       "<=50K    77\n",
       ">50K     38\n",
       "Name: income, dtype: int64"
      ]
     },
     "execution_count": 217,
     "metadata": {},
     "output_type": "execute_result"
    }
   ],
   "source": [
    "df[df.hours_per_week == max(df.hours_per_week)]['income'].value_counts()"
   ]
  },
  {
   "cell_type": "markdown",
   "metadata": {},
   "source": [
    "The number of people who work 99 hours per week is 115, out of which 77 people are earning <= 50K while rest are earning >50K"
   ]
  },
  {
   "cell_type": "code",
   "execution_count": 218,
   "metadata": {},
   "outputs": [
    {
     "data": {
      "text/plain": [
       "<=50K    30844\n",
       ">50K     10448\n",
       "Name: income, dtype: int64"
      ]
     },
     "execution_count": 218,
     "metadata": {},
     "output_type": "execute_result"
    }
   ],
   "source": [
    "df.income.value_counts()"
   ]
  },
  {
   "cell_type": "markdown",
   "metadata": {},
   "source": [
    "Finally, let's change our target varible, income, to a binary variable where income less than \\$50,000 is 0, and income greater than $50,000 is 1."
   ]
  },
  {
   "cell_type": "code",
   "execution_count": 13,
   "metadata": {
    "collapsed": true
   },
   "outputs": [],
   "source": [
    "df.income = df.income.map({'<=50K':0, '>50K' : 1 })"
   ]
  },
  {
   "cell_type": "markdown",
   "metadata": {},
   "source": [
    "Now that our data has been cleaned and wrangled, I will perform Exploratory Data Analysis to identify patterns and trends in the data."
   ]
  },
  {
   "cell_type": "markdown",
   "metadata": {},
   "source": [
    "# Exploratory Data Analysis"
   ]
  },
  {
   "cell_type": "code",
   "execution_count": 328,
   "metadata": {},
   "outputs": [
    {
     "data": {
      "image/png": "[encoded data removed]",
      "text/plain": [
       "<matplotlib.figure.Figure at 0x1ea8bdb4c50>"
      ]
     },
     "metadata": {},
     "output_type": "display_data"
    },
    {
     "name": "stdout",
     "output_type": "stream",
     "text": [
      "0    75.0\n",
      "1    25.0\n",
      "Name: income, dtype: float64\n"
     ]
    }
   ],
   "source": [
    "ax= sns.countplot(data = df, x = 'income',palette='husl')\n",
    "plt.title('Income Level Distribution')\n",
    "ax.set_xticklabels(['Under $50K', 'Over $50K'])\n",
    "plt.show()\n",
    "print(round(df.income.value_counts(normalize = True)  ,2)* 100)"
   ]
  },
  {
   "cell_type": "markdown",
   "metadata": {},
   "source": [
    "In our dataset, 75% of people have an income below \\$50,000, 25% of people earn more than \\$50,000"
   ]
  },
  {
   "cell_type": "markdown",
   "metadata": {},
   "source": [
    "Now Let's start analyzing the bivariate relation between two categorical attribute :"
   ]
  },
  {
   "cell_type": "code",
   "execution_count": 107,
   "metadata": {
    "collapsed": true
   },
   "outputs": [],
   "source": [
    "df1 = df.loc[:,['occupation','education','workclass', 'race','sex','marital_status', 'income' ]]\n",
    "df1.income = df1['income'].map({0 : 'Under $50K', 1: 'Over $50K' })"
   ]
  },
  {
   "cell_type": "code",
   "execution_count": 393,
   "metadata": {
    "collapsed": true
   },
   "outputs": [],
   "source": [
    "education_count_pie = df1.education.value_counts(normalize=True).rename('percentage').mul(100).reset_index()"
   ]
  },
  {
   "cell_type": "code",
   "execution_count": 394,
   "metadata": {},
   "outputs": [
    {
     "data": {
      "text/html": [
       "<div>\n",
       "<style>\n",
       "    .dataframe thead tr:only-child th {\n",
       "        text-align: right;\n",
       "    }\n",
       "\n",
       "    .dataframe thead th {\n",
       "        text-align: left;\n",
       "    }\n",
       "\n",
       "    .dataframe tbody tr th {\n",
       "        vertical-align: top;\n",
       "    }\n",
       "</style>\n",
       "<table border=\"1\" class=\"dataframe\">\n",
       "  <thead>\n",
       "    <tr style=\"text-align: right;\">\n",
       "      <th></th>\n",
       "      <th>income</th>\n",
       "      <th>education</th>\n",
       "      <th>percentage</th>\n",
       "    </tr>\n",
       "  </thead>\n",
       "  <tbody>\n",
       "    <tr>\n",
       "      <th>0</th>\n",
       "      <td>Over $50K</td>\n",
       "      <td>Advanced_Degree</td>\n",
       "      <td>5.300709</td>\n",
       "    </tr>\n",
       "    <tr>\n",
       "      <th>1</th>\n",
       "      <td>Over $50K</td>\n",
       "      <td>Bachelors_Degree</td>\n",
       "      <td>13.992203</td>\n",
       "    </tr>\n",
       "    <tr>\n",
       "      <th>2</th>\n",
       "      <td>Over $50K</td>\n",
       "      <td>High_School</td>\n",
       "      <td>6.011719</td>\n",
       "    </tr>\n",
       "    <tr>\n",
       "      <th>3</th>\n",
       "      <td>Over $50K</td>\n",
       "      <td>Middle_School</td>\n",
       "      <td>0.213303</td>\n",
       "    </tr>\n",
       "    <tr>\n",
       "      <th>4</th>\n",
       "      <td>Under $50K</td>\n",
       "      <td>Advanced_Degree</td>\n",
       "      <td>3.170128</td>\n",
       "    </tr>\n",
       "    <tr>\n",
       "      <th>5</th>\n",
       "      <td>Under $50K</td>\n",
       "      <td>Bachelors_Degree</td>\n",
       "      <td>33.885797</td>\n",
       "    </tr>\n",
       "    <tr>\n",
       "      <th>6</th>\n",
       "      <td>Under $50K</td>\n",
       "      <td>High_School</td>\n",
       "      <td>34.260916</td>\n",
       "    </tr>\n",
       "    <tr>\n",
       "      <th>7</th>\n",
       "      <td>Under $50K</td>\n",
       "      <td>Middle_School</td>\n",
       "      <td>3.165224</td>\n",
       "    </tr>\n",
       "  </tbody>\n",
       "</table>\n",
       "</div>"
      ],
      "text/plain": [
       "       income         education  percentage\n",
       "0   Over $50K   Advanced_Degree    5.300709\n",
       "1   Over $50K  Bachelors_Degree   13.992203\n",
       "2   Over $50K       High_School    6.011719\n",
       "3   Over $50K     Middle_School    0.213303\n",
       "4  Under $50K   Advanced_Degree    3.170128\n",
       "5  Under $50K  Bachelors_Degree   33.885797\n",
       "6  Under $50K       High_School   34.260916\n",
       "7  Under $50K     Middle_School    3.165224"
      ]
     },
     "execution_count": 394,
     "metadata": {},
     "output_type": "execute_result"
    }
   ],
   "source": [
    "education_counts = (df1.groupby(['income','education']).size() / df1.education.count()).rename('percentage').mul(100).reset_index()\n",
    "education_counts"
   ]
  },
  {
   "cell_type": "code",
   "execution_count": 395,
   "metadata": {},
   "outputs": [
    {
     "data": {
      "image/png": "[encoded data removed]",
      "text/plain": [
       "<matplotlib.figure.Figure at 0x1ea8bc82ba8>"
      ]
     },
     "metadata": {},
     "output_type": "display_data"
    }
   ],
   "source": [
    "colors = ['pink', 'lightcoral', 'lightskyblue', 'yellowgreen']\n",
    "plt.figure(figsize=(15,5))\n",
    "plt.subplot(121)\n",
    "plt.pie(education_count_pie['percentage'], labels= education_count_pie['index'], autopct='%1.0f%%',colors=colors )\n",
    "plt.axis('equal')\n",
    "plt.title(\"Distribution of Education\\n\")\n",
    "plt.subplot(122)\n",
    "ax = sns.barplot(x=\"education\", y=\"percentage\", hue=\"income\", data=education_counts, palette='husl')  \n",
    "plt.title('Distribution of income by Education\\n')\n",
    "plt.xticks(rotation=45)\n",
    "plt.show()\n"
   ]
  },
  {
   "cell_type": "markdown",
   "metadata": {},
   "source": [
    "The pie chart shows that we have more people with bachelors degree which is 48% of the total population.\n",
    "40% of population are high schoolers where as only 8% of people got advanced degree like Masters, Professional Degrees, or Doctorates.\n",
    "\n",
    "5% of the advanced degree holders earn over \\$50K while rest 3% are earning under \\$50K.\n",
    "Around 34% of Bachelor degree holders and high schoolers are earning under \\$50K which clearly indicates education is a big factor for higher income."
   ]
  },
  {
   "cell_type": "code",
   "execution_count": 19,
   "metadata": {},
   "outputs": [
    {
     "data": {
      "image/png": "[encoded data removed]",
      "text/plain": [
       "<matplotlib.figure.Figure at 0x1c1d79521d0>"
      ]
     },
     "metadata": {},
     "output_type": "display_data"
    },
    {
     "data": {
      "image/png": "[encoded data removed]",
      "text/plain": [
       "<matplotlib.figure.Figure at 0x1c1d781fb38>"
      ]
     },
     "metadata": {},
     "output_type": "display_data"
    },
    {
     "data": {
      "image/png": "[encoded data removed]",
      "text/plain": [
       "<matplotlib.figure.Figure at 0x1c1d7a61cc0>"
      ]
     },
     "metadata": {},
     "output_type": "display_data"
    }
   ],
   "source": [
    "for col in ['workclass', 'race','sex' ] :\n",
    "    plt.figure(figsize=(12,5))\n",
    "    plt.subplot(121)\n",
    "    plt.title('Distribution of {}'.format(col))\n",
    "    plt.xticks(rotation=90)\n",
    "    sns.countplot(data = df1,  x = col, palette='husl' )\n",
    "    plt.subplot(122)\n",
    "    plt.title('Distribution of income by {}'.format(col))\n",
    "    ax = sns.countplot(data = df1, x = col, hue = 'income' , palette='husl')\n",
    "    plt.xticks(rotation=90)\n",
    "    plt.tight_layout()\n",
    "    plt.show()"
   ]
  },
  {
   "cell_type": "code",
   "execution_count": 26,
   "metadata": {},
   "outputs": [
    {
     "data": {
      "image/png": "[encoded data removed]",
      "text/plain": [
       "<matplotlib.figure.Figure at 0x1c1d7ac8a58>"
      ]
     },
     "metadata": {},
     "output_type": "display_data"
    }
   ],
   "source": [
    "plt.figure(figsize=(10,5))\n",
    "ax = sns.countplot(data = df1, hue = 'income', x = 'occupation' , palette='husl')\n",
    "plt.xticks(rotation=90)\n",
    "\n",
    "plt.show()"
   ]
  },
  {
   "cell_type": "code",
   "execution_count": 24,
   "metadata": {
    "collapsed": true
   },
   "outputs": [],
   "source": [
    "marital_status_pie = df1.marital_status.value_counts(normalize=True).rename('percentage').mul(100).reset_index()\n",
    "marital_status_counts = (df1.groupby('income')['marital_status'].value_counts(normalize=True).rename('percentage').mul(100).reset_index().sort_values('marital_status')) "
   ]
  },
  {
   "cell_type": "code",
   "execution_count": 25,
   "metadata": {},
   "outputs": [
    {
     "data": {
      "image/png": "[encoded data removed]",
      "text/plain": [
       "<matplotlib.figure.Figure at 0x1c1d7af9470>"
      ]
     },
     "metadata": {},
     "output_type": "display_data"
    }
   ],
   "source": [
    "colors = ['pink', 'lightcoral', 'lightskyblue', 'yellowgreen']\n",
    "plt.figure(figsize=(15,5))\n",
    "plt.subplot(121)\n",
    "plt.pie(marital_status_pie['percentage'], labels= marital_status_pie['index'], autopct='%1.0f%%',colors=colors )\n",
    "plt.axis('equal')\n",
    "plt.title(\"Distribution of Marital status\\n\")\n",
    "plt.subplot(122)\n",
    "ax = sns.barplot(x='marital_status', y=\"percentage\", hue=\"income\", data=marital_status_counts, palette='husl')  \n",
    "plt.title('Distribution of income by Marital status\\n')\n",
    "#ax.set_xticklabels(['Under $50K', 'Over $50K'])\n",
    "plt.xticks(rotation=45)\n",
    "plt.show()\n"
   ]
  },
  {
   "cell_type": "markdown",
   "metadata": {
    "collapsed": true
   },
   "source": [
    "We visualize that there are more people who earn less than \\$50,000 in the majority of categories including workclass, race, gender, occupation.\n",
    "\n",
    "But Individuals having advanced degree or being married and living with spouse are earning over \\$50,000."
   ]
  },
  {
   "cell_type": "code",
   "execution_count": 51,
   "metadata": {},
   "outputs": [
    {
     "data": {
      "text/html": [
       "<div>\n",
       "<style>\n",
       "    .dataframe thead tr:only-child th {\n",
       "        text-align: right;\n",
       "    }\n",
       "\n",
       "    .dataframe thead th {\n",
       "        text-align: left;\n",
       "    }\n",
       "\n",
       "    .dataframe tbody tr th {\n",
       "        vertical-align: top;\n",
       "    }\n",
       "</style>\n",
       "<table border=\"1\" class=\"dataframe\">\n",
       "  <thead>\n",
       "    <tr style=\"text-align: right;\">\n",
       "      <th></th>\n",
       "      <th>Feature</th>\n",
       "      <th>P_value</th>\n",
       "    </tr>\n",
       "  </thead>\n",
       "  <tbody>\n",
       "    <tr>\n",
       "      <th>0</th>\n",
       "      <td>occupation</td>\n",
       "      <td>0.0</td>\n",
       "    </tr>\n",
       "    <tr>\n",
       "      <th>1</th>\n",
       "      <td>education</td>\n",
       "      <td>0.0</td>\n",
       "    </tr>\n",
       "    <tr>\n",
       "      <th>2</th>\n",
       "      <td>workclass</td>\n",
       "      <td>0.0</td>\n",
       "    </tr>\n",
       "    <tr>\n",
       "      <th>3</th>\n",
       "      <td>race</td>\n",
       "      <td>0.0</td>\n",
       "    </tr>\n",
       "    <tr>\n",
       "      <th>4</th>\n",
       "      <td>sex</td>\n",
       "      <td>0.0</td>\n",
       "    </tr>\n",
       "    <tr>\n",
       "      <th>5</th>\n",
       "      <td>marital_status</td>\n",
       "      <td>0.0</td>\n",
       "    </tr>\n",
       "  </tbody>\n",
       "</table>\n",
       "</div>"
      ],
      "text/plain": [
       "          Feature  P_value\n",
       "0      occupation      0.0\n",
       "1       education      0.0\n",
       "2       workclass      0.0\n",
       "3            race      0.0\n",
       "4             sex      0.0\n",
       "5  marital_status      0.0"
      ]
     },
     "execution_count": 51,
     "metadata": {},
     "output_type": "execute_result"
    }
   ],
   "source": [
    "# Initializing data frame to hold p-values from Chi-Square test\n",
    "p_vals_df = pd.DataFrame(columns=['Feature', 'P_value'])\n",
    "\n",
    "for col in ['occupation','education','workclass','race','sex','marital_status']:\n",
    "    counttable = pd.crosstab(df[col], df.income)\n",
    "    chisq , p_val = stats.chisquare(counttable, axis=None)\n",
    "    p_vals_df = p_vals_df.append({'Feature':col, 'P_value':float(p_val)}, ignore_index=True)\n",
    "\n",
    "# Printing p-values of Chi-squared tests, sorted by p-values\n",
    "p_vals_df.sort_values('P_value')"
   ]
  },
  {
   "cell_type": "markdown",
   "metadata": {},
   "source": [
    "According to the p-values from the chi-squared tests, all categorical values have significant differences (p-value < 0.05) between populations earning over \\$50K and under \\$50K incomes. This means that all of these demographic attributes have some relationship with income level. So we will consider all these attributes as potential features in our modeling."
   ]
  },
  {
   "cell_type": "markdown",
   "metadata": {},
   "source": [
    "Now start analyzing bivariate relation between a continuous and a categorical attribute :"
   ]
  },
  {
   "cell_type": "code",
   "execution_count": 52,
   "metadata": {},
   "outputs": [
    {
     "data": {
      "image/png": "[encoded data removed]",
      "text/plain": [
       "<matplotlib.figure.Figure at 0x1c1d7b53438>"
      ]
     },
     "metadata": {},
     "output_type": "display_data"
    },
    {
     "data": {
      "image/png": "[encoded data removed]",
      "text/plain": [
       "<matplotlib.figure.Figure at 0x1c1d7b53ba8>"
      ]
     },
     "metadata": {},
     "output_type": "display_data"
    },
    {
     "data": {
      "image/png": "[encoded data removed]",
      "text/plain": [
       "<matplotlib.figure.Figure at 0x1c1d74e55c0>"
      ]
     },
     "metadata": {},
     "output_type": "display_data"
    },
    {
     "data": {
      "image/png": "[encoded data removed]",
      "text/plain": [
       "<matplotlib.figure.Figure at 0x1c1d7842c50>"
      ]
     },
     "metadata": {},
     "output_type": "display_data"
    },
    {
     "data": {
      "text/html": [
       "<div>\n",
       "<style>\n",
       "    .dataframe thead tr:only-child th {\n",
       "        text-align: right;\n",
       "    }\n",
       "\n",
       "    .dataframe thead th {\n",
       "        text-align: left;\n",
       "    }\n",
       "\n",
       "    .dataframe tbody tr th {\n",
       "        vertical-align: top;\n",
       "    }\n",
       "</style>\n",
       "<table border=\"1\" class=\"dataframe\">\n",
       "  <thead>\n",
       "    <tr style=\"text-align: right;\">\n",
       "      <th></th>\n",
       "      <th>Feature</th>\n",
       "      <th>P_value</th>\n",
       "    </tr>\n",
       "  </thead>\n",
       "  <tbody>\n",
       "    <tr>\n",
       "      <th>0</th>\n",
       "      <td>age</td>\n",
       "      <td>0.000000e+00</td>\n",
       "    </tr>\n",
       "    <tr>\n",
       "      <th>1</th>\n",
       "      <td>capital_gain</td>\n",
       "      <td>0.000000e+00</td>\n",
       "    </tr>\n",
       "    <tr>\n",
       "      <th>3</th>\n",
       "      <td>hours_per_week</td>\n",
       "      <td>0.000000e+00</td>\n",
       "    </tr>\n",
       "    <tr>\n",
       "      <th>2</th>\n",
       "      <td>capital_loss</td>\n",
       "      <td>2.783591e-203</td>\n",
       "    </tr>\n",
       "  </tbody>\n",
       "</table>\n",
       "</div>"
      ],
      "text/plain": [
       "          Feature        P_value\n",
       "0             age   0.000000e+00\n",
       "1    capital_gain   0.000000e+00\n",
       "3  hours_per_week   0.000000e+00\n",
       "2    capital_loss  2.783591e-203"
      ]
     },
     "execution_count": 52,
     "metadata": {},
     "output_type": "execute_result"
    }
   ],
   "source": [
    "# Initializing data frame to hold p-values from Chi-Square test\n",
    "ttest_p_vals_df = pd.DataFrame(columns=['Feature', 'P_value'])\n",
    "\n",
    "for cnt_cols in ['age', 'capital_gain', 'capital_loss', 'hours_per_week']:\n",
    "    plt.figure(figsize=(12,4))\n",
    "    plt.subplot(121)\n",
    "    plt.title('Distribution of {}\\n'.format(cnt_cols))\n",
    "    sns.distplot(df[cnt_cols])\n",
    "    plt.subplot(122)\n",
    "    plt.title('Distribution of income by {}\\n'.format(cnt_cols))\n",
    "    ax = sns.boxplot(data = df, x= 'income' , y = cnt_cols)\n",
    "    ax.set_xticklabels(['Under $50K', 'Over $50K'])\n",
    "    plt.tight_layout()\n",
    "    plt.show()\n",
    "    \n",
    "    t_val, p_val = stats.ttest_ind(df[df.income == 0][cnt_cols] , df[df.income == 1][cnt_cols])\n",
    "    ttest_p_vals_df = ttest_p_vals_df.append({'Feature':cnt_cols, 'P_value':float(p_val)}, ignore_index=True)\n",
    "\n",
    "# Printing p-values of T tests, sorted by p-values\n",
    "ttest_p_vals_df.sort_values('P_value')"
   ]
  },
  {
   "cell_type": "markdown",
   "metadata": {},
   "source": [
    "As per the p_values obtained from ttest, \n",
    "all of the continuous variables have significant differences (p-value < 0.05) between populations earning over \\$50K and under \\$50K incomes.\n",
    "\n",
    "From the histograms we can conclude that :\n",
    "\n",
    "    Age is slightly right skewed with a tail contining older people in the population. \n",
    "    This may be because the dataset did not include people younger than 16 years .\n",
    "    \n",
    "    Capital gains and capital losses are also skewed right.\n",
    "    This may be because many people did not report these figures.\n",
    "    \n",
    "    Hours per week is centered around 40. The majority of people worked around 40 hours per week\n",
    "    \n",
    "From the boxplots we can conclude that:\n",
    "\n",
    "    Older people are more likely to earn more than \\$50K\n",
    "    Most people had zero capital gains and capital losses\n",
    "    Majority of People who worked over 40 hours per week earned more than \\$50K"
   ]
  },
  {
   "cell_type": "markdown",
   "metadata": {},
   "source": [
    "fnlwgt: final weight column is the number of people the census believes the entry represents. This column is not useful for our modelling. So we can drop it."
   ]
  },
  {
   "cell_type": "code",
   "execution_count": 14,
   "metadata": {
    "collapsed": true
   },
   "outputs": [],
   "source": [
    "df.drop('fnlwgt', axis = 1, inplace = True)"
   ]
  },
  {
   "cell_type": "code",
   "execution_count": 71,
   "metadata": {},
   "outputs": [
    {
     "data": {
      "text/html": [
       "<div>\n",
       "<style>\n",
       "    .dataframe thead tr:only-child th {\n",
       "        text-align: right;\n",
       "    }\n",
       "\n",
       "    .dataframe thead th {\n",
       "        text-align: left;\n",
       "    }\n",
       "\n",
       "    .dataframe tbody tr th {\n",
       "        vertical-align: top;\n",
       "    }\n",
       "</style>\n",
       "<table border=\"1\" class=\"dataframe\">\n",
       "  <thead>\n",
       "    <tr style=\"text-align: right;\">\n",
       "      <th></th>\n",
       "      <th>age</th>\n",
       "      <th>workclass</th>\n",
       "      <th>education</th>\n",
       "      <th>marital_status</th>\n",
       "      <th>occupation</th>\n",
       "      <th>race</th>\n",
       "      <th>sex</th>\n",
       "      <th>capital_gain</th>\n",
       "      <th>capital_loss</th>\n",
       "      <th>hours_per_week</th>\n",
       "      <th>native_country</th>\n",
       "      <th>income</th>\n",
       "    </tr>\n",
       "  </thead>\n",
       "  <tbody>\n",
       "    <tr>\n",
       "      <th>0</th>\n",
       "      <td>39</td>\n",
       "      <td>Government</td>\n",
       "      <td>Bachelors_Degree</td>\n",
       "      <td>Never_married</td>\n",
       "      <td>Adm-clerical</td>\n",
       "      <td>White</td>\n",
       "      <td>Male</td>\n",
       "      <td>2174</td>\n",
       "      <td>0</td>\n",
       "      <td>40</td>\n",
       "      <td>United-States</td>\n",
       "      <td>0</td>\n",
       "    </tr>\n",
       "    <tr>\n",
       "      <th>1</th>\n",
       "      <td>50</td>\n",
       "      <td>Self_employed</td>\n",
       "      <td>Bachelors_Degree</td>\n",
       "      <td>Married_living_with_spouse</td>\n",
       "      <td>Exec-managerial</td>\n",
       "      <td>White</td>\n",
       "      <td>Male</td>\n",
       "      <td>0</td>\n",
       "      <td>0</td>\n",
       "      <td>13</td>\n",
       "      <td>United-States</td>\n",
       "      <td>0</td>\n",
       "    </tr>\n",
       "    <tr>\n",
       "      <th>2</th>\n",
       "      <td>38</td>\n",
       "      <td>Private</td>\n",
       "      <td>High_School</td>\n",
       "      <td>Married_living_alone</td>\n",
       "      <td>Handlers-cleaners</td>\n",
       "      <td>White</td>\n",
       "      <td>Male</td>\n",
       "      <td>0</td>\n",
       "      <td>0</td>\n",
       "      <td>40</td>\n",
       "      <td>United-States</td>\n",
       "      <td>0</td>\n",
       "    </tr>\n",
       "    <tr>\n",
       "      <th>3</th>\n",
       "      <td>53</td>\n",
       "      <td>Private</td>\n",
       "      <td>High_School</td>\n",
       "      <td>Married_living_with_spouse</td>\n",
       "      <td>Handlers-cleaners</td>\n",
       "      <td>Black</td>\n",
       "      <td>Male</td>\n",
       "      <td>0</td>\n",
       "      <td>0</td>\n",
       "      <td>40</td>\n",
       "      <td>United-States</td>\n",
       "      <td>0</td>\n",
       "    </tr>\n",
       "    <tr>\n",
       "      <th>5</th>\n",
       "      <td>37</td>\n",
       "      <td>Private</td>\n",
       "      <td>Advanced_Degree</td>\n",
       "      <td>Married_living_with_spouse</td>\n",
       "      <td>Exec-managerial</td>\n",
       "      <td>White</td>\n",
       "      <td>Female</td>\n",
       "      <td>0</td>\n",
       "      <td>0</td>\n",
       "      <td>40</td>\n",
       "      <td>United-States</td>\n",
       "      <td>0</td>\n",
       "    </tr>\n",
       "  </tbody>\n",
       "</table>\n",
       "</div>"
      ],
      "text/plain": [
       "   age      workclass         education              marital_status  \\\n",
       "0   39     Government  Bachelors_Degree               Never_married   \n",
       "1   50  Self_employed  Bachelors_Degree  Married_living_with_spouse   \n",
       "2   38        Private       High_School        Married_living_alone   \n",
       "3   53        Private       High_School  Married_living_with_spouse   \n",
       "5   37        Private   Advanced_Degree  Married_living_with_spouse   \n",
       "\n",
       "          occupation   race     sex  capital_gain  capital_loss  \\\n",
       "0       Adm-clerical  White    Male          2174             0   \n",
       "1    Exec-managerial  White    Male             0             0   \n",
       "2  Handlers-cleaners  White    Male             0             0   \n",
       "3  Handlers-cleaners  Black    Male             0             0   \n",
       "5    Exec-managerial  White  Female             0             0   \n",
       "\n",
       "   hours_per_week native_country  income  \n",
       "0              40  United-States       0  \n",
       "1              13  United-States       0  \n",
       "2              40  United-States       0  \n",
       "3              40  United-States       0  \n",
       "5              40  United-States       0  "
      ]
     },
     "execution_count": 71,
     "metadata": {},
     "output_type": "execute_result"
    }
   ],
   "source": [
    "df.head()"
   ]
  },
  {
   "cell_type": "markdown",
   "metadata": {},
   "source": [
    "# Feature Engineering"
   ]
  },
  {
   "cell_type": "code",
   "execution_count": 19,
   "metadata": {
    "collapsed": true
   },
   "outputs": [],
   "source": [
    "features = df"
   ]
  },
  {
   "cell_type": "code",
   "execution_count": 20,
   "metadata": {},
   "outputs": [
    {
     "data": {
      "text/html": [
       "<div>\n",
       "<style>\n",
       "    .dataframe thead tr:only-child th {\n",
       "        text-align: right;\n",
       "    }\n",
       "\n",
       "    .dataframe thead th {\n",
       "        text-align: left;\n",
       "    }\n",
       "\n",
       "    .dataframe tbody tr th {\n",
       "        vertical-align: top;\n",
       "    }\n",
       "</style>\n",
       "<table border=\"1\" class=\"dataframe\">\n",
       "  <thead>\n",
       "    <tr style=\"text-align: right;\">\n",
       "      <th></th>\n",
       "      <th>age</th>\n",
       "      <th>workclass</th>\n",
       "      <th>education</th>\n",
       "      <th>marital_status</th>\n",
       "      <th>occupation</th>\n",
       "      <th>race</th>\n",
       "      <th>sex</th>\n",
       "      <th>capital_gain</th>\n",
       "      <th>capital_loss</th>\n",
       "      <th>hours_per_week</th>\n",
       "      <th>native_country</th>\n",
       "      <th>income</th>\n",
       "    </tr>\n",
       "  </thead>\n",
       "  <tbody>\n",
       "    <tr>\n",
       "      <th>0</th>\n",
       "      <td>39</td>\n",
       "      <td>Government</td>\n",
       "      <td>Bachelors_Degree</td>\n",
       "      <td>Never_married</td>\n",
       "      <td>Adm-clerical</td>\n",
       "      <td>White</td>\n",
       "      <td>Male</td>\n",
       "      <td>2174</td>\n",
       "      <td>0</td>\n",
       "      <td>40</td>\n",
       "      <td>United-States</td>\n",
       "      <td>0</td>\n",
       "    </tr>\n",
       "    <tr>\n",
       "      <th>1</th>\n",
       "      <td>50</td>\n",
       "      <td>Self_employed</td>\n",
       "      <td>Bachelors_Degree</td>\n",
       "      <td>Married_living_with_spouse</td>\n",
       "      <td>Exec-managerial</td>\n",
       "      <td>White</td>\n",
       "      <td>Male</td>\n",
       "      <td>0</td>\n",
       "      <td>0</td>\n",
       "      <td>13</td>\n",
       "      <td>United-States</td>\n",
       "      <td>0</td>\n",
       "    </tr>\n",
       "    <tr>\n",
       "      <th>2</th>\n",
       "      <td>38</td>\n",
       "      <td>Private</td>\n",
       "      <td>High_School</td>\n",
       "      <td>Married_living_alone</td>\n",
       "      <td>Handlers-cleaners</td>\n",
       "      <td>White</td>\n",
       "      <td>Male</td>\n",
       "      <td>0</td>\n",
       "      <td>0</td>\n",
       "      <td>40</td>\n",
       "      <td>United-States</td>\n",
       "      <td>0</td>\n",
       "    </tr>\n",
       "    <tr>\n",
       "      <th>3</th>\n",
       "      <td>53</td>\n",
       "      <td>Private</td>\n",
       "      <td>High_School</td>\n",
       "      <td>Married_living_with_spouse</td>\n",
       "      <td>Handlers-cleaners</td>\n",
       "      <td>Black</td>\n",
       "      <td>Male</td>\n",
       "      <td>0</td>\n",
       "      <td>0</td>\n",
       "      <td>40</td>\n",
       "      <td>United-States</td>\n",
       "      <td>0</td>\n",
       "    </tr>\n",
       "    <tr>\n",
       "      <th>5</th>\n",
       "      <td>37</td>\n",
       "      <td>Private</td>\n",
       "      <td>Advanced_Degree</td>\n",
       "      <td>Married_living_with_spouse</td>\n",
       "      <td>Exec-managerial</td>\n",
       "      <td>White</td>\n",
       "      <td>Female</td>\n",
       "      <td>0</td>\n",
       "      <td>0</td>\n",
       "      <td>40</td>\n",
       "      <td>United-States</td>\n",
       "      <td>0</td>\n",
       "    </tr>\n",
       "  </tbody>\n",
       "</table>\n",
       "</div>"
      ],
      "text/plain": [
       "   age      workclass         education              marital_status  \\\n",
       "0   39     Government  Bachelors_Degree               Never_married   \n",
       "1   50  Self_employed  Bachelors_Degree  Married_living_with_spouse   \n",
       "2   38        Private       High_School        Married_living_alone   \n",
       "3   53        Private       High_School  Married_living_with_spouse   \n",
       "5   37        Private   Advanced_Degree  Married_living_with_spouse   \n",
       "\n",
       "          occupation   race     sex  capital_gain  capital_loss  \\\n",
       "0       Adm-clerical  White    Male          2174             0   \n",
       "1    Exec-managerial  White    Male             0             0   \n",
       "2  Handlers-cleaners  White    Male             0             0   \n",
       "3  Handlers-cleaners  Black    Male             0             0   \n",
       "5    Exec-managerial  White  Female             0             0   \n",
       "\n",
       "   hours_per_week native_country  income  \n",
       "0              40  United-States       0  \n",
       "1              13  United-States       0  \n",
       "2              40  United-States       0  \n",
       "3              40  United-States       0  \n",
       "5              40  United-States       0  "
      ]
     },
     "execution_count": 20,
     "metadata": {},
     "output_type": "execute_result"
    }
   ],
   "source": [
    "features.head()"
   ]
  },
  {
   "cell_type": "code",
   "execution_count": 21,
   "metadata": {
    "collapsed": true
   },
   "outputs": [],
   "source": [
    "workclass_dummies = pd.get_dummies(features.workclass, prefix = 'work')\n",
    "features = pd.concat([features,workclass_dummies], axis = 1)\n",
    "features.drop('workclass', axis = 1, inplace = True)"
   ]
  },
  {
   "cell_type": "code",
   "execution_count": 23,
   "metadata": {
    "collapsed": true
   },
   "outputs": [],
   "source": [
    "education_dummies = pd.get_dummies(features.education, prefix = 'edu')\n",
    "features = pd.concat([features,education_dummies], axis = 1)\n",
    "features.drop('education', axis = 1, inplace = True)"
   ]
  },
  {
   "cell_type": "code",
   "execution_count": 24,
   "metadata": {
    "collapsed": true
   },
   "outputs": [],
   "source": [
    "marital_status_dummies = pd.get_dummies(features.marital_status)\n",
    "features = pd.concat([features,marital_status_dummies], axis = 1)\n",
    "features.drop('marital_status', axis = 1, inplace = True)"
   ]
  },
  {
   "cell_type": "code",
   "execution_count": 25,
   "metadata": {
    "collapsed": true
   },
   "outputs": [],
   "source": [
    "occupation_dummies = pd.get_dummies(features.occupation, prefix = 'Occup')\n",
    "features = pd.concat([features,occupation_dummies], axis = 1)\n",
    "features.drop('occupation', axis = 1, inplace = True)"
   ]
  },
  {
   "cell_type": "code",
   "execution_count": 26,
   "metadata": {
    "collapsed": true
   },
   "outputs": [],
   "source": [
    "race_dummies = pd.get_dummies(features.race)\n",
    "features = pd.concat([features,race_dummies], axis = 1)\n",
    "features.drop('race', axis = 1, inplace = True)"
   ]
  },
  {
   "cell_type": "code",
   "execution_count": 27,
   "metadata": {
    "collapsed": true
   },
   "outputs": [],
   "source": [
    "sex_dummies = pd.get_dummies(features.sex)\n",
    "features = pd.concat([features,sex_dummies], axis = 1)\n",
    "features.drop('sex', axis = 1, inplace = True)"
   ]
  },
  {
   "cell_type": "code",
   "execution_count": 28,
   "metadata": {
    "collapsed": true
   },
   "outputs": [],
   "source": [
    "features['native_country'] = 1"
   ]
  },
  {
   "cell_type": "code",
   "execution_count": 29,
   "metadata": {},
   "outputs": [
    {
     "data": {
      "text/html": [
       "<div>\n",
       "<style>\n",
       "    .dataframe thead tr:only-child th {\n",
       "        text-align: right;\n",
       "    }\n",
       "\n",
       "    .dataframe thead th {\n",
       "        text-align: left;\n",
       "    }\n",
       "\n",
       "    .dataframe tbody tr th {\n",
       "        vertical-align: top;\n",
       "    }\n",
       "</style>\n",
       "<table border=\"1\" class=\"dataframe\">\n",
       "  <thead>\n",
       "    <tr style=\"text-align: right;\">\n",
       "      <th></th>\n",
       "      <th>age</th>\n",
       "      <th>capital_gain</th>\n",
       "      <th>capital_loss</th>\n",
       "      <th>hours_per_week</th>\n",
       "      <th>native_country</th>\n",
       "      <th>income</th>\n",
       "      <th>work_Government</th>\n",
       "      <th>work_Private</th>\n",
       "      <th>work_Self_employed</th>\n",
       "      <th>work_Without-pay</th>\n",
       "      <th>...</th>\n",
       "      <th>Occup_Sales</th>\n",
       "      <th>Occup_Tech-support</th>\n",
       "      <th>Occup_Transport-moving</th>\n",
       "      <th>Amer-Indian-Eskimo</th>\n",
       "      <th>Asian-Pac-Islander</th>\n",
       "      <th>Black</th>\n",
       "      <th>Other</th>\n",
       "      <th>White</th>\n",
       "      <th>Female</th>\n",
       "      <th>Male</th>\n",
       "    </tr>\n",
       "  </thead>\n",
       "  <tbody>\n",
       "    <tr>\n",
       "      <th>0</th>\n",
       "      <td>39</td>\n",
       "      <td>2174</td>\n",
       "      <td>0</td>\n",
       "      <td>40</td>\n",
       "      <td>1</td>\n",
       "      <td>0</td>\n",
       "      <td>1</td>\n",
       "      <td>0</td>\n",
       "      <td>0</td>\n",
       "      <td>0</td>\n",
       "      <td>...</td>\n",
       "      <td>0</td>\n",
       "      <td>0</td>\n",
       "      <td>0</td>\n",
       "      <td>0</td>\n",
       "      <td>0</td>\n",
       "      <td>0</td>\n",
       "      <td>0</td>\n",
       "      <td>1</td>\n",
       "      <td>0</td>\n",
       "      <td>1</td>\n",
       "    </tr>\n",
       "    <tr>\n",
       "      <th>1</th>\n",
       "      <td>50</td>\n",
       "      <td>0</td>\n",
       "      <td>0</td>\n",
       "      <td>13</td>\n",
       "      <td>1</td>\n",
       "      <td>0</td>\n",
       "      <td>0</td>\n",
       "      <td>0</td>\n",
       "      <td>1</td>\n",
       "      <td>0</td>\n",
       "      <td>...</td>\n",
       "      <td>0</td>\n",
       "      <td>0</td>\n",
       "      <td>0</td>\n",
       "      <td>0</td>\n",
       "      <td>0</td>\n",
       "      <td>0</td>\n",
       "      <td>0</td>\n",
       "      <td>1</td>\n",
       "      <td>0</td>\n",
       "      <td>1</td>\n",
       "    </tr>\n",
       "    <tr>\n",
       "      <th>2</th>\n",
       "      <td>38</td>\n",
       "      <td>0</td>\n",
       "      <td>0</td>\n",
       "      <td>40</td>\n",
       "      <td>1</td>\n",
       "      <td>0</td>\n",
       "      <td>0</td>\n",
       "      <td>1</td>\n",
       "      <td>0</td>\n",
       "      <td>0</td>\n",
       "      <td>...</td>\n",
       "      <td>0</td>\n",
       "      <td>0</td>\n",
       "      <td>0</td>\n",
       "      <td>0</td>\n",
       "      <td>0</td>\n",
       "      <td>0</td>\n",
       "      <td>0</td>\n",
       "      <td>1</td>\n",
       "      <td>0</td>\n",
       "      <td>1</td>\n",
       "    </tr>\n",
       "    <tr>\n",
       "      <th>3</th>\n",
       "      <td>53</td>\n",
       "      <td>0</td>\n",
       "      <td>0</td>\n",
       "      <td>40</td>\n",
       "      <td>1</td>\n",
       "      <td>0</td>\n",
       "      <td>0</td>\n",
       "      <td>1</td>\n",
       "      <td>0</td>\n",
       "      <td>0</td>\n",
       "      <td>...</td>\n",
       "      <td>0</td>\n",
       "      <td>0</td>\n",
       "      <td>0</td>\n",
       "      <td>0</td>\n",
       "      <td>0</td>\n",
       "      <td>1</td>\n",
       "      <td>0</td>\n",
       "      <td>0</td>\n",
       "      <td>0</td>\n",
       "      <td>1</td>\n",
       "    </tr>\n",
       "    <tr>\n",
       "      <th>5</th>\n",
       "      <td>37</td>\n",
       "      <td>0</td>\n",
       "      <td>0</td>\n",
       "      <td>40</td>\n",
       "      <td>1</td>\n",
       "      <td>0</td>\n",
       "      <td>0</td>\n",
       "      <td>1</td>\n",
       "      <td>0</td>\n",
       "      <td>0</td>\n",
       "      <td>...</td>\n",
       "      <td>0</td>\n",
       "      <td>0</td>\n",
       "      <td>0</td>\n",
       "      <td>0</td>\n",
       "      <td>0</td>\n",
       "      <td>0</td>\n",
       "      <td>0</td>\n",
       "      <td>1</td>\n",
       "      <td>1</td>\n",
       "      <td>0</td>\n",
       "    </tr>\n",
       "  </tbody>\n",
       "</table>\n",
       "<p>5 rows × 38 columns</p>\n",
       "</div>"
      ],
      "text/plain": [
       "   age  capital_gain  capital_loss  hours_per_week  native_country  income  \\\n",
       "0   39          2174             0              40               1       0   \n",
       "1   50             0             0              13               1       0   \n",
       "2   38             0             0              40               1       0   \n",
       "3   53             0             0              40               1       0   \n",
       "5   37             0             0              40               1       0   \n",
       "\n",
       "   work_Government  work_Private  work_Self_employed  work_Without-pay  ...   \\\n",
       "0                1             0                   0                 0  ...    \n",
       "1                0             0                   1                 0  ...    \n",
       "2                0             1                   0                 0  ...    \n",
       "3                0             1                   0                 0  ...    \n",
       "5                0             1                   0                 0  ...    \n",
       "\n",
       "   Occup_Sales  Occup_Tech-support  Occup_Transport-moving  \\\n",
       "0            0                   0                       0   \n",
       "1            0                   0                       0   \n",
       "2            0                   0                       0   \n",
       "3            0                   0                       0   \n",
       "5            0                   0                       0   \n",
       "\n",
       "   Amer-Indian-Eskimo  Asian-Pac-Islander  Black  Other  White  Female  Male  \n",
       "0                   0                   0      0      0      1       0     1  \n",
       "1                   0                   0      0      0      1       0     1  \n",
       "2                   0                   0      0      0      1       0     1  \n",
       "3                   0                   0      1      0      0       0     1  \n",
       "5                   0                   0      0      0      1       1     0  \n",
       "\n",
       "[5 rows x 38 columns]"
      ]
     },
     "execution_count": 29,
     "metadata": {},
     "output_type": "execute_result"
    }
   ],
   "source": [
    "features.head()"
   ]
  },
  {
   "cell_type": "markdown",
   "metadata": {},
   "source": [
    "As we have seen before, the age column does not follow normal distribution. We need to do some transformation for these columns."
   ]
  },
  {
   "cell_type": "code",
   "execution_count": 124,
   "metadata": {},
   "outputs": [
    {
     "data": {
      "image/png": "[encoded data removed]",
      "text/plain": [
       "<matplotlib.figure.Figure at 0x1c1d719fcf8>"
      ]
     },
     "metadata": {},
     "output_type": "display_data"
    }
   ],
   "source": [
    "norm = np.random.normal(0,1,features.shape[0])\n",
    "norm.sort()\n",
    "plt.plot(norm , sorted(features.age), marker = 'o')\n",
    "plt.show()"
   ]
  },
  {
   "cell_type": "code",
   "execution_count": 125,
   "metadata": {},
   "outputs": [
    {
     "data": {
      "image/png": "[encoded data removed]",
      "text/plain": [
       "<matplotlib.figure.Figure at 0x1c1d7a81320>"
      ]
     },
     "metadata": {},
     "output_type": "display_data"
    }
   ],
   "source": [
    "X_age = pd.DataFrame()\n",
    "X_age['age_log'] = np.log(features.age)\n",
    "X_age['age_sqrt'] = np.sqrt(features.age)\n",
    "X_age['age_inv'] = 1 / features.age\n",
    "\n",
    "from scipy.stats import boxcox\n",
    "bc = boxcox(features.age)\n",
    "\n",
    "X_age['age_bc'] = bc[0]\n",
    "\n",
    "plt.subplot(221)\n",
    "plt.title('Log')\n",
    "plt.plot(norm , sorted(X_age['age_log']), marker = 'o')\n",
    "plt.subplot(222)\n",
    "plt.title('Square Root')\n",
    "plt.plot(norm , sorted(X_age['age_sqrt']), marker = 'o')\n",
    "plt.subplot(223)\n",
    "plt.title('Inverse')\n",
    "plt.plot(norm , sorted(X_age['age_inv']), marker = 'o')\n",
    "plt.subplot(224)\n",
    "plt.title('BoxCox')\n",
    "plt.plot(norm , sorted(X_age['age_bc']), marker = 'o')\n",
    "plt.tight_layout()\n",
    "plt.show()"
   ]
  },
  {
   "cell_type": "markdown",
   "metadata": {
    "collapsed": true
   },
   "source": [
    "From the above figures, the square root transformation likely follows normal distribution."
   ]
  },
  {
   "cell_type": "code",
   "execution_count": 30,
   "metadata": {
    "collapsed": true
   },
   "outputs": [],
   "source": [
    "features['age_sqrt'] = np.sqrt(features.age)\n",
    "features.drop('age',axis=1, inplace=True)"
   ]
  },
  {
   "cell_type": "markdown",
   "metadata": {},
   "source": [
    "From capital_gain and capital_loss calculate the net gain"
   ]
  },
  {
   "cell_type": "code",
   "execution_count": 31,
   "metadata": {
    "collapsed": true
   },
   "outputs": [],
   "source": [
    "features['net_capital_gain'] = features.capital_gain - features.capital_loss"
   ]
  },
  {
   "cell_type": "code",
   "execution_count": 129,
   "metadata": {},
   "outputs": [
    {
     "data": {
      "text/plain": [
       "count    41292.000000\n",
       "mean      1036.693597\n",
       "std       7626.476929\n",
       "min      -4356.000000\n",
       "25%          0.000000\n",
       "50%          0.000000\n",
       "75%          0.000000\n",
       "max      99999.000000\n",
       "Name: net_capital_gain, dtype: float64"
      ]
     },
     "execution_count": 129,
     "metadata": {},
     "output_type": "execute_result"
    }
   ],
   "source": [
    "features['net_capital_gain'].describe()"
   ]
  },
  {
   "cell_type": "code",
   "execution_count": 32,
   "metadata": {},
   "outputs": [
    {
     "data": {
      "text/plain": [
       "No_loss_gain    35777\n",
       "Loss             1989\n",
       "Gain             1333\n",
       "High Gain        1182\n",
       "Name: net_capital_gain_cat, dtype: int64"
      ]
     },
     "execution_count": 32,
     "metadata": {},
     "output_type": "execute_result"
    }
   ],
   "source": [
    "custom_buckets = [-5000, -1, 0, 5000, 10000]\n",
    "features['net_capital_gain_cat'] = pd.cut(features.net_capital_gain, custom_buckets, \n",
    "                                       labels=['Loss','No_loss_gain','Gain', 'High Gain'])\n",
    "features.net_capital_gain_cat.value_counts()"
   ]
  },
  {
   "cell_type": "code",
   "execution_count": 33,
   "metadata": {
    "collapsed": true
   },
   "outputs": [],
   "source": [
    "cap_dummies = pd.get_dummies(features['net_capital_gain_cat'], prefix='Capital')\n",
    "features = pd.concat([features,cap_dummies ], axis = 1)\n",
    "features.drop(['net_capital_gain_cat','capital_gain', 'capital_loss','net_capital_gain'], axis= 1, inplace=True)"
   ]
  },
  {
   "cell_type": "code",
   "execution_count": 34,
   "metadata": {},
   "outputs": [
    {
     "data": {
      "text/html": [
       "<div>\n",
       "<style>\n",
       "    .dataframe thead tr:only-child th {\n",
       "        text-align: right;\n",
       "    }\n",
       "\n",
       "    .dataframe thead th {\n",
       "        text-align: left;\n",
       "    }\n",
       "\n",
       "    .dataframe tbody tr th {\n",
       "        vertical-align: top;\n",
       "    }\n",
       "</style>\n",
       "<table border=\"1\" class=\"dataframe\">\n",
       "  <thead>\n",
       "    <tr style=\"text-align: right;\">\n",
       "      <th></th>\n",
       "      <th>hours_per_week</th>\n",
       "      <th>native_country</th>\n",
       "      <th>income</th>\n",
       "      <th>work_Government</th>\n",
       "      <th>work_Private</th>\n",
       "      <th>work_Self_employed</th>\n",
       "      <th>work_Without-pay</th>\n",
       "      <th>edu_Advanced_Degree</th>\n",
       "      <th>edu_Bachelors_Degree</th>\n",
       "      <th>edu_High_School</th>\n",
       "      <th>...</th>\n",
       "      <th>Black</th>\n",
       "      <th>Other</th>\n",
       "      <th>White</th>\n",
       "      <th>Female</th>\n",
       "      <th>Male</th>\n",
       "      <th>age_sqrt</th>\n",
       "      <th>Capital_Loss</th>\n",
       "      <th>Capital_No_loss_gain</th>\n",
       "      <th>Capital_Gain</th>\n",
       "      <th>Capital_High Gain</th>\n",
       "    </tr>\n",
       "  </thead>\n",
       "  <tbody>\n",
       "    <tr>\n",
       "      <th>0</th>\n",
       "      <td>40</td>\n",
       "      <td>1</td>\n",
       "      <td>0</td>\n",
       "      <td>1</td>\n",
       "      <td>0</td>\n",
       "      <td>0</td>\n",
       "      <td>0</td>\n",
       "      <td>0</td>\n",
       "      <td>1</td>\n",
       "      <td>0</td>\n",
       "      <td>...</td>\n",
       "      <td>0</td>\n",
       "      <td>0</td>\n",
       "      <td>1</td>\n",
       "      <td>0</td>\n",
       "      <td>1</td>\n",
       "      <td>6.244998</td>\n",
       "      <td>0</td>\n",
       "      <td>0</td>\n",
       "      <td>1</td>\n",
       "      <td>0</td>\n",
       "    </tr>\n",
       "    <tr>\n",
       "      <th>1</th>\n",
       "      <td>13</td>\n",
       "      <td>1</td>\n",
       "      <td>0</td>\n",
       "      <td>0</td>\n",
       "      <td>0</td>\n",
       "      <td>1</td>\n",
       "      <td>0</td>\n",
       "      <td>0</td>\n",
       "      <td>1</td>\n",
       "      <td>0</td>\n",
       "      <td>...</td>\n",
       "      <td>0</td>\n",
       "      <td>0</td>\n",
       "      <td>1</td>\n",
       "      <td>0</td>\n",
       "      <td>1</td>\n",
       "      <td>7.071068</td>\n",
       "      <td>0</td>\n",
       "      <td>1</td>\n",
       "      <td>0</td>\n",
       "      <td>0</td>\n",
       "    </tr>\n",
       "    <tr>\n",
       "      <th>2</th>\n",
       "      <td>40</td>\n",
       "      <td>1</td>\n",
       "      <td>0</td>\n",
       "      <td>0</td>\n",
       "      <td>1</td>\n",
       "      <td>0</td>\n",
       "      <td>0</td>\n",
       "      <td>0</td>\n",
       "      <td>0</td>\n",
       "      <td>1</td>\n",
       "      <td>...</td>\n",
       "      <td>0</td>\n",
       "      <td>0</td>\n",
       "      <td>1</td>\n",
       "      <td>0</td>\n",
       "      <td>1</td>\n",
       "      <td>6.164414</td>\n",
       "      <td>0</td>\n",
       "      <td>1</td>\n",
       "      <td>0</td>\n",
       "      <td>0</td>\n",
       "    </tr>\n",
       "    <tr>\n",
       "      <th>3</th>\n",
       "      <td>40</td>\n",
       "      <td>1</td>\n",
       "      <td>0</td>\n",
       "      <td>0</td>\n",
       "      <td>1</td>\n",
       "      <td>0</td>\n",
       "      <td>0</td>\n",
       "      <td>0</td>\n",
       "      <td>0</td>\n",
       "      <td>1</td>\n",
       "      <td>...</td>\n",
       "      <td>1</td>\n",
       "      <td>0</td>\n",
       "      <td>0</td>\n",
       "      <td>0</td>\n",
       "      <td>1</td>\n",
       "      <td>7.280110</td>\n",
       "      <td>0</td>\n",
       "      <td>1</td>\n",
       "      <td>0</td>\n",
       "      <td>0</td>\n",
       "    </tr>\n",
       "    <tr>\n",
       "      <th>5</th>\n",
       "      <td>40</td>\n",
       "      <td>1</td>\n",
       "      <td>0</td>\n",
       "      <td>0</td>\n",
       "      <td>1</td>\n",
       "      <td>0</td>\n",
       "      <td>0</td>\n",
       "      <td>1</td>\n",
       "      <td>0</td>\n",
       "      <td>0</td>\n",
       "      <td>...</td>\n",
       "      <td>0</td>\n",
       "      <td>0</td>\n",
       "      <td>1</td>\n",
       "      <td>1</td>\n",
       "      <td>0</td>\n",
       "      <td>6.082763</td>\n",
       "      <td>0</td>\n",
       "      <td>1</td>\n",
       "      <td>0</td>\n",
       "      <td>0</td>\n",
       "    </tr>\n",
       "  </tbody>\n",
       "</table>\n",
       "<p>5 rows × 40 columns</p>\n",
       "</div>"
      ],
      "text/plain": [
       "   hours_per_week  native_country  income  work_Government  work_Private  \\\n",
       "0              40               1       0                1             0   \n",
       "1              13               1       0                0             0   \n",
       "2              40               1       0                0             1   \n",
       "3              40               1       0                0             1   \n",
       "5              40               1       0                0             1   \n",
       "\n",
       "   work_Self_employed  work_Without-pay  edu_Advanced_Degree  \\\n",
       "0                   0                 0                    0   \n",
       "1                   1                 0                    0   \n",
       "2                   0                 0                    0   \n",
       "3                   0                 0                    0   \n",
       "5                   0                 0                    1   \n",
       "\n",
       "   edu_Bachelors_Degree  edu_High_School        ...          Black  Other  \\\n",
       "0                     1                0        ...              0      0   \n",
       "1                     1                0        ...              0      0   \n",
       "2                     0                1        ...              0      0   \n",
       "3                     0                1        ...              1      0   \n",
       "5                     0                0        ...              0      0   \n",
       "\n",
       "   White  Female  Male  age_sqrt  Capital_Loss  Capital_No_loss_gain  \\\n",
       "0      1       0     1  6.244998             0                     0   \n",
       "1      1       0     1  7.071068             0                     1   \n",
       "2      1       0     1  6.164414             0                     1   \n",
       "3      0       0     1  7.280110             0                     1   \n",
       "5      1       1     0  6.082763             0                     1   \n",
       "\n",
       "   Capital_Gain  Capital_High Gain  \n",
       "0             1                  0  \n",
       "1             0                  0  \n",
       "2             0                  0  \n",
       "3             0                  0  \n",
       "5             0                  0  \n",
       "\n",
       "[5 rows x 40 columns]"
      ]
     },
     "execution_count": 34,
     "metadata": {},
     "output_type": "execute_result"
    }
   ],
   "source": [
    "features.head()"
   ]
  },
  {
   "cell_type": "markdown",
   "metadata": {},
   "source": [
    "Let's visualize the correlation between the features"
   ]
  },
  {
   "cell_type": "code",
   "execution_count": 35,
   "metadata": {
    "collapsed": true
   },
   "outputs": [],
   "source": [
    "x = features.loc[:,~features.columns.isin(['income','native_country'])]"
   ]
  },
  {
   "cell_type": "code",
   "execution_count": 36,
   "metadata": {},
   "outputs": [
    {
     "data": {
      "image/png": "[encoded data removed]",
      "text/plain": [
       "<matplotlib.figure.Figure at 0x1cbadde8f98>"
      ]
     },
     "metadata": {},
     "output_type": "display_data"
    }
   ],
   "source": [
    "plt.figure(figsize = (8,8))\n",
    "sns.heatmap(x.corr())\n",
    "plt.show()"
   ]
  },
  {
   "cell_type": "markdown",
   "metadata": {},
   "source": [
    "The correlation matrix looks fine."
   ]
  },
  {
   "cell_type": "markdown",
   "metadata": {},
   "source": [
    "# Modelling"
   ]
  },
  {
   "cell_type": "code",
   "execution_count": 85,
   "metadata": {
    "collapsed": true
   },
   "outputs": [],
   "source": [
    "from sklearn.model_selection import train_test_split, cross_val_score,GridSearchCV\n",
    "from sklearn.metrics import classification_report, confusion_matrix\n",
    "\n",
    "from sklearn.naive_bayes import BernoulliNB\n",
    "from sklearn.linear_model import LogisticRegression\n",
    "from sklearn.neighbors import KNeighborsClassifier\n",
    "from sklearn.ensemble import RandomForestClassifier\n",
    "from sklearn.ensemble import GradientBoostingClassifier"
   ]
  },
  {
   "cell_type": "code",
   "execution_count": 38,
   "metadata": {},
   "outputs": [
    {
     "data": {
      "text/plain": [
       "0    30844\n",
       "1    10448\n",
       "Name: income, dtype: int64"
      ]
     },
     "execution_count": 38,
     "metadata": {},
     "output_type": "execute_result"
    }
   ],
   "source": [
    "features.income.value_counts()"
   ]
  },
  {
   "cell_type": "code",
   "execution_count": 39,
   "metadata": {
    "collapsed": true
   },
   "outputs": [],
   "source": [
    "# Separate majority and minority classes\n",
    "features_majority = features[features.income==0]\n",
    "features_minority = features[features.income==1]"
   ]
  },
  {
   "cell_type": "code",
   "execution_count": 40,
   "metadata": {},
   "outputs": [
    {
     "data": {
      "text/plain": [
       "1    10448\n",
       "0    10448\n",
       "Name: income, dtype: int64"
      ]
     },
     "execution_count": 40,
     "metadata": {},
     "output_type": "execute_result"
    }
   ],
   "source": [
    "# Downsample majority class# Downs \n",
    "features_majority_downsampled = resample(features_majority, \n",
    "                                 replace=False,    # sample without replacement\n",
    "                                 n_samples=len(features_minority))    # to match minority class\n",
    "                                \n",
    "# Combine minority class with downsampled majority class\n",
    "features_downsampled = pd.concat([features_majority_downsampled, features_minority])\n",
    " \n",
    "# Display new class counts\n",
    "features_downsampled.income.value_counts()"
   ]
  },
  {
   "cell_type": "code",
   "execution_count": 41,
   "metadata": {
    "collapsed": true
   },
   "outputs": [],
   "source": [
    "# Identify variables\n",
    "X = features_downsampled.drop('income', axis=1)\n",
    "y = features_downsampled.income"
   ]
  },
  {
   "cell_type": "code",
   "execution_count": 42,
   "metadata": {},
   "outputs": [
    {
     "data": {
      "text/plain": [
       "1    10448\n",
       "0    10448\n",
       "Name: income, dtype: int64"
      ]
     },
     "execution_count": 42,
     "metadata": {},
     "output_type": "execute_result"
    }
   ],
   "source": [
    "y.value_counts()"
   ]
  },
  {
   "cell_type": "code",
   "execution_count": 43,
   "metadata": {},
   "outputs": [
    {
     "name": "stdout",
     "output_type": "stream",
     "text": [
      "(15672, 39)\n",
      "(5224, 39)\n"
     ]
    }
   ],
   "source": [
    "# Splitting into train and test sets\n",
    "X_train, X_test, y_train, y_test = train_test_split(X, y, test_size=0.25, random_state=42)\n",
    "print(X_train.shape)\n",
    "print(X_test.shape)"
   ]
  },
  {
   "cell_type": "code",
   "execution_count": 44,
   "metadata": {},
   "outputs": [
    {
     "name": "stdout",
     "output_type": "stream",
     "text": [
      "1    7880\n",
      "0    7792\n",
      "Name: income, dtype: int64\n",
      "0    2656\n",
      "1    2568\n",
      "Name: income, dtype: int64\n"
     ]
    }
   ],
   "source": [
    "print(y_train.value_counts())\n",
    "print(y_test.value_counts())"
   ]
  },
  {
   "cell_type": "markdown",
   "metadata": {},
   "source": [
    "Let's start with simple model - Bernoulli Naive Bayes."
   ]
  },
  {
   "cell_type": "code",
   "execution_count": 58,
   "metadata": {},
   "outputs": [
    {
     "name": "stdout",
     "output_type": "stream",
     "text": [
      "BernoulliNB\n",
      "Training set - Cross Validation Accuracy : 0.782(+/-0.01) \n",
      "Test set - Cross Validation Accuracy :0.780 (+/-0.02) \n",
      "ROC AUC Score :0.865 (+/-0.02) \n"
     ]
    }
   ],
   "source": [
    "bnb = BernoulliNB()\n",
    "bnb.fit(X_train, y_train)\n",
    "# Calculating and reporting scores from cross validation to +/- 2 standard deviations from the mean\n",
    "bnb_train_score = cross_val_score(bnb, X_train, y_train, cv = 5)\n",
    "bnb_test_score = cross_val_score(bnb, X_test, y_test, cv = 5)\n",
    "bnb_ROC_score = cross_val_score(bnb, X_test, y_test, cv = 5, scoring='roc_auc')\n",
    "print('BernoulliNB')\n",
    "print('Training set - Cross Validation Accuracy : {:.3f}(+/-{:.2f}) '.format(bnb_train_score.mean(),bnb_train_score.std()*2 ))\n",
    "print('Test set - Cross Validation Accuracy :{:.3f} (+/-{:.2f}) '.format(bnb_test_score.mean(),bnb_test_score.std()*2))\n",
    "print('ROC AUC Score :{:.3f} (+/-{:.2f}) '.format(bnb_ROC_score.mean(),bnb_ROC_score.std()*2))"
   ]
  },
  {
   "cell_type": "markdown",
   "metadata": {},
   "source": [
    "Our first Model was able to explain 78 % variance of the test set with a small range of two standard deviations from the mean. The ROC score was 86%. \n",
    "\n",
    "Let's try another model - Logistic Regression."
   ]
  },
  {
   "cell_type": "code",
   "execution_count": 60,
   "metadata": {},
   "outputs": [
    {
     "name": "stdout",
     "output_type": "stream",
     "text": [
      "Logistic Regression\n",
      "Training set- Cross Validation Score : 0.817 (+/-0.01)\n",
      "Test set - Cross Validation Score: 0.805 (+/-0.02)\n",
      "ROC AUC Score: 0.892 (+/-0.01)\n"
     ]
    }
   ],
   "source": [
    "logr = LogisticRegression(random_state = 1)\n",
    "logr.fit(X_train, y_train)\n",
    "logr_train_score = cross_val_score(logr, X_train, y_train, cv = 5)\n",
    "logr_test_score = cross_val_score(logr, X_test, y_test, cv =5)\n",
    "logr_ROC_score = cross_val_score(logr, X_test, y_test, cv =5, scoring = 'roc_auc')\n",
    "\n",
    "print('Logistic Regression')\n",
    "print('Training set- Cross Validation Score : {:.3f} (+/-{:.2f})'.format(logr_train_score.mean(),logr_train_score.std()*2 ))\n",
    "print('Test set - Cross Validation Score: {:.3f} (+/-{:.2f})'.format(logr_test_score.mean(), logr_test_score.std()*2))\n",
    "print('ROC AUC Score: {:.3f} (+/-{:.2f})'.format(logr_ROC_score.mean(), logr_ROC_score.std()*2))"
   ]
  },
  {
   "cell_type": "markdown",
   "metadata": {},
   "source": [
    "The default Logistic Regression Model was able to explain 80 % variance of the test set with a small range of two standard deviations from the mean, which means that the scores from the 5 folds of cross validation are all close together.\n",
    "The ROC score was 89% which was also better than the first model."
   ]
  },
  {
   "cell_type": "markdown",
   "metadata": {},
   "source": [
    "Let's see if we can improve the accuracy of the model through optimizing the parameters by using Grid Search with cross validation. We will optimize the regularization parameter C; the solver, which is the algorithm used in the optimization;, and the penalty, as L1 (LASSO) or L2 (Ridge) regression."
   ]
  },
  {
   "cell_type": "code",
   "execution_count": 62,
   "metadata": {},
   "outputs": [
    {
     "name": "stdout",
     "output_type": "stream",
     "text": [
      "Best Parameter  {'C': 10, 'fit_intercept': True, 'penalty': 'l2', 'solver': 'liblinear'}\n"
     ]
    }
   ],
   "source": [
    "parameters =[ {'C': [0.01, 0.1, 1, 10, 100],'solver':['liblinear'],'penalty':['l1', 'l2'],'fit_intercept':[True]},\n",
    "            {'C': [0.01, 0.1, 1, 10, 100],'solver':['lbfgs','newton-cg'],'fit_intercept':[True]}\n",
    "            ]\n",
    "\n",
    "gr_logr = GridSearchCV(logr,param_grid = parameters , scoring='roc_auc' )\n",
    "gr_logr.fit(X_train,y_train)\n",
    "print('Best Parameter ', gr_logr.best_params_)"
   ]
  },
  {
   "cell_type": "markdown",
   "metadata": {},
   "source": [
    "Using these best parameters, let's fit another logistic regression model to see it's performance."
   ]
  },
  {
   "cell_type": "code",
   "execution_count": 63,
   "metadata": {},
   "outputs": [
    {
     "name": "stdout",
     "output_type": "stream",
     "text": [
      "Logistic Regression\n",
      "Training set- Cross Validation Score : 0.816 (+/-0.01)\n",
      "Test set - Cross Validation Score: 0.807 (+/-0.02)\n",
      "ROC AUC Score: 0.893 (+/-0.02)\n"
     ]
    }
   ],
   "source": [
    "logr = LogisticRegression(**gr_logr.best_params_, random_state = 1)\n",
    "logr.fit(X_train, y_train)\n",
    "logr_train_score = cross_val_score(logr, X_train, y_train, cv = 5)\n",
    "logr_test_score = cross_val_score(logr, X_test, y_test, cv =5)\n",
    "logr_ROC_score = cross_val_score(logr, X_test, y_test, cv =5, scoring = 'roc_auc')\n",
    "print('Logistic Regression')\n",
    "print('Training set- Cross Validation Score : {:.3f} (+/-{:.2f})'.format(logr_train_score.mean(),logr_train_score.std()*2 ))\n",
    "print('Test set - Cross Validation Score: {:.3f} (+/-{:.2f})'.format(logr_test_score.mean(), logr_test_score.std()*2))\n",
    "print('ROC AUC Score: {:.3f} (+/-{:.2f})'.format(logr_ROC_score.mean(), logr_ROC_score.std()*2))"
   ]
  },
  {
   "cell_type": "markdown",
   "metadata": {},
   "source": [
    "This best score is approximately the same as the accuracy score from the default logistic regression model. \n",
    "Let's take a look at the coefficients and intercept values to see what impacts the different demographic indicators have on income. The logistic regression coefficients represent the log of the odds that the change in the feature makes. To better interpret these values, we need to take the exponentiated value of the coefficients to get the odds ratios of each piece of demographic data."
   ]
  },
  {
   "cell_type": "code",
   "execution_count": 197,
   "metadata": {},
   "outputs": [
    {
     "name": "stdout",
     "output_type": "stream",
     "text": [
      "[ 1.]\n",
      "[[  1.03396602e+00   1.00000000e+00   1.00000000e+00   1.06960832e+00\n",
      "    7.95299616e-01   6.78794210e-01   4.91913928e+00   2.20286382e+00\n",
      "    1.04461412e+00   3.25123059e-01   3.87731579e-01   3.98487394e+00\n",
      "    2.66048256e-01   1.19433858e+00   1.00000000e+00   1.00000000e+00\n",
      "    2.73624508e+00   3.01509887e-01   4.11009828e-01   6.94444661e-01\n",
      "    4.23468565e-01   6.31452684e-01   2.40350118e+00   1.56950352e+00\n",
      "    1.34866211e+00   1.88773120e+00   8.26011062e-01   7.94204604e-01\n",
      "    1.53135161e+00   9.97805224e-01   1.00000000e+00   1.14942379e+00\n",
      "    7.74847887e-01   1.00000000e+00   1.48756464e+00   1.17730909e-02\n",
      "    3.78881840e-03   1.19090941e-02]]\n"
     ]
    }
   ],
   "source": [
    "print(np.exp(logr.intercept_))\n",
    "print(np.exp(logr.coef_))"
   ]
  },
  {
   "cell_type": "code",
   "execution_count": 51,
   "metadata": {},
   "outputs": [
    {
     "data": {
      "text/html": [
       "<div>\n",
       "<style>\n",
       "    .dataframe thead tr:only-child th {\n",
       "        text-align: right;\n",
       "    }\n",
       "\n",
       "    .dataframe thead th {\n",
       "        text-align: left;\n",
       "    }\n",
       "\n",
       "    .dataframe tbody tr th {\n",
       "        vertical-align: top;\n",
       "    }\n",
       "</style>\n",
       "<table border=\"1\" class=\"dataframe\">\n",
       "  <thead>\n",
       "    <tr style=\"text-align: right;\">\n",
       "      <th></th>\n",
       "      <th>Feature</th>\n",
       "      <th>Coefficient</th>\n",
       "    </tr>\n",
       "  </thead>\n",
       "  <tbody>\n",
       "    <tr>\n",
       "      <th>6</th>\n",
       "      <td>edu_Advanced_Degree</td>\n",
       "      <td>4.781810</td>\n",
       "    </tr>\n",
       "    <tr>\n",
       "      <th>11</th>\n",
       "      <td>Married_living_with_spouse</td>\n",
       "      <td>4.422521</td>\n",
       "    </tr>\n",
       "    <tr>\n",
       "      <th>16</th>\n",
       "      <td>Occup_Exec-managerial</td>\n",
       "      <td>2.678351</td>\n",
       "    </tr>\n",
       "    <tr>\n",
       "      <th>22</th>\n",
       "      <td>Occup_Prof-specialty</td>\n",
       "      <td>2.375223</td>\n",
       "    </tr>\n",
       "    <tr>\n",
       "      <th>25</th>\n",
       "      <td>Occup_Tech-support</td>\n",
       "      <td>2.121329</td>\n",
       "    </tr>\n",
       "    <tr>\n",
       "      <th>7</th>\n",
       "      <td>edu_Bachelors_Degree</td>\n",
       "      <td>2.001373</td>\n",
       "    </tr>\n",
       "    <tr>\n",
       "      <th>23</th>\n",
       "      <td>Occup_Protective-serv</td>\n",
       "      <td>1.743996</td>\n",
       "    </tr>\n",
       "    <tr>\n",
       "      <th>34</th>\n",
       "      <td>age_sqrt</td>\n",
       "      <td>1.517303</td>\n",
       "    </tr>\n",
       "    <tr>\n",
       "      <th>24</th>\n",
       "      <td>Occup_Sales</td>\n",
       "      <td>1.504022</td>\n",
       "    </tr>\n",
       "    <tr>\n",
       "      <th>28</th>\n",
       "      <td>Asian-Pac-Islander</td>\n",
       "      <td>1.452257</td>\n",
       "    </tr>\n",
       "  </tbody>\n",
       "</table>\n",
       "</div>"
      ],
      "text/plain": [
       "                       Feature  Coefficient\n",
       "6          edu_Advanced_Degree     4.781810\n",
       "11  Married_living_with_spouse     4.422521\n",
       "16       Occup_Exec-managerial     2.678351\n",
       "22        Occup_Prof-specialty     2.375223\n",
       "25          Occup_Tech-support     2.121329\n",
       "7         edu_Bachelors_Degree     2.001373\n",
       "23       Occup_Protective-serv     1.743996\n",
       "34                    age_sqrt     1.517303\n",
       "24                 Occup_Sales     1.504022\n",
       "28          Asian-Pac-Islander     1.452257"
      ]
     },
     "execution_count": 51,
     "metadata": {},
     "output_type": "execute_result"
    }
   ],
   "source": [
    "logr_coef_df = pd.DataFrame()\n",
    "logr_coef_df['Feature'] = X_train.columns\n",
    "logr_coef_df['Coefficient'] = np.exp(logr.coef_).T\n",
    "\n",
    "logr_coef_df.sort_values(by='Coefficient', ascending=False).head(10)"
   ]
  },
  {
   "cell_type": "markdown",
   "metadata": {},
   "source": [
    "Having Advanced Degree gives a 5 times higher odds for higher earnings whereas having a bachelor degree gives 2 times higher odds.\n",
    "Married and living with spouse gives a 4 times higher odds for higher earnings "
   ]
  },
  {
   "cell_type": "markdown",
   "metadata": {},
   "source": [
    "# K Nearest Neighbors Classifier\n",
    "Now that we have identified how some of the features impact a person's odds of earning over \\$50K in a year, let's use another Model: K Nearest Neighbors Classifier model. This model classifies data points based on their similarity to other data points."
   ]
  },
  {
   "cell_type": "code",
   "execution_count": 64,
   "metadata": {},
   "outputs": [
    {
     "name": "stdout",
     "output_type": "stream",
     "text": [
      "Training Set- Cross Validation Score : 0.785 (+/-0.01)\n",
      "Test Set- Cross Validation Score : 0.774 (+/-0.01)\n",
      "ROC Score : 0.840 (+/-0.02)\n"
     ]
    }
   ],
   "source": [
    "knn = KNeighborsClassifier()\n",
    "knn.fit(X_train, y_train)\n",
    "knn_train_score = cross_val_score(knn, X_train, y_train, cv = 5)\n",
    "knn_test_score = cross_val_score(knn, X_test, y_test, cv = 5)\n",
    "knn_roc_score = cross_val_score(knn, X_test, y_test, cv = 5, scoring = 'roc_auc')\n",
    "print('Training Set- Cross Validation Score : {:.3f} (+/-{:.2f})'.format(knn_train_score.mean(), knn_train_score.std()*2))\n",
    "print('Test Set- Cross Validation Score : {:.3f} (+/-{:.2f})'.format(knn_test_score.mean(), knn_test_score.std()*2))\n",
    "print('ROC Score : {:.3f} (+/-{:.2f})'.format(knn_roc_score.mean(), knn_roc_score.std()*2))"
   ]
  },
  {
   "cell_type": "markdown",
   "metadata": {},
   "source": [
    "The accuracy for this model is not as good as the logistic regression model. This may be because of the default values of the K: number of neighbors to consider. Let's optimize this parameter."
   ]
  },
  {
   "cell_type": "code",
   "execution_count": 65,
   "metadata": {},
   "outputs": [
    {
     "name": "stdout",
     "output_type": "stream",
     "text": [
      "Best parameters :  {'n_neighbors': 19}\n"
     ]
    }
   ],
   "source": [
    "k = np.arange(2,20,1)\n",
    "parameters = {'n_neighbors' : k}\n",
    "gs_knn = GridSearchCV(knn, param_grid = parameters, scoring='roc_auc' )\n",
    "gs_knn.fit(X_train, y_train)\n",
    "print('Best parameters : ', gs_knn.best_params_)"
   ]
  },
  {
   "cell_type": "markdown",
   "metadata": {},
   "source": [
    "let's use these parameters for a new KNN model and see the scores."
   ]
  },
  {
   "cell_type": "code",
   "execution_count": 67,
   "metadata": {},
   "outputs": [
    {
     "name": "stdout",
     "output_type": "stream",
     "text": [
      "Training Set- Cross Validation Score : 0.794 (+/-0.01)\n",
      "Test Set- Cross Validation Score : 0.774 (+/-0.01)\n",
      "ROC AUC Score : 0.861 (+/-0.02)\n"
     ]
    }
   ],
   "source": [
    "knn = KNeighborsClassifier(**gs_knn.best_params_)\n",
    "knn.fit(X_train, y_train)\n",
    "knn_train_score = cross_val_score(knn, X_train, y_train, cv = 5)\n",
    "knn_test_score = cross_val_score(knn, X_test, y_test, cv = 5)\n",
    "knn_ROC_score = cross_val_score(knn, X_test, y_test, cv = 5, scoring = 'roc_auc')\n",
    "print('Training Set- Cross Validation Score : {:.3f} (+/-{:.2f})'.format(knn_train_score.mean(), knn_train_score.std()*2))\n",
    "print('Test Set- Cross Validation Score : {:.3f} (+/-{:.2f})'.format(knn_test_score.mean(), knn_test_score.std()*2))\n",
    "print('ROC AUC Score : {:.3f} (+/-{:.2f})'.format(knn_ROC_score.mean(), knn_ROC_score.std()*2))"
   ]
  },
  {
   "cell_type": "markdown",
   "metadata": {},
   "source": [
    "These accuracy scores are not as high as those for the logistic regression models. Let's try a different model."
   ]
  },
  {
   "cell_type": "markdown",
   "metadata": {},
   "source": [
    "# Random Forest Classifier\n",
    "Let's use random forest classifier model. This model creates a set of decision trees , makes a prediction\n",
    "for every tree in the forest. The probabilities predicted by all the trees are averaged, and the class with the\n",
    "highest label is predicted."
   ]
  },
  {
   "cell_type": "code",
   "execution_count": 68,
   "metadata": {},
   "outputs": [
    {
     "name": "stdout",
     "output_type": "stream",
     "text": [
      "Training Set- Cross Validation Score : 0.782 (+/-0.02)\n",
      "Test Set- Cross Validation Score : 0.772 (+/-0.02)\n",
      "ROC AUC Score : 0.851 (+/-0.02)\n"
     ]
    }
   ],
   "source": [
    "rfc = RandomForestClassifier(random_state = 1)\n",
    "rfc.fit(X_train, y_train)\n",
    "rfc_train_score = cross_val_score(rfc, X_train, y_train, cv = 5)\n",
    "rfc_test_score = cross_val_score(rfc, X_test, y_test, cv = 5)\n",
    "rfc_ROC_score = cross_val_score(rfc, X_test, y_test, cv = 5, scoring = 'roc_auc')\n",
    "print('Training Set- Cross Validation Score : {:.3f} (+/-{:.2f})'.format(rfc_train_score.mean(), rfc_train_score.std()*2))\n",
    "print('Test Set- Cross Validation Score : {:.3f} (+/-{:.2f})'.format(rfc_test_score.mean(), rfc_test_score.std()*2))\n",
    "print('ROC AUC Score : {:.3f} (+/-{:.2f})'.format(rfc_ROC_score.mean(), rfc_ROC_score.std()*2))\n"
   ]
  },
  {
   "cell_type": "markdown",
   "metadata": {},
   "source": [
    "With the default settings of the Random Forest model, the accuracy on the test set was 76% which is less than what we got from Logistic Regression. Let's try to optimize this model."
   ]
  },
  {
   "cell_type": "code",
   "execution_count": 73,
   "metadata": {},
   "outputs": [
    {
     "name": "stdout",
     "output_type": "stream",
     "text": [
      "0.89858895213\n",
      "{'max_depth': 8, 'max_features': 'auto', 'min_samples_split': 8, 'n_estimators': 100}\n"
     ]
    }
   ],
   "source": [
    "rfc_params  = {\n",
    "    'n_estimators':[100,200,500],\n",
    "    'max_features':['auto', 'sqrt', 'log2'],\n",
    "    'max_depth':[4, 6,7, 8, None],\n",
    "    'min_samples_split':[2, 8]\n",
    "}\n",
    "rfc_grid = GridSearchCV(RandomForestClassifier(random_state=1), param_grid=rfc_params, cv=5, scoring = 'roc_auc')\n",
    "rfc_grid.fit(X_train, y_train)\n",
    "\n",
    "print(rfc_grid.best_score_)\n",
    "print(rfc_grid.best_params_)"
   ]
  },
  {
   "cell_type": "markdown",
   "metadata": {},
   "source": [
    "let's use these parameters for a new Random Forest model and see the scores."
   ]
  },
  {
   "cell_type": "code",
   "execution_count": 74,
   "metadata": {},
   "outputs": [
    {
     "name": "stdout",
     "output_type": "stream",
     "text": [
      "Training Set- Cross Validation Score : 0.811 (+/-0.01)\n",
      "Test Set- Cross Validation Score : 0.803 (+/-0.01)\n",
      "ROC Score : 0.890 (+/-0.01)\n"
     ]
    }
   ],
   "source": [
    "rfc = RandomForestClassifier( **rfc_grid.best_params_, random_state = 1)\n",
    "rfc.fit(X_train, y_train)\n",
    "rfc_train_score = cross_val_score(rfc, X_train, y_train, cv = 5)\n",
    "rfc_test_score = cross_val_score(rfc, X_test, y_test, cv = 5)\n",
    "rfc_ROC_score = cross_val_score(rfc, X_test, y_test, cv = 5, scoring = 'roc_auc')\n",
    "print('Training Set- Cross Validation Score : {:.3f} (+/-{:.2f})'.format(rfc_train_score.mean(), rfc_train_score.std()*2))\n",
    "print('Test Set- Cross Validation Score : {:.3f} (+/-{:.2f})'.format(rfc_test_score.mean(), rfc_test_score.std()*2))\n",
    "print('ROC Score : {:.3f} (+/-{:.2f})'.format(rfc_ROC_score.mean(), rfc_ROC_score.std()*2))"
   ]
  },
  {
   "cell_type": "markdown",
   "metadata": {},
   "source": [
    "Again, this didn't do a good job as Logistic Regression. Let's Try another model"
   ]
  },
  {
   "cell_type": "markdown",
   "metadata": {},
   "source": [
    "# Gradient Boosted Regression Trees"
   ]
  },
  {
   "cell_type": "code",
   "execution_count": 75,
   "metadata": {},
   "outputs": [
    {
     "name": "stdout",
     "output_type": "stream",
     "text": [
      "Training Set- Cross Validation Score : 0.824 (+/-0.01)\n",
      "Test Set- Cross Validation Score : 0.817 (+/-0.01)\n",
      "ROC Score : 0.898 (+/-0.01)\n"
     ]
    }
   ],
   "source": [
    "\n",
    "gbrt = GradientBoostingClassifier(random_state=1)\n",
    "gbrt.fit(X_train, y_train)\n",
    "gbrt_train_score = cross_val_score(gbrt, X_train, y_train, cv = 5)\n",
    "gbrt_test_score = cross_val_score(gbrt, X_test, y_test, cv = 5)\n",
    "gbrt_ROC_score = cross_val_score(gbrt, X_test, y_test, cv = 5, scoring = 'roc_auc')\n",
    "print('Training Set- Cross Validation Score : {:.3f} (+/-{:.2f})'.format(gbrt_train_score.mean(), gbrt_train_score.std()*2))\n",
    "print('Test Set- Cross Validation Score : {:.3f} (+/-{:.2f})'.format(gbrt_test_score.mean(), gbrt_test_score.std()*2))\n",
    "print('ROC Score : {:.3f} (+/-{:.2f})'.format(gbrt_ROC_score.mean(), gbrt_ROC_score.std()*2))"
   ]
  },
  {
   "cell_type": "markdown",
   "metadata": {},
   "source": [
    "With the default settings of the Gradient Boosting Classifier model, the accuracy on the test set was 81.7 %. This is higher than the optimized logistic regression models. Now, let's try to optimize this model."
   ]
  },
  {
   "cell_type": "code",
   "execution_count": 76,
   "metadata": {},
   "outputs": [
    {
     "name": "stdout",
     "output_type": "stream",
     "text": [
      "Training Set- Cross Validation Score : 0.826 (+/-0.01)\n",
      "Test Set- Cross Validation Score : 0.817 (+/-0.02)\n",
      "ROC Score : 0.899 (+/-0.01)\n"
     ]
    }
   ],
   "source": [
    "gbrt = GradientBoostingClassifier( learning_rate=0.1, n_estimators=110,max_depth=7, min_samples_split=800, \n",
    "                                         min_samples_leaf=50, subsample= 0.9, random_state=1, max_features=11 \n",
    "                                  )\n",
    "gbrt.fit(X_train, y_train)\n",
    "gbrt_train_score = cross_val_score(gbrt, X_train, y_train, cv = 5)\n",
    "gbrt_test_score = cross_val_score(gbrt, X_test, y_test, cv = 5)\n",
    "gbrt_ROC_score = cross_val_score(gbrt, X_test, y_test, cv = 5, scoring = 'roc_auc')\n",
    "print('Training Set- Cross Validation Score : {:.3f} (+/-{:.2f})'.format(gbrt_train_score.mean(), gbrt_train_score.std()*2))\n",
    "print('Test Set- Cross Validation Score : {:.3f} (+/-{:.2f})'.format(gbrt_test_score.mean(), gbrt_test_score.std()*2))\n",
    "print('ROC Score : {:.3f} (+/-{:.2f})'.format(gbrt_ROC_score.mean(), gbrt_ROC_score.std()*2))"
   ]
  },
  {
   "cell_type": "markdown",
   "metadata": {},
   "source": [
    "Let's try with different values ."
   ]
  },
  {
   "cell_type": "code",
   "execution_count": 78,
   "metadata": {},
   "outputs": [
    {
     "name": "stdout",
     "output_type": "stream",
     "text": [
      "Training Set- Cross Validation Score : 0.824 (+/-0.01)\n",
      "Test Set- Cross Validation Score : 0.819 (+/-0.01)\n",
      "ROC Score : 0.899 (+/-0.01)\n"
     ]
    }
   ],
   "source": [
    "gbrt = GradientBoostingClassifier( learning_rate=0.025, n_estimators=440,max_depth=5, min_samples_split=800, \n",
    "                                         min_samples_leaf=60, subsample= 0.85, random_state=1, max_features=15 \n",
    "                                  )\n",
    "gbrt.fit(X_train, y_train)\n",
    "gbrt_train_score = cross_val_score(gbrt, X_train, y_train, cv = 5)\n",
    "gbrt_test_score = cross_val_score(gbrt, X_test, y_test, cv = 5)\n",
    "gbrt_ROC_score = cross_val_score(gbrt, X_test, y_test, cv = 5, scoring = 'roc_auc')\n",
    "print('Training Set- Cross Validation Score : {:.3f} (+/-{:.2f})'.format(gbrt_train_score.mean(), gbrt_train_score.std()*2))\n",
    "print('Test Set- Cross Validation Score : {:.3f} (+/-{:.2f})'.format(gbrt_test_score.mean(), gbrt_test_score.std()*2))\n",
    "print('ROC Score : {:.3f} (+/-{:.2f})'.format(gbrt_ROC_score.mean(), gbrt_ROC_score.std()*2))"
   ]
  },
  {
   "cell_type": "markdown",
   "metadata": {},
   "source": [
    "The test score increased a bit while training score and ROC score remained same. \n",
    "Let's try lowering the learning rate and proportionally increasing the number of trees."
   ]
  },
  {
   "cell_type": "code",
   "execution_count": 79,
   "metadata": {},
   "outputs": [
    {
     "name": "stdout",
     "output_type": "stream",
     "text": [
      "Training Set- Cross Validation Score : 0.824 (+/-0.01)\n",
      "Test Set- Cross Validation Score : 0.820 (+/-0.01)\n",
      "ROC Score : 0.899 (+/-0.01)\n"
     ]
    }
   ],
   "source": [
    "gbrt = GradientBoostingClassifier( learning_rate=0.01, n_estimators=1000,max_depth=5, min_samples_split=800, \n",
    "                                         min_samples_leaf=60, subsample= 0.85, random_state=1, max_features=15 \n",
    "                                  )\n",
    "gbrt.fit(X_train, y_train)\n",
    "gbrt_train_score = cross_val_score(gbrt, X_train, y_train, cv = 5)\n",
    "gbrt_test_score = cross_val_score(gbrt, X_test, y_test, cv = 5)\n",
    "gbrt_ROC_score = cross_val_score(gbrt, X_test, y_test, cv = 5, scoring = 'roc_auc')\n",
    "print('Training Set- Cross Validation Score : {:.3f} (+/-{:.2f})'.format(gbrt_train_score.mean(), gbrt_train_score.std()*2))\n",
    "print('Test Set- Cross Validation Score : {:.3f} (+/-{:.2f})'.format(gbrt_test_score.mean(), gbrt_test_score.std()*2))\n",
    "print('ROC Score : {:.3f} (+/-{:.2f})'.format(gbrt_ROC_score.mean(), gbrt_ROC_score.std()*2))"
   ]
  },
  {
   "cell_type": "code",
   "execution_count": 80,
   "metadata": {},
   "outputs": [
    {
     "name": "stdout",
     "output_type": "stream",
     "text": [
      "Training Set- Cross Validation Score : 0.825 (+/-0.01)\n",
      "Test Set- Cross Validation Score : 0.821 (+/-0.01)\n",
      "ROC Score : 0.899 (+/-0.01)\n"
     ]
    }
   ],
   "source": [
    "gbrt = GradientBoostingClassifier( learning_rate=0.005, n_estimators=2000,max_depth=5, min_samples_split=800, \n",
    "                                         min_samples_leaf=60, subsample= 0.85, random_state=1, max_features=15 \n",
    "                                  )\n",
    "gbrt.fit(X_train, y_train)\n",
    "gbrt_train_score = cross_val_score(gbrt, X_train, y_train, cv = 5)\n",
    "gbrt_test_score = cross_val_score(gbrt, X_test, y_test, cv = 5)\n",
    "gbrt_ROC_score = cross_val_score(gbrt, X_test, y_test, cv = 5, scoring = 'roc_auc')\n",
    "print('Training Set- Cross Validation Score : {:.3f} (+/-{:.2f})'.format(gbrt_train_score.mean(), gbrt_train_score.std()*2))\n",
    "print('Test Set- Cross Validation Score : {:.3f} (+/-{:.2f})'.format(gbrt_test_score.mean(), gbrt_test_score.std()*2))\n",
    "print('ROC Score : {:.3f} (+/-{:.2f})'.format(gbrt_ROC_score.mean(), gbrt_ROC_score.std()*2))"
   ]
  },
  {
   "cell_type": "markdown",
   "metadata": {},
   "source": [
    "The accuracy was improved a little for test data."
   ]
  },
  {
   "cell_type": "markdown",
   "metadata": {},
   "source": [
    "Let's compare all the models now"
   ]
  },
  {
   "cell_type": "markdown",
   "metadata": {},
   "source": [
    "# Model Analysis"
   ]
  },
  {
   "cell_type": "code",
   "execution_count": 81,
   "metadata": {},
   "outputs": [
    {
     "data": {
      "text/html": [
       "<div>\n",
       "<style>\n",
       "    .dataframe thead tr:only-child th {\n",
       "        text-align: right;\n",
       "    }\n",
       "\n",
       "    .dataframe thead th {\n",
       "        text-align: left;\n",
       "    }\n",
       "\n",
       "    .dataframe tbody tr th {\n",
       "        vertical-align: top;\n",
       "    }\n",
       "</style>\n",
       "<table border=\"1\" class=\"dataframe\">\n",
       "  <thead>\n",
       "    <tr style=\"text-align: right;\">\n",
       "      <th></th>\n",
       "      <th>Model</th>\n",
       "      <th>Training Data Accuracy</th>\n",
       "      <th>Test Data Accuracy</th>\n",
       "      <th>ROC AUC Score</th>\n",
       "    </tr>\n",
       "  </thead>\n",
       "  <tbody>\n",
       "    <tr>\n",
       "      <th>4</th>\n",
       "      <td>Gradient_Boost</td>\n",
       "      <td>0.825103</td>\n",
       "      <td>0.821019</td>\n",
       "      <td>0.899372</td>\n",
       "    </tr>\n",
       "    <tr>\n",
       "      <th>1</th>\n",
       "      <td>Logistic_Regression</td>\n",
       "      <td>0.816425</td>\n",
       "      <td>0.807237</td>\n",
       "      <td>0.893154</td>\n",
       "    </tr>\n",
       "    <tr>\n",
       "      <th>3</th>\n",
       "      <td>Random_Forest</td>\n",
       "      <td>0.811256</td>\n",
       "      <td>0.803025</td>\n",
       "      <td>0.890410</td>\n",
       "    </tr>\n",
       "    <tr>\n",
       "      <th>0</th>\n",
       "      <td>Bernoulli NB</td>\n",
       "      <td>0.782351</td>\n",
       "      <td>0.780057</td>\n",
       "      <td>0.864660</td>\n",
       "    </tr>\n",
       "    <tr>\n",
       "      <th>2</th>\n",
       "      <td>KNN</td>\n",
       "      <td>0.794346</td>\n",
       "      <td>0.773546</td>\n",
       "      <td>0.860583</td>\n",
       "    </tr>\n",
       "  </tbody>\n",
       "</table>\n",
       "</div>"
      ],
      "text/plain": [
       "                 Model  Training Data Accuracy  Test Data Accuracy  \\\n",
       "4       Gradient_Boost                0.825103            0.821019   \n",
       "1  Logistic_Regression                0.816425            0.807237   \n",
       "3        Random_Forest                0.811256            0.803025   \n",
       "0         Bernoulli NB                0.782351            0.780057   \n",
       "2                  KNN                0.794346            0.773546   \n",
       "\n",
       "   ROC AUC Score  \n",
       "4       0.899372  \n",
       "1       0.893154  \n",
       "3       0.890410  \n",
       "0       0.864660  \n",
       "2       0.860583  "
      ]
     },
     "execution_count": 81,
     "metadata": {},
     "output_type": "execute_result"
    }
   ],
   "source": [
    "score_list = [\n",
    "    ['Bernoulli NB', bnb_train_score.mean(), bnb_test_score.mean(), bnb_ROC_score.mean()],\n",
    "    ['Logistic_Regression', logr_train_score.mean(), logr_test_score.mean(), logr_ROC_score.mean()],\n",
    "    ['KNN', knn_train_score.mean(), knn_test_score.mean(), knn_ROC_score.mean()],\n",
    "    ['Random_Forest', rfc_train_score.mean(), rfc_test_score.mean(), rfc_ROC_score.mean()],\n",
    "    ['Gradient_Boost', gbrt_train_score.mean(), gbrt_test_score.mean(), gbrt_ROC_score.mean()]\n",
    "]\n",
    "\n",
    "scores_df = pd.DataFrame(score_list, columns=['Model','Training Data Accuracy','Test Data Accuracy', 'ROC AUC Score'])\n",
    "scores_df.sort_values('ROC AUC Score', ascending=False)"
   ]
  },
  {
   "cell_type": "markdown",
   "metadata": {},
   "source": [
    "The gradient boosting classifier performed better than others in predicting the income class with 82% accuracy and a ROC AUC score of 0.899. The Logistic Regression did farely well with accuracy of 80% and ROC AUC Score of 0.893\n",
    "\n",
    "Let's Analyse other metrics like precision, recall, F1 score and the confusion matrix for the best model which is Gradient Boosting model "
   ]
  },
  {
   "cell_type": "code",
   "execution_count": 90,
   "metadata": {},
   "outputs": [
    {
     "name": "stdout",
     "output_type": "stream",
     "text": [
      "             precision    recall  f1-score   support\n",
      "\n",
      " Under $50K       0.85      0.79      0.82      2656\n",
      "  Over $50K       0.80      0.86      0.82      2568\n",
      "\n",
      "avg / total       0.82      0.82      0.82      5224\n",
      "\n",
      "[[2090  566]\n",
      " [ 370 2198]]\n"
     ]
    },
    {
     "data": {
      "image/png": "[encoded data removed]",
      "text/plain": [
       "<matplotlib.figure.Figure at 0x1cbad54bf28>"
      ]
     },
     "metadata": {},
     "output_type": "display_data"
    }
   ],
   "source": [
    "y_pred = gbrt.predict(X_test)\n",
    "\n",
    "print(classification_report(y_test, y_pred, target_names=['Under $50K', 'Over $50K']))\n",
    "\n",
    "conf_matrix = confusion_matrix(y_test, y_pred)\n",
    "print(conf_matrix)\n",
    "sns.heatmap(conf_matrix, annot=True)\n",
    "plt.title('Confusion Matrix - Gradient Boosting')\n",
    "plt.xlabel('Predicted Class')\n",
    "plt.ylabel('Real Class')\n",
    "plt.show()"
   ]
  },
  {
   "cell_type": "markdown",
   "metadata": {},
   "source": [
    "Precision : \n",
    "\n",
    "Percentage of positive outcomes that are correctly predicted, was 85% for people with income under \\$50K and 80% for people with income over \\$50K, This can be because of the small class imbalance in the test data set.\n",
    "\n",
    "Recall: \n",
    "\n",
    "Percentage of actual positives that are correctly identified, was 79% for people with income under \\$50K and 86% for people with income over \\$50K. This means that the model was better able to distinguish actual positives for the higher income class.\n",
    "\n",
    "The F1-score : \n",
    "\n",
    "weighted average balance between precision and recall. Overall, the model was able to identify both classes with 82% accuracy."
   ]
  },
  {
   "cell_type": "markdown",
   "metadata": {},
   "source": [
    "Let's find the important features that are indicative of higher or lower income levels."
   ]
  },
  {
   "cell_type": "code",
   "execution_count": 103,
   "metadata": {},
   "outputs": [
    {
     "data": {
      "image/png": "[encoded data removed]",
      "text/plain": [
       "<matplotlib.figure.Figure at 0x1cbc33c5b38>"
      ]
     },
     "metadata": {},
     "output_type": "display_data"
    }
   ],
   "source": [
    "imp_feat_df = pd.DataFrame()\n",
    "imp_feat_df['Feature'] = X_train.columns\n",
    "imp_feat_df['importance'] = gbrt.feature_importances_\n",
    "top_20_features = imp_feat_df.sort_values(by = 'importance', ascending = False ).head(20)\n",
    "plt.figure(figsize=(15,5))\n",
    "\n",
    "sns.barplot(data = top_20_features, x = 'Feature', y ='importance' )\n",
    "plt.title('Top 20 Important Features\\n', fontsize=18)\n",
    "plt.ylabel('Feature Importance Score')\n",
    "plt.xticks(rotation=90)\n",
    "plt.show()"
   ]
  },
  {
   "cell_type": "markdown",
   "metadata": {},
   "source": [
    "According to the gradient boosting classifier model, the \"age of the person\", \"hours per week\", and \"Married and living with spouse\" were the three most important demograpic features to predict if a person's income is over \\$50,000.\n",
    "\n"
   ]
  },
  {
   "cell_type": "markdown",
   "metadata": {},
   "source": [
    "# Conclusion"
   ]
  },
  {
   "cell_type": "markdown",
   "metadata": {},
   "source": [
    "For this capstone project, I wanted to predict if a person's income is over or under \\$50,000 in a year based on their demographic information. I used the features like age, the number of hours worked per week, their net capital gains, level of education, marital status, occupation, sex, working class, race, and native country. I applied models like Bernoulli Naive Bayes, Logistic Regression, KNN, Decision Trees, Random Forest Classifier and Gradient Boosting classifier. \n",
    "\n",
    "The Gradient Boosting classifier performed best on this dataset followed by Logistic Regression. \n",
    "These two models had ROC AUC scores of 0.899372 and 0.893154 respectfully which are nearly equal. \n",
    "As per the Gradient Boosting classifier model the 3 most important features are age, number of hours worked per week,married and living with Spouse. "
   ]
  },
  {
   "cell_type": "code",
   "execution_count": null,
   "metadata": {
    "collapsed": true
   },
   "outputs": [],
   "source": []
  }
 ],
 "metadata": {
  "kernelspec": {
   "display_name": "Python 3",
   "language": "python",
   "name": "python3"
  },
  "language_info": {
   "codemirror_mode": {
    "name": "ipython",
    "version": 3
   },
   "file_extension": ".py",
   "mimetype": "text/x-python",
   "name": "python",
   "nbconvert_exporter": "python",
   "pygments_lexer": "ipython3",
   "version": "3.6.3"
  }
 },
 "nbformat": 4,
 "nbformat_minor": 2
}
