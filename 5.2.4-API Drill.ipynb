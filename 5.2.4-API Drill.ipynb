{
 "cells": [
  {
   "cell_type": "code",
   "execution_count": 2,
   "metadata": {},
   "outputs": [
    {
     "name": "stdout",
     "output_type": "stream",
     "text": [
      "Done!\n"
     ]
    }
   ],
   "source": [
    "import scrapy\n",
    "from scrapy.crawler import CrawlerProcess\n",
    "\n",
    "class YelpSpider(scrapy.Spider):\n",
    "    \n",
    "    name = \"YS\"\n",
    "\n",
    "    start_urls = [\n",
    "        'https://www.yelp.com/search?find_loc=Seattle,+WA&start=0&cflt=indpak',      \n",
    "    ]\n",
    "\n",
    "    \n",
    "    def parse(self, response):\n",
    "        \n",
    "        #//li is the identifier used for each listing (per inspect-->elements )\n",
    "        for listing in response.xpath('//li[@class=\"regular-search-result\"]'):\n",
    " \n",
    "\n",
    "                yield {\n",
    "                    'name' : listing.xpath(\".//span[@class='indexed-biz-name']/a/span/text()\").extract_first(),\n",
    "                    'rating' : listing.xpath(\".//div[@class='biz-rating biz-rating-large clearfix']//@title\").extract_first(),\n",
    "                    'price' : listing.xpath(\".//span[@class='business-attribute price-range']/text()\").extract_first(),\n",
    "                    'reviews' : listing.xpath(\".//span[@class='review-count rating-qualifier']/text()\").extract_first(),\n",
    "                    'categories' : listing.xpath(\".//span[@class='category-str-list']//a/text()\").extract(),\n",
    "                    }\n",
    "        \n",
    "        for i in [1,2,3,4,5]:\n",
    "            next_page =  'https://www.yelp.com/search?find_loc=Seattle,+WA&start={}&cflt=indpak'.format(i*30)\n",
    "            if next_page is not None:\n",
    "                yield scrapy.Request(next_page, callback=self.parse)\n",
    "            \n",
    "    \n",
    "process = CrawlerProcess({\n",
    "    'FEED_FORMAT': 'json',    \n",
    "    'FEED_URI': 'my_yelptest.json',    \n",
    "    'ROBOTSTXT_OBEY': False,\n",
    "    'USER_AGENT': 'ThinkfulDataScienceBootcampCrawler (thinkful.com)',\n",
    "    'AUTOTHROTTLE_ENABLED': True,\n",
    "    'HTTPCACHE_ENABLED': True,\n",
    "    'LOG_ENABLED': False,    \n",
    "    'CLOSESPIDER_PAGECOUNT' : 100\n",
    "})\n",
    "                                         \n",
    "\n",
    "# Starting the crawler with our spider.\n",
    "process.crawl(YelpSpider)\n",
    "process.start()\n",
    "print('Done!')"
   ]
  },
  {
   "cell_type": "code",
   "execution_count": 3,
   "metadata": {},
   "outputs": [
    {
     "name": "stdout",
     "output_type": "stream",
     "text": [
      "(153, 5)\n"
     ]
    }
   ],
   "source": [
    "import pandas as pd\n",
    "\n",
    "yelp_df=pd.read_json('my_yelptest.json', orient='records')\n",
    "print(yelp_df.shape)\n"
   ]
  },
  {
   "cell_type": "code",
   "execution_count": 4,
   "metadata": {},
   "outputs": [
    {
     "name": "stdout",
     "output_type": "stream",
     "text": [
      "                           categories                       name price  \\\n",
      "0                            [Indian]             Taste of India    $$   \n",
      "1             [Indian, Bars, Buffets]  Daawat Indian Grill & Bar    $$   \n",
      "2  [Indian, Himalayan/Nepalese, Bars]             Annapurna Cafe    $$   \n",
      "3       [Indian, Mediterranean, Soup]              Saffron Grill    $$   \n",
      "4                            [Indian]                   Nirmal’s    $$   \n",
      "\n",
      "            rating                           reviews  \n",
      "0  4.5 star rating  \\n            1278 reviews\\n      \n",
      "1  4.0 star rating   \\n            376 reviews\\n      \n",
      "2  4.0 star rating   \\n            755 reviews\\n      \n",
      "3  4.0 star rating   \\n            959 reviews\\n      \n",
      "4  3.5 star rating   \\n            349 reviews\\n      \n"
     ]
    }
   ],
   "source": [
    "print(yelp_df.head())"
   ]
  },
  {
   "cell_type": "code",
   "execution_count": 5,
   "metadata": {
    "collapsed": true
   },
   "outputs": [],
   "source": [
    "yelp_df['reviews'] = yelp_df['reviews'].str.extract('(\\d+)')"
   ]
  },
  {
   "cell_type": "code",
   "execution_count": 9,
   "metadata": {
    "collapsed": true
   },
   "outputs": [],
   "source": [
    "yelp_df.rename(columns={'rating':'rating_star'}, inplace=True)"
   ]
  },
  {
   "cell_type": "code",
   "execution_count": 11,
   "metadata": {},
   "outputs": [],
   "source": [
    "yelp_df['rating_star'] = yelp_df['rating_star'].str.strip(' star rating')"
   ]
  },
  {
   "cell_type": "code",
   "execution_count": 12,
   "metadata": {},
   "outputs": [
    {
     "name": "stdout",
     "output_type": "stream",
     "text": [
      "                           categories                       name price  \\\n",
      "0                            [Indian]             Taste of India    $$   \n",
      "1             [Indian, Bars, Buffets]  Daawat Indian Grill & Bar    $$   \n",
      "2  [Indian, Himalayan/Nepalese, Bars]             Annapurna Cafe    $$   \n",
      "3       [Indian, Mediterranean, Soup]              Saffron Grill    $$   \n",
      "4                            [Indian]                   Nirmal’s    $$   \n",
      "\n",
      "  rating_star reviews  \n",
      "0         4.5    1278  \n",
      "1         4.0     376  \n",
      "2         4.0     755  \n",
      "3         4.0     959  \n",
      "4         3.5     349  \n"
     ]
    }
   ],
   "source": [
    "print(yelp_df.head())"
   ]
  },
  {
   "cell_type": "code",
   "execution_count": 13,
   "metadata": {},
   "outputs": [
    {
     "data": {
      "text/plain": [
       "categories     object\n",
       "name           object\n",
       "price          object\n",
       "rating_star    object\n",
       "reviews        object\n",
       "dtype: object"
      ]
     },
     "execution_count": 13,
     "metadata": {},
     "output_type": "execute_result"
    }
   ],
   "source": [
    "yelp_df.dtypes"
   ]
  },
  {
   "cell_type": "code",
   "execution_count": 14,
   "metadata": {
    "collapsed": true
   },
   "outputs": [],
   "source": [
    "yelp_df[['price','rating_star', 'reviews']] = yelp_df[['price','rating_star', 'reviews']].apply(pd.to_numeric, errors='coerce')"
   ]
  },
  {
   "cell_type": "code",
   "execution_count": 15,
   "metadata": {},
   "outputs": [
    {
     "name": "stdout",
     "output_type": "stream",
     "text": [
      "{'Food Delivery Services', 'Soup', 'Bangladeshi', 'Kebab', 'Pakistani', 'Juice Bars & Smoothies', 'Food Trucks', 'Vegetarian', 'Burgers', 'Vietnamese', 'Modern European', 'Pizza', 'Diners', 'Food Stands', 'Chinese', 'Caterers', 'International Grocery', 'Cocktail Bars', 'Bars', 'Bakeries', 'Seafood', 'Sandwiches', 'Desserts', 'American (New)', 'Buffets', 'Street Vendors', 'Convenience Stores', 'Breakfast & Brunch', 'Moroccan', 'Tapas/Small Plates', 'Halal', 'Middle Eastern', 'Fast Food', 'Mediterranean', 'Salad', 'Himalayan/Nepalese', 'Kosher', 'Greek', 'Indian'}\n"
     ]
    }
   ],
   "source": [
    "cat_set = set.union(*yelp_df.categories.apply(set))\n",
    "print(cat_set)"
   ]
  },
  {
   "cell_type": "code",
   "execution_count": 16,
   "metadata": {
    "collapsed": true
   },
   "outputs": [],
   "source": [
    "#For each category we defined, test whether that category is in the list of categories for each restaurant\n",
    "for cat in cat_set:\n",
    "    yelp_df[cat] = yelp_df['categories'].apply(lambda x: cat in x)"
   ]
  },
  {
   "cell_type": "code",
   "execution_count": 17,
   "metadata": {
    "collapsed": true
   },
   "outputs": [],
   "source": [
    "yelp_df.drop('categories', inplace = True, axis = 1)"
   ]
  },
  {
   "cell_type": "code",
   "execution_count": 18,
   "metadata": {},
   "outputs": [
    {
     "data": {
      "text/html": [
       "<div>\n",
       "<style>\n",
       "    .dataframe thead tr:only-child th {\n",
       "        text-align: right;\n",
       "    }\n",
       "\n",
       "    .dataframe thead th {\n",
       "        text-align: left;\n",
       "    }\n",
       "\n",
       "    .dataframe tbody tr th {\n",
       "        vertical-align: top;\n",
       "    }\n",
       "</style>\n",
       "<table border=\"1\" class=\"dataframe\">\n",
       "  <thead>\n",
       "    <tr style=\"text-align: right;\">\n",
       "      <th></th>\n",
       "      <th>name</th>\n",
       "      <th>price</th>\n",
       "      <th>rating_star</th>\n",
       "      <th>reviews</th>\n",
       "      <th>Food Delivery Services</th>\n",
       "      <th>Soup</th>\n",
       "      <th>Bangladeshi</th>\n",
       "      <th>Kebab</th>\n",
       "      <th>Pakistani</th>\n",
       "      <th>Juice Bars &amp; Smoothies</th>\n",
       "      <th>...</th>\n",
       "      <th>Tapas/Small Plates</th>\n",
       "      <th>Halal</th>\n",
       "      <th>Middle Eastern</th>\n",
       "      <th>Fast Food</th>\n",
       "      <th>Mediterranean</th>\n",
       "      <th>Salad</th>\n",
       "      <th>Himalayan/Nepalese</th>\n",
       "      <th>Kosher</th>\n",
       "      <th>Greek</th>\n",
       "      <th>Indian</th>\n",
       "    </tr>\n",
       "  </thead>\n",
       "  <tbody>\n",
       "    <tr>\n",
       "      <th>0</th>\n",
       "      <td>Taste of India</td>\n",
       "      <td>NaN</td>\n",
       "      <td>4.5</td>\n",
       "      <td>1278.0</td>\n",
       "      <td>False</td>\n",
       "      <td>False</td>\n",
       "      <td>False</td>\n",
       "      <td>False</td>\n",
       "      <td>False</td>\n",
       "      <td>False</td>\n",
       "      <td>...</td>\n",
       "      <td>False</td>\n",
       "      <td>False</td>\n",
       "      <td>False</td>\n",
       "      <td>False</td>\n",
       "      <td>False</td>\n",
       "      <td>False</td>\n",
       "      <td>False</td>\n",
       "      <td>False</td>\n",
       "      <td>False</td>\n",
       "      <td>True</td>\n",
       "    </tr>\n",
       "    <tr>\n",
       "      <th>1</th>\n",
       "      <td>Daawat Indian Grill &amp; Bar</td>\n",
       "      <td>NaN</td>\n",
       "      <td>4.0</td>\n",
       "      <td>376.0</td>\n",
       "      <td>False</td>\n",
       "      <td>False</td>\n",
       "      <td>False</td>\n",
       "      <td>False</td>\n",
       "      <td>False</td>\n",
       "      <td>False</td>\n",
       "      <td>...</td>\n",
       "      <td>False</td>\n",
       "      <td>False</td>\n",
       "      <td>False</td>\n",
       "      <td>False</td>\n",
       "      <td>False</td>\n",
       "      <td>False</td>\n",
       "      <td>False</td>\n",
       "      <td>False</td>\n",
       "      <td>False</td>\n",
       "      <td>True</td>\n",
       "    </tr>\n",
       "    <tr>\n",
       "      <th>2</th>\n",
       "      <td>Annapurna Cafe</td>\n",
       "      <td>NaN</td>\n",
       "      <td>4.0</td>\n",
       "      <td>755.0</td>\n",
       "      <td>False</td>\n",
       "      <td>False</td>\n",
       "      <td>False</td>\n",
       "      <td>False</td>\n",
       "      <td>False</td>\n",
       "      <td>False</td>\n",
       "      <td>...</td>\n",
       "      <td>False</td>\n",
       "      <td>False</td>\n",
       "      <td>False</td>\n",
       "      <td>False</td>\n",
       "      <td>False</td>\n",
       "      <td>False</td>\n",
       "      <td>True</td>\n",
       "      <td>False</td>\n",
       "      <td>False</td>\n",
       "      <td>True</td>\n",
       "    </tr>\n",
       "    <tr>\n",
       "      <th>3</th>\n",
       "      <td>Saffron Grill</td>\n",
       "      <td>NaN</td>\n",
       "      <td>4.0</td>\n",
       "      <td>959.0</td>\n",
       "      <td>False</td>\n",
       "      <td>True</td>\n",
       "      <td>False</td>\n",
       "      <td>False</td>\n",
       "      <td>False</td>\n",
       "      <td>False</td>\n",
       "      <td>...</td>\n",
       "      <td>False</td>\n",
       "      <td>False</td>\n",
       "      <td>False</td>\n",
       "      <td>False</td>\n",
       "      <td>True</td>\n",
       "      <td>False</td>\n",
       "      <td>False</td>\n",
       "      <td>False</td>\n",
       "      <td>False</td>\n",
       "      <td>True</td>\n",
       "    </tr>\n",
       "    <tr>\n",
       "      <th>4</th>\n",
       "      <td>Nirmal’s</td>\n",
       "      <td>NaN</td>\n",
       "      <td>3.5</td>\n",
       "      <td>349.0</td>\n",
       "      <td>False</td>\n",
       "      <td>False</td>\n",
       "      <td>False</td>\n",
       "      <td>False</td>\n",
       "      <td>False</td>\n",
       "      <td>False</td>\n",
       "      <td>...</td>\n",
       "      <td>False</td>\n",
       "      <td>False</td>\n",
       "      <td>False</td>\n",
       "      <td>False</td>\n",
       "      <td>False</td>\n",
       "      <td>False</td>\n",
       "      <td>False</td>\n",
       "      <td>False</td>\n",
       "      <td>False</td>\n",
       "      <td>True</td>\n",
       "    </tr>\n",
       "  </tbody>\n",
       "</table>\n",
       "<p>5 rows × 43 columns</p>\n",
       "</div>"
      ],
      "text/plain": [
       "                        name  price  rating_star  reviews  \\\n",
       "0             Taste of India    NaN          4.5   1278.0   \n",
       "1  Daawat Indian Grill & Bar    NaN          4.0    376.0   \n",
       "2             Annapurna Cafe    NaN          4.0    755.0   \n",
       "3              Saffron Grill    NaN          4.0    959.0   \n",
       "4                   Nirmal’s    NaN          3.5    349.0   \n",
       "\n",
       "   Food Delivery Services   Soup  Bangladeshi  Kebab  Pakistani  \\\n",
       "0                   False  False        False  False      False   \n",
       "1                   False  False        False  False      False   \n",
       "2                   False  False        False  False      False   \n",
       "3                   False   True        False  False      False   \n",
       "4                   False  False        False  False      False   \n",
       "\n",
       "   Juice Bars & Smoothies   ...    Tapas/Small Plates  Halal  Middle Eastern  \\\n",
       "0                   False   ...                 False  False           False   \n",
       "1                   False   ...                 False  False           False   \n",
       "2                   False   ...                 False  False           False   \n",
       "3                   False   ...                 False  False           False   \n",
       "4                   False   ...                 False  False           False   \n",
       "\n",
       "   Fast Food  Mediterranean  Salad  Himalayan/Nepalese  Kosher  Greek  Indian  \n",
       "0      False          False  False               False   False  False    True  \n",
       "1      False          False  False               False   False  False    True  \n",
       "2      False          False  False                True   False  False    True  \n",
       "3      False           True  False               False   False  False    True  \n",
       "4      False          False  False               False   False  False    True  \n",
       "\n",
       "[5 rows x 43 columns]"
      ]
     },
     "execution_count": 18,
     "metadata": {},
     "output_type": "execute_result"
    }
   ],
   "source": [
    "yelp_df.head()"
   ]
  },
  {
   "cell_type": "code",
   "execution_count": 19,
   "metadata": {},
   "outputs": [
    {
     "data": {
      "text/html": [
       "<div>\n",
       "<style>\n",
       "    .dataframe thead tr:only-child th {\n",
       "        text-align: right;\n",
       "    }\n",
       "\n",
       "    .dataframe thead th {\n",
       "        text-align: left;\n",
       "    }\n",
       "\n",
       "    .dataframe tbody tr th {\n",
       "        vertical-align: top;\n",
       "    }\n",
       "</style>\n",
       "<table border=\"1\" class=\"dataframe\">\n",
       "  <thead>\n",
       "    <tr style=\"text-align: right;\">\n",
       "      <th></th>\n",
       "      <th>price</th>\n",
       "      <th>rating_star</th>\n",
       "      <th>reviews</th>\n",
       "    </tr>\n",
       "  </thead>\n",
       "  <tbody>\n",
       "    <tr>\n",
       "      <th>count</th>\n",
       "      <td>0.0</td>\n",
       "      <td>145.000000</td>\n",
       "      <td>145.000000</td>\n",
       "    </tr>\n",
       "    <tr>\n",
       "      <th>mean</th>\n",
       "      <td>NaN</td>\n",
       "      <td>3.541379</td>\n",
       "      <td>182.241379</td>\n",
       "    </tr>\n",
       "    <tr>\n",
       "      <th>std</th>\n",
       "      <td>NaN</td>\n",
       "      <td>0.662758</td>\n",
       "      <td>198.928528</td>\n",
       "    </tr>\n",
       "    <tr>\n",
       "      <th>min</th>\n",
       "      <td>NaN</td>\n",
       "      <td>1.000000</td>\n",
       "      <td>1.000000</td>\n",
       "    </tr>\n",
       "    <tr>\n",
       "      <th>25%</th>\n",
       "      <td>NaN</td>\n",
       "      <td>3.500000</td>\n",
       "      <td>46.000000</td>\n",
       "    </tr>\n",
       "    <tr>\n",
       "      <th>50%</th>\n",
       "      <td>NaN</td>\n",
       "      <td>3.500000</td>\n",
       "      <td>125.000000</td>\n",
       "    </tr>\n",
       "    <tr>\n",
       "      <th>75%</th>\n",
       "      <td>NaN</td>\n",
       "      <td>4.000000</td>\n",
       "      <td>269.000000</td>\n",
       "    </tr>\n",
       "    <tr>\n",
       "      <th>max</th>\n",
       "      <td>NaN</td>\n",
       "      <td>5.000000</td>\n",
       "      <td>1278.000000</td>\n",
       "    </tr>\n",
       "  </tbody>\n",
       "</table>\n",
       "</div>"
      ],
      "text/plain": [
       "       price  rating_star      reviews\n",
       "count    0.0   145.000000   145.000000\n",
       "mean     NaN     3.541379   182.241379\n",
       "std      NaN     0.662758   198.928528\n",
       "min      NaN     1.000000     1.000000\n",
       "25%      NaN     3.500000    46.000000\n",
       "50%      NaN     3.500000   125.000000\n",
       "75%      NaN     4.000000   269.000000\n",
       "max      NaN     5.000000  1278.000000"
      ]
     },
     "execution_count": 19,
     "metadata": {},
     "output_type": "execute_result"
    }
   ],
   "source": [
    "yelp_df[['price','rating_star', 'reviews']].describe()"
   ]
  },
  {
   "cell_type": "code",
   "execution_count": 20,
   "metadata": {},
   "outputs": [
    {
     "data": {
      "text/plain": [
       "name                        0\n",
       "price                     153\n",
       "rating_star                 8\n",
       "reviews                     8\n",
       "Food Delivery Services      0\n",
       "Soup                        0\n",
       "Bangladeshi                 0\n",
       "Kebab                       0\n",
       "Pakistani                   0\n",
       "Juice Bars & Smoothies      0\n",
       "Food Trucks                 0\n",
       "Vegetarian                  0\n",
       "Burgers                     0\n",
       "Vietnamese                  0\n",
       "Modern European             0\n",
       "Pizza                       0\n",
       "Diners                      0\n",
       "Food Stands                 0\n",
       "Chinese                     0\n",
       "Caterers                    0\n",
       "International Grocery       0\n",
       "Cocktail Bars               0\n",
       "Bars                        0\n",
       "Bakeries                    0\n",
       "Seafood                     0\n",
       "Sandwiches                  0\n",
       "Desserts                    0\n",
       "American (New)              0\n",
       "Buffets                     0\n",
       "Street Vendors              0\n",
       "Convenience Stores          0\n",
       "Breakfast & Brunch          0\n",
       "Moroccan                    0\n",
       "Tapas/Small Plates          0\n",
       "Halal                       0\n",
       "Middle Eastern              0\n",
       "Fast Food                   0\n",
       "Mediterranean               0\n",
       "Salad                       0\n",
       "Himalayan/Nepalese          0\n",
       "Kosher                      0\n",
       "Greek                       0\n",
       "Indian                      0\n",
       "dtype: int64"
      ]
     },
     "execution_count": 20,
     "metadata": {},
     "output_type": "execute_result"
    }
   ],
   "source": [
    "yelp_df.isnull().sum()"
   ]
  },
  {
   "cell_type": "code",
   "execution_count": 21,
   "metadata": {
    "collapsed": true
   },
   "outputs": [],
   "source": [
    "yelp_df.fillna(0, inplace=True)"
   ]
  },
  {
   "cell_type": "code",
   "execution_count": 22,
   "metadata": {},
   "outputs": [
    {
     "data": {
      "image/png": "[encoded data removed]",
      "text/plain": [
       "<matplotlib.figure.Figure at 0x203b52eafd0>"
      ]
     },
     "metadata": {},
     "output_type": "display_data"
    }
   ],
   "source": [
    "import matplotlib.pyplot as plt\n",
    "plt.hist(yelp_df.rating_star)\n",
    "plt.title('Ratings on Yelp')\n",
    "plt.show()\n"
   ]
  },
  {
   "cell_type": "code",
   "execution_count": 56,
   "metadata": {},
   "outputs": [
    {
     "data": {
      "image/png": "[encoded data removed]",
      "text/plain": [
       "<matplotlib.figure.Figure at 0x10b88911e80>"
      ]
     },
     "metadata": {},
     "output_type": "display_data"
    }
   ],
   "source": [
    "import seaborn as sns\n",
    "sns.lmplot(data = yelp_df, x = 'rating_star', y = 'reviews')\n",
    "plt.show()"
   ]
  },
  {
   "cell_type": "code",
   "execution_count": 25,
   "metadata": {},
   "outputs": [],
   "source": [
    "import numpy as np\n",
    "#Show average review by category for restaurants with > 10 reviews & sort by average rating\n",
    "avg_ratings = []\n",
    "for cat in cat_set:\n",
    "    avg_ratings.append(round(np.mean(yelp_df['rating_star'][(yelp_df['reviews'] > 10) & (yelp_df[cat] == True)]), 1))"
   ]
  },
  {
   "cell_type": "code",
   "execution_count": 26,
   "metadata": {
    "collapsed": true
   },
   "outputs": [],
   "source": [
    "cat_df = pd.DataFrame()\n",
    "cat_df['Category'] = list(cat_set)\n",
    "cat_df['Avg_Rating'] = avg_ratings"
   ]
  },
  {
   "cell_type": "code",
   "execution_count": 28,
   "metadata": {},
   "outputs": [
    {
     "data": {
      "text/html": [
       "<div>\n",
       "<style>\n",
       "    .dataframe thead tr:only-child th {\n",
       "        text-align: right;\n",
       "    }\n",
       "\n",
       "    .dataframe thead th {\n",
       "        text-align: left;\n",
       "    }\n",
       "\n",
       "    .dataframe tbody tr th {\n",
       "        vertical-align: top;\n",
       "    }\n",
       "</style>\n",
       "<table border=\"1\" class=\"dataframe\">\n",
       "  <thead>\n",
       "    <tr style=\"text-align: right;\">\n",
       "      <th></th>\n",
       "      <th>Category</th>\n",
       "      <th>Avg_Rating</th>\n",
       "    </tr>\n",
       "  </thead>\n",
       "  <tbody>\n",
       "    <tr>\n",
       "      <th>10</th>\n",
       "      <td>Modern European</td>\n",
       "      <td>4.5</td>\n",
       "    </tr>\n",
       "    <tr>\n",
       "      <th>12</th>\n",
       "      <td>Diners</td>\n",
       "      <td>4.5</td>\n",
       "    </tr>\n",
       "    <tr>\n",
       "      <th>28</th>\n",
       "      <td>Moroccan</td>\n",
       "      <td>4.5</td>\n",
       "    </tr>\n",
       "    <tr>\n",
       "      <th>35</th>\n",
       "      <td>Himalayan/Nepalese</td>\n",
       "      <td>4.1</td>\n",
       "    </tr>\n",
       "    <tr>\n",
       "      <th>36</th>\n",
       "      <td>Kosher</td>\n",
       "      <td>4.0</td>\n",
       "    </tr>\n",
       "    <tr>\n",
       "      <th>6</th>\n",
       "      <td>Food Trucks</td>\n",
       "      <td>4.0</td>\n",
       "    </tr>\n",
       "    <tr>\n",
       "      <th>32</th>\n",
       "      <td>Fast Food</td>\n",
       "      <td>4.0</td>\n",
       "    </tr>\n",
       "    <tr>\n",
       "      <th>23</th>\n",
       "      <td>American (New)</td>\n",
       "      <td>4.0</td>\n",
       "    </tr>\n",
       "    <tr>\n",
       "      <th>1</th>\n",
       "      <td>Soup</td>\n",
       "      <td>3.9</td>\n",
       "    </tr>\n",
       "    <tr>\n",
       "      <th>18</th>\n",
       "      <td>Bars</td>\n",
       "      <td>3.9</td>\n",
       "    </tr>\n",
       "  </tbody>\n",
       "</table>\n",
       "</div>"
      ],
      "text/plain": [
       "              Category  Avg_Rating\n",
       "10     Modern European         4.5\n",
       "12              Diners         4.5\n",
       "28            Moroccan         4.5\n",
       "35  Himalayan/Nepalese         4.1\n",
       "36              Kosher         4.0\n",
       "6          Food Trucks         4.0\n",
       "32           Fast Food         4.0\n",
       "23      American (New)         4.0\n",
       "1                 Soup         3.9\n",
       "18                Bars         3.9"
      ]
     },
     "execution_count": 28,
     "metadata": {},
     "output_type": "execute_result"
    }
   ],
   "source": [
    "cat_df.sort_values(by = 'Avg_Rating', ascending=False).head(10)"
   ]
  },
  {
   "cell_type": "code",
   "execution_count": null,
   "metadata": {
    "collapsed": true
   },
   "outputs": [],
   "source": []
  }
 ],
 "metadata": {
  "kernelspec": {
   "display_name": "Python 3",
   "language": "python",
   "name": "python3"
  },
  "language_info": {
   "codemirror_mode": {
    "name": "ipython",
    "version": 3
   },
   "file_extension": ".py",
   "mimetype": "text/x-python",
   "name": "python",
   "nbconvert_exporter": "python",
   "pygments_lexer": "ipython3",
   "version": "3.6.3"
  }
 },
 "nbformat": 4,
 "nbformat_minor": 2
}
